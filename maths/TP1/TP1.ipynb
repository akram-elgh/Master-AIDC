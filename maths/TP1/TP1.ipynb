{
 "cells": [
  {
   "cell_type": "markdown",
   "metadata": {},
   "source": [
    "<center>Realised by : El ghalbzouri Akram</center>"
   ]
  },
  {
   "cell_type": "markdown",
   "metadata": {},
   "source": [
    "# Importation du module numpy"
   ]
  },
  {
   "cell_type": "code",
   "execution_count": 2,
   "metadata": {},
   "outputs": [],
   "source": [
    "import numpy as np"
   ]
  },
  {
   "cell_type": "markdown",
   "metadata": {},
   "source": [
    "# ex1 : solsup \n",
    "## Implementation de la fonction\n",
    "### solsup.py "
   ]
  },
  {
   "cell_type": "code",
   "execution_count": null,
   "metadata": {},
   "outputs": [],
   "source": [
    "import numpy as np\n",
    "\n",
    "eps = np.finfo(float).eps\n",
    "\n",
    "\n",
    "def solsup(U: np.ndarray, b: np.ndarray) -> np.ndarray:\n",
    "    \"\"\"Cette focntion resolu l'equation Ax = b\n",
    "\n",
    "    Args:\n",
    "    ------\n",
    "        U: Matrice triangulair sup\n",
    "        b: vecteur\n",
    "\n",
    "    Return:\n",
    "    -------\n",
    "        x : vecteur        \n",
    "    \"\"\"\n",
    "    n = len(U)\n",
    "    x = np.zeros(n, dtype=int)\n",
    "    for i in range(n):\n",
    "        if abs(U[i][i]) < eps:\n",
    "            return 0\n",
    "    x[n - 1] = (b[n - 1] / U[n-1][n-1])\n",
    "    for i in range(n-1, -1, -1):\n",
    "        S = 0\n",
    "        for j in range(i+1, n):\n",
    "            S += U[i][j] * x[j]\n",
    "        x[i] = ((b[i] - S) / U[i][i])\n",
    "    return x"
   ]
  },
  {
   "cell_type": "markdown",
   "metadata": {},
   "source": [
    "## Test du fonction"
   ]
  },
  {
   "cell_type": "code",
   "execution_count": 3,
   "metadata": {},
   "outputs": [
    {
     "name": "stdout",
     "output_type": "stream",
     "text": [
      "x =  [ 1 -2  3]\n"
     ]
    }
   ],
   "source": [
    "from solsup import solsup\n",
    "#les tests de solsup\n",
    "A = np.array([[1, 2, 3], [0, 4, 8], [0, 0, 5]])\n",
    "b = np.array([6, 16, 15])\n",
    "x = solsup(A, b)\n",
    "print(\"x = \" , x)\n"
   ]
  },
  {
   "cell_type": "markdown",
   "metadata": {},
   "source": [
    "# ex2 : trisup\n",
    "## Implementation \n",
    "### trisup.py "
   ]
  },
  {
   "cell_type": "code",
   "execution_count": null,
   "metadata": {},
   "outputs": [],
   "source": [
    "import numpy as np\n",
    "\n",
    "eps = np.finfo(float).eps\n",
    "\n",
    "\n",
    "def trisup(A: np.ndarray, b: np.ndarray) -> np.ndarray:\n",
    "    \"\"\"Retourne une matrice triangulair sup\n",
    "\n",
    "    Args:\n",
    "    -----\n",
    "        A (np.ndarray): matrice\n",
    "        b (np.ndarray): vecteur\n",
    "\n",
    "    Returns:\n",
    "    --------\n",
    "        U: Une matrice triangulair sup\n",
    "        e: le vecteur b modifier\n",
    "    \"\"\"\n",
    "    n = len(A)\n",
    "    for k in range(0, n - 1):\n",
    "        if abs(A[k][k]) < eps:\n",
    "            print(\"Error 1\")\n",
    "            return 1\n",
    "        else:\n",
    "            c = 0\n",
    "            for i in range(k + 1, n):\n",
    "                c = A[i][k] / A[k][k]\n",
    "                b[i] = b[i] - c * b[k]\n",
    "                A[i][k] = 0\n",
    "                for j in range(k + 1, n):\n",
    "                    A[i][j] = A[i][j] - c * A[k][j]\n",
    "    if abs(A[n - 1][n - 1]) < eps:\n",
    "        print(\"Error de A[n][n]\")\n",
    "        return 1\n",
    "\n",
    "    return A, b"
   ]
  },
  {
   "cell_type": "markdown",
   "metadata": {},
   "source": [
    "## Test du fonction "
   ]
  },
  {
   "cell_type": "code",
   "execution_count": 3,
   "metadata": {},
   "outputs": [
    {
     "name": "stdout",
     "output_type": "stream",
     "text": [
      "U = \n",
      " [[ 3  1  2]\n",
      " [ 0  1  4]\n",
      " [ 0  0 -1]]\n",
      "e =  [ 2 -1 -1]\n"
     ]
    }
   ],
   "source": [
    "from trisup import trisup\n",
    "#les tests de solsup\n",
    "A = np.array([[3, 1, 2], [3, 2, 6], [6, 1, -1]])\n",
    "b = np.array([2, 1, 4])\n",
    "U, e = trisup(A, b)\n",
    "print(\"U = \\n\" , U)\n",
    "print(\"e = \" , e)"
   ]
  },
  {
   "cell_type": "markdown",
   "metadata": {},
   "source": [
    "# ex3 : resolG \n",
    "## Implementation \n",
    "### resolG.py "
   ]
  },
  {
   "cell_type": "code",
   "execution_count": null,
   "metadata": {},
   "outputs": [],
   "source": [
    "from trisup import trisup\n",
    "from solsup import solsup\n",
    "\n",
    "\n",
    "def resolG(A, b):\n",
    "    \"\"\"resolu l'equation Ax = b par la methode gaussien\n",
    "\n",
    "    Args:\n",
    "    -----\n",
    "        A (np.ndarray): matrice\n",
    "        b (np.ndarray): vecteur\n",
    "\n",
    "    Returns:\n",
    "        x (np.ndarray): vecteur solution du l'equation\n",
    "    \"\"\"\n",
    "    if trisup(A, b) != 1:\n",
    "        U, e = trisup(A, b)\n",
    "        x = solsup(U, e)\n",
    "        return x\n",
    "    else:\n",
    "        return 0\n"
   ]
  },
  {
   "cell_type": "markdown",
   "metadata": {},
   "source": [
    "## Test du fonction "
   ]
  },
  {
   "cell_type": "code",
   "execution_count": 4,
   "metadata": {},
   "outputs": [
    {
     "name": "stdout",
     "output_type": "stream",
     "text": [
      "x2 =  [ 1 -1  2]\n",
      "Error de A[n][n]\n",
      "x3 =  0\n"
     ]
    }
   ],
   "source": [
    "import numpy as np\n",
    "from resolG import resolG\n",
    "\n",
    "#test 1\n",
    "A = np.array([[1, 2, 3], [5, 2, 1], [3, -1, 1]])\n",
    "b = np.array([5, 5, 6])\n",
    "#test 2\n",
    "A2 = np.array([[2, 1, 5], [1, 2, 4], [3, 4, 10]])\n",
    "\n",
    "x2 = resolG(A, b)\n",
    "print(\"x2 = \", x2)\n",
    "\n",
    "x3 = resolG(A2, b)\n",
    "print(\"x3 = \", x3)"
   ]
  },
  {
   "cell_type": "markdown",
   "metadata": {},
   "source": [
    "On remarque que la matrice A2 donne un erreur"
   ]
  },
  {
   "cell_type": "markdown",
   "metadata": {},
   "source": [
    "# ex 4 : LU\n",
    "## Implementation \n",
    "## LU.py"
   ]
  },
  {
   "cell_type": "code",
   "execution_count": null,
   "metadata": {},
   "outputs": [],
   "source": [
    "import numpy as np\n",
    "\n",
    "eps = np.finfo(float).eps\n",
    "\n",
    "\n",
    "def LU(A: np.ndarray) -> np.ndarray:\n",
    "    \"\"\"retourn la decomposition LU du matrice A\n",
    "\n",
    "    Args:\n",
    "    -----\n",
    "      A (np.ndarray): Matrice\n",
    "\n",
    "    Returns:\n",
    "    -------\n",
    "      L : matrice tirangulair sup\n",
    "      U : matrice tirangulair inf\n",
    "    \"\"\"\n",
    "    n = len(A)\n",
    "    L = np.identity(n)\n",
    "    U = A.copy()\n",
    "    for k in range(0, n - 1):\n",
    "        if abs(U[k][k]) < eps:\n",
    "            print(\"Error 1\")\n",
    "            return 1\n",
    "        else:\n",
    "            c = 0\n",
    "            for i in range(k + 1, n):\n",
    "                c = U[i][k] / U[k][k]\n",
    "                U[i][k] = 0\n",
    "                L[i][k] = c\n",
    "                for j in range(k + 1, n):\n",
    "                    U[i][j] = U[i][j] - c * U[k][j]\n",
    "    if abs(U[n - 1][n - 1]) < eps:\n",
    "        # print(A[n - 1][n - 1])\n",
    "        print(\"Error de A[n][n]\")\n",
    "        return 1\n",
    "    return L, U\n"
   ]
  },
  {
   "cell_type": "markdown",
   "metadata": {},
   "source": [
    "## Test du fonction "
   ]
  },
  {
   "cell_type": "code",
   "execution_count": 5,
   "metadata": {},
   "outputs": [
    {
     "name": "stdout",
     "output_type": "stream",
     "text": [
      "L = \n",
      " [[ 1.  0.  0.]\n",
      " [ 1.  1.  0.]\n",
      " [ 2. -1.  1.]]\n",
      "U = \n",
      " [[ 3  1  2]\n",
      " [ 0  1  4]\n",
      " [ 0  0 -1]]\n"
     ]
    }
   ],
   "source": [
    "import numpy as np\n",
    "from LU import LU\n",
    "\n",
    "A = np.array([[3, 1, 2], [3, 2, 6], [6, 1, -1]])\n",
    "L, U = LU(A)\n",
    "print(\"L = \\n\", L)\n",
    "print(\"U = \\n\", U)"
   ]
  },
  {
   "cell_type": "markdown",
   "metadata": {},
   "source": [
    "# ex5 : solinf \n",
    "## Implementation\n",
    "### solinf.py "
   ]
  },
  {
   "cell_type": "code",
   "execution_count": null,
   "metadata": {},
   "outputs": [],
   "source": [
    "import numpy as np\n",
    "\n",
    "eps = np.finfo(float).eps\n",
    "\n",
    "\n",
    "def solinf(U: np.ndarray, b: np.ndarray) -> np.ndarray[float]:\n",
    "    \"\"\"Cette focntion resolu l'equation Ax = b\n",
    "\n",
    "    Args:\n",
    "    ------\n",
    "        U: Matrice triangulair inf\n",
    "        b: vecteur\n",
    "\n",
    "    Return:\n",
    "    -------\n",
    "        x : vecteur        \n",
    "    \"\"\"\n",
    "    n = len(U)\n",
    "    x = np.zeros(n)\n",
    "    for i in range(n):\n",
    "        if abs(U[i][i]) < eps:\n",
    "            return 0\n",
    "\n",
    "    x[0] = (b[0] / U[0][0])\n",
    "    for i in range(1, n):\n",
    "        S = 0\n",
    "        for j in range(0, i):\n",
    "            S += U[i][j] * x[j]\n",
    "        x[i] = ((b[i] - S) / U[i][i])\n",
    "    return x\n"
   ]
  },
  {
   "cell_type": "markdown",
   "metadata": {},
   "source": [
    "## Test du fonction "
   ]
  },
  {
   "cell_type": "code",
   "execution_count": 6,
   "metadata": {},
   "outputs": [
    {
     "name": "stdout",
     "output_type": "stream",
     "text": [
      "x =  [ 1.  2. -1.]\n"
     ]
    }
   ],
   "source": [
    "import numpy as np\n",
    "from solinf import solinf\n",
    "\n",
    "A = np.array([[1, 0, 0], [2, 3, 0], [1, 4, -1]])\n",
    "b = np.array([1, 8, 10])\n",
    "x = solinf(A, b)\n",
    "print(\"x = \", x)"
   ]
  },
  {
   "cell_type": "markdown",
   "metadata": {},
   "source": [
    "# ex6 : resolLU \n",
    "## Implementation \n",
    "## resolLU.py "
   ]
  },
  {
   "cell_type": "code",
   "execution_count": null,
   "metadata": {},
   "outputs": [],
   "source": [
    "import numpy as np\n",
    "from LU import LU\n",
    "from solinf import solinf\n",
    "from solsup import solsup\n",
    "\n",
    "eps = np.finfo(float).eps\n",
    "\n",
    "\n",
    "def resolLU(A: np.ndarray, b: np.ndarray) -> np.ndarray:\n",
    "    \"\"\"Resolu l'equation Ax = b par la methode LU\n",
    "\n",
    "    Args:\n",
    "    -----\n",
    "      A (np.ndarray): matrice\n",
    "      b (np.ndarray): vecteur\n",
    "\n",
    "    Returns:\n",
    "    -------\n",
    "      x (np.ndarray): vecteur solution de l'equation\n",
    "    \"\"\"\n",
    "    L, U = LU(A)\n",
    "    y = solinf(L, b)\n",
    "    x = solsup(U, y)\n",
    "    return x\n"
   ]
  },
  {
   "cell_type": "markdown",
   "metadata": {},
   "source": [
    "## Test du fonction"
   ]
  },
  {
   "cell_type": "code",
   "execution_count": 7,
   "metadata": {},
   "outputs": [
    {
     "name": "stdout",
     "output_type": "stream",
     "text": [
      "x =  [2 0 1]\n"
     ]
    }
   ],
   "source": [
    "import numpy as np\n",
    "from resolLU import resolLU\n",
    "\n",
    "A = np.array([[1, 2, 3], [5, 2, 1], [3, -1, 1]])\n",
    "b = np.array([5, 5, 6])\n",
    "x = resolLU(A, b)\n",
    "print(\"x = \", x)"
   ]
  },
  {
   "cell_type": "markdown",
   "metadata": {},
   "source": [
    "# ex7 : inverse\n",
    "## Implementation \n",
    "### inverse.py "
   ]
  },
  {
   "cell_type": "code",
   "execution_count": null,
   "metadata": {},
   "outputs": [],
   "source": [
    "import numpy as np\n",
    "from ex1 import resolLU\n",
    "\n",
    "\n",
    "def inverse(A: np.ndarray) -> np.ndarray:\n",
    "    \"\"\"retourn l'inverse du matrice A\n",
    "\n",
    "    Args:\n",
    "        A (np.ndarray): matrice\n",
    "\n",
    "    Returns:\n",
    "        B (np.ndarray): matrice inverse de A\n",
    "    \"\"\"\n",
    "    n = len(A)\n",
    "    I = np.identity(n)\n",
    "    b = np.zeros(n, dtype=int)\n",
    "    B = np.zeros(A.shape)\n",
    "    U , L = LU(A, B)\n",
    "    for i in range(n):\n",
    "        y = solinf(L, I[:, i])\n",
    "        x = solsup(U, y)\n",
    "        B[i] = x\n",
    "    return B.T\n"
   ]
  },
  {
   "cell_type": "markdown",
   "metadata": {},
   "source": [
    "## Test du fonction"
   ]
  },
  {
   "cell_type": "code",
   "execution_count": 8,
   "metadata": {},
   "outputs": [
    {
     "name": "stdout",
     "output_type": "stream",
     "text": [
      "B = \n",
      " [[-0.078125   0.140625   0.125    ]\n",
      " [ 0.0234375  0.2578125 -0.4375   ]\n",
      " [ 0.34375   -0.21875    0.25     ]]\n"
     ]
    }
   ],
   "source": [
    "import numpy as np\n",
    "from inverse import inverse\n",
    "\n",
    "A = np.array([[1, 2, 3], [5, 2, 1], [3, -1, 1]])\n",
    "B = inverse(A)\n",
    "print(\"B = \\n\", B)\n"
   ]
  },
  {
   "cell_type": "markdown",
   "metadata": {},
   "source": [
    "# ex8 : cholesky \n",
    "## Implementation \n",
    "### cholesky.py "
   ]
  },
  {
   "cell_type": "code",
   "execution_count": null,
   "metadata": {},
   "outputs": [],
   "source": [
    "import numpy as np\n",
    "import math\n",
    "\n",
    "\n",
    "def cholesky(A: np.ndarray) -> np.ndarray:\n",
    "    \"\"\" Fair la decomposition de A on de matrice B et Bt\n",
    "\n",
    "    Parameters : \n",
    "    ----------\n",
    "      A: Matrice\n",
    "\n",
    "    Retour : \n",
    "      B : Matrice triangulair inf\n",
    "      Bt : Le transpose du matrice B  \n",
    "    \"\"\"\n",
    "    n = len(A)\n",
    "    B = np.zero(A.shape)\n",
    "    for j in range(n):\n",
    "        S = 0\n",
    "        for k in range(1, j-1):\n",
    "            S += B[j, k] ** 2\n",
    "        B[j, j] = (1 / B[j, j]) * (A[j, j] - S)\n",
    "        for i in range(j + 1, n):\n",
    "            S = 0\n",
    "            for k in range(1, j - 1):\n",
    "                S += B[i, k] * B[j, k]\n",
    "            B[i, j] = (1 / B[j, j]) * (A[i, j] - S)\n",
    "    S = 0\n",
    "    for k in range(1, n - 1):\n",
    "        S += B[n - 1, k] ** 2\n",
    "    B[n - 1, n - 1] = math.sqrt(A[n - 1, n - 1] - S)\n",
    "\n",
    "    return B\n"
   ]
  },
  {
   "cell_type": "markdown",
   "metadata": {},
   "source": [
    "## Test du fonction "
   ]
  },
  {
   "cell_type": "code",
   "execution_count": 4,
   "metadata": {},
   "outputs": [
    {
     "name": "stdout",
     "output_type": "stream",
     "text": [
      "B = \n",
      " [[ 3.87298335  0.          0.          0.        ]\n",
      " [ 2.5819889   2.88675135  0.          0.        ]\n",
      " [ 4.64758002 -1.73205081  1.54919334  0.        ]\n",
      " [ 3.09838668  1.73205081 -2.84018779  1.15470054]]\n",
      "\n",
      "Verification du fonction : \n",
      "\n",
      "B * Bt = \n",
      " [[15. 10. 18. 12.]\n",
      " [10. 15.  7. 13.]\n",
      " [18.  7. 27.  7.]\n",
      " [12. 13.  7. 22.]]\n"
     ]
    }
   ],
   "source": [
    "import numpy as np\n",
    "from cholesky import cholesky\n",
    "\n",
    "A = np.array([[15, 10, 18, 12], [10, 15, 7, 13], [18, 7, 27, 7], [12, 13, 7, 22]])\n",
    "B = cholesky(A)\n",
    "print(\"B = \\n\", B)\n",
    "\n",
    "# On multiple B par le transpose de B et on obtient A : \n",
    "print(\"\\nVerification du fonction : \\n\")\n",
    "print(\"B * Bt = \\n\", B @ B.T)"
   ]
  },
  {
   "cell_type": "markdown",
   "metadata": {},
   "source": [
    "### resolchol.py"
   ]
  },
  {
   "cell_type": "code",
   "execution_count": null,
   "metadata": {},
   "outputs": [],
   "source": [
    "import numpy as np\n",
    "from cholesky import cholesky\n",
    "from solinf import solinf\n",
    "from solsup import solsup\n",
    "\n",
    "\n",
    "def resolchol(A: np.ndarray, b: np.ndarray) -> np.ndarray:\n",
    "    \"\"\"Resolution du system Ax = b par la methode de cholesky\n",
    "\n",
    "    Args:\n",
    "    -----\n",
    "        A (np.ndarray): Matrice symetrique definie positive\n",
    "        b (np.ndarray) : Vecteur\n",
    "\n",
    "    Returns:\n",
    "    --------\n",
    "        x (np.ndarray) : Vecteur\n",
    "    \"\"\"\n",
    "\n",
    "    B = cholesky(A)\n",
    "    y = solinf(B, b)\n",
    "    #B.t est le transpose de B\n",
    "    x = solsup(B.T, y)\n",
    "    return x\n"
   ]
  },
  {
   "cell_type": "markdown",
   "metadata": {},
   "source": [
    "### Test : "
   ]
  },
  {
   "cell_type": "code",
   "execution_count": 7,
   "metadata": {},
   "outputs": [
    {
     "name": "stdout",
     "output_type": "stream",
     "text": [
      "x =  [ 1.  2. -1.  3.]\n"
     ]
    }
   ],
   "source": [
    "import numpy as np\n",
    "from resolchol import resolchol\n",
    "\n",
    "A = np.array([[15, 10, 18, 12], [10, 15, 7, 13], [18, 7, 27, 7], [12, 13, 7, 22]])\n",
    "b = np.array([53, 72, 26, 97])\n",
    "x = resolchol(A, b) \n",
    "print(\"x = \", x)\n"
   ]
  }
 ],
 "metadata": {
  "kernelspec": {
   "display_name": "Python 3",
   "language": "python",
   "name": "python3"
  },
  "language_info": {
   "codemirror_mode": {
    "name": "ipython",
    "version": 3
   },
   "file_extension": ".py",
   "mimetype": "text/x-python",
   "name": "python",
   "nbconvert_exporter": "python",
   "pygments_lexer": "ipython3",
   "version": "3.10.12"
  }
 },
 "nbformat": 4,
 "nbformat_minor": 2
}
