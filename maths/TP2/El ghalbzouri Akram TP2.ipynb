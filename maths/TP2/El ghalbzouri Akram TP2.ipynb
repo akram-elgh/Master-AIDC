{
 "cells": [
  {
   "cell_type": "markdown",
   "metadata": {},
   "source": [
    "#     Compte rendu TP2"
   ]
  },
  {
   "cell_type": "markdown",
   "metadata": {},
   "source": [
    "# Introduction\n",
    "\n",
    "Ce travail pratique se concentre sur l'implémentation et les tests des méthodes de Jacobi et de Gauss-Seidel pour résoudre l'équation linéaire Ax = b, où A est une matrice et b est un vecteur. De plus, nous explorerons une méthode de relaxation visant à améliorer ces deux approches. La résolution de systèmes linéaires est essentielle dans divers domaines, et ces méthodes classiques sont cruciales pour converger vers des solutions précises."
   ]
  },
  {
   "cell_type": "markdown",
   "metadata": {},
   "source": [
    "# Importation des bibliothèques nécessaires\n",
    "\n",
    "Au début de notre travail, nous procédons à l'importation des bibliothèques essentielles qui seront utilisées pour l'implémentation des fonctions. Pour mener à bien nos tâches, nous dépendons de deux bibliothèques clés :\n",
    "\n",
    "- **NumPy** : Cette bibliothèque est utilisée pour faciliter la manipulation de matrices, ce qui est essentiel pour les calculs liés à notre travail.\n",
    "\n",
    "- **Math** : La bibliothèque `math` offre une gamme de fonctions mathématiques standard, qui seront utiles dans divers aspects de notre implémentation.\n"
   ]
  },
  {
   "cell_type": "code",
   "execution_count": 6,
   "metadata": {},
   "outputs": [],
   "source": [
    "import numpy as np\n",
    "import math"
   ]
  },
  {
   "cell_type": "markdown",
   "metadata": {},
   "source": [
    "# Jacobi"
   ]
  },
  {
   "cell_type": "markdown",
   "metadata": {},
   "source": [
    "## Méthode de Jacobi\n",
    "\n",
    "Nous commençons par l'implémentation et l'explication de la méthode de Jacobi. Cette méthode est une technique itérative fondamentale utilisée pour résoudre des systèmes linéaires. Elle itère sur les composants du vecteur solution, mettant à jour chaque composant en fonction des valeurs précédemment calculées, tout en maintenant la stabilité de l'algorithme.\n",
    "\n",
    "Nous allons décrire en détail les étapes de la méthode de Jacobi et fournir son implémentation pour résoudre efficacement des systèmes d'équations linéaires.\n"
   ]
  },
  {
   "cell_type": "markdown",
   "metadata": {},
   "source": [
    "## Fonction de calcul de la norme (Ordre 2)\n",
    "\n",
    "Dans cette section, nous allons commencer par l'implémentation d'une fonction essentielle : le calcul de la norme de l'ordre 2 d'un vecteur. Cette fonction sera utilisée ultérieurement dans notre fonction principale pour effectuer des calculs essentiels.\n"
   ]
  },
  {
   "cell_type": "code",
   "execution_count": 1,
   "metadata": {},
   "outputs": [],
   "source": [
    "def norme(x) :\n",
    "  norm = 0\n",
    "  n = len(x)\n",
    "  for i in range(n):\n",
    "    norm += x[i] ** 2 \n",
    "  # print(norm)\n",
    "  # if norm < 0 :\n",
    "  #   norm = -norm\n",
    "  return math.sqrt(norm)"
   ]
  },
  {
   "cell_type": "markdown",
   "metadata": {},
   "source": [
    "## Implementation du fonction : "
   ]
  },
  {
   "cell_type": "code",
   "execution_count": 4,
   "metadata": {},
   "outputs": [],
   "source": [
    "def jacobi(A, b, x0, N, eps):\n",
    "    \"\"\"\n",
    "    Résout un système d'équations linéaires Ax = b en utilisant la méthode itérative de Jacobi.\n",
    "    \n",
    "    Args:\n",
    "        A (numpy.ndarray): Matrice des coefficients du système linéaire.\n",
    "        b (numpy.ndarray): Vecteur des termes constants du système linéaire.\n",
    "        x0 (numpy.ndarray): Vecteur initial de l'approximation de la solution.\n",
    "        N (int): Nombre maximum d'itérations.\n",
    "        eps (float): Tolérance pour le critère d'arrêt basé sur la norme.\n",
    "\n",
    "    Returns:\n",
    "        tuple: Un tuple contenant :\n",
    "            - x (numpy.ndarray): La solution approximative du système.\n",
    "            - iterations (int): Le nombre d'itérations effectuées.\n",
    "\n",
    "    Si la méthode ne converge pas, la fonction renvoie (0, 0).\n",
    "    \"\"\"\n",
    "    n = len(A)  # Nombre de lignes/colonnes de la matrice A\n",
    "    nrm = 0  # Initialisation de la norme\n",
    "    for k in range(N):  # Itération jusqu'à atteindre le nombre maximum d'itérations (N)\n",
    "        x = np.zeros(n)  # Initialisation d'un vecteur solution x\n",
    "\n",
    "        # Boucle sur chaque élément du vecteur x\n",
    "        for i in range(n):\n",
    "            S = 0  # Initialisation d'une somme S\n",
    "\n",
    "            # Boucle pour calculer la somme S\n",
    "            for j in range(n):\n",
    "                if j != i:\n",
    "                    S += A[i, j] * x0[j]\n",
    "\n",
    "            # Calcul de la nouvelle valeur de x[i] en utilisant la formule de Jacobi\n",
    "            x[i] = (b[i] - S) / A[i, i]\n",
    "\n",
    "        # Test d'arrêt : calcul de la norme du vecteur différence entre x et x0\n",
    "        nrm = norme(x - x0) ** 2 / (norme(x) ** 2)\n",
    "\n",
    "        if nrm <= eps:\n",
    "            return x, k + 1  # Retourne la solution x et le nombre d'itérations nécessaires\n",
    "\n",
    "        else:\n",
    "            x0 = x  # Met à jour x0 avec la nouvelle valeur de x pour la prochaine itération\n",
    "\n",
    "    print(\"La méthode de Jacobi ne converge pas\")   \n",
    "    return 0, 0  # Retourne 0, 0 en cas de non-convergence\n",
    "\n"
   ]
  },
  {
   "cell_type": "markdown",
   "metadata": {},
   "source": [
    "# Gaussiedel"
   ]
  },
  {
   "cell_type": "markdown",
   "metadata": {},
   "source": [
    "Nous passons maintenant à l'implémentation et à l'explication de la méthode de Gauss-Seidel. Cette méthode est similaire à celle de Jacobi, mais elle utilise les nouvelles valeurs de x dès qu'elles sont calculées, ce qui peut améliorer la convergence.\n",
    "\n",
    "Nous allons décrire les étapes de la méthode de Gauss-Seidel et fournir son implémentation en détail."
   ]
  },
  {
   "cell_type": "code",
   "execution_count": 3,
   "metadata": {},
   "outputs": [],
   "source": [
    "def gausseidel(A, b, x0, N, eps):\n",
    "    \"\"\"\n",
    "    Résout un système d'équations linéaires Ax = b en utilisant la méthode itérative de Gauss-Seidel.\n",
    "    \n",
    "    Args:\n",
    "        A (numpy.ndarray): Matrice des coefficients du système linéaire.\n",
    "        b (numpy.ndarray): Vecteur des termes constants du système linéaire.\n",
    "        x0 (numpy.ndarray): Vecteur initial de l'approximation de la solution.\n",
    "        N (int): Nombre maximum d'itérations.\n",
    "        eps (float): Tolérance pour le critère d'arrêt basé sur la norme.\n",
    "\n",
    "    Returns:\n",
    "        tuple: Un tuple contenant :\n",
    "            - x (numpy.ndarray): La solution approximative du système.\n",
    "            - iterations (int): Le nombre d'itérations effectuées.\n",
    "\n",
    "    Si la méthode ne converge pas, la fonction renvoie (0, 0).\n",
    "    \"\"\"\n",
    "    n = len(A)  # Nombre de lignes/colonnes de la matrice A\n",
    "    nrm = 0  # Initialisation de la norme\n",
    "    for k in range(N):  # Itération jusqu'à atteindre le nombre maximum d'itérations (N)\n",
    "        x = x0.copy()  # Copie du vecteur x0\n",
    "\n",
    "        # Boucle sur chaque élément du vecteur x\n",
    "        for i in range(n):\n",
    "            S1 = 0  # Initialisation de la somme S1\n",
    "            S2 = 0  # Initialisation de la somme S2\n",
    "\n",
    "            # Boucle pour calculer la somme S1 (pour j < i)\n",
    "            for j in range(i):\n",
    "                S1 += A[i, j] * x[j]\n",
    "\n",
    "            # Boucle pour calculer la somme S2 (pour j > i)\n",
    "            for j in range(i + 1, n):\n",
    "                S2 += A[i, j] * x0[j]\n",
    "\n",
    "            # Calcul de la nouvelle valeur de x[i] en utilisant la formule de Gauss-Seidel\n",
    "            x[i] = (b[i] - S1 - S2) / A[i, i]\n",
    "\n",
    "        # Test d'arrêt : calcul de la norme du vecteur différence entre x et x0\n",
    "        nrm = ((norme(x - x0) ** 2) / norme(x) ** 2)\n",
    "\n",
    "        if nrm < eps:\n",
    "            return x, k + 1  # Retourne la solution x et le nombre d'itérations nécessaires\n",
    "\n",
    "        else:\n",
    "            x0 = x  # Met à jour x0 avec la nouvelle valeur de x pour la prochaine itération\n",
    "\n",
    "    print(\"La méthode de Gauss-Seidel ne converge pas\")   \n",
    "    return 0, 0  # Retourne 0, 0 en cas de non-convergence\n"
   ]
  },
  {
   "cell_type": "markdown",
   "metadata": {},
   "source": [
    "## Test des deux fonctions\n",
    "\n",
    "Après avoir mis en œuvre les méthodes de Jacobi et de Gauss-Seidel, il est temps de les soumettre à des tests rigoureux pour évaluer leurs performances et leur efficacité. Cette section présente les résultats de nos tests et compare les deux méthodes dans divers scénarios.\n",
    "\n",
    "Nous examinerons comment ces méthodes résolvent des systèmes d'équations linéaires spécifiques et évaluerons leur rapidité de convergence, leur précision et leur stabilité. Les résultats de ces tests nous aideront à déterminer dans quelles situations chaque méthode est la plus appropriée.\n",
    "\n",
    "Préparons-nous à explorer les performances des méthodes de Jacobi et de Gauss-Seidel dans les prochaines sections.\n"
   ]
  },
  {
   "cell_type": "code",
   "execution_count": 7,
   "metadata": {},
   "outputs": [
    {
     "name": "stdout",
     "output_type": "stream",
     "text": [
      "Test de la matrice 1:\n",
      "\n",
      "Jacobi:\n",
      "Solution : [-5. 10. 13.]\n",
      "Nombre d'itérations : 3\n",
      "\n",
      "Gauss-Seidel:\n",
      "La méthode de Gauss-Seidel ne converge pas\n",
      "\n",
      "Test de la matrice 2:\n",
      "\n",
      "Jacobi:\n",
      "La méthode de Jacobi ne converge pas\n",
      "\n",
      "Gauss-Seidel:\n",
      "Solution : [-14   7 -11]\n",
      "Nombre d'itérations : 4\n"
     ]
    }
   ],
   "source": [
    "import numpy as np\n",
    "\n",
    "# Matrice 1\n",
    "A1 = np.array([[1, -2, 2], [-1, 1, -1], [-2, -2, 1]])\n",
    "x0 = np.array([1, 2, 3])\n",
    "b = np.array([1, 2, 3])\n",
    "N = 10\n",
    "eps = np.finfo(float).eps\n",
    "\n",
    "print(\"Test de la matrice 1:\")\n",
    "print(\"\\nJacobi:\")\n",
    "x, k = jacobi(A1, b, x0, N, eps)\n",
    "if isinstance(x, np.ndarray):\n",
    "    print(f\"Solution : {x}\\nNombre d'itérations : {k}\")\n",
    "\n",
    "\n",
    "print(\"\\nGauss-Seidel:\")\n",
    "x, k = gausseidel(A1, b, x0, N, eps)\n",
    "if isinstance(x, np.ndarray):\n",
    "    print(f\"Solution : {x}\\nNombre d'itérations : {k}\")\n",
    "\n",
    "\n",
    "# Matrice 2\n",
    "A2 = np.array([[1, -1, -2], [-2, 1, 3], [0, 2, 1]])\n",
    "\n",
    "print(\"\\nTest de la matrice 2:\")\n",
    "print(\"\\nJacobi:\")\n",
    "x, k = jacobi(A2, b, x0, N, eps)\n",
    "if isinstance(x, np.ndarray):\n",
    "    print(f\"Solution : {x}\\nNombre d'itérations : {k}\")\n",
    "\n",
    "\n",
    "print(\"\\nGauss-Seidel:\")\n",
    "x, k = gausseidel(A2, b, x0, N, eps)\n",
    "if isinstance(x, np.ndarray):\n",
    "    print(f\"Solution : {x}\\nNombre d'itérations : {k}\")\n",
    "\n"
   ]
  },
  {
   "cell_type": "markdown",
   "metadata": {},
   "source": [
    "- Pour la première matrice, on remarque que la methode de Jacobi converge mais Gauss-Seidel ne converge pas\n",
    "- Pour la deuxieme matrice on obtient le contraire des resultats precedants"
   ]
  },
  {
   "cell_type": "markdown",
   "metadata": {},
   "source": [
    "# Matrice Dominante Positive : Confirmation de la Convergence\n",
    "\n",
    "La matrice que nous allons aborder est connue pour être dominante positive. Ce trait caractéristique suggère que la méthode itérative de Jacobi ou Gauss-Seidel devrait converger de manière fiable pour résoudre le système linéaire associé. Cependant, il est important de réaliser des tests pratiques pour confirmer cette convergence dans un contexte spécifique.\n",
    "\n",
    "Dans cette section, nous allons mettre en œuvre la matrice et soumettre ces deux méthodes à un ensemble de tests rigoureux. L'objectif est de confirmer que la convergence s'applique réellement à ce cas particulier et de déterminer la rapidité de convergence ainsi que la précision des solutions obtenues."
   ]
  },
  {
   "cell_type": "markdown",
   "metadata": {},
   "source": [
    "## Construction du matrice A : "
   ]
  },
  {
   "cell_type": "code",
   "execution_count": 67,
   "metadata": {},
   "outputs": [
    {
     "name": "stdout",
     "output_type": "stream",
     "text": [
      "A = \n",
      " [[3. 1. 0. 0. 0. 0. 0. 0. 0. 0.]\n",
      " [1. 3. 1. 0. 0. 0. 0. 0. 0. 0.]\n",
      " [0. 1. 3. 1. 0. 0. 0. 0. 0. 0.]\n",
      " [0. 0. 1. 3. 1. 0. 0. 0. 0. 0.]\n",
      " [0. 0. 0. 1. 3. 1. 0. 0. 0. 0.]\n",
      " [0. 0. 0. 0. 1. 3. 1. 0. 0. 0.]\n",
      " [0. 0. 0. 0. 0. 1. 3. 1. 0. 0.]\n",
      " [0. 0. 0. 0. 0. 0. 1. 3. 1. 0.]\n",
      " [0. 0. 0. 0. 0. 0. 0. 1. 3. 1.]\n",
      " [0. 0. 0. 0. 0. 0. 0. 0. 1. 3.]]\n"
     ]
    }
   ],
   "source": [
    "def matrice131(n) :\n",
    "  A = np.zeros([n , n])\n",
    "  for i in range(n) :\n",
    "    A[i, i] = 3\n",
    "    for j in range(n) :\n",
    "      if j == i+1 or j == i - 1 :\n",
    "        A[i, j] = A[j, i] = 1\n",
    "\n",
    "  return A        \n",
    "\n",
    "A = matrice131(10)\n",
    "print(\"A = \\n\", A)"
   ]
  },
  {
   "cell_type": "markdown",
   "metadata": {},
   "source": [
    "## Resolution de l'equation par Jacobi"
   ]
  },
  {
   "cell_type": "code",
   "execution_count": 70,
   "metadata": {},
   "outputs": [
    {
     "name": "stdout",
     "output_type": "stream",
     "text": [
      "Solution : [0.27638191 0.17085427 0.21105528 0.1959799  0.20100503 0.20100503\n",
      " 0.1959799  0.21105528 0.17085427 0.27638191]\n",
      "Nombre d'itérations : 46\n"
     ]
    }
   ],
   "source": [
    "A = matrice131(10)\n",
    "b = np.ones(10)\n",
    "x0 = np.ones(10)\n",
    "# eps = np.finfo.eps\n",
    "N = 100\n",
    "\n",
    "x, k = jacobi(A, b, x0, N, eps)\n",
    "if isinstance(x, np.ndarray):\n",
    "    print(f\"Solution : {x}\\nNombre d'itérations : {k}\")\n"
   ]
  },
  {
   "cell_type": "markdown",
   "metadata": {},
   "source": [
    "## Resolution de l'equation par Gausseidel"
   ]
  },
  {
   "cell_type": "code",
   "execution_count": 69,
   "metadata": {},
   "outputs": [
    {
     "name": "stdout",
     "output_type": "stream",
     "text": [
      "Solution : [0.27638191 0.17085427 0.21105527 0.1959799  0.20100502 0.20100503\n",
      " 0.1959799  0.21105528 0.17085427 0.27638191]\n",
      "Nombre d'itérations : 22\n"
     ]
    }
   ],
   "source": [
    "A = matrice131(10)\n",
    "b = np.ones(10)\n",
    "x0 = np.ones(10)\n",
    "# eps = np.finfo.eps\n",
    "N = 100\n",
    "\n",
    "x, k = gausseidel(A, b, x0, N, eps)\n",
    "if isinstance(x, np.ndarray):\n",
    "    print(f\"Solution : {x}\\nNombre d'itérations : {k}\")"
   ]
  },
  {
   "cell_type": "markdown",
   "metadata": {},
   "source": [
    "On observe que les deux methodes converge vers la meme solution mais la methode de *Gauss-Siedel* converge plus rapidement que celle de *Jacobi*"
   ]
  },
  {
   "cell_type": "markdown",
   "metadata": {},
   "source": [
    "# Relaxation"
   ]
  },
  {
   "cell_type": "markdown",
   "metadata": {},
   "source": [
    "Nous avons examiné les méthodes itératives classiques de Jacobi et de Gauss-Seidel pour résoudre des systèmes d'équations linéaires, en mettant l'accent sur leur efficacité dans des contextes spécifiques. Cependant, il existe une autre approche qui peut améliorer la convergence de ces méthodes dans certaines situations.\n",
    "\n",
    "La méthode de relaxation, également connue sous le nom de méthode de sur-relaxation, est une technique itérative avancée qui vise à accélérer la convergence des méthodes classiques. Elle permet d'ajuster les valeurs mises à jour à chaque itération de manière à favoriser une convergence plus rapide et précise.\n",
    "\n",
    "Dans cette section, nous allons explorer la méthode de relaxation, expliquer ses principes fondamentaux et son utilisation dans le contexte de la résolution de systèmes linéaires. Nous allons également comparer ses performances avec les méthodes de Jacobi et de Gauss-Seidel pour évaluer son impact sur la convergence.\n",
    "\n",
    "Préparons-nous à plonger dans les détails de la méthode de relaxation et à découvrir comment elle peut être un atout précieux pour la résolution de systèmes linéaires.\n"
   ]
  },
  {
   "cell_type": "markdown",
   "metadata": {},
   "source": [
    "## Implementation"
   ]
  },
  {
   "cell_type": "code",
   "execution_count": 9,
   "metadata": {},
   "outputs": [],
   "source": [
    "def relaxation(A, b, x0, N, w, eps):\n",
    "    \"\"\"\n",
    "    Résout un système linéaire Ax = b en utilisant la méthode de relaxation avec Gauss-Siedel. \n",
    "\n",
    "    Args:\n",
    "        A (numpy.ndarray): Matrice des coefficients du système.\n",
    "        b (numpy.ndarray): Vecteur des termes constants du système.\n",
    "        x0 (numpy.ndarray): Vecteur initial d'estimations.\n",
    "        N (int): Nombre maximal d'itérations.\n",
    "        w (float): Facteur de relaxation (entre 0 et 2). Une valeur typique est 1 pour la méthode de Gauss-Seidel.\n",
    "        eps (float): Tolérance pour la convergence.\n",
    "\n",
    "    Returns:\n",
    "        Tuple[numpy.ndarray, int]: Le vecteur de solution x et le nombre d'itérations nécessaires pour atteindre la convergence.\n",
    "\n",
    "    \"\"\"\n",
    "    n = len(A)  # Nombre de lignes de la matrice A\n",
    "    for k in range(N):\n",
    "        x = x0.copy()  # Copie du vecteur d'estimations initial\n",
    "        xbar = x0.copy()  # Copie temporaire du vecteur d'estimations\n",
    "        for i in range(n):\n",
    "            S1 = 0  # Somme des termes à gauche de la diagonale\n",
    "            S2 = 0  # Somme des termes à droite de la diagonale\n",
    "            for j in range(i):\n",
    "                S1 += A[i, j] * xbar[j]\n",
    "            for j in range(i + 1, n):\n",
    "                S2 += A[i, j] * x0[j]\n",
    "            xbar[i] = ((b[i] - S1 - S2) / A[i, i])\n",
    "\n",
    "            # Calcul de la nouvelle estimation x en utilisant le facteur de relaxation w\n",
    "            x[i] = (w * xbar[i] + (1 - w) * x0[i])\n",
    "\n",
    "        # Calcul de la norme pour évaluer la convergence\n",
    "        nrm = ((norme(x - x0) ** 2) / norme(x) ** 2)\n",
    "        if nrm <= eps:\n",
    "            # Convergence atteinte, retourne la solution et le nombre d'itérations\n",
    "            return x, k + 1\n",
    "        else:\n",
    "            x0 = x  # Mise à jour du vecteur d'estimations initial\n",
    "\n",
    "    # Si la méthode ne converge pas après N itérations\n",
    "    print(\"La méthode de relaxation ne converge pas\")\n",
    "    return 0, 0\n"
   ]
  },
  {
   "cell_type": "markdown",
   "metadata": {},
   "source": [
    "## Test du methode de relaxation"
   ]
  },
  {
   "cell_type": "code",
   "execution_count": 12,
   "metadata": {},
   "outputs": [
    {
     "name": "stdout",
     "output_type": "stream",
     "text": [
      "\n",
      " Matrice 1 : \n",
      "\n",
      "La méthode de relaxation ne converge pas\n",
      "\n",
      " Matrice 2 : \n",
      "\n",
      "Si on prend omega = 1.1\n",
      "Solution : [-14.00000001   7.         -11.        ]\n",
      "Nombre d'itérations : 13\n",
      "\n",
      " Si on prend omega = 1.5 : \n",
      "Solution : [-14.00000008   7.         -11.        ]\n",
      "Nombre d'itérations : 40\n",
      "\n",
      " Si on prend omega = 0.5 : \n",
      "Solution : [-14.00000018   7.         -11.00000001]\n",
      "Nombre d'itérations : 35\n"
     ]
    },
    {
     "name": "stderr",
     "output_type": "stream",
     "text": [
      "/tmp/ipykernel_5262/951274611.py:5: RuntimeWarning: overflow encountered in scalar power\n",
      "  norm += x[i] ** 2\n",
      "/tmp/ipykernel_5262/2236477389.py:34: RuntimeWarning: overflow encountered in subtract\n",
      "  nrm = ((norme(x - x0) ** 2) / norme(x) ** 2)\n",
      "/tmp/ipykernel_5262/2236477389.py:27: RuntimeWarning: overflow encountered in scalar multiply\n",
      "  S2 += A[i, j] * x0[j]\n",
      "/tmp/ipykernel_5262/2236477389.py:27: RuntimeWarning: invalid value encountered in scalar add\n",
      "  S2 += A[i, j] * x0[j]\n"
     ]
    }
   ],
   "source": [
    "x0 = np.array([1, 2, 3], dtype=float)\n",
    "b = np.array([1, 2, 3], dtype=float)\n",
    "N = 500\n",
    "eps = np.finfo(float).eps\n",
    "w = 0.9\n",
    "# print(\"Test du matrice 1 : \")\n",
    "\n",
    "\n",
    "print(\"\\n Matrice 1 : \\n\")\n",
    "A = np.array([[1, -2, 2], [-1, 1, -1], [-2, -2, 1]], dtype=float)\n",
    "x, k = relaxation(A, b, x0, 100, w, eps)  \n",
    "if isinstance(x, np.ndarray):\n",
    "    print(f\"Solution : {x}\\nNombre d'itérations : {k}\")\n",
    "    \n",
    "print(\"\\n Matrice 2 : \\n\")\n",
    "print(\"Si on prend omega = 1.1\")\n",
    "A2 = np.array([[1, -1, -2], [-2, 1, 3], [0, 2, 1]], dtype=float)\n",
    "x, k = relaxation(A2, b, x0, N, w, eps)  \n",
    "if isinstance(x, np.ndarray):\n",
    "    print(f\"Solution : {x}\\nNombre d'itérations : {k}\")\n",
    "    \n",
    "print(\"\\n Si on prend omega = 1.5 : \")\n",
    "x, k = relaxation(A2, b, x0, N, 1.5, eps)  \n",
    "if isinstance(x, np.ndarray):\n",
    "    print(f\"Solution : {x}\\nNombre d'itérations : {k}\")\n",
    "    \n",
    "print(\"\\n Si on prend omega = 0.5 : \")\n",
    "x, k = relaxation(A2, b, x0, N, 0.5, eps)  \n",
    "if isinstance(x, np.ndarray):\n",
    "    print(f\"Solution : {x}\\nNombre d'itérations : {k}\")"
   ]
  },
  {
   "cell_type": "markdown",
   "metadata": {},
   "source": [
    "- On remarque que la méthode ne converge pas pour la première matrice, car la méthode de Gauss-Seidel ne converge pas.\n",
    "\n",
    "- De plus, on remarque que plus la valeur de ω (omega) s'approche de 1, moins d'itérations sont nécessaires pour atteindre la convergence."
   ]
  }
 ],
 "metadata": {
  "kernelspec": {
   "display_name": "Python 3",
   "language": "python",
   "name": "python3"
  },
  "language_info": {
   "codemirror_mode": {
    "name": "ipython",
    "version": 3
   },
   "file_extension": ".py",
   "mimetype": "text/x-python",
   "name": "python",
   "nbconvert_exporter": "python",
   "pygments_lexer": "ipython3",
   "version": "3.10.12"
  }
 },
 "nbformat": 4,
 "nbformat_minor": 2
}
