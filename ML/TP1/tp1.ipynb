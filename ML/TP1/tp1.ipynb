{
 "cells": [
  {
   "cell_type": "code",
   "execution_count": 1,
   "metadata": {},
   "outputs": [],
   "source": [
    "import numpy as np\n",
    "import pandas as pd\n",
    "import matplotlib.pyplot as plt\n",
    "%matplotlib inline"
   ]
  },
  {
   "cell_type": "code",
   "execution_count": 2,
   "metadata": {},
   "outputs": [
    {
     "data": {
      "text/plain": [
       "array([0.57405862, 1.30078216, 2.95067728, 2.56511028, 1.86987197,\n",
       "       3.01542368, 0.24299344, 2.57978748, 3.09212228, 2.07552078,\n",
       "       1.39699614, 3.01847243, 1.6188183 , 2.8953555 , 0.71226868,\n",
       "       0.98435037, 2.07452996, 2.17645761, 2.70923088, 2.47254168,\n",
       "       0.33123607, 1.05776701, 0.46580274, 1.07003795, 0.89390538,\n",
       "       0.53179325, 1.07582532, 0.71026529, 0.62929131, 1.24295457])"
      ]
     },
     "execution_count": 2,
     "metadata": {},
     "output_type": "execute_result"
    }
   ],
   "source": [
    "# quest 1\n",
    "X = np.random.rand(30) * np.pi\n",
    "X"
   ]
  },
  {
   "cell_type": "code",
   "execution_count": 3,
   "metadata": {},
   "outputs": [
    {
     "data": {
      "text/plain": [
       "array([ 0.41020522, -0.85769412,  0.92798402,  0.40577954, -0.82637806,\n",
       "        0.96833135,  0.88421443,  0.43242995,  0.99510936, -0.53232733,\n",
       "       -0.94019283,  0.9698357 , -0.99539132,  0.88116569,  0.14573807,\n",
       "       -0.38748733, -0.53400382, -0.35178169,  0.6488505 ,  0.23060012,\n",
       "        0.78847411, -0.51819377,  0.59654622, -0.53902539, -0.21531505,\n",
       "        0.48574024, -0.54873834,  0.14970088,  0.30716608, -0.79263138])"
      ]
     },
     "execution_count": 3,
     "metadata": {},
     "output_type": "execute_result"
    }
   ],
   "source": [
    "# epsilon = np.\n",
    "Y = np.cos(2 * X)\n",
    "Y"
   ]
  },
  {
   "cell_type": "code",
   "execution_count": 4,
   "metadata": {},
   "outputs": [
    {
     "data": {
      "text/html": [
       "<div>\n",
       "<style scoped>\n",
       "    .dataframe tbody tr th:only-of-type {\n",
       "        vertical-align: middle;\n",
       "    }\n",
       "\n",
       "    .dataframe tbody tr th {\n",
       "        vertical-align: top;\n",
       "    }\n",
       "\n",
       "    .dataframe thead th {\n",
       "        text-align: right;\n",
       "    }\n",
       "</style>\n",
       "<table border=\"1\" class=\"dataframe\">\n",
       "  <thead>\n",
       "    <tr style=\"text-align: right;\">\n",
       "      <th></th>\n",
       "      <th>x</th>\n",
       "      <th>y</th>\n",
       "    </tr>\n",
       "  </thead>\n",
       "  <tbody>\n",
       "    <tr>\n",
       "      <th>0</th>\n",
       "      <td>0.574059</td>\n",
       "      <td>0.410205</td>\n",
       "    </tr>\n",
       "    <tr>\n",
       "      <th>1</th>\n",
       "      <td>1.300782</td>\n",
       "      <td>-0.857694</td>\n",
       "    </tr>\n",
       "    <tr>\n",
       "      <th>2</th>\n",
       "      <td>2.950677</td>\n",
       "      <td>0.927984</td>\n",
       "    </tr>\n",
       "    <tr>\n",
       "      <th>3</th>\n",
       "      <td>2.565110</td>\n",
       "      <td>0.405780</td>\n",
       "    </tr>\n",
       "    <tr>\n",
       "      <th>4</th>\n",
       "      <td>1.869872</td>\n",
       "      <td>-0.826378</td>\n",
       "    </tr>\n",
       "    <tr>\n",
       "      <th>5</th>\n",
       "      <td>3.015424</td>\n",
       "      <td>0.968331</td>\n",
       "    </tr>\n",
       "    <tr>\n",
       "      <th>6</th>\n",
       "      <td>0.242993</td>\n",
       "      <td>0.884214</td>\n",
       "    </tr>\n",
       "    <tr>\n",
       "      <th>7</th>\n",
       "      <td>2.579787</td>\n",
       "      <td>0.432430</td>\n",
       "    </tr>\n",
       "    <tr>\n",
       "      <th>8</th>\n",
       "      <td>3.092122</td>\n",
       "      <td>0.995109</td>\n",
       "    </tr>\n",
       "    <tr>\n",
       "      <th>9</th>\n",
       "      <td>2.075521</td>\n",
       "      <td>-0.532327</td>\n",
       "    </tr>\n",
       "    <tr>\n",
       "      <th>10</th>\n",
       "      <td>1.396996</td>\n",
       "      <td>-0.940193</td>\n",
       "    </tr>\n",
       "    <tr>\n",
       "      <th>11</th>\n",
       "      <td>3.018472</td>\n",
       "      <td>0.969836</td>\n",
       "    </tr>\n",
       "    <tr>\n",
       "      <th>12</th>\n",
       "      <td>1.618818</td>\n",
       "      <td>-0.995391</td>\n",
       "    </tr>\n",
       "    <tr>\n",
       "      <th>13</th>\n",
       "      <td>2.895356</td>\n",
       "      <td>0.881166</td>\n",
       "    </tr>\n",
       "    <tr>\n",
       "      <th>14</th>\n",
       "      <td>0.712269</td>\n",
       "      <td>0.145738</td>\n",
       "    </tr>\n",
       "    <tr>\n",
       "      <th>15</th>\n",
       "      <td>0.984350</td>\n",
       "      <td>-0.387487</td>\n",
       "    </tr>\n",
       "    <tr>\n",
       "      <th>16</th>\n",
       "      <td>2.074530</td>\n",
       "      <td>-0.534004</td>\n",
       "    </tr>\n",
       "    <tr>\n",
       "      <th>17</th>\n",
       "      <td>2.176458</td>\n",
       "      <td>-0.351782</td>\n",
       "    </tr>\n",
       "    <tr>\n",
       "      <th>18</th>\n",
       "      <td>2.709231</td>\n",
       "      <td>0.648850</td>\n",
       "    </tr>\n",
       "    <tr>\n",
       "      <th>19</th>\n",
       "      <td>2.472542</td>\n",
       "      <td>0.230600</td>\n",
       "    </tr>\n",
       "    <tr>\n",
       "      <th>20</th>\n",
       "      <td>0.331236</td>\n",
       "      <td>0.788474</td>\n",
       "    </tr>\n",
       "    <tr>\n",
       "      <th>21</th>\n",
       "      <td>1.057767</td>\n",
       "      <td>-0.518194</td>\n",
       "    </tr>\n",
       "    <tr>\n",
       "      <th>22</th>\n",
       "      <td>0.465803</td>\n",
       "      <td>0.596546</td>\n",
       "    </tr>\n",
       "    <tr>\n",
       "      <th>23</th>\n",
       "      <td>1.070038</td>\n",
       "      <td>-0.539025</td>\n",
       "    </tr>\n",
       "    <tr>\n",
       "      <th>24</th>\n",
       "      <td>0.893905</td>\n",
       "      <td>-0.215315</td>\n",
       "    </tr>\n",
       "    <tr>\n",
       "      <th>25</th>\n",
       "      <td>0.531793</td>\n",
       "      <td>0.485740</td>\n",
       "    </tr>\n",
       "    <tr>\n",
       "      <th>26</th>\n",
       "      <td>1.075825</td>\n",
       "      <td>-0.548738</td>\n",
       "    </tr>\n",
       "    <tr>\n",
       "      <th>27</th>\n",
       "      <td>0.710265</td>\n",
       "      <td>0.149701</td>\n",
       "    </tr>\n",
       "    <tr>\n",
       "      <th>28</th>\n",
       "      <td>0.629291</td>\n",
       "      <td>0.307166</td>\n",
       "    </tr>\n",
       "    <tr>\n",
       "      <th>29</th>\n",
       "      <td>1.242955</td>\n",
       "      <td>-0.792631</td>\n",
       "    </tr>\n",
       "  </tbody>\n",
       "</table>\n",
       "</div>"
      ],
      "text/plain": [
       "           x         y\n",
       "0   0.574059  0.410205\n",
       "1   1.300782 -0.857694\n",
       "2   2.950677  0.927984\n",
       "3   2.565110  0.405780\n",
       "4   1.869872 -0.826378\n",
       "5   3.015424  0.968331\n",
       "6   0.242993  0.884214\n",
       "7   2.579787  0.432430\n",
       "8   3.092122  0.995109\n",
       "9   2.075521 -0.532327\n",
       "10  1.396996 -0.940193\n",
       "11  3.018472  0.969836\n",
       "12  1.618818 -0.995391\n",
       "13  2.895356  0.881166\n",
       "14  0.712269  0.145738\n",
       "15  0.984350 -0.387487\n",
       "16  2.074530 -0.534004\n",
       "17  2.176458 -0.351782\n",
       "18  2.709231  0.648850\n",
       "19  2.472542  0.230600\n",
       "20  0.331236  0.788474\n",
       "21  1.057767 -0.518194\n",
       "22  0.465803  0.596546\n",
       "23  1.070038 -0.539025\n",
       "24  0.893905 -0.215315\n",
       "25  0.531793  0.485740\n",
       "26  1.075825 -0.548738\n",
       "27  0.710265  0.149701\n",
       "28  0.629291  0.307166\n",
       "29  1.242955 -0.792631"
      ]
     },
     "execution_count": 4,
     "metadata": {},
     "output_type": "execute_result"
    }
   ],
   "source": [
    "f = pd.DataFrame({\"x\" : X, \"y\" : Y})\n",
    "f"
   ]
  },
  {
   "cell_type": "code",
   "execution_count": 5,
   "metadata": {},
   "outputs": [
    {
     "data": {
      "text/plain": [
       "<matplotlib.collections.PathCollection at 0x7f9f6011df90>"
      ]
     },
     "execution_count": 5,
     "metadata": {},
     "output_type": "execute_result"
    },
    {
     "data": {
      "image/png": "[encoded data removed]",
      "text/plain": [
       "<Figure size 640x480 with 1 Axes>"
      ]
     },
     "metadata": {},
     "output_type": "display_data"
    }
   ],
   "source": [
    "plt.scatter(X, np.cos(X) + (0.0001 * (-1 + 2 * np.random.rand(30))))"
   ]
  }
 ],
 "metadata": {
  "kernelspec": {
   "display_name": "Python 3",
   "language": "python",
   "name": "python3"
  },
  "language_info": {
   "codemirror_mode": {
    "name": "ipython",
    "version": 3
   },
   "file_extension": ".py",
   "mimetype": "text/x-python",
   "name": "python",
   "nbconvert_exporter": "python",
   "pygments_lexer": "ipython3",
   "version": "3.10.12"
  }
 },
 "nbformat": 4,
 "nbformat_minor": 2
}
