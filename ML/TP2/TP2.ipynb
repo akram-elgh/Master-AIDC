{
 "cells": [
  {
   "cell_type": "code",
   "execution_count": 7,
   "metadata": {},
   "outputs": [],
   "source": [
    "clear all;"
   ]
  },
  {
   "cell_type": "markdown",
   "metadata": {},
   "source": [
    "## Fonction de creation du noyau"
   ]
  },
  {
   "cell_type": "markdown",
   "metadata": {},
   "source": [
    "## Definition des variables"
   ]
  },
  {
   "cell_type": "markdown",
   "metadata": {},
   "source": [
    "### Definition des variables d'entre"
   ]
  },
  {
   "cell_type": "code",
   "execution_count": 8,
   "metadata": {},
   "outputs": [],
   "source": [
    "clear all;\n",
    "% points de données d'entrée\n",
    "X = 0:0.01:0.99;\n",
    "X = X';"
   ]
  },
  {
   "cell_type": "markdown",
   "metadata": {},
   "source": [
    "### Definition de modele : \n",
    "\n",
    "On commence par un modele alearatoire"
   ]
  },
  {
   "cell_type": "code",
   "execution_count": 9,
   "metadata": {},
   "outputs": [],
   "source": [
    "% definition de modele\n",
    "y = cos(2*pi*X);"
   ]
  },
  {
   "cell_type": "markdown",
   "metadata": {},
   "source": [
    "### Repartition des variables en entrainement et test"
   ]
  },
  {
   "cell_type": "code",
   "execution_count": 10,
   "metadata": {},
   "outputs": [],
   "source": [
    "\n",
    "X_test = X(1:2:end);\n",
    "y_test = y(1:2:end);\n",
    "X_train = X(2:2:end);\n",
    "y_train = y(2:2:end);\n",
    "n = length(X); % nombre de points de données\n",
    "n2 = length(X_train);\n",
    "% size(y_train)"
   ]
  },
  {
   "cell_type": "code",
   "execution_count": 11,
   "metadata": {},
   "outputs": [
    {
     "name": "stdout",
     "output_type": "stream",
     "text": [
      "\n",
      "ans =\n",
      "\n",
      "   100     1\n",
      "\n"
     ]
    }
   ],
   "source": [
    "size(X)"
   ]
  },
  {
   "cell_type": "markdown",
   "metadata": {},
   "source": [
    "### Definition des parametres "
   ]
  },
  {
   "cell_type": "code",
   "execution_count": 12,
   "metadata": {},
   "outputs": [
    {
     "name": "stdout",
     "output_type": "stream",
     "text": [
      "\n",
      "ans =\n",
      "\n",
      "    50     1\n",
      "\n"
     ]
    }
   ],
   "source": [
    " % parametres initiaux\n",
    "omega = ones(n2, 1);\n",
    "size(omega)"
   ]
  },
  {
   "cell_type": "markdown",
   "metadata": {},
   "source": [
    "## Definition de noyau \n",
    "\n",
    "### Implementation de fonction de noyau\n",
    "\n",
    "fichier noyau.m : "
   ]
  },
  {
   "cell_type": "code",
   "execution_count": 13,
   "metadata": {},
   "outputs": [],
   "source": [
    "% %%file noyau.m\n",
    "\n",
    "% function noyau = noyau(x, x1, choix)\n",
    "%   switch choix\n",
    "%       case 1\n",
    "%           % Noyau linéaire\n",
    "%           c = 0.1; \n",
    "%           y = x' * x1 + c;\n",
    "%       case 2\n",
    "%           % Noyau polynomial\n",
    "%           alpha = 0.05*10^-5; % Valeur arbitraire pour alpha, vous pouvez ajuster selon vos besoins\n",
    "%           c = 1; % Valeur arbitraire pour c, vous pouvez ajuster selon vos besoins\n",
    "%           d = 2; % Valeur arbitraire pour d, vous pouvez ajuster selon vos besoins\n",
    "%           y = (alpha .* (x' .* x1) + c) .^ d;\n",
    "%       case 3\n",
    "%           % Noyau gaussien\n",
    "%           sigma = 0.1; \n",
    "%           y = exp(-norm(x - x1) .^ 2 ./ (2 * sigma^2));\n",
    "%       case 4\n",
    "%           % Noyau exponentiel\n",
    "%           sigma = 5; \n",
    "%           y = exp(-norm(x - x1) ./ (2 * sigma ^ 2));\n",
    "%       case 5\n",
    "%           % Noyau laplacien\n",
    "%           sigma = 1; \n",
    "%           y = exp(-norm(x - x1) / sigma);\n",
    "%       case 6\n",
    "%           % Noyau sinc\n",
    "%           sigma = 1; \n",
    "%           y = prod(sin(sigma * (x - x1)) ./ (sigma * (x - x1)));\n",
    "%       otherwise\n",
    "%           error('Type de noyau non reconnu.');\n",
    "%   end\n",
    "%   noyau = y;\n",
    "% end"
   ]
  },
  {
   "cell_type": "markdown",
   "metadata": {},
   "source": [
    "### Definition de noyau linéaire"
   ]
  },
  {
   "cell_type": "code",
   "execution_count": 14,
   "metadata": {},
   "outputs": [
    {
     "name": "stdout",
     "output_type": "stream",
     "text": [
      "\n",
      "ans =\n",
      "\n",
      "    50    50\n",
      "\n"
     ]
    }
   ],
   "source": [
    "% choix de noyau linéaire\n",
    "choix = 2;\n",
    "K = zeros(n2, n2);\n",
    "for i = 1:n2 \n",
    "  K(i, :) = noyau(X_train, X_train(i, :), choix);\n",
    "end  \n",
    "size(K)"
   ]
  },
  {
   "cell_type": "markdown",
   "metadata": {},
   "source": [
    "## Definition du fonction\n",
    "\n",
    "La fonction est définie comme suivant : \n",
    "\n",
    "$f(\\omega, x) = \\sum_{i=1}^{n} \\omega_i K(x, x_i)$\n"
   ]
  },
  {
   "cell_type": "code",
   "execution_count": 15,
   "metadata": {},
   "outputs": [],
   "source": [
    "f = @(omega) arrayfun(@(i) sum(K(i, :) * omega), 1:n2);"
   ]
  },
  {
   "cell_type": "markdown",
   "metadata": {},
   "source": [
    "## Definition de function de risque empirique\n",
    "\n",
    "La fonction de risque empirique est définit comme suivante :\n",
    "\n",
    "$ J (\\omega, y) =  \\frac{1}{n} \\sum_{i = 0}^{n} \\|f(\\omega_i) - y_i\\|^2  $ \n"
   ]
  },
  {
   "cell_type": "code",
   "execution_count": 16,
   "metadata": {},
   "outputs": [],
   "source": [
    "J = @(omega, y) 1/n * norm(f(omega) - y);"
   ]
  },
  {
   "cell_type": "markdown",
   "metadata": {},
   "source": [
    "## Definition de gradient J"
   ]
  },
  {
   "cell_type": "code",
   "execution_count": 17,
   "metadata": {},
   "outputs": [],
   "source": [
    "% gradJ = @(omega) (1/n) * K' * ((K * omega) - y_train);\n",
    "gradJ = @(omega) (1/n) * K' * ((K * omega) - y_train) + (2 * 0.01 * K * omega);"
   ]
  },
  {
   "cell_type": "markdown",
   "metadata": {},
   "source": [
    "## Gradient descent"
   ]
  },
  {
   "cell_type": "code",
   "execution_count": 18,
   "metadata": {},
   "outputs": [],
   "source": [
    "alpha = 0.001;\n",
    "num_iterations = 5000;\n",
    "hist_omega = zeros(n2, num_iterations);\n",
    "for i = 1:num_iterations\n",
    "  omega =  omega - (alpha * gradJ(omega));\n",
    "  hist_omega(:, i) = omega;\n",
    "  err(i) = J(omega, y_train);\n",
    "end"
   ]
  },
  {
   "cell_type": "code",
   "execution_count": 19,
   "metadata": {},
   "outputs": [
    {
     "name": "stdout",
     "output_type": "stream",
     "text": [
      "\n",
      "ans =\n",
      "\n",
      "    0.3541\n",
      "\n"
     ]
    }
   ],
   "source": [
    "err(i)"
   ]
  },
  {
   "cell_type": "code",
   "execution_count": 20,
   "metadata": {},
   "outputs": [
    {
     "name": "stdout",
     "output_type": "stream",
     "text": [
      "\n",
      "ans =\n",
      "\n",
      "    0.0066\n",
      "\n"
     ]
    }
   ],
   "source": [
    "norm(gradJ(omega))"
   ]
  },
  {
   "cell_type": "code",
   "execution_count": 21,
   "metadata": {},
   "outputs": [
    {
     "data": {
      "image/png": "[encoded data removed]",
      "text/plain": [
       "<IPython.core.display.Image object>"
      ]
     },
     "metadata": {},
     "output_type": "display_data"
    }
   ],
   "source": [
    "plot(1:num_iterations, err)"
   ]
  },
  {
   "cell_type": "markdown",
   "metadata": {},
   "source": [
    "## Extraction des omega optimaux"
   ]
  },
  {
   "cell_type": "code",
   "execution_count": 24,
   "metadata": {},
   "outputs": [
    {
     "name": "stdout",
     "output_type": "stream",
     "text": [
      "\n",
      "ans =\n",
      "\n",
      "    0.3541\n",
      "\n"
     ]
    }
   ],
   "source": [
    "min_err = find(err == min(err));\n",
    "opt_omega = hist_omega(:, min_err);\n",
    "J(opt_omega, y_train)"
   ]
  },
  {
   "cell_type": "markdown",
   "metadata": {},
   "source": [
    "## Affichage de resultats\n",
    "\n",
    "On affiche les y_train avec les y que notre model a predit"
   ]
  },
  {
   "cell_type": "code",
   "execution_count": 25,
   "metadata": {},
   "outputs": [
    {
     "data": {
      "image/png": "[encoded data removed]",
      "text/plain": [
       "<IPython.core.display.Image object>"
      ]
     },
     "metadata": {},
     "output_type": "display_data"
    }
   ],
   "source": [
    "y_train_predit = f(opt_omega);\n",
    "plot(X_train, y_train, 'r')\n",
    "hold on\n",
    "plot(X_train, y_train_predit, 'b')\n",
    "hold off"
   ]
  },
  {
   "cell_type": "code",
   "execution_count": 745,
   "metadata": {},
   "outputs": [
    {
     "name": "stdout",
     "output_type": "stream",
     "text": [
      "Warning: Matrix is close to singular or badly scaled. Results may be inaccurate. RCOND =  2.254649e-20.\n",
      "\n"
     ]
    },
    {
     "data": {
      "image/png": "[encoded data removed]",
      "text/plain": [
       "<IPython.core.display.Image object>"
      ]
     },
     "metadata": {},
     "output_type": "display_data"
    }
   ],
   "source": [
    "w_et = (K' * K) \\ (K' * y_train);\n",
    "y_opt = f(w_et);\n",
    "plot(X_train, y_train, 'r')\n",
    "hold on\n",
    "plot(X_train, y_opt, 'b')\n",
    "hold off"
   ]
  },
  {
   "cell_type": "markdown",
   "metadata": {},
   "source": [
    "## Sur les donnees de test"
   ]
  },
  {
   "cell_type": "code",
   "execution_count": 746,
   "metadata": {},
   "outputs": [
    {
     "data": {
      "image/png": "[encoded data removed]",
      "text/plain": [
       "<IPython.core.display.Image object>"
      ]
     },
     "metadata": {},
     "output_type": "display_data"
    }
   ],
   "source": [
    "% y de test\n",
    "y_test_predit = f(opt_omega);\n",
    "plot(X_train, y_test, 'r')\n",
    "hold on\n",
    "plot(X_train, y_test_predit, 'b')\n",
    "hold off"
   ]
  },
  {
   "cell_type": "code",
   "execution_count": 747,
   "metadata": {},
   "outputs": [
    {
     "name": "stdout",
     "output_type": "stream",
     "text": [
      "\n",
      "ans =\n",
      "\n",
      "   35.4120\n",
      "\n"
     ]
    }
   ],
   "source": [
    "% y_train_predit = f(opt_omega, X_train );\n",
    "\n",
    "norm(y_train_predit - y_train)"
   ]
  },
  {
   "cell_type": "code",
   "execution_count": 748,
   "metadata": {},
   "outputs": [
    {
     "name": "stdout",
     "output_type": "stream",
     "text": [
      "\n",
      "ans =\n",
      "\n",
      "   35.4120\n",
      "\n"
     ]
    }
   ],
   "source": [
    "norm(y_test_predit - y_test)"
   ]
  },
  {
   "cell_type": "code",
   "execution_count": 749,
   "metadata": {},
   "outputs": [
    {
     "name": "stdout",
     "output_type": "stream",
     "text": [
      "Warning: Matrix is close to singular or badly scaled. Results may be inaccurate. RCOND =  2.254649e-20.\n",
      "\n",
      "\n",
      "ans =\n",
      "\n",
      "   4.8503e+07\n",
      "\n"
     ]
    }
   ],
   "source": [
    "w_et = (K' * K) \\ (K' * y_train);\n",
    "norm(opt_omega - w_et)\n",
    "w_et;\n",
    "opt_omega;"
   ]
  },
  {
   "cell_type": "markdown",
   "metadata": {},
   "source": [
    "## Utilisation des autres modèles\n",
    "\n",
    "$\n",
    "(1) \\quad f^*(x) = |x|, \\quad x \\in [-1, 1] \\\\\n",
    "(2) \\quad f^*(x) = 3\\|x\\|^3 - 2\\|x\\|^2 + 3\\|x\\|^2 + 3, \\quad x \\in [-1, 1]^3 \\\\\n",
    "(3) \\quad f^*(x) = \\sin(x_1 + x_2), \\quad x \\in [-2, 2]^2 \\\\\n",
    "(4) \\quad f^*(x) = \\frac{1}{3}(x_1 + x_2)^3 - \\frac{1}{4}(x_1 + x_2)\n",
    "$"
   ]
  },
  {
   "cell_type": "markdown",
   "metadata": {},
   "source": [
    "# Fonction 1)"
   ]
  },
  {
   "cell_type": "code",
   "execution_count": 45,
   "metadata": {},
   "outputs": [],
   "source": [
    "clear all;\n",
    "X = -1:0.01:0.99;\n",
    "X = X';\n",
    "X_train = X(1:2:end);\n",
    "X_test = X(2:2:end);\n",
    "% size(X_train)\n",
    "y_train = modele(1, X_train);\n",
    "% size(y_train)\n",
    "n2 = length(X_train);\n",
    "n = length(X);\n",
    "omega = ones(n2, 1);\n",
    "% size(omega)\n",
    "K = ones(n2, n2);\n",
    "  for i = 1:n2 \n",
    "    K(i, :) = noyau(X_train, X_train(i, :), 2);\n",
    "  end\n",
    "% size(K)  \n",
    "f = @(omega) arrayfun(@(i) sum(K(i, :) * omega), 1:n2);\n",
    "J = @(omega, y) 1/n * norm(f(omega) - y);\n",
    "% gradJ = @(omega) (1/n) * K' * ((K * omega) - y_train) + (2 * 0.01 * K * omega);\n",
    "gradJ = @(omega) (1/n) * K' * ((K * omega) - y_train);\n"
   ]
  },
  {
   "cell_type": "code",
   "execution_count": 46,
   "metadata": {},
   "outputs": [
    {
     "name": "stdout",
     "output_type": "stream",
     "text": [
      "Warning: Matrix is close to singular or badly scaled. Results may be inaccurate. RCOND =  3.006447e-20.\n",
      "\n"
     ]
    },
    {
     "name": "stdout",
     "output_type": "stream",
     "text": [
      "Warning: Imaginary parts of complex X and/or Y arguments ignored.\n"
     ]
    },
    {
     "data": {
      "image/png": "[encoded data removed]",
      "text/plain": [
       "<IPython.core.display.Image object>"
      ]
     },
     "metadata": {},
     "output_type": "display_data"
    }
   ],
   "source": [
    "w_et = (K' * K) \\ (K' * y_train);\n",
    "y_et = f(w_et);\n",
    "plot(X_train, y_train, 'r')\n",
    "hold on\n",
    "plot(X_train, y_et, 'b')\n",
    "hold off"
   ]
  },
  {
   "cell_type": "code",
   "execution_count": 47,
   "metadata": {},
   "outputs": [],
   "source": [
    "alpha = 0.1;\n",
    "num_iterations = 1000;\n",
    "err = zeros(1, num_iterations);\n",
    "for i = 1:num_iterations\n",
    "  omega =  omega - (alpha * gradJ(omega));\n",
    "  err(i) = J(omega, y_train);\n",
    "  hist_omega(:, i) = omega;\n",
    "end"
   ]
  },
  {
   "cell_type": "code",
   "execution_count": 48,
   "metadata": {},
   "outputs": [
    {
     "name": "stdout",
     "output_type": "stream",
     "text": [
      "\n",
      "ans =\n",
      "\n",
      "   4.1013e-04\n",
      "\n"
     ]
    }
   ],
   "source": [
    "norm(gradJ(omega))"
   ]
  },
  {
   "cell_type": "code",
   "execution_count": 49,
   "metadata": {},
   "outputs": [
    {
     "data": {
      "image/png": "[encoded data removed]",
      "text/plain": [
       "<IPython.core.display.Image object>"
      ]
     },
     "metadata": {},
     "output_type": "display_data"
    }
   ],
   "source": [
    "plot(1:num_iterations, err)"
   ]
  },
  {
   "cell_type": "code",
   "execution_count": 50,
   "metadata": {},
   "outputs": [
    {
     "name": "stdout",
     "output_type": "stream",
     "text": [
      "\n",
      "ans =\n",
      "\n",
      "    0.1473\n",
      "\n"
     ]
    },
    {
     "name": "stdout",
     "output_type": "stream",
     "text": [
      "Warning: Imaginary parts of complex X and/or Y arguments ignored.\n"
     ]
    },
    {
     "data": {
      "image/png": "[encoded data removed]",
      "text/plain": [
       "<IPython.core.display.Image object>"
      ]
     },
     "metadata": {},
     "output_type": "display_data"
    }
   ],
   "source": [
    "min_err = 0;\n",
    "opt_omega = zeros(n2, 1);\n",
    "min_err = find(err == min(err));\n",
    "opt_omega = hist_omega(:, min_err);\n",
    "J(opt_omega, y_train)\n",
    "y_predit = f(opt_omega);\n",
    "plot(X_train, y_train, 'r')\n",
    "hold on\n",
    "plot(X_train, y_predit, 'b')\n",
    "hold off\n"
   ]
  },
  {
   "cell_type": "markdown",
   "metadata": {},
   "source": [
    "# Fonction 2)"
   ]
  },
  {
   "cell_type": "code",
   "execution_count": 546,
   "metadata": {},
   "outputs": [],
   "source": [
    "clear all;\n",
    "\n",
    "X1 = -1:0.01:0.99;\n",
    "X2 = -0.99:0.01:1;\n",
    "X3 = (X1 - X2);\n",
    "X = [X1', X2', X3'];\n",
    "X_train = X(1:2:end, :);\n",
    "X_test = X(2:2:end, :);\n",
    "% size(X_train)\n",
    "y_train = modele(2, X_train);\n",
    "% size(y_train)\n",
    "n2 = length(X_train);\n",
    "n = length(X);\n",
    "omega = ones(n2, 1);\n",
    "% size(omega)\n",
    "K = ones(n2, n2);\n",
    "for i = 1:n2 \n",
    "  for j = 1:n2\n",
    "    K(i, j) = noyau(X_train(i, :), X_train(j, :), 4);\n",
    "  end  \n",
    "end\n",
    "% size(K)  \n",
    "f = @(omega) arrayfun(@(i) sum(K(i, :) * omega), 1:n2);\n",
    "J = @(omega, y) 1/n * norm(f(omega) - y);\n",
    "% gradJ = @(omega) (1/n) * K' * ((K * omega) - y_train) + (2 * 0.01 * K * omega);\n",
    "gradJ = @(omega) (1/n) * K' * ((K * omega) - y_train);\n"
   ]
  },
  {
   "cell_type": "code",
   "execution_count": 544,
   "metadata": {},
   "outputs": [
    {
     "name": "stdout",
     "output_type": "stream",
     "text": [
      "\n",
      "ans =\n",
      "\n",
      "     1     1\n",
      "\n"
     ]
    }
   ],
   "source": [
    "size(y_train)"
   ]
  },
  {
   "cell_type": "code",
   "execution_count": 513,
   "metadata": {},
   "outputs": [
    {
     "name": "stdout",
     "output_type": "stream",
     "text": [
      "\n",
      "ans =\n",
      "\n",
      "     1     3\n",
      "\n"
     ]
    }
   ],
   "source": [
    "size(X_train(1, :) .* X_train(1, :))"
   ]
  },
  {
   "cell_type": "code",
   "execution_count": 514,
   "metadata": {},
   "outputs": [
    {
     "name": "stderr",
     "output_type": "stream",
     "text": [
      "\u001b[0;31mError using *\n",
      "Incorrect dimensions for matrix multiplication. Check that the number of columns in the first matrix matches the number of rows in the second matrix. To operate on each element of the matrix individually, use TIMES (.*) for elementwise multiplication.\n",
      "\n",
      "\u001b[0m"
     ]
    }
   ],
   "source": [
    "w_et = (K' * K) \\ (K' * y_train);\n",
    "y_et = f(w_et) + 0.1;\n",
    "J(w_et, y_train)\n",
    "plot(X_train, y_train, 'r')\n",
    "hold on\n",
    "plot(X_train, y_et', 'b')\n",
    "hold off"
   ]
  },
  {
   "cell_type": "code",
   "execution_count": 487,
   "metadata": {},
   "outputs": [],
   "source": [
    "alpha = 0.01;\n",
    "num_iterations = 10000;\n",
    "err = zeros(1, num_iterations);\n",
    "for i = 1:num_iterations\n",
    "  omega =  omega - (alpha * gradJ(omega));\n",
    "  err(i) = J(omega, y_train);\n",
    "  hist_omega(:, i) = omega;\n",
    "end"
   ]
  },
  {
   "cell_type": "code",
   "execution_count": 370,
   "metadata": {},
   "outputs": [
    {
     "name": "stdout",
     "output_type": "stream",
     "text": [
      "\n",
      "omega =\n",
      "\n",
      "   -0.0585\n",
      "   -0.0645\n",
      "   -0.0708\n",
      "   -0.0772\n",
      "   -0.0836\n",
      "   -0.0900\n",
      "   -0.0963\n",
      "   -0.1024\n",
      "   -0.1083\n",
      "   -0.1139\n",
      "   -0.1193\n",
      "   -0.1243\n",
      "   -0.1289\n",
      "   -0.1331\n",
      "   -0.1368\n",
      "   -0.1402\n",
      "   -0.1430\n",
      "   -0.1453\n",
      "   -0.1472\n",
      "   -0.1485\n",
      "   -0.1494\n",
      "   -0.1497\n",
      "   -0.1495\n",
      "   -0.1489\n",
      "   -0.1477\n",
      "   -0.1460\n",
      "   -0.1439\n",
      "   -0.1413\n",
      "   -0.1382\n",
      "   -0.1347\n",
      "   -0.1308\n",
      "   -0.1264\n",
      "   -0.1217\n",
      "   -0.1166\n",
      "   -0.1112\n",
      "   -0.1054\n",
      "   -0.0993\n",
      "   -0.0929\n",
      "   -0.0863\n",
      "   -0.0794\n",
      "   -0.0723\n",
      "   -0.0650\n",
      "   -0.0575\n",
      "   -0.0499\n",
      "   -0.0421\n",
      "   -0.0343\n",
      "   -0.0263\n",
      "   -0.0184\n",
      "   -0.0104\n",
      "   -0.0023\n",
      "    0.0056\n",
      "    0.0136\n",
      "    0.0215\n",
      "    0.0292\n",
      "    0.0369\n",
      "    0.0444\n",
      "    0.0518\n",
      "    0.0589\n",
      "    0.0659\n",
      "    0.0726\n",
      "    0.0791\n",
      "    0.0853\n",
      "    0.0912\n",
      "    0.0969\n",
      "    0.1022\n",
      "    0.1071\n",
      "    0.1117\n",
      "    0.1160\n",
      "    0.1198\n",
      "    0.1233\n",
      "    0.1264\n",
      "    0.1291\n",
      "    0.1314\n",
      "    0.1333\n",
      "    0.1347\n",
      "    0.1358\n",
      "    0.1365\n",
      "    0.1368\n",
      "    0.1367\n",
      "    0.1362\n",
      "    0.1354\n",
      "    0.1343\n",
      "    0.1329\n",
      "    0.1312\n",
      "    0.1293\n",
      "    0.1272\n",
      "    0.1249\n",
      "    0.1226\n",
      "    0.1201\n",
      "    0.1177\n",
      "    0.1153\n",
      "    0.1131\n",
      "    0.1110\n",
      "    0.1092\n",
      "    0.1077\n",
      "    0.1067\n",
      "    0.1061\n",
      "    0.1062\n",
      "    0.1070\n",
      "    0.1086\n",
      "\n"
     ]
    }
   ],
   "source": [
    "omega"
   ]
  },
  {
   "cell_type": "code",
   "execution_count": 488,
   "metadata": {},
   "outputs": [
    {
     "data": {
      "image/png": "[encoded data removed]",
      "text/plain": [
       "<IPython.core.display.Image object>"
      ]
     },
     "metadata": {},
     "output_type": "display_data"
    }
   ],
   "source": [
    "plot(1:num_iterations, err)"
   ]
  },
  {
   "cell_type": "code",
   "execution_count": 489,
   "metadata": {},
   "outputs": [
    {
     "name": "stdout",
     "output_type": "stream",
     "text": [
      "\n",
      "ans =\n",
      "\n",
      "    5.9175\n",
      "\n"
     ]
    },
    {
     "data": {
      "image/png": "[encoded data removed]",
      "text/plain": [
       "<IPython.core.display.Image object>"
      ]
     },
     "metadata": {},
     "output_type": "display_data"
    }
   ],
   "source": [
    "min_err = 0;\n",
    "opt_omega = zeros(n2, 1);\n",
    "min_err = find(err == min(err));\n",
    "opt_omega = hist_omega(:, min_err);\n",
    "J(opt_omega, y_train)\n",
    "y_predit = f(opt_omega);\n",
    "plot(X_train, y_train, 'r')\n",
    "hold on\n",
    "plot(X_train, y_predit, 'b')\n",
    "hold off\n"
   ]
  },
  {
   "cell_type": "markdown",
   "metadata": {},
   "source": [
    "# Fonction3)"
   ]
  },
  {
   "cell_type": "code",
   "execution_count": 536,
   "metadata": {},
   "outputs": [],
   "source": [
    "clear all;\n",
    "X1 = -2:0.02:1.99;\n",
    "X2 = -1.99:0.02:2;\n",
    "X = [X1', X2'];\n",
    "% X = X';\n",
    "X_train = X(1:2:end, :);\n",
    "X_test = X(2:2:end, :);\n",
    "% size(X_train)\n",
    "y_train = modele(3, X_train);\n",
    "% size(y_train)\n",
    "n2 = length(X_train);\n",
    "n = length(X);\n",
    "omega = ones(n2, 1);\n",
    "% size(omega)\n",
    "K = ones(n2, n2);\n",
    "  for i = 1:n2 \n",
    "    for j = 1:n2\n",
    "      K(i, j) = noyau(X_train(i, :), X_train(j, :), 4);\n",
    "    end  \n",
    "  end\n",
    "% size(K)  \n",
    "f = @(omega) arrayfun(@(i) sum(K(i, :) * omega), 1:n2);\n",
    "J = @(omega, y) 1/n * norm(f(omega) - y);\n",
    "gradJ = @(omega) (1/n) * K' * ((K * omega) - y_train) + (2 * 0.0001 * K * omega);\n",
    "% gradJ = @(omega) (1/n) * K' * ((K * omega) - y_train);\n"
   ]
  },
  {
   "cell_type": "code",
   "execution_count": 537,
   "metadata": {},
   "outputs": [
    {
     "data": {
      "image/png": "[encoded data removed]",
      "text/plain": [
       "<IPython.core.display.Image object>"
      ]
     },
     "metadata": {},
     "output_type": "display_data"
    }
   ],
   "source": [
    "w_et = (K' * K) \\ (K' * y_train);\n",
    "y_et = f(w_et) + 0.1;\n",
    "plot(X_train, y_train, 'r')\n",
    "hold on\n",
    "plot(X_train, y_et, 'b')\n",
    "hold off"
   ]
  },
  {
   "cell_type": "code",
   "execution_count": 542,
   "metadata": {},
   "outputs": [],
   "source": [
    "alpha = 0.01;\n",
    "num_iterations = 10000;\n",
    "err = zeros(1, num_iterations);\n",
    "for i = 1:num_iterations\n",
    "  omega =  omega - (alpha * gradJ(omega));\n",
    "  err(i) = J(omega, y_train);\n",
    "  hist_omega(:, i) = omega;\n",
    "end"
   ]
  },
  {
   "cell_type": "code",
   "execution_count": 539,
   "metadata": {},
   "outputs": [
    {
     "name": "stdout",
     "output_type": "stream",
     "text": [
      "\n",
      "omega =\n",
      "\n",
      "   -0.0235\n",
      "   -0.0258\n",
      "   -0.0290\n",
      "   -0.0331\n",
      "   -0.0382\n",
      "   -0.0440\n",
      "   -0.0505\n",
      "   -0.0577\n",
      "   -0.0654\n",
      "   -0.0735\n",
      "   -0.0820\n",
      "   -0.0908\n",
      "   -0.0998\n",
      "   -0.1088\n",
      "   -0.1179\n",
      "   -0.1268\n",
      "   -0.1356\n",
      "   -0.1441\n",
      "   -0.1522\n",
      "   -0.1600\n",
      "   -0.1672\n",
      "   -0.1739\n",
      "   -0.1799\n",
      "   -0.1852\n",
      "   -0.1898\n",
      "   -0.1935\n",
      "   -0.1964\n",
      "   -0.1984\n",
      "   -0.1995\n",
      "   -0.1996\n",
      "   -0.1988\n",
      "   -0.1970\n",
      "   -0.1942\n",
      "   -0.1904\n",
      "   -0.1856\n",
      "   -0.1799\n",
      "   -0.1733\n",
      "   -0.1657\n",
      "   -0.1573\n",
      "   -0.1481\n",
      "   -0.1381\n",
      "   -0.1273\n",
      "   -0.1159\n",
      "   -0.1039\n",
      "   -0.0913\n",
      "   -0.0782\n",
      "   -0.0648\n",
      "   -0.0510\n",
      "   -0.0370\n",
      "   -0.0228\n",
      "   -0.0085\n",
      "    0.0058\n",
      "    0.0201\n",
      "    0.0342\n",
      "    0.0481\n",
      "    0.0616\n",
      "    0.0748\n",
      "    0.0876\n",
      "    0.0998\n",
      "    0.1115\n",
      "    0.1225\n",
      "    0.1328\n",
      "    0.1424\n",
      "    0.1512\n",
      "    0.1592\n",
      "    0.1663\n",
      "    0.1725\n",
      "    0.1779\n",
      "    0.1823\n",
      "    0.1857\n",
      "    0.1883\n",
      "    0.1899\n",
      "    0.1906\n",
      "    0.1904\n",
      "    0.1894\n",
      "    0.1875\n",
      "    0.1849\n",
      "    0.1815\n",
      "    0.1775\n",
      "    0.1728\n",
      "    0.1676\n",
      "    0.1618\n",
      "    0.1557\n",
      "    0.1492\n",
      "    0.1424\n",
      "    0.1355\n",
      "    0.1285\n",
      "    0.1215\n",
      "    0.1146\n",
      "    0.1078\n",
      "    0.1014\n",
      "    0.0953\n",
      "    0.0896\n",
      "    0.0846\n",
      "    0.0801\n",
      "    0.0764\n",
      "    0.0735\n",
      "    0.0714\n",
      "    0.0703\n",
      "    0.0703\n",
      "\n"
     ]
    }
   ],
   "source": [
    "omega"
   ]
  },
  {
   "cell_type": "code",
   "execution_count": 547,
   "metadata": {},
   "outputs": [
    {
     "name": "stderr",
     "output_type": "stream",
     "text": [
      "\u001b[0;31mError using eval\n",
      "Unrecognized function or variable 'num_iterations'.\n",
      "\n",
      "\u001b[0m"
     ]
    }
   ],
   "source": [
    "plot(1:num_iterations, err)"
   ]
  },
  {
   "cell_type": "code",
   "execution_count": 548,
   "metadata": {},
   "outputs": [
    {
     "name": "stderr",
     "output_type": "stream",
     "text": [
      "\u001b[0;31mError using eval\n",
      "Unrecognized function or variable 'err'.\n",
      "\n",
      "\u001b[0m"
     ]
    }
   ],
   "source": [
    "min_err = 0;\n",
    "opt_omega = zeros(n2, 1);\n",
    "min_err = find(err == min(err));\n",
    "opt_omega = hist_omega(:, min_err);\n",
    "J(opt_omega, y_train)\n",
    "y_predit = f(opt_omega);\n",
    "plot(X_train, y_train, 'r')\n",
    "hold on\n",
    "plot(X_train, y_predit, 'b')\n",
    "hold off\n"
   ]
  },
  {
   "cell_type": "markdown",
   "metadata": {},
   "source": [
    "# Fonction 4)"
   ]
  },
  {
   "cell_type": "code",
   "execution_count": 643,
   "metadata": {},
   "outputs": [],
   "source": [
    "clear all;\n",
    "X1 = -1:0.02:0.99;\n",
    "X2 = -0.99:0.02:1;\n",
    "X = [X1', X2'];\n",
    "% X = X';\n",
    "X_train = X(1:2:end, :);\n",
    "X_test = X(2:2:end, :);\n",
    "% size(X_train)\n",
    "y_train = modele(4, X_train);\n",
    "y_test = modele(4, X_test);\n",
    "% size(y_train)\n",
    "n2 = length(X_train);\n",
    "n = length(X);\n",
    "omega = ones(n2, 1);\n",
    "% size(omega)\n",
    "K = ones(n2, n2);\n",
    "  for i = 1:n2 \n",
    "    for j = 1:n2\n",
    "      K(i, j) = noyau(X_train(i, :), X_train(j, :), 3);\n",
    "    end  \n",
    "  end\n",
    "% size(K)  \n",
    "f = @(omega) arrayfun(@(i) sum(K(i, :) * omega), 1:n2);\n",
    "J = @(omega, y) 1/n * norm(f(omega) - y);\n",
    "% gradJ = @(omega) (1/n) * K' * ((K * omega) - y_train) + (2 * 0.0001 * K * omega);\n",
    "gradJ = @(omega) (1/n) * K' * ((K * omega) - y_train);\n"
   ]
  },
  {
   "cell_type": "code",
   "execution_count": 614,
   "metadata": {},
   "outputs": [
    {
     "data": {
      "image/png": "[encoded data removed]",
      "text/plain": [
       "<IPython.core.display.Image object>"
      ]
     },
     "metadata": {},
     "output_type": "display_data"
    }
   ],
   "source": [
    "w_et = (K' * K) \\ (K' * y_train);\n",
    "y_et = f(w_et) + 0.1;\n",
    "plot(X_train, y_train, 'r')\n",
    "hold on\n",
    "plot(X_train, y_et, 'b')\n",
    "hold off"
   ]
  },
  {
   "cell_type": "code",
   "execution_count": 649,
   "metadata": {},
   "outputs": [],
   "source": [
    "alpha = 1;\n",
    "num_iterations = 50000;\n",
    "err = zeros(1, num_iterations);\n",
    "while (norm(gradJ(omega)) > 10e-14)\n",
    "  i = i + 1;\n",
    "  omega =  omega - (alpha * gradJ(omega));\n",
    "  alpha = n2 * norm(-gradJ(omega)) .^ 2 ./ norm(K' * (-gradJ(omega) .^ 2 / 2));\n",
    "  err(i) = J(omega, y_train);\n",
    "  hist_omega(:, i) = omega;\n",
    "end"
   ]
  },
  {
   "cell_type": "code",
   "execution_count": 648,
   "metadata": {},
   "outputs": [
    {
     "name": "stdout",
     "output_type": "stream",
     "text": [
      "\n",
      "ans =\n",
      "\n",
      "   1.0000e-13\n",
      "\n"
     ]
    }
   ],
   "source": [
    "10e-14"
   ]
  },
  {
   "cell_type": "code",
   "execution_count": 645,
   "metadata": {},
   "outputs": [
    {
     "name": "stdout",
     "output_type": "stream",
     "text": [
      "\n",
      "ans =\n",
      "\n",
      "   NaN\n",
      "\n"
     ]
    }
   ],
   "source": [
    "norm(gradJ(omega))"
   ]
  },
  {
   "cell_type": "code",
   "execution_count": 637,
   "metadata": {},
   "outputs": [
    {
     "name": "stdout",
     "output_type": "stream",
     "text": [
      "\n",
      "omega =\n",
      "\n",
      "   Inf\n",
      "   Inf\n",
      "   Inf\n",
      "   Inf\n",
      "   Inf\n",
      "  -Inf\n",
      "  -Inf\n",
      "  -Inf\n",
      "  -Inf\n",
      "  -Inf\n",
      "  -Inf\n",
      "  -Inf\n",
      "  -Inf\n",
      "  -Inf\n",
      "  -Inf\n",
      "  -Inf\n",
      "  -Inf\n",
      "  -Inf\n",
      "  -Inf\n",
      "  -Inf\n",
      "  -Inf\n",
      "  -Inf\n",
      "  -Inf\n",
      "  -Inf\n",
      "  -Inf\n",
      "  -Inf\n",
      "  -Inf\n",
      "  -Inf\n",
      "  -Inf\n",
      "  -Inf\n",
      "  -Inf\n",
      "  -Inf\n",
      "  -Inf\n",
      "  -Inf\n",
      "  -Inf\n",
      "  -Inf\n",
      "  -Inf\n",
      "  -Inf\n",
      "  -Inf\n",
      "  -Inf\n",
      "  -Inf\n",
      "  -Inf\n",
      "  -Inf\n",
      "  -Inf\n",
      "  -Inf\n",
      "  -Inf\n",
      "   Inf\n",
      "   Inf\n",
      "   Inf\n",
      "   Inf\n",
      "\n"
     ]
    }
   ],
   "source": [
    "omega"
   ]
  },
  {
   "cell_type": "code",
   "execution_count": 638,
   "metadata": {},
   "outputs": [
    {
     "data": {
      "image/png": "[encoded data removed]",
      "text/plain": [
       "<IPython.core.display.Image object>"
      ]
     },
     "metadata": {},
     "output_type": "display_data"
    }
   ],
   "source": [
    "plot(1:num_iterations, err)"
   ]
  },
  {
   "cell_type": "code",
   "execution_count": 639,
   "metadata": {},
   "outputs": [
    {
     "name": "stderr",
     "output_type": "stream",
     "text": [
      "\u001b[0;31mIndex in position 2 exceeds array bounds. Index must not exceed 268.\n",
      "\n",
      "\u001b[0m"
     ]
    }
   ],
   "source": [
    "min_err = 0;\n",
    "opt_omega = zeros(n2, 1);\n",
    "min_err = find(err == min(err));\n",
    "opt_omega = hist_omega(:, min_err);\n",
    "J(opt_omega, y_train)\n",
    "y_predit = f(opt_omega);\n",
    "plot(X_train, y_train, 'r')\n",
    "hold on\n",
    "plot(X_train, y_predit, 'b')\n",
    "hold off\n"
   ]
  },
  {
   "cell_type": "markdown",
   "metadata": {},
   "source": [
    "TEST"
   ]
  },
  {
   "cell_type": "code",
   "execution_count": 640,
   "metadata": {},
   "outputs": [
    {
     "data": {
      "image/png": "[encoded data removed]",
      "text/plain": [
       "<IPython.core.display.Image object>"
      ]
     },
     "metadata": {},
     "output_type": "display_data"
    }
   ],
   "source": [
    "K2 = ones(n2, n2);\n",
    "  for i = 1:n2 \n",
    "    for j = 1:n2\n",
    "      K2(i, j) = noyau(X_test(i, :), X_train(j, :), 3);\n",
    "    end  \n",
    "  end\n",
    "  y_test = modele(4, X_test);\n",
    "\n",
    "y_test_predit = K * opt_omega;\n",
    "plot(X_test, y_test, 'r')\n",
    "hold on\n",
    "plot(X_test, y_test_predit, 'b')\n",
    "hold off"
   ]
  },
  {
   "cell_type": "code",
   "execution_count": 460,
   "metadata": {},
   "outputs": [
    {
     "name": "stdout",
     "output_type": "stream",
     "text": [
      "     2\n",
      "\n",
      "\n",
      "ans =\n",
      "\n",
      "   200     3\n",
      "\n",
      "\n",
      "ans =\n",
      "\n",
      "     1     1\n",
      "\n"
     ]
    },
    {
     "name": "stderr",
     "output_type": "stream",
     "text": [
      "\u001b[0;31mIndex in position 1 is invalid. Array indices must be positive integers or logical values.\n",
      "\n",
      "\u001b[0m"
     ]
    }
   ],
   "source": [
    "clear all;\n",
    "\n",
    "noyau = 4;\n",
    "nmbr = 2;\n",
    "for k = 2:nmbr\n",
    "  disp(k)\n",
    "  [X, y] = modele(k);\n",
    "  size(X)\n",
    "  size(y)\n",
    "  X_train = X(1:2:end, :);\n",
    "  X_test = X(2:2:end, :);\n",
    "  y_train = X(1:2:end, :);\n",
    "  y_test = X(2:2:end, :);\n",
    "  \n",
    "  n2 = length(X_train);\n",
    "  n = length(X);\n",
    "  omega = ones(n2, 1);\n",
    "  % size(omega)\n",
    "  K = ones(n2, n2);\n",
    "    for i = 1:n2 \n",
    "      for j = 1:n2\n",
    "        K(i, j) = noyau(X_train(i, :), X_train(j, :), noyau);\n",
    "      end  \n",
    "    end\n",
    "  % size(K)  \n",
    "  f = @(omega) arrayfun(@(i) sum(K(i, :) * omega), 1:n2);\n",
    "  J = @(omega, y) 1/n * norm(f(omega) - y);\n",
    "  % gradJ = @(omega) (1/n) * K' * ((K * omega) - y_train) + (2 * 0.0001 * K * omega);\n",
    "  gradJ = @(omega) (1/n) * K' * ((K * omega) - y_train);\n",
    "end\n"
   ]
  },
  {
   "cell_type": "code",
   "execution_count": null,
   "metadata": {},
   "outputs": [],
   "source": []
  }
 ],
 "metadata": {
  "kernelspec": {
   "display_name": "Matlab (Connection)",
   "language": "matlab",
   "name": "matlab_connect"
  },
  "language_info": {
   "codemirror_mode": "octave",
   "file_extension": ".m",
   "help_links": [
    {
     "text": "MetaKernel Magics",
     "url": "https://metakernel.readthedocs.io/en/latest/source/README.html"
    }
   ],
   "mimetype": "text/x-octave",
   "name": "matlab",
   "version": "0.17.1"
  }
 },
 "nbformat": 4,
 "nbformat_minor": 4
}
