{
 "cells": [
  {
   "cell_type": "code",
   "execution_count": 25,
   "metadata": {},
   "outputs": [
    {
     "name": "stdout",
     "output_type": "stream",
     "text": [
      "\n"
     ]
    }
   ],
   "source": [
    "clear all;"
   ]
  },
  {
   "cell_type": "markdown",
   "metadata": {},
   "source": [
    "## Fonction de creation du noyau"
   ]
  },
  {
   "cell_type": "markdown",
   "metadata": {},
   "source": [
    "## Definition des variables"
   ]
  },
  {
   "cell_type": "markdown",
   "metadata": {},
   "source": [
    "### Definition des variables d'entre"
   ]
  },
  {
   "cell_type": "code",
   "execution_count": 26,
   "metadata": {},
   "outputs": [
    {
     "name": "stdout",
     "output_type": "stream",
     "text": [
      "\n"
     ]
    }
   ],
   "source": [
    "clear all;\n",
    "% points de données d'entrée\n",
    "X = 0:0.01:0.99;\n",
    "X = X';"
   ]
  },
  {
   "cell_type": "markdown",
   "metadata": {},
   "source": [
    "### Definition de modele : \n",
    "\n",
    "On commence par un modele alearatoire"
   ]
  },
  {
   "cell_type": "code",
   "execution_count": 27,
   "metadata": {},
   "outputs": [
    {
     "name": "stdout",
     "output_type": "stream",
     "text": [
      "\n"
     ]
    }
   ],
   "source": [
    "% definition de modele\n",
    "y = cos(2*pi*X);"
   ]
  },
  {
   "cell_type": "markdown",
   "metadata": {},
   "source": [
    "### Repartition des variables en entrainement et test"
   ]
  },
  {
   "cell_type": "code",
   "execution_count": 28,
   "metadata": {},
   "outputs": [
    {
     "name": "stdout",
     "output_type": "stream",
     "text": [
      "\n"
     ]
    }
   ],
   "source": [
    "\n",
    "X_test = X(1:2:end);\n",
    "y_test = y(1:2:end);\n",
    "X_train = X(2:2:end);\n",
    "y_train = y(2:2:end);\n",
    "n = length(X); % nombre de points de données\n",
    "n2 = length(X_train);\n",
    "% size(y_train)"
   ]
  },
  {
   "cell_type": "markdown",
   "metadata": {},
   "source": [
    "### Definition des parametres "
   ]
  },
  {
   "cell_type": "code",
   "execution_count": 29,
   "metadata": {},
   "outputs": [
    {
     "name": "stdout",
     "output_type": "stream",
     "text": [
      "\n",
      "ans =\n",
      "\n",
      "    50     1\n",
      "\n",
      "\n"
     ]
    }
   ],
   "source": [
    " % parametres initiaux\n",
    "omega = ones(n2, 1);\n",
    "size(omega)"
   ]
  },
  {
   "cell_type": "markdown",
   "metadata": {},
   "source": [
    "## Definition de noyau \n",
    "\n",
    "### Implementation de fonction de noyau\n",
    "\n",
    "fichier noyau.m : "
   ]
  },
  {
   "cell_type": "markdown",
   "metadata": {},
   "source": [
    "### Definition de noyau linéaire"
   ]
  },
  {
   "cell_type": "code",
   "execution_count": 30,
   "metadata": {},
   "outputs": [
    {
     "name": "stdout",
     "output_type": "stream",
     "text": [
      "\n",
      "ans =\n",
      "\n",
      "    50    50\n",
      "\n",
      "\n"
     ]
    }
   ],
   "source": [
    "% choix de noyau linéaire\n",
    "choix = 1;\n",
    "K = zeros(n2, n2);\n",
    "for i = 1:n2 \n",
    "  K(i, :) = noyau(X_train, X_train(i, :), choix);\n",
    "end  \n",
    "size(K)"
   ]
  },
  {
   "cell_type": "markdown",
   "metadata": {},
   "source": [
    "## Definition du fonction\n",
    "\n",
    "La fonction est définie comme suivant : \n",
    "\n",
    "$f(\\omega, x) = \\sum_{i=1}^{n} \\omega_i K(x, x_i)$\n"
   ]
  },
  {
   "cell_type": "code",
   "execution_count": 31,
   "metadata": {},
   "outputs": [
    {
     "name": "stdout",
     "output_type": "stream",
     "text": [
      "\n"
     ]
    }
   ],
   "source": [
    "f = @(omega) arrayfun(@(i) sum(K(i, :) * omega), 1:n2);"
   ]
  },
  {
   "cell_type": "markdown",
   "metadata": {},
   "source": [
    "## Definition de function de risque empirique\n",
    "\n",
    "La fonction de risque empirique est définit comme suivante :\n",
    "\n",
    "$ J (\\omega, y) =  \\frac{1}{n} \\sum_{i = 0}^{n} \\|f(\\omega_i) - y_i\\|^2  $ \n"
   ]
  },
  {
   "cell_type": "code",
   "execution_count": 32,
   "metadata": {},
   "outputs": [
    {
     "name": "stdout",
     "output_type": "stream",
     "text": [
      "\n"
     ]
    }
   ],
   "source": [
    "J = @(omega, y) 1/n * norm(f(omega) - y);"
   ]
  },
  {
   "cell_type": "markdown",
   "metadata": {},
   "source": [
    "## Definition de gradient J"
   ]
  },
  {
   "cell_type": "code",
   "execution_count": 33,
   "metadata": {},
   "outputs": [
    {
     "name": "stdout",
     "output_type": "stream",
     "text": [
      "\n"
     ]
    }
   ],
   "source": [
    "% gradJ = @(omega) (1/n) * K' * ((K * omega) - y_train);\n",
    "gradJ = @(omega) (1/n) * K' * ((K * omega) - y_train) + (2 * 0.01 * K * omega);"
   ]
  },
  {
   "cell_type": "markdown",
   "metadata": {},
   "source": [
    "## Gradient descent"
   ]
  },
  {
   "cell_type": "code",
   "execution_count": 34,
   "metadata": {},
   "outputs": [
    {
     "name": "stdout",
     "output_type": "stream",
     "text": [
      "\n"
     ]
    }
   ],
   "source": [
    "alpha = 0.001;\n",
    "num_iterations = 5000;\n",
    "hist_omega = zeros(n2, num_iterations);\n",
    "for i = 1:num_iterations\n",
    "  omega =  omega - (alpha * gradJ(omega));\n",
    "  hist_omega(:, i) = omega;\n",
    "  err(i) = J(omega, y_train);\n",
    "end"
   ]
  },
  {
   "cell_type": "code",
   "execution_count": 35,
   "metadata": {},
   "outputs": [
    {
     "name": "stdout",
     "output_type": "stream",
     "text": [
      "\n",
      "ans =\n",
      "\n",
      "    0.3536\n",
      "\n",
      "\n"
     ]
    }
   ],
   "source": [
    "err(i)"
   ]
  },
  {
   "cell_type": "code",
   "execution_count": 36,
   "metadata": {},
   "outputs": [
    {
     "name": "stdout",
     "output_type": "stream",
     "text": [
      "\n",
      "ans =\n",
      "\n",
      "   3.2729e-06\n",
      "\n",
      "\n"
     ]
    }
   ],
   "source": [
    "norm(gradJ(omega))"
   ]
  },
  {
   "cell_type": "code",
   "execution_count": 37,
   "metadata": {},
   "outputs": [
    {
     "name": "stdout",
     "output_type": "stream",
     "text": [
      "\n"
     ]
    },
    {
     "data": {
      "image/png": "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",
      "text/plain": [
       "<IPython.core.display.Image object>"
      ]
     },
     "metadata": {},
     "output_type": "display_data"
    }
   ],
   "source": [
    "plot(1:num_iterations, err)"
   ]
  },
  {
   "cell_type": "markdown",
   "metadata": {},
   "source": [
    "## Extraction des omega optimaux"
   ]
  },
  {
   "cell_type": "code",
   "execution_count": 38,
   "metadata": {},
   "outputs": [
    {
     "name": "stdout",
     "output_type": "stream",
     "text": [
      "\n",
      "ans =\n",
      "\n",
      "    0.3536\n",
      "\n",
      "\n"
     ]
    }
   ],
   "source": [
    "min_err = find(err == min(err));\n",
    "opt_omega = hist_omega(:, min_err);\n",
    "J(opt_omega, y_train)"
   ]
  },
  {
   "cell_type": "markdown",
   "metadata": {},
   "source": [
    "## Affichage de resultats\n",
    "\n",
    "On affiche les y_train avec les y que notre model a predit"
   ]
  },
  {
   "cell_type": "code",
   "execution_count": 39,
   "metadata": {},
   "outputs": [
    {
     "name": "stdout",
     "output_type": "stream",
     "text": [
      "\n"
     ]
    },
    {
     "data": {
      "image/png": "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",
      "text/plain": [
       "<IPython.core.display.Image object>"
      ]
     },
     "metadata": {},
     "output_type": "display_data"
    }
   ],
   "source": [
    "y_train_predit = f(opt_omega);\n",
    "plot(X_train, y_train, 'r')\n",
    "hold on\n",
    "plot(X_train, y_train_predit, 'b')\n",
    "hold off"
   ]
  },
  {
   "cell_type": "code",
   "execution_count": 40,
   "metadata": {},
   "outputs": [
    {
     "name": "stdout",
     "output_type": "stream",
     "text": [
      "Warning: Matrix is close to singular or badly scaled. Results may be inaccurate. RCOND =  2.776945e-22.\n",
      "\n",
      "\n"
     ]
    },
    {
     "data": {
      "image/png": "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",
      "text/plain": [
       "<IPython.core.display.Image object>"
      ]
     },
     "metadata": {},
     "output_type": "display_data"
    }
   ],
   "source": [
    "w_et = (K' * K) \\ (K' * y_train);\n",
    "y_opt = f(w_et);\n",
    "plot(X_train, y_train, 'r')\n",
    "hold on\n",
    "plot(X_train, y_opt, 'b')\n",
    "hold off"
   ]
  },
  {
   "cell_type": "markdown",
   "metadata": {},
   "source": [
    "## Sur les donnees de test"
   ]
  },
  {
   "cell_type": "code",
   "execution_count": 41,
   "metadata": {},
   "outputs": [
    {
     "name": "stdout",
     "output_type": "stream",
     "text": [
      "\n"
     ]
    },
    {
     "data": {
      "image/png": "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",
      "text/plain": [
       "<IPython.core.display.Image object>"
      ]
     },
     "metadata": {},
     "output_type": "display_data"
    }
   ],
   "source": [
    "% y de test\n",
    "y_test_predit = f(opt_omega);\n",
    "plot(X_train, y_test, 'r')\n",
    "hold on\n",
    "plot(X_train, y_test_predit, 'b')\n",
    "hold off"
   ]
  },
  {
   "cell_type": "code",
   "execution_count": 42,
   "metadata": {},
   "outputs": [
    {
     "name": "stdout",
     "output_type": "stream",
     "text": [
      "\n",
      "ans =\n",
      "\n",
      "   35.3553\n",
      "\n",
      "\n"
     ]
    }
   ],
   "source": [
    "% y_train_predit = f(opt_omega, X_train );\n",
    "norm(y_train_predit - y_train)"
   ]
  },
  {
   "cell_type": "code",
   "execution_count": 43,
   "metadata": {},
   "outputs": [
    {
     "name": "stdout",
     "output_type": "stream",
     "text": [
      "\n",
      "ans =\n",
      "\n",
      "   35.3553\n",
      "\n",
      "\n"
     ]
    }
   ],
   "source": [
    "norm(y_test_predit - y_test)"
   ]
  },
  {
   "cell_type": "code",
   "execution_count": 44,
   "metadata": {},
   "outputs": [
    {
     "name": "stdout",
     "output_type": "stream",
     "text": [
      "Warning: Matrix is close to singular or badly scaled. Results may be inaccurate. RCOND =  2.776945e-22.\n",
      "\n",
      "\n",
      "ans =\n",
      "\n",
      "    6.0760\n",
      "\n",
      "\n"
     ]
    }
   ],
   "source": [
    "w_et = (K' * K) \\ (K' * y_train);\n",
    "norm(opt_omega - w_et)\n",
    "w_et;\n",
    "opt_omega;"
   ]
  },
  {
   "cell_type": "markdown",
   "metadata": {},
   "source": [
    "## Utilisation des autres modèles\n",
    "\n",
    "$\n",
    "(1) \\quad f^*(x) = |x|, \\quad x \\in [-1, 1] \\\\\n",
    "(2) \\quad f^*(x) = 3\\|x\\|^3 - 2\\|x\\|^2 + 3\\|x\\|^2 + 3, \\quad x \\in [-1, 1]^3 \\\\\n",
    "(3) \\quad f^*(x) = \\sin(x_1 + x_2), \\quad x \\in [-2, 2]^2 \\\\\n",
    "(4) \\quad f^*(x) = \\frac{1}{3}(x_1 + x_2)^3 - \\frac{1}{4}(x_1 + x_2)\n",
    "$"
   ]
  },
  {
   "cell_type": "markdown",
   "metadata": {},
   "source": [
    "# Fonction 1)"
   ]
  },
  {
   "cell_type": "code",
<<<<<<< HEAD
   "execution_count": 26,
=======
   "execution_count": 21,
>>>>>>> 1d0e22a3fff49154e3985d2f1260a359ba9ad67b
   "metadata": {},
   "outputs": [
    {
     "name": "stdout",
     "output_type": "stream",
     "text": [
      "\n"
     ]
    }
   ],
   "source": [
    "addpath('C:\\Users\\pc\\Desktop\\Master-AIDC\\ML\\TP2');\n",
    "\n",
    "clear all;\n",
    "X = -1:0.01:0.99;\n",
    "X = X';\n",
    "X_train = X(1:2:end);\n",
    "X_test = X(2:2:end);\n",
    "% size(X_train)\n",
    "y_train = modele(1, X_train);\n",
    "% size(y_train)\n",
    "n2 = length(X_train);\n",
    "n = length(X);\n",
    "omega = ones(n2, 1);\n",
    "% size(omega)\n",
    "K = ones(n2, n2);\n",
    "  for i = 1:n2 \n",
    "    K(i, :) = noyau(X_train, X_train(i, :), 1);\n",
    "  end\n",
    "% size(K)  \n",
    "f = @(omega) arrayfun(@(i) sum(K(i, :) * omega), 1:n2);\n",
    "J = @(omega, y) 1/n * norm(f(omega) - y);\n",
    "% gradJ = @(omega) (1/n) * K' * ((K * omega) - y_train) + (2 * 0.01 * K * omega);\n",
    "gradJ = @(omega) (1/n) * K' * ((K * omega) - y_train);\n"
   ]
  },
  {
   "cell_type": "code",
   "execution_count": 27,
   "metadata": {},
   "outputs": [
    {
     "name": "stdout",
     "output_type": "stream",
     "text": [
      "Warning: Matrix is close to singular or badly scaled. Results may be inaccurate. RCOND =  4.398244e-21.\n",
      "\n",
      "\n"
     ]
    },
    {
     "data": {
      "image/png": "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",
      "text/plain": [
       "<IPython.core.display.Image object>"
      ]
     },
     "metadata": {},
     "output_type": "display_data"
    }
   ],
   "source": [
    "w_et = (K' * K) \\ (K' * y_train);\n",
    "y_et = f(w_et);\n",
    "plot(X_train, y_train, 'r')\n",
    "hold on\n",
    "plot(X_train, y_et, 'b')\n",
    "hold off"
   ]
  },
  {
   "cell_type": "markdown",
   "metadata": {},
   "source": [
    "### FONCTION 2)"
   ]
  },
  {
   "cell_type": "code",
   "execution_count": 178,
   "metadata": {},
   "outputs": [
    {
     "name": "stdout",
     "output_type": "stream",
     "text": [
      "\n"
     ]
    }
   ],
   "source": [
    "addpath('C:\\Users\\pc\\Desktop\\Master-AIDC\\ML\\TP2');\n",
    "\n",
    "clear all;\n",
    "% X = -1:0.01:0.99;\n",
    "% X = X';\n",
    "X1 = -1:0.01:0.99;\n",
    "X2 = -0.99:0.01:1;\n",
    "X3 = (X1 - X2);\n",
    "X = [X1', X2', X3'];\n",
    "X_train = X(1:2:end,:);\n",
    "% X_train = [X_train,X_train,X_train];\n",
    "X_test = X(2:2:end,:);\n",
    "% X_test = [X_test,X_test,X_test];\n",
    "% size(X_train)\n",
    "y_train = modele(2, X_train);\n",
    "% size(y_train)\n",
    "n2 = length(X_train);\n",
    "n = length(X);\n",
    "omega = ones(n2, 1);\n",
    "% size(omega)\n",
    "K = ones(n2, n2);\n",
    "for i = 1:n2 \n",
    "  % for j = 1:n2\n",
    "    K(:, i) = noyau(X_train', X_train(i, :)', 1);\n",
    "  % end  \n",
    "end\n",
    "% size(K)  \n",
    "f = @(omega) arrayfun(@(i) sum(K(i, :) * omega), 1:n2);\n",
    "J = @(omega, y) 1/n * norm(f(omega) - y);\n",
    "% gradJ = @(omega) (1/n) * K' * ((K * omega) - y_train) + (2 * 0.01 * K * omega);\n",
    "gradJ = @(omega) (1/n) * K' * ((K * omega) - y_train);\n"
   ]
  },
  {
   "cell_type": "code",
   "execution_count": 166,
   "metadata": {},
   "outputs": [
    {
     "name": "stdout",
     "output_type": "stream",
     "text": [
      "\n",
      "ans =\n",
      "\n",
      "   100     1\n",
      "\n",
      "\n"
     ]
    }
   ],
   "source": [
    "size(X_train * X_train(1,:)')"
   ]
  },
  {
   "cell_type": "code",
   "execution_count": 167,
   "metadata": {},
   "outputs": [
    {
     "name": "stdout",
     "output_type": "stream",
     "text": [
      "Warning: Matrix is close to singular or badly scaled. Results may be inaccurate. RCOND =  1.995308e-21.\n",
      "\n",
      "\n"
     ]
    },
    {
     "data": {
      "image/png": "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",
      "text/plain": [
       "<IPython.core.display.Image object>"
      ]
     },
     "metadata": {},
     "output_type": "display_data"
    }
   ],
   "source": [
    "w_et = (K' * K) \\ (K' * y_train);\n",
    "y_et = f(w_et);\n",
    "plot(X_train, y_train, 'r')\n",
    "hold on\n",
    "plot(X_train, y_et, 'b')\n",
    "hold off"
   ]
  },
  {
   "cell_type": "code",
   "execution_count": 179,
   "metadata": {},
   "outputs": [
    {
     "name": "stdout",
     "output_type": "stream",
     "text": [
      "\n",
      "ans =\n",
      "\n",
      "   4.8975e-15\n",
      "\n",
      "\n"
     ]
    }
   ],
   "source": [
    "alpha = 1;\n",
    "num_iterations = 1000;\n",
    "% err = zeros(1, num_iterations);\n",
    "while (norm(gradJ(omega)) > 10e-14 && i < num_iterations) \n",
    "  grad = gradJ(omega);\n",
    "  omega =  omega - (alpha * grad);\n",
    "  alpha = n2 * norm(-grad) ^ 2 / (norm(K' * -grad) ^ 2 / 2);\n",
    "  err(i) = J(omega, y_train);\n",
    "  hist_omega(:, i) = omega;\n",
    "  i = i + 1;\n",
    "end\n",
    "norm(gradJ(omega))"
   ]
  },
  {
   "cell_type": "code",
   "execution_count": 180,
   "metadata": {},
   "outputs": [
    {
     "name": "stdout",
     "output_type": "stream",
     "text": [
      "\n",
      "omega =\n",
      "\n",
      "    0.6126\n",
      "    0.6128\n",
      "    0.6129\n",
      "    0.6131\n",
      "    0.6133\n",
      "    0.6134\n",
      "    0.6136\n",
      "    0.6138\n",
      "    0.6139\n",
      "    0.6141\n",
      "    0.6143\n",
      "    0.6144\n",
      "    0.6146\n",
      "    0.6148\n",
      "    0.6149\n",
      "    0.6151\n",
      "    0.6152\n",
      "    0.6154\n",
      "    0.6156\n",
      "    0.6157\n",
      "    0.6159\n",
      "    0.6161\n",
      "    0.6162\n",
      "    0.6164\n",
      "    0.6166\n",
      "    0.6167\n",
      "    0.6169\n",
      "    0.6171\n",
      "    0.6172\n",
      "    0.6174\n",
      "    0.6176\n",
      "    0.6177\n",
      "    0.6179\n",
      "    0.6181\n",
      "    0.6182\n",
      "    0.6184\n",
      "    0.6186\n",
      "    0.6187\n",
      "    0.6189\n",
      "    0.6191\n",
      "    0.6192\n",
      "    0.6194\n",
      "    0.6196\n",
      "    0.6197\n",
      "    0.6199\n",
      "    0.6201\n",
      "    0.6202\n",
      "    0.6204\n",
      "    0.6206\n",
      "    0.6207\n",
      "    0.6209\n",
      "    0.6211\n",
      "    0.6212\n",
      "    0.6214\n",
      "    0.6216\n",
      "    0.6217\n",
      "    0.6219\n",
      "    0.6221\n",
      "    0.6222\n",
      "    0.6224\n",
      "    0.6226\n",
      "    0.6227\n",
      "    0.6229\n",
      "    0.6231\n",
      "    0.6232\n",
      "    0.6234\n",
      "    0.6235\n",
      "    0.6237\n",
      "    0.6239\n",
      "    0.6240\n",
      "    0.6242\n",
      "    0.6244\n",
      "    0.6245\n",
      "    0.6247\n",
      "    0.6249\n",
      "    0.6250\n",
      "    0.6252\n",
      "    0.6254\n",
      "    0.6255\n",
      "    0.6257\n",
      "    0.6259\n",
      "    0.6260\n",
      "    0.6262\n",
      "    0.6264\n",
      "    0.6265\n",
      "    0.6267\n",
      "    0.6269\n",
      "    0.6270\n",
      "    0.6272\n",
      "    0.6274\n",
      "    0.6275\n",
      "    0.6277\n",
      "    0.6279\n",
      "    0.6280\n",
      "    0.6282\n",
      "    0.6284\n",
      "    0.6285\n",
      "    0.6287\n",
      "    0.6289\n",
      "    0.6290\n",
      "\n",
      "\n"
     ]
    }
   ],
   "source": [
    "omega"
   ]
  },
  {
   "cell_type": "code",
   "execution_count": 169,
   "metadata": {},
   "outputs": [
    {
     "name": "stdout",
     "output_type": "stream",
     "text": [
      "\n"
     ]
    },
    {
     "data": {
      "image/png": "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",
      "text/plain": [
       "<IPython.core.display.Image object>"
      ]
     },
     "metadata": {},
     "output_type": "display_data"
    }
   ],
   "source": [
    "plot(1:i-1, err)"
   ]
  },
  {
   "cell_type": "code",
   "execution_count": 188,
   "metadata": {},
   "outputs": [
    {
     "name": "stdout",
     "output_type": "stream",
     "text": [
      "\n",
      "ans =\n",
      "\n",
      "    0.1417\n",
      "\n",
      "\n"
     ]
    },
    {
     "data": {
      "image/png": "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",
      "text/plain": [
       "<IPython.core.display.Image object>"
      ]
     },
     "metadata": {},
     "output_type": "display_data"
    }
   ],
   "source": [
    "min_err = 0;\n",
    "opt_omega = omega;\n",
    "min_err = find(err == min(err));\n",
    "% opt_omega = hist_omega(:, min_err);\n",
    "J(opt_omega, y_train)\n",
    "y_predit = K * opt_omega;\n",
    "plot(X_train, y_train, 'r')\n",
    "hold on\n",
    "plot(X_train, y_predit, 'b')\n",
    "hold off\n"
   ]
  },
  {
   "cell_type": "markdown",
   "metadata": {},
   "source": [
    "test"
   ]
  },
  {
   "cell_type": "code",
   "execution_count": 189,
   "metadata": {},
   "outputs": [
    {
     "name": "stdout",
     "output_type": "stream",
     "text": [
      "\n"
     ]
    },
    {
     "data": {
      "image/png": "iVBORw0KGgoAAAANSUhEUgAAAjAAAAGkCAIAAACgjIjwAAAACXBIWXMAAA7EAAAOxAGVKw4bAAAAB3RJTUUH6AEJCg0ti03ymwAAACR0RVh0U29mdHdhcmUATUFUTEFCLCBUaGUgTWF0aFdvcmtzLCBJbmMuPFjdGAAAACJ0RVh0Q3JlYXRpb24gVGltZQAwOS1KYW4tMjAyNCAxMToxMzo0NWWgSiwAACAASURBVHic7d1/bNT3fcfxNyYMkkyRRWN+KGt9JGAPmpUFV2ShWe9MTFQtZBoUlzVkvnOJRgO4bIombRXy+VZSOpQCrbMpFit3XpE7tipUowrKRvDdjFkhLJ2VhczgmPMQCamJTT2FFpzj9sfn+Po4/7qz7/v9fr7f7/OhKLLx4Xvb2N/XfT6f9+fznZFOpwUAALuV2F0AAAAiBBIAQBMEEgBACwQSAEALBBIAQAsEEgBACwQSAEALBBIAQAsEEgBACwQSAEALBBIAQAsEEgBACwQSAEALBBIAQAsEEgBACwQSAEALBBIAQAsEEgBACwQSAEALBBIAQAsEEgBACwQSAEALBBIAQAsEEgBACwQSAEALBBIAQAu6B1JXV1d/f/+YH+rp6Tl+/Phbb71lcUkAADPMSKfTdtcwrp6ennXr1u3bt6+mpibnQ7t27Tpx4kRVVdX58+fvvffeaDQ6e/ZsW4oEABTFXXYXMK7h4eEXXnjh/vvvH/2hd9999/Dhwx0dHaWlpSLy9NNPHz16dMOGDZbXCAAoGn2n7Pbu3fvEE09UVFSM/lBpaWlLS4tKIxFZtGjR+++/b211AIAi03SEdObMmdOnT7/66qtbtmwZ/dGFCxcuXLhQvd3X19fe3v7888+Pftif/MmfnDlzxtxCAcAhVq5c+cMf/tDuKiaiYyANDQ01Nja+8sorkz7yww8/DIVCW7duXbp06eiPnjlzpru724QC81VZWenxAnSowfYCdKiBAnSoQYcCbHz2fOg4Zbdnz55ly5b19fUlEomBgYF33nlnzH/Ft99+e926dXV1dWMOjwAAzqLjCKmsrOzcuXNtbW0icvny5UQicd999+Vk+6lTp3bs2PHiiy8++eSTNpUJACgmHQNpx44dxttbtmypra1Vbd9dXV3z5s1buHDhpUuXtm/f/t3vfvfxxx8fHh4WkZKSkpkzZ9pW8Ti2b9/u8QJ0qMH2AnSogQJ0qMH2AvSn9T4kuTOQ6uvrn3rqqQ0bNvzN3/zNwYMHsx+2adOmxsbGnL9r+4wtAOhD/0ui7oE0Hfp/9wHAMvpfEnVsagAAeBCBBADQAoEEANACgQQA0AKBBADQAoEEANACgQQA0AKBBADQAoEEANACgQQA0AKBBADQAoEEANACgQQA0AKBBADQAoEEANACgQQA0AKBBADQAoEEANACgQQA0AKBBADQAoEEANACgQQA0AKBBADQAoEEANACgQQA0AKBBADQAoEEANACgQQA0AKBBADQAoEEANACgQQA0AKBBADQAoEEANACgQQA0AKBBADQAoEEANACgQQA0ILbAymZlOpqEZFFi+wuBd4TiUgsZncRgGM4PpC6urr6+/snekQymfsGYA1+5IBCODuQenp6nn322a6urnEf4fOJiMTj4vNxdQAAnTk4kIaHh1944YX7779/ksepTAoEJJEwvygAwBQ5OJD27t37xBNPVFRUTPI4FUV+v8TjVpQFAJiSu+wuYIrOnDlz+vTpV199dcuWLRM8rLKycuX16w0ffXT6//6vgSk7AB7T3Nz88ssv211Fvhw5QhoaGmpsbNy7d++kj+zu7v5hR8fK+fMbtm9nDQmA1zQ0NHTfZnctk3NkIO3Zs2fZsmV9fX2JRGJgYOCdd96Z6HtttDMEAszaAYC2HDllV1ZWdu7cuba2NhG5fPlyIpG47777Kisrx/0LgYAkk+LzSSIhgYBldQIA8ufIQNqxY4fx9pYtW2pra2tqaib6CyqKfD6JxyUcNr0+AEDhHDllVzAVRX4/y0gAoC1HjpCytbS0TP4gv19iscyGJACAljwzQpKsUxsAAPrxTCCpWTsGSQCgK28EkpJMcoAQAGjLM4EUCEhfHwcIAYC2PBNIKoo48xsAdOWZQFJRpP5PJgGAfjwWSGoZiUACAP14JpDk9gFC9DUA8JpYTJLJdUNDmi+ieyyQuDESAA+KRETk0evXNZ8f8lIgGVGk9z8JABRZMik+38pf/Urz06W9FEjZfQ0A4BGxmMqhB4aHNT8cwEuBJJmXCdwYCYC3+HwSix257z6765iElwIpO4roawDgEWrt3Am8FEgiI/foY4QEwCPicdXSdfqee+wuZRLeCyRujATAU9RSRTx+5u677S5lEh4LJBVFei/rAUDRGHc5SCYvz5plczGT8VggGY12aqgEAO6mTgNQs3ba814g0dcAwDtUR4NDZoY8FkiS1dfAMhIA1zNefzuh0c6TgURfAwCPMKbsGCHpyBi9EkgA3E1d5Yy1c+15L5DUvwp9DQBcLx6XUGgklrTnyUAyoohBEgAXSyQyl7tQyO5S8uK9QFJUX0Nfn911AICZysszseQEngwktcTHjZEAuJux/ai83OZK8uPJQKKvAYAX3D40yBG7YsWjgURfAwDXi8UyS0cOabET7wYSUQTA3dQauRFLTuDJQFJUXwMHCAFwpWRS/H5ntW55NZDUjCp9DQDcSi0dqVhyCK8Gkooi+hoAuJXTOhrEu4GUfZYGgyQALhOLZXLIOR0N4ulAUq8dnPNPBQAF8Pmc1dEg3g0kRZ2DS18DAJdR95twVEeDeDqQVBTR1wDAfRzY0SCeDiT6GgC4lQM7GsTTgcR5DQBcyZkdDeL1QOI+FABcyYEdDaJzIHV3dx8/fjw5flQkk8njx4+/++67U38Ony9zXkNr69Q/CQBoxZkdDaJtIO3bt6+hoeGNN9547rnnWlpaRj8gGo1u2rTp9ddf//M///OdO3dO8WnUCEkd/g0A7uDMjgYRucvuAsZw4cKFgwcPdnR0lJaW9vf3+/3+2trauXPnGg+4devWSy+99JOf/GTJkiVDQ0OPPfbYpk2bli5dWvAzBYMSizlrjhUAJmF0NITDdpdSGB1HSA899NCRI0dKS0tFZNasWalUanh4OOcx6XR6zpw5InL33XeXlJTcvHlzik+m/uXoawDgDo7taBA9R0glJSWLFy9OpVI//vGP29ratm3bNn/+/JwHhMPhrVu31tTUnDp1auPGjcuXLx/zU1VWVqo3tm/f3tDQkPthny9z91hjMQkAnC6ro6G5ufnll1+2u6B86ThCUgYGBm7cuDFv3rzOzs5r167lfPTs2bP33HNPWVlZaWnpe++9d/369TE/SfdtY6SRwvZYAG5yZ0dDQ0ODcRm0t6586BtIZWVldXV1Bw4cmDNnTuudXXAnTpz4+c9/3tbW9swzz6iWh4MHD07xaVQUqQVAAHA6x3Y0iJ6B1Nvbe+jQIePdBQsWXLlyJfsBg4ODFRUVM2fOVO+Wl5dfunRpik9mnNRAIAFwAWee0aDoGEipVGr37t29vb0icvXq1ZMnT65Zs0ZEurq6PvjgAxFZtmxZZ2enesDQ0NDZs2dXrlw5xSczAkktJgGAczm5o0H0DKQlS5bs3Llz/fr1mzdvrqmpqaurW716tYjs37+/s7NTRJYuXfrNb37zK1/5SjAYXL169Re+8IUvf/nLU38+Nbzl2G8ALuDMMxqUGel02u4azFJZWZnXOl4kIiLi90skIu3tZlcFD6mvF7/foZcGOJL6kevrk2RSotGcD+Z7SbSPjiMkq3HsNwB3cHJHgxBIIlm3M08mySQADubkjgYhkERu34eC5m8AjubwjgYhkDLUPx59DQAczckdDUIgZXBeAwCnc+xdJwwEkojQ1wDA+Rze0SAEUobR18Cx3wAcyuEdDUIgZWRHEctIABzHWDpybEeDEEgj1DISBwgBcKJEwukdDUIgjVDLSNzOHIATJZNSXp7pa3AsAum27O2xAOAsaunI4RM8BNJtxkkNzv9HBeAt6pKlLmJM2bmEak1heywAZ1E5pPauOBmBlIXtsQCcSF241ASPkxFIWdgeC8CJ1AKSwzsahEC6A9tjATiR87fEKgRSFrbHAnAc5x/ybSCQ7sT2WACO4/wtsQqBdCe2xwJwFucf8m0gkO7E9lgAzuL8Q74NBNKd2B4LwFnc0tEgBNIY2B4LwClccci3gUAahe2xAJxCvW52RUeDEEhjYHssAAfx+zP3nnA+AmkUtscCcAq1CSkel/Jyu0spAgJpFLbHAnAEtxzybSCQxqKWkYJBRkgA9KVyyDipwfkIpLGoZSTV2g8AejJOU3XFApIQSGMzlpFEGCQB0JRbDvk2EEhjMZaR3PK6A4ALuWhLrEIgjU+dshqJ2F0HAIziri2xCoE0jnCYU1YB6EvtPXLLlliFQBpH9imrZBIA3ai9Ry5aQBICaVxqCKxOWSWQAOhG9Xy7aAFJCKSJ+HyZZSS2xwLQiovuEpuNQBqfOpDD75dYzO5SAOBOrltAEgJpIsGgy159AHAJtXTkuskbAml8xoHfnLIKQCsuuktsNn0Dqbu7+/jx48nxGwoGBgZOnDhx+vRpE4tQ/+QsIwHQiuu2xCqaBtK+ffsaGhreeOON5557rqWlZfQDEonE2rVrX3vttZdeeunZZ5+9deuWKXVwsz4AulFLR8ZR3y5yl90FjOHChQsHDx7s6OgoLS3t7+/3+/21tbVz5841HpBKpf7qr/5q//79K1euFJG1a9f+67/+65e+9KXil+L3S319ZjEJAHSgXiW75ZYT2XQcIT300ENHjhwpLS0VkVmzZqVSqeHh4ewHJBKJBx54QKWRiPz0pz81JY2Em/UB0I/rzlQ16BhIJSUlixcvTqVShw8fDgaD27Ztmz9/fvYDBgcHP/3pTzc2Ni5fvnzFihU/+MEPxvtUlbc1NzdPpRSfL9P8zTISAE0UsoDU3NxsXAbNr2y6dAwkZWBg4MaNG/Pmzevs7Lx27Vr2h3p6el5//fXPfvazXV1dP/rRj1555ZWTJ0+O+Um6b2toaJhiHSwjAdBHgWeqNjQ0GJdBkysrAn0DqaysrK6u7sCBA3PmzGltbc3+0Gc+85ny8vKNGzeKSGVl5Zo1a1577TWz6lBRZLSAA4CN3HimqkHHQOrt7T106JDx7oIFC65cuZL9gE996lPZ75aUlJSUmPaFGDdGYhkJgO3ceKaqQcdASqVSu3fv7u3tFZGrV6+ePHlyzZo1ItLV1fXBBx+ISHV19cDAQHt7u4gMDAx0dHQ8/fTTZlXDMhIAfbjxTFWDjoG0ZMmSnTt3rl+/fvPmzTU1NXV1datXrxaR/fv3d3Z2isisWbNefvnlv/7rv/7jP/7jJ598cuPGjY8++qiJBbGMBEAHbrwpXzYd9yGJyFe/+tWvfvWrOX8YjUaNtz//+c+rEZIV2I0EQAd9fSLi1gUk0XOEpB12IwHQgbr/gEsXkIRAygvLSAB0oK5CLl1AEgIpXywjAbCXuimfMWHjRgRSftRt+tiNBMAufX0u3oGkEEj54d5IAOyl7n6kNsa6FIGUH7WMxL2RANhFTdmpvgaXIpDyFghIayvLSABsEIuJ3J6qcWlHgxBIBeBQOwA2CoXcvYAkBFIBWEYCYBfV5ev29QICKW8sIwGwi7EDyb0LSEIgFYZlJADWi8cze49cvYAkBFJhgkGWkQBYTZ3wbWyMdS8CqRAqioz7BwOABYwFJFenkRBIBVMLSGruDgAs4I0FJCGQChYOZ34sGCEBsEAsNrKA5OqebyGQCmacbJhMkkkArOCBHUgKgVQgdVck1etCawMAs3lmAUkIpKlQy0jBIMtIAEzngSPsDARS4dQCEiMkAGbLvgeSq3cgKQRS4bijOQBreOAeSNkIpMIZUcQZQgBMpWbq1DKSBxBIU8IZQgAsEI9LKJR5+esBBNKUcCsKAGYzZurUGoEHEEhTojoaOEMIgHnUioBnFpCEQJo6zhACYKp4XIJB7ywgCYE0derkb5aRAJhEtXp7ZgFJCKSpU7N2nCEEwAzeW0ASAmnqOEMIgHnUTJ2XFpCEQJoWzhACYBJjp6NnFpCEQJoW9fqFERKAolMzdeoK4xkE0jRwA1kAZlAzdbFYZmnAMwikafD5MsMjmr8BFJFxywkvDY+EQJqucJgzhAAUmXHLiWDQ7lIsRSBNT3ajHZkEYPqMmTpv3HIiG4E0PZz8DaC41Eydxxq+FQJp2tQCUjjMCAlAEXjvxCADgTRtnPwNoIi8d2KQgUCaNk7+BlAsRsO3l04MMugbSN3d3cePH09ONuzo6urq7++3pKLxcfI3gKIwZuq8t4Ak2gbSvn37Ghoa3njjjeeee66lpWW8h/X09Dz77LNdXV1W1jYGtYCkzv8GgClTM3VqM4n33GV3AWO4cOHCwYMHOzo6SktL+/v7/X5/bW3t3Llzcx42PDz8wgsv3H///bYUeQe1gJTdcQcAhTJm6uJxaW+3uxob6DhCeuihh44cOVJaWiois2bNSqVSw8PDox+2d+/eJ554oqKiwvICR6H5G0BRqAUkT87XiZ6BVFJSsnjx4lQqdfjw4WAwuG3btvnz5+c85syZM6dPn/7GN74x8aeqvK25udm0ekVEJBiUSCRz3CoATIGaqStqw3dzc7NxGSzW5zSPjoGkDAwM3LhxY968eZ2dndeuXcv+0NDQUGNj4969eyf9JN23NTQ0mFapiHC/PgDTFo9LKFTcaf+GhgbjMlisz2kefQOprKysrq7uwIEDc+bMab2ze23Pnj3Lli3r6+tLJBIDAwPvvPOO/d/r7KM+mLUDUChP3iI2h46B1Nvbe+jQIePdBQsWXLlyJfsBZWVlH3/8cVtbW1tb2+XLlxOJxKlTpywvcxSObAAwZZ68RWwOHbvsUqnU7t27V61a9eCDD169evXkyZPf+ta3RKSrq2vevHkLFy7csWOH8eAtW7bU1tbW1NTYV+9twaBUV0s4zJENAAoWj0s4LPX1XjvhO5uOI6QlS5bs3Llz/fr1mzdvrqmpqaurW716tYjs37+/s7PT7urGZ8zacWQDgIJkN3x7eIQ0I51O212DWSorK61eW4pERETKy6W11ZvbCHCH+nrx+718fUG+6utFJNNiF42a9CQ2XBILpOMIycHUFLDquAOAPHn4hO9sBFJRqSk7Zu0AFEQ16KqXsx5GIBWVzyehkCQSmX2yADAp44TvQMCzDd8KgVRs6ohVZu0A5Mk4oMHbaSQEUvGpyTpm7QDkyTigIRy2uxSbEUjF5vNlhkfcHgnApDigIQuBZIJwWFpbuT0SgMlxQEMWAskEObdHAoDxePuOfDkIJBOoKFI9M8zaARgPBzTciUAyB7N2ACaVSHj8jnw5CCRz0GsHYFKqs87zBzQYCCRzqF67RIJZOwBjM16zev6ABgOBZBp1YyRm7QCMqbV1ZL7O8w3fCoFkGmbtAEyAA1VHIZBMw6wdgPGoV6scqHonAslMzNoBGFMyyXzdaASSmZi1AzCmSIT5utEIJDNxNwoAY2K+biwEksmCQe4hC+AOxg2QmK+7E4FkMu4hCyAH83XjIJBM5vNJU1PmGCFm7QDI7fk6dawqshBI5uMesgAMxnydOoUZWQgk86kfOzVrxyAJ8DjjhuXBoN2laIdAsoSarwuHJRazuxQAtjJuWM583SgEkiXUfJ0antPaAHgW83UTIpAsYdw9NhTiGCHAu4z+OubrxkIgWYVb9gEex/l1kyGQrMIxQoDHcb+JyRBIVuEYIcDj1FHLqssOYyGQLMQxQoBnxWIj+2FDIbur0RSBZKFAYGRDEv3fgKckEiPzdRgHgWQtNWBXDQ4AvCMez/ziM183PgLJWmrArsZJtDYAHmFsPGK+bkIEkrXYkAR4kOpmYr5uMnfZXYD3hMNSXy/t7VJdbXcpACwRi0k4LNXVEo3aXYrWGCFZjtYGwFPUwEjdF439sBMikOxgtDawIQlwPdXIoHbFYkIEkh2M1gZObQBczzjeOxy2uxTd6RtI3d3dx48fT46/h7Snp+f48eNvvfWWhUUViRFFgQCtDYCbRSKZ7Udqrh4T0rSpYd++fceOHauqqvrOd75TW1u7ZcuWnAfs2rXrxIkTVVVV58+fv/fee6PR6OzZs20pdYpobQC8IBaTaDRzyDcmo2MgXbhw4eDBgx0dHaWlpf39/X6/v7a2du7cucYD3n333cOHD6sHiMjTTz999OjRDRs22Fdy4XJaG5hcBtxHbT8KBKS6Wtrb7a7GAXScsnvooYeOHDmiwmbWrFmpVGp4eDj7AaWlpS0tLeoBIrJo0aL333/fhkKnybiNLK0NgCux/ahAOgZSSUnJ4sWLU6nU4cOHg8Hgtm3b5s+fn/2AhQsXrlq1Sr3d19fX3t6+Zs2aMT9V5W3Nzc2m110o4zaytDYArqSWjmydr2tubjYug3bVkD8dp+yUgYGBGzduzJs3r7Ozs66uzhgPZfvwww9DodDWrVuXLl065ifp7u42ucxpUGN59cMaibBBAXAVNTBSrzXt++1uaGhoaGhQb+ufSTqOkJSysrK6uroDBw7MmTOndaxWtLfffnvdunV1dXXPP/+89eUVRzic6bXjaDvAZdQdohMJur3zp2Mg9fb2Hjp0yHh3wYIFV65cyXnMqVOnvva1rzU1NdXX11tbXVFxtB3gSvF45rUmdysvhI5TdqlUavfu3atWrXrwwQevXr168uTJb33rWyLS1dU1b968hQsXXrp0afv27d/97ncff/xx1e9QUlIyc+bMMT+bCiy1WCMiPp+Ul2fekNuJYCf6v90rKT6x++cL9uBu5VOiYyAtWbJk586d69evr6qq+s///M/nn39+9erVIrJ///6nnnpqw4YNbW1tH3/88de//nXjr2zatKmxsXHMzxYMSjIpfr/09WVOk4rHM7dsNTbdGj8wRj5Zl1v0f7tXRMJ+kZDdZcAGsZhcvMhpqoWakU6n7a7BLJWVlZM2NWQnk/q/yq3sP8w+LCInn4qTW7FY5mi7+nq5eLHwvw9N1deL389rDO+JxSSREL9fIhGtfqPzuSTaS8cRkpWMIJnYeLll9CJMK7cCAamvl3B45DwhAM4ViUg0mnmViUJ4PZDyZHJu+Xy+don4RKL+SFyS5s8TAjCJuqeMOp2B+boCEUjFVFBuSVY+9fUFkk0xCYVa4wGJJJPiG3O8lf1/Y8iV55MCsILq81ZnqqJABJINsnsoRiQTIgkJ+6W1VR17NVZuZd6YeJ5QxsotYcgFWECdprpoEcOjKSCQtKHucKxeW8XjEgiMnVtjyem/ILcAexg3m1DnsKBABJI2jJOEVCYV8tNc6BKXkU+JhMiEuSW2tMIDDhWLSXu71Ndzs4mpIZB0MmqQVNxPPzq3xpzlHp1bmm7hArSiBkbq94SbTUwJgaQT4yShcFhaW+0a8pvRUkhuwf3U4XWtrdLUZHcpTkUgaSYazdzLy5xBUhFpsYUL0IQ6vE7N1+m0GdZZCCTN6DFIKiJrcktE/P6x/xywgtoMq5oa+OGbKgJJP9mDJONQWLebxhauzBvqtPSCWgrZwoXiMNaNZsxgeDQdBJJ+jEGSarpjN0OWPFvh2cIFS0Ui0tTE2d7TRyBpyRgkVVdrvpKkJ7ZwwVKc7V0kXj/tW1/19ZmrXSLBT7ntxtvCNfGR8GrCVf1HbrmWmlr3j5yxoi39L4kEkq6SyZFBUjTKIMkRcvKptXUkeIw/pBXebdS6kTqwX+/fU/0viQSSxtTNbp3wygtjGu9+SAXdhYvc0pqutz4ak/6XRNaQNKYOblBnkLCS5CJs4XIPo9ubWx8VA4GkMZ8vsxspGGS3nQexhUt36qwgEc4KKhYCSW+q8zsYHGkEB+7EFi7bGMMj2o6KhEDSmxokqQkBBkmYBrZwFZkxPEomuRdfsRBI2gsEMq9gfT6mqmE2tnDli9UjExBI2lODpPr6TAu4mr4D7FboEpercisWy8yfMzwqKgLJCQIB8fmktVVCISas4SxTyy3J2nqs4124GB6Zg0ByCHWYUDQqsRjdDXCf0bk18d0jjf/bcBcuhkemIZAcwmgBj0bpboBnabGFi+GRaQgk56C7AciPibmVTPp87b5Wn8ST4gv573w6Lda3nIxAcg66G4CimsoWruqIhMJ9TZFkKCyTbeHKnjNkC1c+CCRHCQQy4yS6GwCrjORKpF5CIuVxCcQlmjtFwRau6SOQnEYNkoJBicczNwQDYIFkUmIxSadl0aIxXwuyhWv6CCSn8fkkGJRIJDNxpzrCAZitvj7Ty6AmKqbBri1c+iOQHCgUkkRCWltHlpSgpaDERAIiPpvrwPSpzVCBgCxaZFmP6zS3cOXkls8nyaTW954QAsmpjIk7ESbutBWQhIiIhOwtA0Wglmzr66WpSbexRp5buESksrJSROtMIpCcKafjjok7wDyxWOaNZJLtFqYqsbsATJWayDYOAgdgEvVbRl+r+RghOZmKInV7NbbK2sVYaO7ry7xrzOXH4xKPSyQiMqoHy+/PdEcxtNVcfb2EQpl/U47sMhmB5GQ+38gZd5GI+P38wlhBRU4ikckbg0oXNX1aXp5JmkAg84pBXdGME0ONWSAjlvx+1gK1o/6J29ut7GXwshnpdNruGsxSWVnZ3a31Cl5xxGIjXeDt7bziNks8nhtCPl8mQsZ7KaDGr+PFjDqgJpEYOanG+Jy8ttBEdXVmsi4QcMEMhP6XREZIzhcKSV/fyGISXeBFlExKa2vugKapqTiBobJHxVV2ODU1ZT4aCEgwSDLZJhIZeXnn/DRyBAcHUnd396VLlxYvXuxjTBAMZl6Mc+5qUagcGj0YMu/8wJxwUs8ei2Xuk00yWU+9Mhj/XAaYwalTdvv27Tt27FhVVdWbb75ZW1u7ZcuW0Y/Rf3xaTMlkZmdSa6s7phfsEYnkjodCoal/MyeespuUSiY1YJp+MSiIOr9Yrfm5JZAccElMO9D58+cffvjhwcHBdDr9i1/8YunSpR999NHoh1VUVFhemq0uXkz7fOn29nQgkG5vt7saR7l4Md3UlBbJ/OfzpZuaivBpQ6F0NFqE2qLRdCAwUlsoxL+vuZqaMr9EPp/dpRST/pdERwZSKpW6cOGCentwcLCiouLKlSujH6b/d7/4otG0z5dJposXqrvwzgAADjhJREFU7a7GCZqa0j7fHTlUxO9bUQLJMDo1i/jJYWhvT4ukL15Mi7gs+PW/JDpyY2xJScnixYtTqdThw4eDweC2bdvmz58/5iMrb2tubra4SHuodYj6egmHpbr6jsMXkS2ZlEhEZsyQpiZJJjOtChcvSjisb5uiOp7j4sXM6TVqknbRosw+JxSL6llVpwQ5f92uubnZuAzaXcvknLqGJCL9/f3Hjh3r6OgYGhpqaWkpLS3NeYADJkxNohZCfD6Jxdg8kUtFkbFK1NRkYqvCNNeQJqC68lTvg7C8VDzq0BO/X1pb3dewqv8l0cGBZAgGgytWrNixY0fOn+v/3TeLWgw33nbLkux0qRwyjj624ApuXiAZYjFiqWji8czGCbUNVtux8lTpf0l05JRdb2/voUOHjHcXLFhw5coVG+vRjrpnkvG2x0+6m2B2zgVCIWlvl4sXJRDIdCoziTc1yWTm0BOVSa5LI0dwZCClUqndu3f39vaKyNWrV0+ePLlmzRq7i9IMmSS3o2jRokzndCAgFy+6J4qy+XzE0nSpRSM1teD8pSOHcmQgLVmyZOfOnevXr9+8eXNNTU1dXd3q1avtLko/Xs4kY8FfRZEaErn+ZW9OLMVixFK+jKWjZNJ9S0cO4oY1pPHoP2Fqhez1pFjM/RdltQxg5ULRBCxYQxqPOuHQ+D6Ew5zcOi51Irs6ecvVTUD6XxIdOUJCAYxxUiwmgYCbe8HV7Jz6Al22UDQFam0pGs00iKtvTvbZ5FDUKxjj1HzYikDyAOMFcjye2Z9kND27wOiehWjU01FkUAPE9vbMd0ZEqqtHho+QUY0MLB3ZjUDyjHA4c9ukUEhaW92wtDBezwJzU9mM7bTq2xKLSXX1yGyex6kcUneXII00QCB5SSAg7e2ZA6Sz11ocJ7tnwZidc/3y2HRkn/Kg2vBULHmZOj5VfRMYT+uBQPIY1YilAknEYdN3xpBo0aJMrOp/3o9WjFiiDa+6WgKBzGHetNVpg0DyHnVVikYlmZRAQCIRB1ySsmfnWCiaJqM7XPU7qE1LDnpdMn3V1ZlXMDR5a4ZA8qpQKNNTpE5F0/OVcvaQKHt2joWi6VOxpNrw1H0dPdKGZ2w5isdJI90QSB6mxhlqqKROYtXnkjR6SMTsnBlUG55az1ctZ/X1uvwMmEHtCggEXHl2qgsQSJ6n1SXJ6OEePSRids4kagpXdYeLSCwm9fUObniZgJqpUwuopJGWOKkBt6kzHbLPw7Zse//opw6FxO93fCeujSc1TE32TdPVv4J59+awkmrLDAQyr7S8mkb6XxIJJNxp9I12AgEJBoufDeqJ+voylz9xUQ4ZHBdIistiKTuN1DS1V+l/SSSQMI54XBKJO0YtgcB0L69GCMXjI7OC7sshg0MDSXFHLMXjUl0tTU3S1CTRqFP/LYpE/0sigYTJqAtTToSocFJvq/9G/y2RTPyoN7L/uvEZ3BdC2RwdSEr2DXYdF0uqcjU2ikZd/sOWB/0viQQS8mZkTCIx8rbBuEhlL4arP1TxIyLl5c6+OhfKBYGk5IyWTJrFLSI1TWfw6qJRDv0viQQSpm3MdiynvIg2lWsCScmOJZHMaEnDWDIGRrGYNDXRn2nQ/5J4l90FwPnIHo9QjZfBYKYlUv2n1c2W1AmNIpnebnUaBZyDfUgACmHsW1KrMsZBt/buqFVrXcaZQOrod9LIaQgkAIUzbrZknCCubmxh/RlUY96FhGk6ZyKQAEyDcYK4MWBSp7XW15t+YGv2XUhEpKlJ0mmiyNEIJADTlj1gUge2qiOI1MG4kUgxZ/Oyz5cy7kJCFLkCTQ0AikclUyiU2QSt9lZn94v7fFPZf6Ya/ERceL4UshBIAExgJJM6Tt7YvmbM4xlbqo0d1tmSyXG3VJND7sU+JMA06vA0er2yZW+pVjdsVX+Ss5vN+KYZW6qN7dWYKv0viQQSAHiC/pdEmhoAAFogkAAAWiCQAABaIJAAAFogkAAAWiCQAABaIJAAAFogkAAAWiCQAABaIJAAAFogkAAAWiCQAABaIJAAAFogkEzU3Nzs8QJ0qMH2AnSogQJ0qMH2AvSn7+0nenp6ksnk3LlzV6xYMeYDkslkT0/PAw88sHTp0jEfYPtZ6xSgQw22F6BDDRSgQw0UMClN7xi7a9euEydOVFVVnT9//t57741Go7Nnz85+QDQa/fu///tVq1a9/fbbn//853ft2mVXqQCAotAxkN59993Dhw93dHSUlpaKyNNPP3306NENGzYYD7h169ZLL730k5/8ZMmSJUNDQ4899timTZvGGycBABxBx0AqLS1taWlRaSQiixYtev/993Mek06n58yZIyJ33313SUnJzZs3R3+elStXVlZWml3txChAhxpsL0CHGihAhxrsLWDlypU2Pns+9F1DUvr6+tauXftP//RPOQOgw4cPHzp0qKam5tSpU7/zO7+zc+dOuyoEABSF1l12H374YSgU2rp16+jpuLNnz95zzz1lZWWlpaXvvffe9evXbakQAFAs+gbS22+/vW7durq6uueffz7nQydOnPj5z3/e1tb2zDPPtLS0iMjBgwftqBEAUDQ6riGJyKlTp3bs2PHiiy8++eSToz86ODhYUVExc+ZM9W55efmlS5esLRAAUGQ6jpAuXbq0ffv2PXv2VFdXDw8PDw8Pp1IpEenq6vrggw9EZNmyZZ2dnb29vSIyNDR09uxZ/RfrAAAT0zGQ2traPv74469//esP3/biiy+KyP79+zs7O0Vk6dKl3/zmN7/yla8Eg8HVq1d/4Qtf+PKXv2x31QCAadG9yw4A4BE6jpAAAB5EIAEAtDCzqanJ7hrM1dHRUV5ebs1zXbp06c033xweHr7//vvHfEAymTx79uyNGzfKysrsqmFgYOA//uM/fvGLX/zWb/2WLQUoXV1dM2fOvPfee22poaen56233rp27drChQvNKCD/Sqx/Rgu+dtt/Bmz/LcinBguuBqNZeT2cApcH0t/93d9973vf+9rXvmbBcx09evTP/uzPbt68eeDAgWvXrv3e7/1ezgOi0ejOnTtv3rz5D//wD//zP/+zevVq62tIJBKbN2/+9a9/fezYsX/5l3/5oz/6oxkzZlhZgNLT07Nx48bf/d3fffDBB4v47HnWsGvXru9///vXr19/9dVXjx49unbt2rvuMmX/Q57fDSuf0YKv3fafAdt/C/KpwYKrwWhWXg+nKO1Sg4ODf/mXf/nII488/vjjFjzdJ5988sgjj1y4cCGdTn/00UfLly+/ePFi9gNSqdSyZcvOnz+fTqd/+ctfLlu27Ny5cxbX8Mknnzz22GOnT59W7z711FPHjh2zsgDl5s2bf/iHfxgIBP7t3/6tiM+eZw3nzp17+OGHBwcH1btr167953/+56KXkU8l1j+jBV+77T8Dtv8W5FODBVeDHBZfD6fMtWtI+/fvnzt37re//W1rnu7f//3fS0tLFy9eLCJz58794he/ePLkyZzHpPM4ENbUGhKJxAMPPGDs2frpT3/6pS99ycoClL179z7xxBMVFRVFfOr8a8jn6F5rKrH+GS342m3/GbD9tyCfGsT8q0EOi6+HU+baQGpsbPyLv/iLu+++25qnu3bt2m//9m8b7/7mb/7m+fPnsx9QUlISDoe3bt36ve9979lnn924cePy5cstrmFwcPDTn/50Y2Pj8uXLV6xY8YMf/MDiAkTkzJkzp0+f/sY3vlHcp86/hoULF65atUq93dfX197evmbNGlsqsf4ZLfjabf8ZsP23IJ8aLLga5LD4ejhlrg2kkhJLv7RUKpX9jCUlJbdu3cp5jNkHwk5aQ09Pz+uvv/7Zz362q6vrRz/60SuvvFLc1+yTFjA0NNTY2Lh3794iPmmhNRgmOLrX4kqsf0bzvnbbfwZs/y3Ipwax/Hhoi6+HU+aMKvOxa9euFStWrFix4vd///etf8bZs2er842UW7du5awVm3QgbEE1fOYznykvL9+4caOIVFZWrlmz5rXXXrOygD179ixbtqyvry+RSAwMDLzzzjtFuaFyQTUoExzdWyx5VmL9M5r6tdv1M5B/AWb8FhRaA8dDj0fTw1Wn4JlnnlGdKmb/2o/5jOl0+r//+7+NDw0ODv7BH/xB9oNNOhC2oBo+9alPZb9blBdNBRVQVlZ27ty5trY2Ebl8+XIikbjvvvumf8uygmqQyY7uLZZ58+ZNWon1z2j21z5pDSb9DORfgBm/BYXWwPHQ47Kzo8J88Xjcmq6SVCr1+OOPx+PxdDp9/vz5z33uc/39/el0+r/+67/ef//9dDp97ty5z33uc++99146nf7lL3/51FNP/fjHP7a4hps3bz766KMnTpxIp9MfffTRF7/4xZ/97GdWFpDtT//0T83ospu0hv/93/995JFHTpw4cfO2Tz75pOhlTFCJeXT42m3/GbD9tyCfGiy4GozJsuvhlBFIRfOzn/1s1apVdXV1VVVVRiNpKBQyOmv/8R//saqqSj3g29/+ti01vPnmm4FAYOPGjVVVVX/7t39rfQEGkwJp0hq+853vVNwpEomYUcZ4lZhKh6/d9p8B238L8qnBgqvBaPoHEoerFtn169fnzJkz3jzArVu3fv3rX8+ePdsYrVtfg4j86le/+o3f+A3zapi0AAvoUINdlejwtdteg+2/BZPWYM3VwFkIJACAFux//QgAgBBIAABNEEgAAC0QSAAALRBIAAAtEEgAAC0QSAAALRBIAAAtEEgAAC0QSAAALRBIAAAtEEgAAC0QSAAALRBIAAAtEEgAAC0QSAAALRBIAAAtEEgAAC0QSAAALRBIAAAtEEgAAC0QSAAALRBIAAAtEEgAAC0QSAAALfw/AWsPVpw2wjAAAAAASUVORK5CYII=",
      "text/plain": [
       "<IPython.core.display.Image object>"
      ]
     },
     "metadata": {},
     "output_type": "display_data"
    }
   ],
   "source": [
    "K2 = ones(n2, n2);\n",
    "for i = 1:n2 \n",
    "  % for j = 1:n2\n",
    "    K2(:, i) = noyau(X_test', X_train(i, :)', 1);\n",
    "  % end  \n",
    "end\n",
    "  y_test = modele(2, X_test);\n",
    "\n",
    "y_test_predit = K * opt_omega;\n",
    "plot(X_test, y_test, 'r')\n",
    "hold on\n",
    "plot(X_test, y_test_predit, 'b')\n",
    "hold off"
   ]
  },
  {
   "cell_type": "markdown",
   "metadata": {},
   "source": [
    "# Fonction 3)"
   ]
  },
  {
   "cell_type": "code",
   "execution_count": 237,
   "metadata": {},
   "outputs": [
    {
     "name": "stdout",
     "output_type": "stream",
     "text": [
      "\n"
     ]
    }
   ],
   "source": [
    "clear all;\n",
    "X1 = -2:0.02:1.99;\n",
    "X2 = -1.99:0.02:2;\n",
    "X = [X1', X2'];\n",
    "% X = X';\n",
    "X_train = X(1:2:end, :);\n",
    "X_test = X(2:2:end, :);\n",
    "% size(X_train)\n",
    "y_train = modele(3, X_train);\n",
    "% size(y_train)\n",
    "n2 = length(X_train);\n",
    "n = length(X);\n",
    "omega = ones(n2, 1);\n",
    "% size(omega)\n",
    "K = ones(n2, n2);\n",
    "for i = 1:n2 \n",
    "  % for j = 1:n2\n",
    "    K(:, i) = noyau(X_train', X_train(i, :)', 1);\n",
    "  % end  \n",
    "end\n",
    "% size(K)  \n",
    "f = @(omega) arrayfun(@(i) sum(K(i, :) * omega), 1:n2);\n",
    "J = @(omega, y) 1/n * norm(f(omega) - y);\n",
    "gradJ = @(omega) (1/n) * K' * ((K * omega) - y_train) + (2 * 0.0001 * K * omega);\n",
    "% gradJ = @(omega) (1/n) * K' * ((K * omega) - y_train);"
   ]
  },
  {
   "cell_type": "code",
   "execution_count": 238,
   "metadata": {},
   "outputs": [
    {
     "name": "stdout",
     "output_type": "stream",
     "text": [
      "\n",
      "ans =\n",
      "\n",
      "     1     2\n",
      "\n",
      "\n"
     ]
    }
   ],
   "source": [
    "size(X_train(1, :) .* X_train(1, :))"
   ]
  },
  {
   "cell_type": "code",
   "execution_count": 239,
   "metadata": {},
   "outputs": [
    {
     "name": "stdout",
     "output_type": "stream",
     "text": [
      "Warning: Matrix is close to singular or badly scaled. Results may be inaccurate. RCOND =  1.518757e-21.\n",
      "\n",
      "\n",
      "ans =\n",
      "\n",
      "    0.3310\n",
      "\n",
      "\n"
     ]
    },
    {
     "data": {
      "image/png": "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",
      "text/plain": [
       "<IPython.core.display.Image object>"
      ]
     },
     "metadata": {},
     "output_type": "display_data"
    }
   ],
   "source": [
    "w_et = (K' * K) \\ (K' * y_train);\n",
    "y_et = f(w_et) + 0.1;\n",
    "J(w_et, y_train)\n",
    "plot(X_train, y_train, 'r')\n",
    "hold on\n",
    "plot(X_train, y_et', 'b')\n",
    "hold off"
   ]
  },
  {
   "cell_type": "code",
   "execution_count": 230,
   "metadata": {},
   "outputs": [
    {
     "name": "stdout",
     "output_type": "stream",
     "text": [
      "\n",
      "omega =\n",
      "\n",
      "     1\n",
      "     1\n",
      "     1\n",
      "     1\n",
      "     1\n",
      "     1\n",
      "     1\n",
      "     1\n",
      "     1\n",
      "     1\n",
      "     1\n",
      "     1\n",
      "     1\n",
      "     1\n",
      "     1\n",
      "     1\n",
      "     1\n",
      "     1\n",
      "     1\n",
      "     1\n",
      "     1\n",
      "     1\n",
      "     1\n",
      "     1\n",
      "     1\n",
      "     1\n",
      "     1\n",
      "     1\n",
      "     1\n",
      "     1\n",
      "     1\n",
      "     1\n",
      "     1\n",
      "     1\n",
      "     1\n",
      "     1\n",
      "     1\n",
      "     1\n",
      "     1\n",
      "     1\n",
      "     1\n",
      "     1\n",
      "     1\n",
      "     1\n",
      "     1\n",
      "     1\n",
      "     1\n",
      "     1\n",
      "     1\n",
      "     1\n",
      "     1\n",
      "     1\n",
      "     1\n",
      "     1\n",
      "     1\n",
      "     1\n",
      "     1\n",
      "     1\n",
      "     1\n",
      "     1\n",
      "     1\n",
      "     1\n",
      "     1\n",
      "     1\n",
      "     1\n",
      "     1\n",
      "     1\n",
      "     1\n",
      "     1\n",
      "     1\n",
      "     1\n",
      "     1\n",
      "     1\n",
      "     1\n",
      "     1\n",
      "     1\n",
      "     1\n",
      "     1\n",
      "     1\n",
      "     1\n",
      "     1\n",
      "     1\n",
      "     1\n",
      "     1\n",
      "     1\n",
      "     1\n",
      "     1\n",
      "     1\n",
      "     1\n",
      "     1\n",
      "     1\n",
      "     1\n",
      "     1\n",
      "     1\n",
      "     1\n",
      "     1\n",
      "     1\n",
      "     1\n",
      "     1\n",
      "     1\n",
      "\n",
      "\n"
     ]
    }
   ],
   "source": [
    "omega"
   ]
  },
  {
   "cell_type": "code",
   "execution_count": 240,
   "metadata": {},
   "outputs": [
    {
     "name": "stdout",
     "output_type": "stream",
     "text": [
      "\n",
      "ans =\n",
      "\n",
      "   6.5253e-14\n",
      "\n",
      "\n"
     ]
    }
   ],
   "source": [
    "alpha = 1;\n",
    "num_iterations = 1000;\n",
    "% err = zeros(1, num_iterations);\n",
    "while (norm(gradJ(omega)) > 10e-14 && i < num_iterations) \n",
    "  grad = gradJ(omega);\n",
    "  omega =  omega - (alpha * grad);\n",
    "  alpha = n2 * norm(-grad) ^ 2 / (norm(K' * -grad) ^ 2 / 2);\n",
    "  err(i) = J(omega, y_train);\n",
    "  hist_omega(:, i) = omega;\n",
    "  i = i + 1;\n",
    "end\n",
    "norm(gradJ(omega))"
   ]
  },
  {
   "cell_type": "code",
   "execution_count": 241,
   "metadata": {},
   "outputs": [
    {
     "name": "stdout",
     "output_type": "stream",
     "text": [
      "\n"
     ]
    },
    {
     "data": {
      "image/png": "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",
      "text/plain": [
       "<IPython.core.display.Image object>"
      ]
     },
     "metadata": {},
     "output_type": "display_data"
    }
   ],
   "source": [
    "plot(1:i-1, err)"
   ]
  },
  {
   "cell_type": "code",
   "execution_count": 242,
   "metadata": {},
   "outputs": [
    {
     "name": "stdout",
     "output_type": "stream",
     "text": [
      "\n",
      "ans =\n",
      "\n",
      "    0.3310\n",
      "\n",
      "\n"
     ]
    },
    {
     "data": {
      "image/png": "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",
      "text/plain": [
       "<IPython.core.display.Image object>"
      ]
     },
     "metadata": {},
     "output_type": "display_data"
    }
   ],
   "source": [
    "min_err = 0;\n",
    "opt_omega = zeros(n2, 1);\n",
    "min_err = find(err == min(err));\n",
    "opt_omega = hist_omega(:, min_err);\n",
    "J(opt_omega, y_train)\n",
    "y_predit = f(opt_omega);\n",
    "plot(X_train, y_train, 'r')\n",
    "hold on\n",
    "plot(X_train, y_predit, 'b')\n",
    "hold off\n"
   ]
  },
  {
   "cell_type": "markdown",
   "metadata": {},
   "source": [
    "Test"
   ]
  },
  {
   "cell_type": "code",
   "execution_count": 245,
   "metadata": {},
   "outputs": [
    {
     "name": "stdout",
     "output_type": "stream",
     "text": [
      "\n"
     ]
    },
    {
     "data": {
      "image/png": "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",
      "text/plain": [
       "<IPython.core.display.Image object>"
      ]
     },
     "metadata": {},
     "output_type": "display_data"
    }
   ],
   "source": [
    "K2 = ones(n2, n2);\n",
    "for i = 1:n2 \n",
    "  % for j = 1:n2\n",
    "    K2(:, i) = noyau(X_test', X_train(i, :)', 1);\n",
    "  % end  \n",
    "end\n",
    "  y_test = modele(3, X_test);\n",
    "\n",
    "y_test_predit = K * omega;\n",
    "plot(X_test, y_test, 'r')\n",
    "hold on\n",
    "plot(X_test, y_test_predit, 'b')\n",
    "hold off"
   ]
  },
  {
   "cell_type": "markdown",
   "metadata": {},
   "source": [
    "# Fonction 4)"
   ]
  },
  {
   "cell_type": "code",
<<<<<<< HEAD
   "execution_count": 266,
=======
   "execution_count": 29,
>>>>>>> 1d0e22a3fff49154e3985d2f1260a359ba9ad67b
   "metadata": {},
   "outputs": [
    {
     "name": "stdout",
     "output_type": "stream",
     "text": [
      "\n"
     ]
    }
   ],
   "source": [
    "clear all;\n",
    "X1 = -1:0.02:0.99;\n",
    "X2 = -0.99:0.02:1;\n",
    "X = [X1', X2'];\n",
    "% X = X';\n",
    "X_train = X(1:2:end, :);\n",
    "X_test = X(2:2:end, :);\n",
    "% size(X_train)\n",
    "y_train = modele(4, X_train);\n",
    "y_test = modele(4, X_test);\n",
    "% size(y_train)\n",
    "n2 = length(X_train);\n",
    "n = length(X);\n",
    "omega = ones(n2, 1);\n",
    "% size(omega)\n",
    "K = ones(n2, n2);\n",
    "for i = 1:n2 \n",
    "  % for j = 1:n2\n",
    "    K(:, i) = noyau(X_train', X_train(i, :)', 1);\n",
    "  % end  \n",
    "end\n",
    "% size(K)  \n",
    "f = @(omega) arrayfun(@(i) sum(K(i, :) * omega), 1:n2);\n",
    "J = @(omega, y) 1/n * norm(f(omega) - y);\n",
    "% gradJ = @(omega) (1/n) * K' * ((K * omega) - y_train) + (2 * 0.0001 * K * omega);\n",
    "gradJ = @(omega) (1/n) * K' * ((K * omega) - y_train);\n"
   ]
  },
  {
   "cell_type": "code",
<<<<<<< HEAD
   "execution_count": 261,
=======
   "execution_count": 30,
>>>>>>> 1d0e22a3fff49154e3985d2f1260a359ba9ad67b
   "metadata": {},
   "outputs": [
    {
     "name": "stdout",
     "output_type": "stream",
     "text": [
<<<<<<< HEAD
      "\n",
      "X_test =\n",
      "\n",
      "   -0.9800   -0.9700\n",
      "   -0.9400   -0.9300\n",
      "   -0.9000   -0.8900\n",
      "   -0.8600   -0.8500\n",
      "   -0.8200   -0.8100\n",
      "   -0.7800   -0.7700\n",
      "   -0.7400   -0.7300\n",
      "   -0.7000   -0.6900\n",
      "   -0.6600   -0.6500\n",
      "   -0.6200   -0.6100\n",
      "   -0.5800   -0.5700\n",
      "   -0.5400   -0.5300\n",
      "   -0.5000   -0.4900\n",
      "   -0.4600   -0.4500\n",
      "   -0.4200   -0.4100\n",
      "   -0.3800   -0.3700\n",
      "   -0.3400   -0.3300\n",
      "   -0.3000   -0.2900\n",
      "   -0.2600   -0.2500\n",
      "   -0.2200   -0.2100\n",
      "   -0.1800   -0.1700\n",
      "   -0.1400   -0.1300\n",
      "   -0.1000   -0.0900\n",
      "   -0.0600   -0.0500\n",
      "   -0.0200   -0.0100\n",
      "    0.0200    0.0300\n",
      "    0.0600    0.0700\n",
      "    0.1000    0.1100\n",
      "    0.1400    0.1500\n",
      "    0.1800    0.1900\n",
      "    0.2200    0.2300\n",
      "    0.2600    0.2700\n",
      "    0.3000    0.3100\n",
      "    0.3400    0.3500\n",
      "    0.3800    0.3900\n",
      "    0.4200    0.4300\n",
      "    0.4600    0.4700\n",
      "    0.5000    0.5100\n",
      "    0.5400    0.5500\n",
      "    0.5800    0.5900\n",
      "    0.6200    0.6300\n",
      "    0.6600    0.6700\n",
      "    0.7000    0.7100\n",
      "    0.7400    0.7500\n",
      "    0.7800    0.7900\n",
      "    0.8200    0.8300\n",
      "    0.8600    0.8700\n",
      "    0.9000    0.9100\n",
      "    0.9400    0.9500\n",
      "    0.9800    0.9900\n",
      "\n",
      "\n"
     ]
    }
   ],
   "source": [
    "X_test"
   ]
  },
  {
   "cell_type": "code",
   "execution_count": 267,
   "metadata": {},
   "outputs": [
    {
     "name": "stdout",
     "output_type": "stream",
     "text": [
      "Warning: Matrix is close to singular or badly scaled. Results may be inaccurate. RCOND =  3.795586e-22.\n",
      "\n",
=======
      "Warning: Matrix is close to singular or badly scaled. Results may be inaccurate. RCOND =  2.945539e-19.\n",
>>>>>>> 1d0e22a3fff49154e3985d2f1260a359ba9ad67b
      "\n"
     ]
    },
    {
     "data": {
<<<<<<< HEAD
      "image/png": "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",
=======
      "image/png": "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",
>>>>>>> 1d0e22a3fff49154e3985d2f1260a359ba9ad67b
      "text/plain": [
       "<IPython.core.display.Image object>"
      ]
     },
     "metadata": {},
     "output_type": "display_data"
    }
   ],
   "source": [
    "w_et = (K' * K) \\ (K' * y_train);\n",
    "y_et = f(w_et) + 0.1;\n",
    "plot(X_train, y_train, 'r')\n",
    "hold on\n",
    "plot(X_train, y_et, 'b')\n",
    "hold off"
   ]
  },
  {
   "cell_type": "code",
<<<<<<< HEAD
   "execution_count": 268,
=======
   "execution_count": 31,
>>>>>>> 1d0e22a3fff49154e3985d2f1260a359ba9ad67b
   "metadata": {},
   "outputs": [
    {
     "name": "stdout",
     "output_type": "stream",
     "text": [
      "\n",
      "ans =\n",
      "\n",
<<<<<<< HEAD
      "   8.9569e-15\n",
      "\n",
=======
      "   4.1327e-04\n",
>>>>>>> 1d0e22a3fff49154e3985d2f1260a359ba9ad67b
      "\n"
     ]
    }
   ],
   "source": [
    "alpha = 1;\n",
    "num_iterations = 1000;\n",
<<<<<<< HEAD
    "% err = zeros(1, num_iterations);\n",
=======
    "err = zeros(1, num_iterations);\n",
>>>>>>> 1d0e22a3fff49154e3985d2f1260a359ba9ad67b
    "while (norm(gradJ(omega)) > 10e-14 && i < num_iterations) \n",
    "  grad = gradJ(omega);\n",
    "  omega =  omega - (alpha * grad);\n",
    "  alpha = n2 * norm(-grad) ^ 2 / (norm(K' * -grad) ^ 2 / 2);\n",
    "  err(i) = J(omega, y_train);\n",
    "  i = i + 1;\n",
    "  hist_omega(:, i) = omega;\n",
<<<<<<< HEAD
    "  i = i + 1;\n",
    "end\n",
    "norm(gradJ(omega))"
   ]
  },
  {
   "cell_type": "code",
   "execution_count": null,
   "metadata": {},
   "outputs": [
    {
     "name": "stdout",
     "output_type": "stream",
     "text": [
      "\n",
      "ans =\n",
      "\n",
      "   1.0000e-13\n",
      "\n"
     ]
    }
   ],
   "source": [
    "10e-14"
   ]
  },
  {
   "cell_type": "code",
   "execution_count": null,
   "metadata": {},
   "outputs": [
    {
     "name": "stdout",
     "output_type": "stream",
     "text": [
      "\n",
      "ans =\n",
      "\n",
      "   NaN\n",
      "\n"
     ]
    }
   ],
   "source": [
=======
    "end\n",
>>>>>>> 1d0e22a3fff49154e3985d2f1260a359ba9ad67b
    "norm(gradJ(omega))"
   ]
  },
  {
   "cell_type": "code",
<<<<<<< HEAD
   "execution_count": 269,
=======
   "execution_count": 32,
>>>>>>> 1d0e22a3fff49154e3985d2f1260a359ba9ad67b
   "metadata": {},
   "outputs": [
    {
     "name": "stdout",
     "output_type": "stream",
     "text": [
      "\n",
      "omega =\n",
      "\n",
<<<<<<< HEAD
      "    0.1790\n",
      "    0.1792\n",
      "    0.1794\n",
      "    0.1797\n",
      "    0.1799\n",
      "    0.1802\n",
      "    0.1804\n",
      "    0.1807\n",
      "    0.1809\n",
      "    0.1811\n",
      "    0.1814\n",
      "    0.1816\n",
      "    0.1819\n",
      "    0.1821\n",
      "    0.1823\n",
      "    0.1826\n",
      "    0.1828\n",
      "    0.1831\n",
      "    0.1833\n",
      "    0.1835\n",
      "    0.1838\n",
      "    0.1840\n",
      "    0.1843\n",
      "    0.1845\n",
      "    0.1848\n",
      "    0.1850\n",
      "    0.1852\n",
      "    0.1855\n",
      "    0.1857\n",
      "    0.1860\n",
      "    0.1862\n",
      "    0.1864\n",
      "    0.1867\n",
      "    0.1869\n",
      "    0.1872\n",
      "    0.1874\n",
      "    0.1876\n",
      "    0.1879\n",
      "    0.1881\n",
      "    0.1884\n",
      "    0.1886\n",
      "    0.1889\n",
      "    0.1891\n",
      "    0.1893\n",
      "    0.1896\n",
      "    0.1898\n",
      "    0.1901\n",
      "    0.1903\n",
      "    0.1905\n",
      "    0.1908\n",
      "\n",
=======
      "    3.5078\n",
      "    0.0217\n",
      "   -1.5128\n",
      "   -1.1494\n",
      "    0.1136\n",
      "    1.0453\n",
      "    0.9946\n",
      "    0.2082\n",
      "   -0.5407\n",
      "   -0.6562\n",
      "   -0.1689\n",
      "    0.3944\n",
      "    0.5294\n",
      "    0.1764\n",
      "   -0.2942\n",
      "   -0.4597\n",
      "   -0.2128\n",
      "    0.1902\n",
      "    0.3952\n",
      "    0.2597\n",
      "   -0.0584\n",
      "   -0.2736\n",
      "   -0.2237\n",
      "    0.0141\n",
      "    0.2163\n",
      "    0.2107\n",
      "    0.0117\n",
      "   -0.2021\n",
      "   -0.2395\n",
      "   -0.0561\n",
      "    0.2026\n",
      "    0.3126\n",
      "    0.1606\n",
      "   -0.1415\n",
      "   -0.3293\n",
      "   -0.2120\n",
      "    0.1325\n",
      "    0.3885\n",
      "    0.2744\n",
      "   -0.1654\n",
      "   -0.5367\n",
      "   -0.4203\n",
      "    0.2076\n",
      "    0.8560\n",
      "    0.8785\n",
      "    0.0662\n",
      "   -1.0234\n",
      "   -1.3238\n",
      "    0.0423\n",
      "    3.1339\n",
>>>>>>> 1d0e22a3fff49154e3985d2f1260a359ba9ad67b
      "\n"
     ]
    }
   ],
   "source": [
    "omega"
   ]
  },
  {
   "cell_type": "code",
<<<<<<< HEAD
   "execution_count": 270,
=======
   "execution_count": 33,
   "metadata": {},
   "outputs": [
    {
     "name": "stdout",
     "output_type": "stream",
     "text": [
      "\n",
      "ans =\n",
      "\n",
      "           1        1000\n",
      "\n",
      "\n",
      "i =\n",
      "\n",
      "        1000\n",
      "\n"
     ]
    }
   ],
   "source": [
    "size(err), i"
   ]
  },
  {
   "cell_type": "code",
   "execution_count": 34,
>>>>>>> 1d0e22a3fff49154e3985d2f1260a359ba9ad67b
   "metadata": {},
   "outputs": [
    {
     "name": "stdout",
     "output_type": "stream",
     "text": [
      "\n"
     ]
    },
    {
     "data": {
<<<<<<< HEAD
      "image/png": "iVBORw0KGgoAAAANSUhEUgAAAjAAAAGkCAIAAACgjIjwAAAACXBIWXMAAA7EAAAOxAGVKw4bAAAAB3RJTUUH6AEJCiweuAKGbgAAACR0RVh0U29mdHdhcmUATUFUTEFCLCBUaGUgTWF0aFdvcmtzLCBJbmMuPFjdGAAAACJ0RVh0Q3JlYXRpb24gVGltZQAwOS1KYW4tMjAyNCAxMTo0NDozMA+8n60AACAASURBVHic7d1/cBT14f/xtxdsLh+czOVKiLlWObyYE1qKEMHKpEIx6UcHqJWBaKIGpE4R5KTV6cg0TKJDqsLYEO+sH35MpYyaDDZjZppOGT41hBhIBb7pt5mY2IMQ72AUTnTvxhnkzHnk88fJEUMgCbnbfe/e8/HX7d4aXm918mJ33/ve6wYGBgQAAFozaR0AAAAhKCQAgCQoJACAFCgkAIAUKCQAgBQoJACAFCgkAIAUKCQAgBQoJACAFCgkAIAUKCQAgBQoJACAFCgkAIAUKCQAgBQoJACAFCgkAIAUKCQAgBQoJACAFCgkAIAUKCQAgBQoJACAFCgkAIAUKCQAgBQoJACAFCgkAIAUKCQAgBQmaB3gGimK0tfXF9/Mz8/PzMzUMA8AYJz0WkiNjY01NTXp6emxTbfbXVhYqG0kAMB46LWQuru7KyoqysrKtA4CAEgMvd5D6unpcTgciqJEIhGtswAAEuC6gYEBrTOMWTQanTFjxi233KIoSigUWrp0aXV19eWHPfroo0eOHFE/HgBIaO7cuW+88YbWKa5Gl5fsAoFAUVHRhg0bbDZbIBAoKSmpr68vLS0dctiRI0e8Xq8mCZPK6XQyLn0x6tAYl744nU6tI4xAl5fsbDab2+222WxCiJycnOLi4o6ODq1DAQDGRZeF5Pf7Gxoa4pv9/f1paWka5gEAjJ8uCykcDldVVfX29gohAoFAc3PzkiVLtA6lnnXr1mkdISmMOi5h3KExLiSWLic1CCHq6upefvnlGTNmdHV1uVyuxx577PJjjHohGACugfy/EvVaSKMh/799AFCN/L8SdXnJDgBgPBQSAEAKFBIAQAoUEgBAChQSAEAKFBIAQAoUEgBAChQSAEAKFBIAQAoUEgBAChQSAEAKFBIAQAoUEgBAChQSAEAKFBIAQAoUEgBAChQSAEAKFBIAQAoUEgBAChQSAEAKFBIAQAoUEgBAChQSAEAKE7QOMILOzk6bzZadnT1kv6IofX198c38/PzMzEx1owEAEknqQurt7X3kkUe2bt1aVFQ05KvGxsaampr09PTYptvtLiwsVD0gACBh5C2kSCTyzDPPTJo0adhvu7u7KyoqysrKVE4FwPCe3/fRijm5dqtZ6yApR957SDU1Nffcc09+fv6w3/b09DgcDkVRIpGIysEAGNuf/99pX/C81ilSkaSFdOTIkcOHDz/11FPDfhuNRk+ePLlp06bFixfPnDlz48aNV/o5zos8Hk/SwgKApDweT/zXoNZZRibjJbsvvviisrJy27ZtVzogEAgUFRVt2LDBZrMFAoGSkpL6+vrS0tLLj/R6vclMCgBSc7lcLpcr9ln+TpLxDGnLli3Tp0/3+/2tra2KonR3dw/pFZvN5na7bTabECInJ6e4uLijo0OjsACAxJCxkLKzs8+dO1dXV1dXV/fxxx+3tra2t7cPPsDv9zc0NMQ3+/v709LSVI8JwJh8StinhLVOkYpkvGS3fv36+OfVq1cvX748Nu27s7Nz8uTJubm54XC4qqrq9ttvz8vLCwQCzc3Nmzdv1i4vACABZDxDupLa2tpDhw4JIZxOZ0VFRUlJyYoVK+67777HH3+ch5AAQO+uGxgY0DpDsjidTiY1ABir657Zv+uhaSvn5GodJMHk/5WopzMkAFCHn3tIWqCQAABSoJAA4BLm12mIQgIASIFCAgBIgUICgKF8QS7caYBCAoBLWOdbQxQSAEAKFBIADOVTOE/SAIUEAJAChQQAkAKFBACX8GCshigkAPgWu9WsdYQURSEBwLfYs8w8h6QJCgkAIAUKCQAgBQoJACAFCgkALom9mo+5dpqgkADgWxY4srSOkKIoJACAFCgkAIAUKCQAGMpuNXMbSX0UEgBcwiOxGqKQAOBbprB0kEZ0X0idnZ1nz57VOgUAYLz0XUi9vb2PPPJIZ2en1kEAGIo9y8y7zNWn40KKRCLPPPPMpEmTtA4CAEgAHRdSTU3NPffck5+ff5VjnBd5PB7VggGAJDweT/zXoNZZRjZB6wDX6MiRI4cPH37nnXdWr159lcO8Xq9qkQAYgE85P99h0TpFwrhcLpfLFfssfyfpspC++OKLysrKbdu2aR0EgAHxgj6t6PKS3ZYtW6ZPn+73+1tbWxVF6e7u5kwIQALZrRk8GKs+XZ4hZWdn9/T01NXVCSE+/vjj1tbWzMxM+c9GAQBXoctCWr9+ffzz6tWrly9fXlRUpGEeAMD46fKSHQAkiS8YtmdliIsvRoKadHmGNNj27du1jgDAaOxZzGvQAGdIAAApUEgAAClQSAAAKVBIADDUFKuZFyOpj0ICgEt8SpiVGrRCIQEApEAhAQCkQCEBwFB2q9mn8II+tVFIAAApUEgA8A1W+NYWhQQAlzDFTkMUEgAMZc/K4Dkk9VFIAAApUEgAAClQSADwDV+Qqd5aopAA4BLehKQhCgkAhrJbzUwBVx+FBACQAoUEAJAChQQA3+AynbYoJAC4xG7NuPiB20hqo5AAAFKgkAAAUpigdYAr8nq9p06dysvLs9vtl3+rKEpfX198Mz8/PzMzU71wAFKAL3ietVbVJGkhbd26de/evQUFBS+99NLy5ctXr1495IDGxsaampr09PTYptvtLiwsVD0mAMPiCVn1yVhIx48ff/3119va2iwWy9mzZ+fPn798+XKr1Tr4mO7u7oqKirKyMq1CAjAeP7MYNCXjPSSHw9HY2GixWIQQ119/fTQajUQiQ47p6elxOByKolz+1WDOizweTxITAzAKg50YeTye+K9BrbOMTMYzJJPJlJeXF41GGxoa6urqnnzyyZycnMEHRKPRkydPbtq0SVGUUCi0dOnS6urqYX+U1+tVJTIAyMjlcrlcrthn+TtJxjOkGEVRvvrqq8mTJx86dCgUCg3+KhAIFBUV7dixo729vaWlpa2trb6+XqucAAzJbs3gOSSVyVtI2dnZ5eXlO3fuNJvNu3fvHvyVzWZzu902m00IkZOTU1xc3NHRoVFMAEBiyFhIfX19b775ZnzzxhtvPHPmzOAD/H5/Q0NDfLO/vz8tLU29fAAMiteWa0vGQopGoy+++GLsMaPPPvvs4MGDxcXFQojOzs7Tp08LIcLhcFVVVW9vrxAiEAg0NzcvWbJE28wAjGEKDx5pR8ZJDbfeeuvGjRuXLl1aUFDQ0dGxZs2ahQsXCiFqa2sXLVq0bNkyp9NZUVFRUlIyY8aMrq4ul8vFQ0gAEsueZWYWuMpkLCQhRGlpaWlp6ZCdu3btin8uKyvjISQAMBIZL9kBAFIQhQQAkAKFBADf8CnfWk2VSXcqo5AAYBhMt1MfhQQAkAKFBACQAoUEAMOwW80+5bzWKVILhQQA3/AFw/asDK1TpC4KCQAgBQoJACAFCgkAIAUKCQCGYc/K4MFYlVFIAAApUEgA8A2fErazQIN2KCQAgBQoJAAYht1q9vGCPnVRSAAAKVBIAAApUEgAIIQQXKDTHIUEAN8YMsWO20gqo5AAAFKgkAAAUqCQAABS0HEheb3ed9991+fzaR0EgBH4gkNfx2fPMl++E8mj10LaunWry+Vqbm5+/PHHt2/frnUcAEZgz2LdIC1N0DrAtTh+/Pjrr7/e1tZmsVjOnj07f/785cuXW61WrXMBAK6dLs+QHA5HY2OjxWIRQlx//fXRaDQSiWgdCgAwLrosJJPJlJeXF41G9+zZs2LFiieffDInJ2fYI50XeTwelUMCgOY8Hk/816DWWUamy0t2MYqifPXVV5MnTz506FB5eXnshGkIr9erfjAAenT5M7B2a4ZPCQuHJnESw+VyuVyu2Gf5O0mXZ0gx2dnZ5eXlO3fuNJvNu3fv1joOAN2zWzO0jpDSdFlIfX19b775ZnzzxhtvPHPmjIZ5AADjp8tCikajL774Yl9fnxDis88+O3jwYHFxsdahABiQn7XsVKTLe0i33nrrxo0bly5dWlBQ0NHRsWbNmoULF2odCoDR8FiSynRZSEKI0tLS0tJSrVMAABJGl5fsACDhuDqnOQoJAL7BNTptUUgAMLwpVrMvyGmTeigkAIAUKCQAgBQoJAAQQohhr875FN6HpB4KCQC+McX6rUkNditzHFRFIQEApEAhAQCkQCEBAKRAIQHA8OxZGTyHpCYKCQCEEMKnnGcWg7YoJACAFCgkAIAUKCQAgBQoJAAYnt1q9vFOChVRSAAghBC+YNielaF1ipRGIQEApEAhAcDVcNVONRQSAFwRTyapiUICAEiBQgIASIFCAgAhhPAp4WEv0PmCvKNPJRQSAFyRPYt7SOqZoHWAK+rt7fX5fFardfbs2Zd/qyhKX19ffDM/Pz8zM1PFdACABJO0kKqrq/fv319QUHDs2LGJEyfu2rUrPT198AGNjY01NTXxnW63u7CwUIukAIDEkLGQPvzwwz179rS1tVksFiHEkiVLmpqali1bNviY7u7uioqKsrIyjTICABJMxntIFotl+/btsTYSQkydOvWTTz4ZckxPT4/D4VAUJRKJXOVHOS/yeDzJigtA/6709KvdmqHrB2M9Hk/816DWWUYm4xlSbm5ubm5u7LPf729paVmzZs3gA6LR6MmTJzdt2qQoSigUWrp0aXV19bA/yuv1Jj0uAEMw5DOwLpfL5XLFPsvfSTKeIcUFAoGVK1euXbt22rRpQ/YXFRXt2LGjvb29paWlra2tvr5eq5AAgISQt5C6uroeeOCB8vLyIadHQgibzeZ2u202mxAiJyenuLi4o6NDi4wAgISRtJDa29tXrVr13HPPPfbYY5d/6/f7Gxoa4pv9/f1paWkqpgOQKuxZZr+e7yHpi4yFdOrUqXXr1m3ZsuWnP/1pJBKJRCLRaFQI0dnZefr0aSFEOByuqqrq7e0VQgQCgebm5iVLlmgcGoCe+YLneQZWczJOaqirqzt37twTTzwR3/Pwww9XVlbW1tYuWrRo2bJlTqezoqKipKRkxowZXV1dLpeLh5AAQO+uGxgY0DpDsjidTmbZARiNAyeCz+/7qGXt0HVhnt/3kRCi6r+nahEqweT/lSjjJTsAkIcvyD0klVBIAHBFU4z4cJK0KCQAiL17IkPrFKmOQgIASIFCAoArslvNPoUX9KmEQgIASIFCAgBIgUICAEiBQgIA4VfCV1o6iOeQVEMhAcAV2bOYC64eCgkAIAUKCQAgBQoJACAFCgkAhC8YHnbZOrvV7OMFfWqhkAAAUqCQAABSoJAAAFKgkADgariNpBoKCQAgBQoJAIRPOW/n5bBao5AAAFKgkADgauxZZl+Qd/SpgUICAEhhgtYBrl1vb6/P57NarbNnz9Y6CwBgvPRaSNXV1fv37y8oKDh27NjEiRN37dqVnp6udSgAeuULhnnThOZ0WUgffvjhnj172traLBaLEGLJkiVNTU3Lli3TOhcAY/IpYeHQOkQK0OU9JIvFsn379lgbCSGmTp36ySefDHuk8yKPx6NiQADGYbfq+MzJ4/HEfw1qnWVkujxDys3Nzc3NjX32+/0tLS1r1qwZ9kiv16tiLgCQi8vlcrlcsc/yd5Iuz5DiAoHAypUr165dO23aNK2zAADGRceF1NXV9cADD5SXl1/p9AgAxs+eZfazlp0qdHnJTgjR3t6+fv363//+9z/72c+0zgJA93xKmKWDNKfLQjp16tS6dev+8Ic/FBYWRiIRIYTJZEpLS9M6FwDg2umykOrq6s6dO/fEE0/E9zz88MOVlZUaRgIAjJMuC+nZZ5999tlntU4BAEgkHU9qAAAVTLGafUEmNaiBQgKQ6nghrCQoJAAQTLGTAYUEACPwKbwPSQ0UEgBcDSdPqqGQAABSoJAApDpf8Lw9i9Mg7VFIAAApUEgAcDX2rAyeQ1IHhQQAkAKFBACQAoUEINX5lLCu31NuGBQSAEAKFBIAXI3damaxO3VQSAAAKVBIAAApUEgAMDKu2qmAQgKQ6vxK+OpLB7G+qjooJACAFCgkAIAUKCQAGIE9y+wL8o6+pKOQAABSoJAApDpfMDyFaQsSmKB1gBG0tbX95Cc/uXy/oih9fX3xzfz8/MzMTBVzAQASTOpCeu211+rr69va2i7/qrGxsaamJj09PbbpdrsLCwvVTQcASCRJCykUCm3evHnfvn0TJ04c9oDu7u6KioqysjKVgwFIQXZrhk8JC4fWOYxO0ntItbW1Vqv1hRdeuNIBPT09DodDUZRIJKJmMABAkkh6hlRZWWkymVpbW4f9NhqNnjx5ctOmTYqihEKhpUuXVldXD3uk0+mMfVi3bp3L5UpWXACQksfjefXVV7VOMVqSFpLJdLVTt0AgUFRUtGHDBpvNFggESkpK6uvrS0tLLz/S6/UmLSMAg/Ap51fMuVHrFEnhcrnifxeP/wVdWpJesrs6m83mdrttNpsQIicnp7i4uKOjQ+tQAAzLnmX2s7hq8umykPx+f0NDQ3yzv78/LS1NwzwAgPHTUyF1dnaePn1aCBEOh6uqqnp7e4UQgUCgubl5yZIlWqcDAIyLngqptrb20KFDQgin01lRUVFSUrJixYr77rvv8ccf5yEkANC76wYGBrTOkCxOp5NJDQBGNPX37S1rZl/lpUd/Pnq69URo10PT1EyVcPL/StTTGRIAwMAoJACAFCgkAIAUKCQAGIHdavYpvKAv6SgkAIAUKCQAqc6nhK8yxQ6qoZAAAFKgkABgZL4ga9klHYUEACOwZ2VoHSElUEgAAClQSABSmo/3SkiDQgKQ6phiJwkKCQBGYLeaOZFSAYUEAJAChQQAkAKFBCCl+YLn7VncQ5IChQQAI+M2kgooJACAFCgkAIAUKCQAgBQoJAApzaeE7daRl6qzZ5l9Qd7Rl1wUEgBAChQSAEAKui+ktrY2rSMAABJA34X02muv/e53v9M6BYCUwHNIyTZB6wDXKBQKbd68ed++fRMnTtQ6CwDjG83EB4yTXs+QamtrrVbrCy+8oHUQAPrmV8KjXDqo9UTowIkg50nJo9czpMrKSpPJ1NraevXDnE5n7MO6detcLlfycwEwpqqfTX3+fz96ft9HB06EYu9PWuDImu+wiIuvU4q95ly2Vyt5PJ5XX31V6xSjpddCMplGdW7n9XqTnQRAKrBbzbsemhb77FPCvuB5nxJuPRESQuw+el4I4QuGxcX7TAsclpa1s7ULe4nL5Yr/XTz+F3Rp6bWQAEArdqvZbjULh1g5J/fyb31KeOrv29VPZQB6vYcEAHKyW80LHJYDJ4JaB9EfCglASvMFw1Mku/GTsigkAEiwBY6s1t6Q1in0R9+FNH/+fFZqACCbKVYzl+yugb4LCQAkJNvkb72gkAAgwexZGbFZ4BgTCgkAEsxuNfuUMGs6jBWFBCCl+ZTzybjCtsBh4YV+Y0UhAUDi2a0ZTLQbKwoJABJvlAu2YjAKCQASb34eizWMGYUEAInHRLtrQCEBSGm+YDj25ojE/2Rm2Y0RhQQAiccSq9eAQgIASIFCAoCkYInVsaKQACApWGJ1rCgkACkteVMPWGJ1rCgkAKkuSc3BzO+xopAAIClYYnWsKCQASBaWWB0TCgkAkoUlVseEQgKAZGGJ1TGhkACkLp8STupcOJZYHRMKCQCShYl2Y0IhAUASMctu9CgkAEgWllgdEwoJACCFCVoHuKJTp055vd6bbrrJ6XRe/q2iKH19ffHN/Pz8zMxMFdMBMAJf8HyyJ8LFllhd4MhK6p9iDJIWUlNT00svvTRv3ryOjo77779//fr1Qw5obGysqalJT0+Pbbrd7sLCQtVjAsAIpljNu4+erhJTtQ6iAzIWUjQaraqqevvtt/Py8hRFWbhw4f3332+32wcf093dXVFRUVZWplFGABgVllgdPRnvIb333nsWiyUvL08IYbVa77777oMHDw45pqenx+FwKIoSiUSu8qOcF3k8niQmBoAr0Hbmt8fjif8a1CrD6Ml4hhQKhW677bb45g033HDs2LHBB0Sj0ZMnT27atElRlFAotHTp0urq6mF/lNfrTW5WALiq+BKrmpwquVwul8sV+yx/J8l4hhSNRk2mS8FMJtOFCxcGHxAIBIqKinbs2NHe3t7S0tLW1lZfX696TAC651PCdmtGsv8UllgdJRkLKT09PRqNxjcvXLgwYcK3zuRsNpvb7bbZbEKInJyc4uLijo4OtVMCwOjYrRk8HjsaMhbS5MmTP/jgg/hmMBgsKCgYfIDf729oaIhv9vf3p6WlqZcPAMbCnmX2U0ijIGMhzZkzRwjR2toqhDh+/Hh7e/tdd90lhOjs7Dx9+rQQIhwOV1VV9fb2CiECgUBzc/OSJUs0jQwAV8QSq6Mk46QGk8n08ssvP/3003l5ed3d3Zs3b540aZIQora2dtGiRcuWLXM6nRUVFSUlJTNmzOjq6nK5XDyEBEBaLLE6SjIWkhDizjvvPHTo0JCdu3btin8uKyvjISQAesE9pNGQ8ZIdAKjDr4RVeIee3Wq2W81ctRsRhQQAScerY0eDQgKApIstsap1CtlRSACQdFO4ZDcKkk5qAAAjuXzdIJ8S3n30dKylFjiy5udZeEUFhQQgdfmC4fkOiwp/UGzmd7yEDpwI2a3mlXfkVv33VJ8Sbj0Reu61/2+3mhc4suY7LCvn5KoQSUIUEgAknd1qtmeZf/o//1p5R+4CR1bL2tmXvnOIlXNydz00zaeED5wI7j56+vn//Wi8f1yW+Vt/hE5QSACghl0PTb/6gt92q3mlNXflnNzxP7Sk05cwUUgAoIbRl4RO62T8mGUHAJAChQQAkAKFBCB1+ZTzKXt9TEIUEgBAChQSAEAKFBIAQAoUEgBAChQSgNTlC4btWRlap8A3KCQAgBQoJACAFCgkAIAUKCQAgBQoJACpa/zraiOBKCT98Xg8WkdICqOOSxh3aMYY1+VLBxljXHqk40I6derUu+++6/V6tQ6itldffVXrCElh1HEJ4w6NcSGx9FpITU1NDz300L59+9asWfPKK69oHQcAMF66fEFfNBqtqqp6++238/LyFEVZuHDh/fffb7fbtc4FALh21w0MDGidYcxaWlo2bdq0f//+2OZTTz01d+7cRx55ZMhhjz766JEjR4bs/OL7d0X+y6pGSgDS+zx/cf7f1midQiVz58594403tE5xNbo8QwqFQrfddlt884Ybbjh27Njlhw37r/7PR0/7mVcDQAghxPw8y4I/pNx9aGnpspCi0ajJdOnul8lkunDhwij/2ZVzcpMTCgAwLrqc1JCenh6NRuObFy5cmDBBl80KAIjTZSFNnjz5gw8+iG8Gg8GCggIN8wAAxk+XhTRnzhwhRGtrqxDi+PHj7e3td911l9ahAADjostZdkKIw4cPP/3003l5ed3d3dXV1ffee6/WiQAA46LXQgIAGIwuL9kBAIyHQgIASCHtueee0zpD4p06dero0aORSGTSpElaZ0mYtra2KVOmxDeNMcbe3t5//etfoVAoN/fS82EGGJrX6/33v/9tMpksFkt8pwHGFdPZ2ZmWljZx4sTYpgHGpShKd3f3JxfdcMMN6enpwihD++c///npp59+//vfj++UdlwGLKSmpqZf//rX/f39O3fuDIVCP/7xj7VOlACvvfbaK6+8smrVqtimMcZYXV3tdru//PLLd955p6mpafHixRMmTDDA0LZu3ep2u8Ph8LZt286fP3/HHXcIo/wnE0L09vY++OCDt99++y233CKMMq66urpnn3127969TU1NTU1Ns2fPvvnmmw0wtNbW1l/+8pfhcHjv3r1//etff/GLX1x33XVSj2vAWL7++utZs2YdP358YGDg888/nzlz5kcffaR1qHEJBoMbNmyYNWtWYWFhbI8xxtjT0/PDH/4wGAzGNhcvXvyXv/zFAEM7duxYfFyffvrptGnTPv/8cwOMK6a/v//nP//5ggUL/vGPfwwY5X/FgYGB3/zmN2+99dbgPQYY2tdff33XXXcdPnw4trlo0aK9e/dKPi6j3UN67733LBZLXl6eEMJqtd59990HDx7UOtS41NbWWq3WF154Ib7HGGO0WCzbt2+PX9GaOnXqJ598YoChORyOxsbG2Liuv/76aDQaiUQMMK6Ympqae+65Jz8/P7ZpmHH19PQ4HA5FUSKRSGyPAYbW2tr6ve99b+7cubHNv/3tb/fee6/k4zJaIY1y3VUdqays/O1vf5uRkRHfY4wx5ubmzps3L/bZ7/e3tLQUFxcbYGgmkykvLy8aje7Zs2fFihVPPvlkTk6OAcYlhDhy5Mjhw4efeuqp+B5jjCsajZ48eXLTpk2LFy+eOXPmxo0bhSGGFgwGb7rppsrKypkzZ86ePftPf/qTkH5cRiuk8ay7KqfBw4kx2BgDgcDKlSvXrl07bdo0wwxNUZSvvvpq8uTJhw4dCoVCBhjXF198UVlZWVNTM3inAcYlhAgEAkVFRTt27Ghvb29paWlra6uvrzfA0Hp7e/ft2/eDH/ygs7Ozvr5+27ZtBw8elHxcRiukVFh31Uhj7OrqeuCBB8rLy9esWSMMNLTs7Ozy8vKdO3eazebdu3cbYFxbtmyZPn263+9vbW2NzUnzer0GGJcQwmazud1um80mhMjJySkuLu7o6DDA0G6++eYpU6Y8+OCDQgin01lcXPz3v/9d8nEZrZBSYd1Vw4yxvb191apVzz333GOPPRbbY4Ch9fX1vfnmm/HNG2+88cyZMwYYV3Z29rlz5+rq6urq6j7++OPW1tb29nYDjEsI4ff7Gxoa4pv9/f1paWkGGNp3v/vdwZsmk8lkMsk+Lq1nVSRYNBotLCw8cODAwMDAsWPHfvSjH509e1brUAlw4MCB+Cw7Y4zx5MmTs2bN2r9/f/9FX3/9tQGGduzYsenTp584cWJgYODs2bPz5s1rbm42wLgG+9WvfhWbZWeMcf3nP/+ZPn16bOLZmTNn5s2b19bWZoCh9ff333nnnfv37x8YGPj888/vhvaAYQAAAUpJREFUvvvu999/X/JxGa2QBgYG3n///Xnz5pWXlxcUFOzdu1frOIkxuJAGDDHGl156Kf/bnn/++QFDDK2urm7mzJmrVq2aOXPmtm3bYjsNMK64eCENGGVcb7311qxZs8rLy2fNmvX666/HdhpgaEePHl2wYMGDDz5YUFDwxz/+MbZT5nEZdnHVL7/80mw2Xz4jwEgMPEa9D+3ChQuKomRlZaWlpQ3er/dxXYkBxnXhwoVwOHz5KAwwtPPnz3/nO9/Rxf+Khi0kAIC+yFWPAICURSEBAKRAIQEApEAhAQCkQCEBAKRAIQEApEAhAQCkQCEBAKRAIQEApEAhAQCkQCEBAKRAIQEApEAhAQCkQCEBAKRAIQEApEAhAQCkQCEBAKRAIQEApEAhAQCkQCEBAKRAIQEApEAhAQCkQCEBAKRAIQEApEAhAQCk8H/vPVasyF0jnwAAAABJRU5ErkJggg==",
=======
      "image/png": "iVBORw0KGgoAAAANSUhEUgAAAjAAAAGkCAIAAACgjIjwAAAACXBIWXMAAA7EAAAOxAGVKw4bAAAAB3RJTUUH6AEJCDEghYsjtwAAACR0RVh0U29mdHdhcmUATUFUTEFCLCBUaGUgTWF0aFdvcmtzLCBJbmMuPFjdGAAAACJ0RVh0Q3JlYXRpb24gVGltZQAwOS1KYW4tMjAyNCAwOTo0OTozMuydaKUAABboSURBVHic7d1/bNT1/cDxN5SLaY3gMilKtsgPpXFqJgzTmWimbiQuLDGg/oMYk21mE81wFo1LnDpGMqNjGg3+wGhCdVuQLJDtS9gkoIyVxAlukZbsVjZIFFlkGykDSrm29/3jvrtvB6WD/rh73d3j8dfnrp+W1717vWc/n7se4/L5fAKAchtf7gEAICVBAiAIQQIgBEECIARBAiAEQQIgBEECIARBAiAEQQIgBEECIARBAiAEQQIgBEECIARBAiAEQQIgBEECIARBAiAEQQIgBEECIARBAiAEQQIgBEECIARBAiAEQQIgBEECIIQJ5R5gOP74xz9u3br14MGDdXV1N9544y233FLuiQAYqYo8Qtq6devhw4ebm5sbGxt/8IMf/PCHPyz3RACM1Lh8Pl/uGUbkV7/61SOPPNLR0VHuQQAYkYo8Qhro+PHjjY2N5Z4CgJGqyOeQUkoffPDBm2+++a9//evDDz/8yU9+Uu5xABipSg3Spz71qWuuueZPf/rTzp07P/jgg9mzZ5++T1NTU+kHA4gsm82We4QzqvjnkD744IM77rjjd7/73eTJk0/5UFNTU+SlLwErkCxCSskipJQsQkop/CJU/HNIl19+eUrpr3/9a7kHAWBEKjJIO3bsKGz09fU9/fTTF1100bXXXlvekWB0jWvZWu4RoNQq8jmkxx9//ODBg/X19cePH582bdqLL744fnxFlnWsRT42LxmLkCxCSskiVIKKDNLmzZvLPQIAo8yBBQAhCBIAIQgSACEIEgAhCBIAIQgSACEIEgAhCBIAIQgSACEIEgAhCBIAIQgSACEIEgAhCBIAIQgSACEIEgAhCBIAIQgSACEIEgAhCBIAIQgSACEIEgAhCBIAIQgSACEIEgAhCBIAIQgSACEIEgAhCBIAIQgSACEIEgAhCBIAIQgSACEIEgAhCBIAIQgSACEIEgAhCBIAIQgSACEIEgAhCBIAIQgSACEIEgAhCBIAIQgSACEIEgAhTCj3AP+hs7Nz8+bN+/bta2houPXWW+fMmTPobjt37ty/f3/x4ty5c6dNm1aaCQEYI7GOkBYtWrRv377m5uZMJnPXXXetX79+0N02bNjw8ssv//7f/vnPf5Z4TgBGXawjpC1btkycOLGwPWnSpBdeeGHBggWD7tnc3LxixYoSjgbA2Ip1hFSsUUqpsbGxt7f3THv29PRs3769o6OjJHMBMOZiHSEV5XK51tbWhQsXnmmHzZs3HzhwoL29fcqUKatXr54+fXopxwNg1I3L5/PlnmEQ3/nOd7q6ul577bW6urrTP3ro0KHJkyenlHK53AMPPLB///6NGzeevltTU1NxO5vNjt20MOrGtWzNr7y53FNQDQY+EqbYD4YRj5CWLVv2ySefnKlGKaVCjVJKmUxmyZIlCxcu7O7urq+vP33PyEsPUAIDHwZPiVM04YL08MMP7927t7W1taGh4Wz2P3nyZEppwoRwNwSAcxLrRQ2PPvro7t27X3nllfr6+lwul8vlCtevXbt2zZo1xd127NhR2Dh8+PDzzz9/9dVXZzKZMowLwOiJdWCxbt26lNL1119fuJjJZNrb21NKu3btOnbs2N133124/qGHHurq6qqvrz969OicOXNWrVpVroEBGC2xgnSmp3yeeuqpgRfb2tpKMg4ApRPrlB0ANUuQAAhBkAAIQZAACEGQAAhBkAAIQZAACEGQAAhBkAAIQZAACEGQAAhBkAAIQZAACEGQAAhBkAAIQZAACEGQAAhBkAAIQZAACEGQAAhBkAAIQZAACEGQAAhBkAAIQZAACEGQAAhBkAAIQZAACEGQAAhBkAAIQZAACEGQAAhBkAAIQZAACEGQAAhBkAAIQZAACEGQAAhBkAAIQZAACEGQAAhBkAAIQZAACEGQAAhBkAAIQZAACGFCuQcYjs7Ozs2bN+/bt6+hoeHWW2+dM2dOuScCYKQq8ghp0aJF+/bta25uzmQyd9111/r168s9EQAjVZFHSFu2bJk4cWJhe9KkSS+88MKCBQvKOxIAI1SRR0jFGqWUGhsbe3t7yzgMAKOiIoNUlMvlWltbFy5cWO5BABipijxlV9TS0nLRRRctWbLkTDs0NTUVNrLZbKmGAgik+DAYXwUHadmyZZ988slrr71WV1d3pn2CdGhcy9b8ypvLPQVQiwY+DAaPU6UG6eGHH967d29ra2tDQ0O5ZwFgFFRkkB599NHdu3e3trbW19fncrmUUiaTKfdQAIxIRQZp3bp1KaXrr7++cDGTybS3t5d1IgBGqiKDFOSZIQBGUWW/7BuAqiFIAIQgSACEIEgAhCBIAIQgSACEIEgAhCBIAIQgSACEIEgAhCBIAIQgSACEIEgAhCBIAIQgSACEIEgAhCBIAIQgSACEIEgQ1LiWreUeAUpKkAjHAzHUJkECIARBAiAEQQIgBEECIARBAiAEQQIgBEECIARBAiAEQQIgBEECIARBAiAEQQIgBEECIARBAiAEQQIgBEECIARBAiAEQQIgBEECIARBAiAEQQIgBEECIARBAiAEQQIgBEECIARBAiAEQQIghAnlHuA/9Pf3v//++x999FFfX99tt912pt127ty5f//+4sW5c+dOmzatBOMBMHZiBemxxx7btGnTzJkz9+zZM0SQNmzY8O67786ePbtwccaMGYIEUOliBenxxx9fsWLFtm3b7rvvvqH3bG5uXrFiRWmmAqAEYj2HlMlkznLPnp6e7du3d3R0jOk8AJRMrCOks7d58+YDBw60t7dPmTJl9erV06dPH3S3pqamwkY2my3hdABRFB8G46vIIC1durRwvi6Xyz3wwAP333//xo0bB91Th4AaN/BhMHicYp2yO0uTJ08ubGQymSVLluzdu7e7u7u8IwEwQhUZpIFOnjyZUpowoSIP9QAoihWk/v7+XC7X29ubUsrlcrlcrnD92rVr16xZU9xtx44dhY3Dhw8///zzV1999dm/GgKAmGIdWGzatOnBBx8sbF911VUppfb29kwms2vXrmPHjt19992FDz300ENdXV319fVHjx6dM2fOqlWryjYxNWZcy9b8ypvLPQVUp1hBmj9//vz580+//qmnnhp4sa2trVQTAVAisU7ZAVCzBAmAEAQJgBAECYAQBAmAEAQJgBAECYAQBAmAEAQJgBAECYAQBAmAEAQJgBAECYAQBAmAEAQJgBAECYAQBAmAEASpRMa1bC33CAChCRIAIQgSACEIEgAhCBIAIQgSACEIEgAhCBIAIQgSACEIEgAhCBIAIQgSACEIEgAhCBIAIQgSACEIEgAhCBIAIQgSACEIEgAhCNIZ+U/HAUpJkAAIQZAACEGQAAhBkAAIQZAACEGQAAhBkAAIQZAACEGQAAhhQrkHGI7+/v7333//o48+6uvru+2228o9DgCjoCKD9Nhjj23atGnmzJl79uwRJIDqUJGn7B5//PFdu3bdd9995R4EgFFTkUHKZDLlHgGAUVaRp+zOXlNTU2Ejm82WdxKAsig+DMZX5UHSIaDGDXwYDB6nijxlB0D1ESQAQqjIU3b9/f19fX29vb0ppVwul7zMAaDyVWSQNm3a9OCDDxa2r7rqqpRSe3u7JgFUtIoM0vz58+fPn1/uKQAYTZ5DAiAEQQIgBEECIARBAiAEQQIgBEECIARBAiAEQQIgBEGCszWuZWu5R4BqJkgAhCBIAIQgSACEIEgAhCBIAIQgSJzKa8mAshAkAEIQJABCECQAQhAkAEIQpKF4eh+gZASpAugiUAsECYAQBAmAEAQJgBAECYAQBAmAEAQJgBAECYAQBAmAEAQJgBAECYAQBAmAEAQJgBAECYAQBAmAEAQJgBAECYAQBOkc+I/yAMaOIFEicg4MTZAACEGQAAhBkAAIQZAACEGQ+A9eegCUiyBROmoHDEGQAAhhQrkHOFVnZ+cbb7zR3d09b968efPmDbrPzp079+/fX7w4d+7cadOmlWY8AMZIrCBls9k77rjj29/+9qc//enly5d//PHHd9999+m7bdiw4d133509e3bh4owZMwQJoNLFCtLKlSsXLVq0ZMmSlNLFF1+8dOnSxYsX19XVnb5nc3PzihUrSj5gGXjehZoyrmVrfuXN5Z6C8oj1HFJbW9t1111X2L7hhht6enp27Ngx6J49PT3bt2/v6Ogo4XQAjKFAR0jd3d29vb2XXnpp4eL48eMbGhqOHDky6M6bN28+cOBAe3v7lClTVq9ePX369EF3a2pqKmxks9mxmBkYdQ6SRlfxYTC+QEHK5/MppcbGxuI1mUymr6/v9D2XLl1aOF+Xy+UeeOCB+++/f+PGjYN+TR0CatzAh8HgcQp0yi6TyaSU9uzZU7zmxIkT9fX1p+85efLk4qcsWbJk79693d3dpRkSgDESK0hTp079+OOPCxcPHTrU3d192WWXDf1ZJ0+eTClNmBDoUA+AYQgUpJTSggULXn311Z6enpTSSy+9NHv27MKTQ2vXrl2zZk1xt+IrHQ4fPvz8889fffXVhaMrACpXrAOLe++9N5vNXnvttRdccMHEiRNXr15duH7Xrl3Hjh0r/k3SQw891NXVVV9ff/To0Tlz5qxatap8IwMwOmIFKZPJDFqXp556auDFtra2Uk30/87p74G8TAgC8oMZXKxTdgDULEECIARBAiAEQTpn3lyO07lXwMgJEgAhCBIAIQgSETkDRmTun2NEkCpAfuXNfgCAqidIwLmp0F+PKnTsmiJIo68i7vfDGLIibhdVw/2tBgnScJzyo+Inh8rl3pssQhiCVFX8XJWFZWdQ53rHcEcSJE5VmtdQ+NmjQrnrjh1BGr6aul/W1I1lCKW8J7jX1RpBGsrZHCsM3GGInf/rlyp+tHaOTsZ6jCA3M44zLcioLFTlrvaYTu6s3TkRpIjO5k45rmVrlb224iyDPYpfM7jCLzEj+S6X+NGwold7CCO/XaVZmdPvLRVHkP67Ib7NpxweFQ+DihtnejQZ9Hho2Hemoccbo/vooF920JszFi0ZlYfpIb7IyGc+y69wlr98nNPFgffYs1+oIb6hp3/o7A+2Bk4y6KiDfu4p20PfqDM5p9MbQ19/yjWnn/AY9FPG6D8DHMZPVqWEalw+ny/3DGOlqakpm80O+9NPD8x/Pe12epAGfigN924x6OeO3UsPyv6Viz/GA3c+5XPP/kuV5kdxLP6hgQ9n5/TFhz3MCFd1tBbhlDtACb6J5/pPnOWP8xAPCKM1yVkqftlZ/3PvSB4Vx5ogndHY/YIDUHrjWrYGD5JTdgCEIEgAhCBIAIQgSACEIEgAhCBIAIQgSACEIEgAhCBIAIQgSACEIEgAhCBIAIQgSACEIEgAhCBIAIQwodwDAFAK+ZU3j0svlnuKoThCAiAEQQIgBEECIARBAiAEQQIgBEECIARBAiAEQQIgBEECIARBAiAEQQIghEp9L7vOzs433niju7t73rx58+bNK/c4AIxURR4hZbPZ2267bcqUKV/4wheWL1++Zs2ack8UVFNTU7lHKD+LkCxCSskiVIKKPEJauXLlokWLlixZklK6+OKLly5dunjx4rq6unLPBcDwVeQRUltb23XXXVfYvuGGG3p6enbs2FHekQAYocoLUnd3d29v76WXXlq4OH78+IaGhiNHjpR3KgBGqPJO2eXz+ZRSY2Nj8ZpMJtPX13f6nn/+2ovjWraO5N+qgpPOVXATRs4iJIuQUrIIKc1KKa3MlnuKM6q8IGUymZTSnj175s6dW7jmxIkT9fX1p++ZX3nzSP+xwN85gCpTeafsMpnM1KlTP/7448LFQ4cOdXd3X3bZZeWdCoARqrwgpZQWLFjw6quv9vT0pJReeuml2bNnT58+vdxDATAilXfKLqV07733ZrPZa6+99oILLpg4ceLq1avLPREAIzWu8BoBACivijxlB0D1ESQAQqh74oknyj3D6Ovs7Hzuuec2bdqUUpo5c2a5xxkrnZ2da9euffPNN9va2iZNmnTJJZcM/NCZVqBaF+f9999va2ubPHny+eefX7imdhahr69v7dq1r7/++rZt2/L5/IwZMwrX184KpJTefvvtl19++Te/+c3BgwevuOKKCRP+7wny6l6E/v7+Xbt2/f73v+/o6Pjc5z438EPDuOFlX5AqDFI2m7399ttvvPHGmTNnPv3003V1dddcc025hxoTt9xyy4UXXtjc3Hz48OHly5dPnTr1iiuuSEOuQLUuzqFDh771rW9t2LDhy1/+8tSpU1MtLUIul1u8eHFHR8eXvvSl888/f/v27V/96ldTLa1ASunll19euXLl1772tVmzZv3sZz/79a9/vXDhwlQDi/D973//mWeeOXDgwLp16wpv71kwjBseYkHyVeeee+750Y9+VNh+5513Pv/5z/f29pZ3pDHS1dVV3H7uuee+8pWvFLaHWIFqXZx77rln/fr1s2bNeu+994rX1MgirFq1asGCBX19fadcXzsrkM/nb7rppjfeeKOwvXfv3lmzZh07dixfA4tw8uTJfD7/zjvvXHnllQOvH8YNj7AgVfgcUu289erEiROL242Njb29vYXtIVagKhfnl7/8ZUpp/vz5A6+snUX4xS9+cddddx06dGj79u2HDx8uXl87K5BSuuSSS44fP17YPnHixIQJE84777xUA4tQeOea0w3jhkdYkIr8O6Qh1OZbr+ZyudbW1sI5iiFWoCoX5x//+Mezzz7785//fOCVtbMIfX19H3300VtvvfXMM8/MmDHjvffe++53v/vNb36zdlag4Iknnvje9773l7/8JZPJ7N69+8knn6yrq6u1RSgaxg0PsiDVFqT8Wb/1ajVpaWm56KKLCmeQh1iBqlyc5cuXf+Mb35gyZUoulyteWTuL0N/fn1I6ePDgli1bMpnMzp0777zzzptuuqnwCpdaWIGCv/3tb11dXSml888//8SJE4W3Fqudu8EphnHDgyxItZ2yK771avGaM731atVYtmzZJ5988uKLLxb+i8IhVqD6Fufdd9/duXPnZz7zmW3btv32t79NKf3hD3/o7OysnUWoq6sbP3787bffXrhdc+fOnThxYkdHR+2sQEqpv79/6dKl991335NPPvnII4+8/vrrzz77bK0twkDDuOFBFqTajpBq7a1XH3744b1797a2tjY0NBSuGWIFqm9x6urqrrzyyp/+9Kfp37/6bdmypaGh4fLLL6+RRRg/fvxll1028DfZwjFTTd0Nenp6jh07Vvyzh8mTJ5933nkffvjhlVdeWTuLMNAwvvtBFqTajpBSLb316qOPPrp79+5XXnmlvr4+l8sVz1kNsQJVtjhz585d/W8vvPBCSmnZsmV33nlnqqVFWLBgwZtvvll4Sv/tt98+fvz47NmzUy2tQH19/ZQpU956663CxW3btnV3d19++eWpBhahv78/l8sVXtA0wgeBCAtSbUdIqZbeenXdunUppeuvv75wMZPJtLe3pyFXoHYWp3YW4etf//qf//znL37xixdeeOHRo0d//OMff/azn021tAIppWeffbalpWX9+vUXXnjh3//+98cee6zwd51VvwibNm168MEHC9tXXXVVSqm9vT2TyQzjhkdYkKp9c9UjR450dXUVfjJr0xArUDuLUzuLkMvl9u/fP3PmzPHj/+O0R+2sQErp0KFDR44cmT59ei0vwkDDuOHlXZCqDRIAlaUKn0MCoBIJEgAhCBIAIQgSACEIEgAhCBIAIQgSACEIEgAhCBIAIQgSACEIEgAhCBIAIQgSACEIEgAhCBIAIQgSACEIEgAhCBIAIQgSACEIEgAhCBIAIQgSACEIEgAhCBIAIQgSACEIEgAh/C/tNXSyZsZ5BgAAAABJRU5ErkJggg==",
>>>>>>> 1d0e22a3fff49154e3985d2f1260a359ba9ad67b
      "text/plain": [
       "<IPython.core.display.Image object>"
      ]
     },
     "metadata": {},
     "output_type": "display_data"
    }
   ],
   "source": [
<<<<<<< HEAD
    "plot(1:i-1, err)"
=======
    "plot(1:i, err)"
>>>>>>> 1d0e22a3fff49154e3985d2f1260a359ba9ad67b
   ]
  },
  {
   "cell_type": "code",
<<<<<<< HEAD
   "execution_count": 272,
=======
   "execution_count": 35,
>>>>>>> 1d0e22a3fff49154e3985d2f1260a359ba9ad67b
   "metadata": {},
   "outputs": [
    {
     "name": "stdout",
     "output_type": "stream",
     "text": [
      "\n",
      "ans =\n",
      "\n",
      "    0.2968\n",
<<<<<<< HEAD
      "\n",
=======
>>>>>>> 1d0e22a3fff49154e3985d2f1260a359ba9ad67b
      "\n"
     ]
    },
    {
     "data": {
<<<<<<< HEAD
      "image/png": "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",
=======
      "image/png": "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",
>>>>>>> 1d0e22a3fff49154e3985d2f1260a359ba9ad67b
      "text/plain": [
       "<IPython.core.display.Image object>"
      ]
     },
     "metadata": {},
     "output_type": "display_data"
    }
   ],
   "source": [
    "min_err = 0;\n",
    "opt_omega = omega;\n",
<<<<<<< HEAD
    "min_err = find(err == min(err));\n",
=======
    "% min_err = find(err == min(err));\n",
>>>>>>> 1d0e22a3fff49154e3985d2f1260a359ba9ad67b
    "% opt_omega = hist_omega(:, min_err);\n",
    "J(opt_omega, y_train)\n",
    "y_predit = f(opt_omega);\n",
    "plot(X_train, y_train, 'r')\n",
    "hold on\n",
    "plot(X_train, y_predit, 'b')\n",
    "hold off\n"
   ]
  },
  {
   "cell_type": "markdown",
   "metadata": {},
   "source": [
    "TEST"
   ]
  },
  {
   "cell_type": "code",
<<<<<<< HEAD
   "execution_count": 273,
=======
   "execution_count": 36,
>>>>>>> 1d0e22a3fff49154e3985d2f1260a359ba9ad67b
   "metadata": {},
   "outputs": [
    {
     "name": "stdout",
     "output_type": "stream",
     "text": [
      "\n"
     ]
    },
    {
     "data": {
<<<<<<< HEAD
      "image/png": "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",
=======
      "image/png": "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",
>>>>>>> 1d0e22a3fff49154e3985d2f1260a359ba9ad67b
      "text/plain": [
       "<IPython.core.display.Image object>"
      ]
     },
     "metadata": {},
     "output_type": "display_data"
    }
   ],
   "source": [
    "K2 = ones(n2, n2);\n",
    "  for i = 1:n2 \n",
    "    for j = 1:n2\n",
    "      K2(i, j) = noyau(X_test(i, :), X_train(j, :), 3);\n",
    "    end  \n",
    "  end\n",
    "  y_test = modele(4, X_test);\n",
    "\n",
    "y_test_predit = K * opt_omega;\n",
    "plot(X_test, y_test, 'r')\n",
    "hold on\n",
    "plot(X_test, y_test_predit, 'b')\n",
    "hold off"
   ]
  }
 ],
 "metadata": {
  "kernelspec": {
   "display_name": "Matlab (Connection)",
   "language": "matlab",
   "name": "matlab_connect"
  },
  "language_info": {
   "codemirror_mode": "octave",
   "file_extension": ".m",
   "help_links": [
    {
     "text": "MetaKernel Magics",
     "url": "https://metakernel.readthedocs.io/en/latest/source/README.html"
    }
   ],
   "mimetype": "text/x-octave",
   "name": "matlab",
   "version": "0.17.1"
  }
 },
 "nbformat": 4,
 "nbformat_minor": 4
}
