{
 "cells": [
  {
   "cell_type": "code",
   "execution_count": 728,
   "metadata": {},
   "outputs": [],
   "source": [
    "clear all;"
   ]
  },
  {
   "cell_type": "markdown",
   "metadata": {},
   "source": [
    "## Fonction de creation du noyau"
   ]
  },
  {
   "cell_type": "markdown",
   "metadata": {},
   "source": [
    "## Definition des variables"
   ]
  },
  {
   "cell_type": "markdown",
   "metadata": {},
   "source": [
    "### Definition des variables d'entre"
   ]
  },
  {
   "cell_type": "code",
   "execution_count": 729,
   "metadata": {},
   "outputs": [],
   "source": [
    "clear all;\n",
    "% points de données d'entrée\n",
    "X = 0:0.01:0.99;\n",
    "X = X';"
   ]
  },
  {
   "cell_type": "markdown",
   "metadata": {},
   "source": [
    "### Definition de modele : \n",
    "\n",
    "On commence par un modele alearatoire"
   ]
  },
  {
   "cell_type": "code",
   "execution_count": 730,
   "metadata": {},
   "outputs": [],
   "source": [
    "% definition de modele\n",
    "y = cos(2*pi*X);"
   ]
  },
  {
   "cell_type": "markdown",
   "metadata": {},
   "source": [
    "### Repartition des variables en entrainement et test"
   ]
  },
  {
   "cell_type": "code",
   "execution_count": 731,
   "metadata": {},
   "outputs": [],
   "source": [
    "\n",
    "X_test = X(1:2:end);\n",
    "y_test = y(1:2:end);\n",
    "X_train = X(2:2:end);\n",
    "y_train = y(2:2:end);\n",
    "n = length(X); % nombre de points de données\n",
    "n2 = length(X_train);\n",
    "% size(y_train)"
   ]
  },
  {
   "cell_type": "code",
   "execution_count": 732,
   "metadata": {},
   "outputs": [
    {
     "name": "stdout",
     "output_type": "stream",
     "text": [
      "\n",
      "ans =\n",
      "\n",
      "   100     1\n",
      "\n"
     ]
    }
   ],
   "source": [
    "size(X)"
   ]
  },
  {
   "cell_type": "markdown",
   "metadata": {},
   "source": [
    "### Definition des parametres "
   ]
  },
  {
   "cell_type": "code",
   "execution_count": 733,
   "metadata": {},
   "outputs": [
    {
     "name": "stdout",
     "output_type": "stream",
     "text": [
      "\n",
      "ans =\n",
      "\n",
      "    50     1\n",
      "\n"
     ]
    }
   ],
   "source": [
    " % parametres initiaux\n",
    "omega = ones(n2, 1);\n",
    "size(omega)"
   ]
  },
  {
   "cell_type": "markdown",
   "metadata": {},
   "source": [
    "## Definition de noyau \n",
    "\n",
    "### Implementation de fonction de noyau\n",
    "\n",
    "fichier noyau.m : "
   ]
  },
  {
   "cell_type": "code",
   "execution_count": 734,
   "metadata": {},
   "outputs": [],
   "source": [
    "% %%file noyau.m\n",
    "\n",
    "% function noyau = noyau(x, x1, choix)\n",
    "%   switch choix\n",
    "%       case 1\n",
    "%           % Noyau linéaire\n",
    "%           c = 0.1; \n",
    "%           y = x' * x1 + c;\n",
    "%       case 2\n",
    "%           % Noyau polynomial\n",
    "%           alpha = 0.05*10^-5; % Valeur arbitraire pour alpha, vous pouvez ajuster selon vos besoins\n",
    "%           c = 1; % Valeur arbitraire pour c, vous pouvez ajuster selon vos besoins\n",
    "%           d = 2; % Valeur arbitraire pour d, vous pouvez ajuster selon vos besoins\n",
    "%           y = (alpha .* (x' .* x1) + c) .^ d;\n",
    "%       case 3\n",
    "%           % Noyau gaussien\n",
    "%           sigma = 0.1; \n",
    "%           y = exp(-norm(x - x1) .^ 2 ./ (2 * sigma^2));\n",
    "%       case 4\n",
    "%           % Noyau exponentiel\n",
    "%           sigma = 5; \n",
    "%           y = exp(-norm(x - x1) ./ (2 * sigma ^ 2));\n",
    "%       case 5\n",
    "%           % Noyau laplacien\n",
    "%           sigma = 1; \n",
    "%           y = exp(-norm(x - x1) / sigma);\n",
    "%       case 6\n",
    "%           % Noyau sinc\n",
    "%           sigma = 1; \n",
    "%           y = prod(sin(sigma * (x - x1)) ./ (sigma * (x - x1)));\n",
    "%       otherwise\n",
    "%           error('Type de noyau non reconnu.');\n",
    "%   end\n",
    "%   noyau = y;\n",
    "% end"
   ]
  },
  {
   "cell_type": "markdown",
   "metadata": {},
   "source": [
    "### Definition de noyau linéaire"
   ]
  },
  {
   "cell_type": "code",
   "execution_count": 735,
   "metadata": {},
   "outputs": [
    {
     "name": "stdout",
     "output_type": "stream",
     "text": [
      "\n",
      "ans =\n",
      "\n",
      "    50    50\n",
      "\n"
     ]
    }
   ],
   "source": [
    "% choix de noyau linéaire\n",
    "choix = 2;\n",
    "K = zeros(n2, n2);\n",
    "for i = 1:n2 \n",
    "  K(i, :) = noyau(X_train, X_train(i, :), choix);\n",
    "end  \n",
    "size(K)"
   ]
  },
  {
   "cell_type": "markdown",
   "metadata": {},
   "source": [
    "## Definition du fonction\n",
    "\n",
    "La fonction est définie comme suivant : \n",
    "\n",
    "$f(\\omega, x) = \\sum_{i=1}^{n} \\omega_i K(x, x_i)$\n"
   ]
  },
  {
   "cell_type": "code",
   "execution_count": 736,
   "metadata": {},
   "outputs": [],
   "source": [
    "f = @(omega) arrayfun(@(i) sum(K(i, :) * omega), 1:n2);"
   ]
  },
  {
   "cell_type": "markdown",
   "metadata": {},
   "source": [
    "## Definition de function de risque empirique\n",
    "\n",
    "La fonction de risque empirique est définit comme suivante :\n",
    "\n",
    "$ J (\\omega, y) =  \\frac{1}{n} \\sum_{i = 0}^{n} \\|f(\\omega_i) - y_i\\|^2  $ \n"
   ]
  },
  {
   "cell_type": "code",
   "execution_count": 737,
   "metadata": {},
   "outputs": [],
   "source": [
    "J = @(omega, y) 1/n * norm(f(omega) - y);"
   ]
  },
  {
   "cell_type": "markdown",
   "metadata": {},
   "source": [
    "## Definition de gradient J"
   ]
  },
  {
   "cell_type": "code",
   "execution_count": 738,
   "metadata": {},
   "outputs": [],
   "source": [
    "gradJ = @(omega) (1/n) * K' * ((K * omega) - y_train);"
   ]
  },
  {
   "cell_type": "markdown",
   "metadata": {},
   "source": [
    "## Gradient descent"
   ]
  },
  {
   "cell_type": "code",
   "execution_count": 739,
   "metadata": {},
   "outputs": [],
   "source": [
    "alpha = 0.001;\n",
    "num_iterations = 5000;\n",
    "hist_omega = zeros(n2, num_iterations);\n",
    "for i = 1:num_iterations\n",
    "  omega =  omega - (alpha * gradJ(omega));\n",
    "  hist_omega(:, i) = omega;\n",
    "  err(i) = J(omega, y_train);\n",
    "end"
   ]
  },
  {
   "cell_type": "code",
   "execution_count": 740,
   "metadata": {},
   "outputs": [
    {
     "name": "stdout",
     "output_type": "stream",
     "text": [
      "\n",
      "ans =\n",
      "\n",
      "    0.3541\n",
      "\n"
     ]
    }
   ],
   "source": [
    "err(i)"
   ]
  },
  {
   "cell_type": "code",
   "execution_count": 741,
   "metadata": {},
   "outputs": [
    {
     "name": "stdout",
     "output_type": "stream",
     "text": [
      "\n",
      "ans =\n",
      "\n",
      "   7.8288e-04\n",
      "\n"
     ]
    }
   ],
   "source": [
    "norm(gradJ(omega))"
   ]
  },
  {
   "cell_type": "code",
   "execution_count": 742,
   "metadata": {},
   "outputs": [
    {
     "data": {
      "image/png": "[encoded data removed]",
      "text/plain": [
       "<IPython.core.display.Image object>"
      ]
     },
     "metadata": {},
     "output_type": "display_data"
    }
   ],
   "source": [
    "plot(1:num_iterations, err)"
   ]
  },
  {
   "cell_type": "markdown",
   "metadata": {},
   "source": [
    "## Extraction des omega optimaux"
   ]
  },
  {
   "cell_type": "code",
   "execution_count": 743,
   "metadata": {},
   "outputs": [
    {
     "name": "stderr",
     "output_type": "stream",
     "text": [
      "\u001b[0;31mError using @(omega,y)1/n*norm(f(omega)-y)\n",
      "Too many input arguments.\n",
      "\n",
      "\u001b[0m"
     ]
    }
   ],
   "source": [
    "min_err = find(err == min(err));\n",
    "opt_omega = hist_omega(:, min_err);\n",
    "J(opt_omega, X_train, y_train)"
   ]
  },
  {
   "cell_type": "markdown",
   "metadata": {},
   "source": [
    "## Affichage de resultats\n",
    "\n",
    "On affiche les y_train avec les y que notre model a predit"
   ]
  },
  {
   "cell_type": "code",
   "execution_count": 744,
   "metadata": {},
   "outputs": [
    {
     "data": {
      "image/png": "[encoded data removed]",
      "text/plain": [
       "<IPython.core.display.Image object>"
      ]
     },
     "metadata": {},
     "output_type": "display_data"
    }
   ],
   "source": [
    "y_train_predit = f(opt_omega);\n",
    "plot(X_train, y_train, 'r')\n",
    "hold on\n",
    "plot(X_train, y_train_predit, 'b')\n",
    "hold off"
   ]
  },
  {
   "cell_type": "code",
   "execution_count": 745,
   "metadata": {},
   "outputs": [
    {
     "name": "stdout",
     "output_type": "stream",
     "text": [
      "Warning: Matrix is close to singular or badly scaled. Results may be inaccurate. RCOND =  2.254649e-20.\n",
      "\n"
     ]
    },
    {
     "data": {
      "image/png": "[encoded data removed]",
      "text/plain": [
       "<IPython.core.display.Image object>"
      ]
     },
     "metadata": {},
     "output_type": "display_data"
    }
   ],
   "source": [
    "w_et = (K' * K) \\ (K' * y_train);\n",
    "y_opt = f(w_et);\n",
    "plot(X_train, y_train, 'r')\n",
    "hold on\n",
    "plot(X_train, y_opt, 'b')\n",
    "hold off"
   ]
  },
  {
   "cell_type": "markdown",
   "metadata": {},
   "source": [
    "## Sur les donnees de test"
   ]
  },
  {
   "cell_type": "code",
   "execution_count": 746,
   "metadata": {},
   "outputs": [
    {
     "data": {
      "image/png": "[encoded data removed]",
      "text/plain": [
       "<IPython.core.display.Image object>"
      ]
     },
     "metadata": {},
     "output_type": "display_data"
    }
   ],
   "source": [
    "% y de test\n",
    "y_test_predit = f(opt_omega);\n",
    "plot(X_train, y_test, 'r')\n",
    "hold on\n",
    "plot(X_train, y_test_predit, 'b')\n",
    "hold off"
   ]
  },
  {
   "cell_type": "code",
   "execution_count": 747,
   "metadata": {},
   "outputs": [
    {
     "name": "stdout",
     "output_type": "stream",
     "text": [
      "\n",
      "ans =\n",
      "\n",
      "   35.4120\n",
      "\n"
     ]
    }
   ],
   "source": [
    "% y_train_predit = f(opt_omega, X_train );\n",
    "\n",
    "norm(y_train_predit - y_train)"
   ]
  },
  {
   "cell_type": "code",
   "execution_count": 748,
   "metadata": {},
   "outputs": [
    {
     "name": "stdout",
     "output_type": "stream",
     "text": [
      "\n",
      "ans =\n",
      "\n",
      "   35.4120\n",
      "\n"
     ]
    }
   ],
   "source": [
    "norm(y_test_predit - y_test)"
   ]
  },
  {
   "cell_type": "code",
   "execution_count": 749,
   "metadata": {},
   "outputs": [
    {
     "name": "stdout",
     "output_type": "stream",
     "text": [
      "Warning: Matrix is close to singular or badly scaled. Results may be inaccurate. RCOND =  2.254649e-20.\n",
      "\n",
      "\n",
      "ans =\n",
      "\n",
      "   4.8503e+07\n",
      "\n"
     ]
    }
   ],
   "source": [
    "w_et = (K' * K) \\ (K' * y_train);\n",
    "norm(opt_omega - w_et)\n",
    "w_et;\n",
    "opt_omega;"
   ]
  },
  {
   "cell_type": "markdown",
   "metadata": {},
   "source": [
    "## Utilisation des autres modèles\n",
    "\n",
    "$\n",
    "(1) \\quad f^*(x) = |x|, \\quad x \\in [-1, 1] \\\\\n",
    "(2) \\quad f^*(x) = 3\\|x\\|^3 - 2\\|x\\|^2 + 3\\|x\\|^2 + 3, \\quad x \\in [-1, 1]^3 \\\\\n",
    "(3) \\quad f^*(x) = \\sin(x_1 + x_2), \\quad x \\in [-2, 2]^2 \\\\\n",
    "(4) \\quad f^*(x) = \\frac{1}{3}(x_1 + x_2)^3 - \\frac{1}{4}(x_1 + x_2)\n",
    "$"
   ]
  },
  {
   "cell_type": "code",
   "execution_count": 762,
   "metadata": {},
   "outputs": [],
   "source": [
    "clear all;\n",
    "X = -1:0.01:0.99;\n",
    "X = X';\n",
    "X_train = X(1:2:end);\n",
    "X_test = X(2:2:end);\n",
    "% size(X_train)\n",
    "y_train = modele(1, X_train);\n",
    "% size(y_train)\n",
    "n2 = length(X_train);\n",
    "n = length(X);\n",
    "omega = ones(n2, 1);\n",
    "% size(omega)\n",
    "K = ones(n2, n2);\n",
    "  for i = 1:n2 \n",
    "    K(i, :) = noyau(X_train, X_train(i, :), 2);\n",
    "  end\n",
    "% size(K)  \n",
    "f = @(omega) arrayfun(@(i) sum(K(i, :) * omega), 1:n2);\n",
    "J = @(omega, y) 1/n * norm(f(omega) - y);\n",
    "gradJ = @(omega) (1/n) * K' * ((K * omega) - y_train);"
   ]
  },
  {
   "cell_type": "code",
   "execution_count": 763,
   "metadata": {},
   "outputs": [
    {
     "name": "stdout",
     "output_type": "stream",
     "text": [
      "Warning: Matrix is close to singular or badly scaled. Results may be inaccurate. RCOND =  3.006447e-20.\n",
      "\n",
      "Warning: Imaginary parts of complex X and/or Y arguments ignored.\n"
     ]
    },
    {
     "data": {
      "image/png": "[encoded data removed]",
      "text/plain": [
       "<IPython.core.display.Image object>"
      ]
     },
     "metadata": {},
     "output_type": "display_data"
    }
   ],
   "source": [
    "w_et = (K' * K) \\ (K' * y_train);\n",
    "y_et = f(w_et);\n",
    "plot(X_train, y_train, 'r')\n",
    "hold on\n",
    "plot(X_train, y_et, 'b')\n",
    "hold off"
   ]
  },
  {
   "cell_type": "code",
   "execution_count": 764,
   "metadata": {},
   "outputs": [],
   "source": [
    "alpha = 0.1;\n",
    "num_iterations = 1000;\n",
    "err = zeros(1, num_iterations);\n",
    "for i = 1:num_iterations\n",
    "  omega =  omega - (alpha * gradJ(omega));\n",
    "  err(i) = J(omega, y_train);\n",
    "  hist_omega(:, i) = omega;\n",
    "end"
   ]
  },
  {
   "cell_type": "code",
   "execution_count": 765,
   "metadata": {},
   "outputs": [
    {
     "name": "stdout",
     "output_type": "stream",
     "text": [
      "\n",
      "ans =\n",
      "\n",
      "   4.1013e-04\n",
      "\n"
     ]
    }
   ],
   "source": [
    "norm(gradJ(omega))"
   ]
  },
  {
   "cell_type": "code",
   "execution_count": 766,
   "metadata": {},
   "outputs": [
    {
     "data": {
      "image/png": "[encoded data removed]",
      "text/plain": [
       "<IPython.core.display.Image object>"
      ]
     },
     "metadata": {},
     "output_type": "display_data"
    }
   ],
   "source": [
    "plot(1:num_iterations, err)"
   ]
  },
  {
   "cell_type": "code",
   "execution_count": 767,
   "metadata": {},
   "outputs": [
    {
     "name": "stdout",
     "output_type": "stream",
     "text": [
      "\n",
      "ans =\n",
      "\n",
      "    0.1473\n",
      "\n"
     ]
    },
    {
     "name": "stdout",
     "output_type": "stream",
     "text": [
      "Warning: Imaginary parts of complex X and/or Y arguments ignored.\n"
     ]
    },
    {
     "data": {
      "image/png": "[encoded data removed]",
      "text/plain": [
       "<IPython.core.display.Image object>"
      ]
     },
     "metadata": {},
     "output_type": "display_data"
    }
   ],
   "source": [
    "min_err = 0;\n",
    "opt_omega = zeros(n2, 1);\n",
    "min_err = find(err == min(err));\n",
    "opt_omega = hist_omega(:, min_err);\n",
    "J(opt_omega, y_train)\n",
    "y_predit = f(opt_omega);\n",
    "plot(X_train, y_train, 'r')\n",
    "hold on\n",
    "plot(X_train, y_predit, 'b')\n",
    "hold off\n"
   ]
  }
 ],
 "metadata": {
  "kernelspec": {
   "display_name": "Matlab (Connection)",
   "language": "matlab",
   "name": "matlab_connect"
  },
  "language_info": {
   "codemirror_mode": "octave",
   "file_extension": ".m",
   "help_links": [
    {
     "text": "MetaKernel Magics",
     "url": "https://metakernel.readthedocs.io/en/latest/source/README.html"
    }
   ],
   "mimetype": "text/x-octave",
   "name": "matlab",
   "version": "0.17.1"
  }
 },
 "nbformat": 4,
 "nbformat_minor": 4
}
