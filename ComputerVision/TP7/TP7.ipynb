{
 "cells": [
  {
   "cell_type": "markdown",
   "metadata": {},
   "source": [
    "# TP7"
   ]
  },
  {
   "cell_type": "markdown",
   "metadata": {},
   "source": [
    "## uppercasing/lowercasing"
   ]
  },
  {
   "cell_type": "code",
   "execution_count": 1,
   "metadata": {},
   "outputs": [
    {
     "name": "stdout",
     "output_type": "stream",
     "text": [
      "the cities i like most in india are mumbai, bangalore, dharamsala and allahabad.\n",
      "['india', 'india', 'india', 'india']\n"
     ]
    }
   ],
   "source": [
    "s = \"The cities i like most in india are Mumbai, Bangalore, Dharamsala and Allahabad.\"\n",
    "s = s.lower()\n",
    "print(s)\n",
    "\n",
    "words = [\"indiA\", \"India\", \"india\", \"iNDia\"]\n",
    "words = [word.lower() for word in words]\n",
    "print(words)"
   ]
  },
  {
   "cell_type": "markdown",
   "metadata": {},
   "source": [
    "## Noise removal"
   ]
  },
  {
   "cell_type": "code",
   "execution_count": 3,
   "metadata": {},
   "outputs": [
    {
     "name": "stdout",
     "output_type": "stream",
     "text": [
      "['python', 'python', 'python', 'python', 'python']\n"
     ]
    }
   ],
   "source": [
    "import re\n",
    "\n",
    "def clean_words(text) :\n",
    "  # remove html markup\n",
    "  text = re.sub(\"(<.*?.>)\", \"\", text)\n",
    "  # remove non-ascii and digits\n",
    "  text = re.sub(\"(\\W|\\d+)\", \"\", text)\n",
    "  # remove whitespace\n",
    "  text = text.strip()\n",
    "  return text\n",
    "\n",
    "raw = [\"..python\", \"python!!\", \"#python\", \">>>python>>>\", \"<a>python</a>\"]\n",
    "raw = [clean_words(r) for r in raw]\n",
    "print(raw)"
   ]
  },
  {
   "cell_type": "markdown",
   "metadata": {},
   "source": [
    "## Stemming"
   ]
  },
  {
   "cell_type": "code",
   "execution_count": 6,
   "metadata": {},
   "outputs": [
    {
     "name": "stdout",
     "output_type": "stream",
     "text": [
      "      raw word      stem\n",
      "0  programming   program\n",
      "1   programmer  programm\n",
      "2     programs   program\n"
     ]
    }
   ],
   "source": [
    "import nltk\n",
    "import pandas as pd\n",
    "from nltk.stem import PorterStemmer as ps\n",
    "\n",
    "stemmer = ps()\n",
    "\n",
    "words = [\"programming\", \"programmer\", \"programs\"]\n",
    "\n",
    "stems = [stemmer.stem(word = word) for word in words]\n",
    "\n",
    "sdf = pd.DataFrame({'raw word' : words, 'stem' : stems})\n",
    "print(sdf)"
   ]
  },
  {
   "cell_type": "markdown",
   "metadata": {},
   "source": [
    "## Lemmatization"
   ]
  },
  {
   "cell_type": "code",
   "execution_count": 1,
   "metadata": {},
   "outputs": [
    {
     "name": "stderr",
     "output_type": "stream",
     "text": [
      "[nltk_data] Downloading package wordnet to /home/akram/nltk_data...\n",
      "[nltk_data]   Package wordnet is already up-to-date!\n"
     ]
    },
    {
     "name": "stdout",
     "output_type": "stream",
     "text": [
      "    raw word lemmatized\n",
      "0  troubling  troubling\n",
      "1   troubled   troubled\n",
      "2   troubles    trouble\n",
      "3   peaceful   peaceful\n"
     ]
    }
   ],
   "source": [
    "import nltk\n",
    "import pandas as pd\n",
    "from nltk.stem import PorterStemmer as ps\n",
    "from nltk.stem import WordNetLemmatizer as wnl\n",
    "\n",
    "nltk.download('wordnet')\n",
    "\n",
    "lemmatizer = wnl()\n",
    "\n",
    "words = [\"troubling\", \"troubled\", \"troubles\", \"peaceful\"]\n",
    "\n",
    "lemmatized = [lemmatizer.lemmatize(word = word) for word in words]\n",
    "\n",
    "ldf = pd.DataFrame({'raw word' : words, 'lemmatized' : lemmatized})\n",
    "ldf = ldf[['raw word', 'lemmatized']]\n",
    "print(ldf)"
   ]
  },
  {
   "cell_type": "markdown",
   "metadata": {},
   "source": [
    "## Tokenization"
   ]
  },
  {
   "cell_type": "code",
   "execution_count": 24,
   "metadata": {},
   "outputs": [
    {
     "name": "stderr",
     "output_type": "stream",
     "text": [
      "[nltk_data] Downloading package punkt to /home/akram/nltk_data...\n",
      "[nltk_data]   Package punkt is already up-to-date!\n"
     ]
    },
    {
     "name": "stdout",
     "output_type": "stream",
     "text": [
      "Tokenning by words\n",
      "['hi', '!', 'my', 'name', 'is', 'jhon', '.']\n",
      "Tokinning by sentence\n",
      "['hi!', 'my name is jhon.']\n"
     ]
    }
   ],
   "source": [
    "import nltk\n",
    "from nltk import word_tokenize\n",
    "from nltk import sent_tokenize\n",
    "\n",
    "nltk.download('punkt')\n",
    "\n",
    "s = \"hi! my name is jhon.\"\n",
    "tokens = word_tokenize(s)\n",
    "print(\"Tokenning by words\")\n",
    "print(tokens)\n",
    "\n",
    "tokens = sent_tokenize(s)\n",
    "print(\"Tokinning by sentence\")\n",
    "print(tokens)"
   ]
  },
  {
   "cell_type": "markdown",
   "metadata": {},
   "source": [
    "## Stop words"
   ]
  },
  {
   "cell_type": "code",
   "execution_count": 25,
   "metadata": {},
   "outputs": [
    {
     "name": "stdout",
     "output_type": "stream",
     "text": [
      "['weather', 'really', 'hot', 'want', 'go', 'swim']\n"
     ]
    },
    {
     "name": "stderr",
     "output_type": "stream",
     "text": [
      "[nltk_data] Downloading package stopwords to /home/akram/nltk_data...\n",
      "[nltk_data]   Package stopwords is already up-to-date!\n"
     ]
    }
   ],
   "source": [
    "import nltk\n",
    "from nltk.corpus import stopwords\n",
    "\n",
    "nltk.download('stopwords')\n",
    "\n",
    "s = \"the weather is really hot and i want to go for a swim\"\n",
    "stop_words = set(stopwords.words('english'))\n",
    "tokens = word_tokenize(s)\n",
    "tokens = [word for word in tokens if not word in stop_words]\n",
    "print(tokens)\n"
   ]
  }
 ],
 "metadata": {
  "kernelspec": {
   "display_name": "Python 3",
   "language": "python",
   "name": "python3"
  },
  "language_info": {
   "codemirror_mode": {
    "name": "ipython",
    "version": 3
   },
   "file_extension": ".py",
   "mimetype": "text/x-python",
   "name": "python",
   "nbconvert_exporter": "python",
   "pygments_lexer": "ipython3",
   "version": "3.10.12"
  }
 },
 "nbformat": 4,
 "nbformat_minor": 2
}
