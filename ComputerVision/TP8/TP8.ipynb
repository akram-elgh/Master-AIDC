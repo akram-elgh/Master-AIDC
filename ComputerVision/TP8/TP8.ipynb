{
 "cells": [
  {
   "cell_type": "markdown",
   "metadata": {},
   "source": [
    "# EX1"
   ]
  },
  {
   "cell_type": "markdown",
   "metadata": {},
   "source": [
    "## Ouverture du fichier\n"
   ]
  },
  {
   "cell_type": "code",
   "execution_count": 22,
   "metadata": {},
   "outputs": [
    {
     "name": "stdout",
     "output_type": "stream",
     "text": [
      "Contenue de 'doc.txt' : \n",
      "La vision par ordinateur est une branche de l'intelligence artificielle qui vise à permettre aux machines de comprendre et d'interpréter des informations visuelles.\n"
     ]
    }
   ],
   "source": [
    "doc = open(\"doc.txt\", \"r\")\n",
    "cont = doc.read()\n",
    "print(\"Contenue de 'doc.txt' : \")\n",
    "print(cont)"
   ]
  },
  {
   "cell_type": "markdown",
   "metadata": {},
   "source": [
    "## Transformation de document en miniscules : "
   ]
  },
  {
   "cell_type": "code",
   "execution_count": 23,
   "metadata": {},
   "outputs": [
    {
     "name": "stdout",
     "output_type": "stream",
     "text": [
      "la vision par ordinateur est une branche de l'intelligence artificielle qui vise à permettre aux machines de comprendre et d'interpréter des informations visuelles.\n"
     ]
    }
   ],
   "source": [
    "cont = cont.lower()\n",
    "print(cont)"
   ]
  },
  {
   "cell_type": "markdown",
   "metadata": {},
   "source": [
    "## Supression de ponctuation : "
   ]
  },
  {
   "cell_type": "code",
   "execution_count": 24,
   "metadata": {},
   "outputs": [
    {
     "name": "stdout",
     "output_type": "stream",
     "text": [
      "la vision par ordinateur est une branche de lintelligence artificielle qui vise à permettre aux machines de comprendre et dinterpréter des informations visuelles\n"
     ]
    }
   ],
   "source": [
    "import re\n",
    "\n",
    "def clean_words(text) :\n",
    "    # remove html markup\n",
    "    text = re.sub(\"(<.*?.>)\", \"\", text)\n",
    "    # remove non-ascii and digits\n",
    "    text = re.sub(r'[^\\w\\s]', \"\", text)\n",
    "    return text\n",
    "\n",
    "cont = clean_words(cont)\n",
    "print(cont)"
   ]
  },
  {
   "cell_type": "markdown",
   "metadata": {},
   "source": [
    "## Supression des mots vides"
   ]
  },
  {
   "cell_type": "code",
   "execution_count": 25,
   "metadata": {},
   "outputs": [
    {
     "name": "stdout",
     "output_type": "stream",
     "text": [
      "['vision', 'ordinateur', 'branche', 'lintelligence', 'artificielle', 'vise', 'permettre', 'machines', 'comprendre', 'dinterpréter', 'informations', 'visuelles']\n"
     ]
    }
   ],
   "source": [
    "import nltk\n",
    "from nltk import word_tokenize\n",
    "from nltk.corpus import stopwords\n",
    "\n",
    "# nltk.download('stopwords')\n",
    "\n",
    "def tokenisation(cont) :\n",
    "  stop_words = set(stopwords.words('french'))\n",
    "  tokens = word_tokenize(cont)\n",
    "  tokens = [word for word in tokens if not word in stop_words]\n",
    "  return tokens\n",
    "\n",
    "tokens = tokenisation(cont)\n",
    "print(tokens)\n"
   ]
  },
  {
   "cell_type": "markdown",
   "metadata": {},
   "source": [
    "## Stemming : "
   ]
  },
  {
   "cell_type": "code",
   "execution_count": 29,
   "metadata": {},
   "outputs": [
    {
     "data": {
      "text/html": [
       "<div>\n",
       "<style scoped>\n",
       "    .dataframe tbody tr th:only-of-type {\n",
       "        vertical-align: middle;\n",
       "    }\n",
       "\n",
       "    .dataframe tbody tr th {\n",
       "        vertical-align: top;\n",
       "    }\n",
       "\n",
       "    .dataframe thead th {\n",
       "        text-align: right;\n",
       "    }\n",
       "</style>\n",
       "<table border=\"1\" class=\"dataframe\">\n",
       "  <thead>\n",
       "    <tr style=\"text-align: right;\">\n",
       "      <th></th>\n",
       "      <th>raw word</th>\n",
       "      <th>stem</th>\n",
       "    </tr>\n",
       "  </thead>\n",
       "  <tbody>\n",
       "    <tr>\n",
       "      <th>0</th>\n",
       "      <td>vision</td>\n",
       "      <td>vision</td>\n",
       "    </tr>\n",
       "    <tr>\n",
       "      <th>1</th>\n",
       "      <td>ordinateur</td>\n",
       "      <td>ordinateur</td>\n",
       "    </tr>\n",
       "    <tr>\n",
       "      <th>2</th>\n",
       "      <td>branche</td>\n",
       "      <td>branch</td>\n",
       "    </tr>\n",
       "    <tr>\n",
       "      <th>3</th>\n",
       "      <td>lintelligence</td>\n",
       "      <td>lintellig</td>\n",
       "    </tr>\n",
       "    <tr>\n",
       "      <th>4</th>\n",
       "      <td>artificielle</td>\n",
       "      <td>artificiel</td>\n",
       "    </tr>\n",
       "    <tr>\n",
       "      <th>5</th>\n",
       "      <td>vise</td>\n",
       "      <td>vise</td>\n",
       "    </tr>\n",
       "    <tr>\n",
       "      <th>6</th>\n",
       "      <td>permettre</td>\n",
       "      <td>permettr</td>\n",
       "    </tr>\n",
       "    <tr>\n",
       "      <th>7</th>\n",
       "      <td>machines</td>\n",
       "      <td>machin</td>\n",
       "    </tr>\n",
       "    <tr>\n",
       "      <th>8</th>\n",
       "      <td>comprendre</td>\n",
       "      <td>comprendr</td>\n",
       "    </tr>\n",
       "    <tr>\n",
       "      <th>9</th>\n",
       "      <td>dinterpréter</td>\n",
       "      <td>dinterprét</td>\n",
       "    </tr>\n",
       "    <tr>\n",
       "      <th>10</th>\n",
       "      <td>informations</td>\n",
       "      <td>inform</td>\n",
       "    </tr>\n",
       "    <tr>\n",
       "      <th>11</th>\n",
       "      <td>visuelles</td>\n",
       "      <td>visuel</td>\n",
       "    </tr>\n",
       "  </tbody>\n",
       "</table>\n",
       "</div>"
      ],
      "text/plain": [
       "         raw word        stem\n",
       "0          vision      vision\n",
       "1      ordinateur  ordinateur\n",
       "2         branche      branch\n",
       "3   lintelligence   lintellig\n",
       "4    artificielle  artificiel\n",
       "5            vise        vise\n",
       "6       permettre    permettr\n",
       "7        machines      machin\n",
       "8      comprendre   comprendr\n",
       "9    dinterpréter  dinterprét\n",
       "10   informations      inform\n",
       "11      visuelles      visuel"
      ]
     },
     "execution_count": 29,
     "metadata": {},
     "output_type": "execute_result"
    }
   ],
   "source": [
    "import pandas as pd\n",
    "from nltk.stem import PorterStemmer as ps\n",
    "\n",
    "stemmer = ps()\n",
    "\n",
    "def stemming(tokens) :\n",
    "  \n",
    "  # words = [\"programming\", \"programmer\", \"programs\"]\n",
    "  return [stemmer.stem(word = word) for word in tokens]\n",
    "\n",
    "\n",
    "stems = stemming(tokens)\n",
    "\n",
    "sdf = pd.DataFrame({'raw word' : tokens, 'stem' : stems})\n",
    "\n",
    "file = open(\"doc-stem.txt\", mode='w+')\n",
    "file.write(' '.join(map(str, stems)))\n",
    "sdf"
   ]
  },
  {
   "cell_type": "markdown",
   "metadata": {},
   "source": [
    "### Contenue de doc-stem.txt : \n",
    "\n",
    "  vision ordinateur branche lintelligence artificielle vise permettre machine comprendre dinterpréter information visuelles"
   ]
  },
  {
   "cell_type": "markdown",
   "metadata": {},
   "source": [
    "## Lemmatization"
   ]
  },
  {
   "cell_type": "code",
   "execution_count": 32,
   "metadata": {},
   "outputs": [
    {
     "data": {
      "text/html": [
       "<div>\n",
       "<style scoped>\n",
       "    .dataframe tbody tr th:only-of-type {\n",
       "        vertical-align: middle;\n",
       "    }\n",
       "\n",
       "    .dataframe tbody tr th {\n",
       "        vertical-align: top;\n",
       "    }\n",
       "\n",
       "    .dataframe thead th {\n",
       "        text-align: right;\n",
       "    }\n",
       "</style>\n",
       "<table border=\"1\" class=\"dataframe\">\n",
       "  <thead>\n",
       "    <tr style=\"text-align: right;\">\n",
       "      <th></th>\n",
       "      <th>raw word</th>\n",
       "      <th>lemmatized</th>\n",
       "    </tr>\n",
       "  </thead>\n",
       "  <tbody>\n",
       "    <tr>\n",
       "      <th>0</th>\n",
       "      <td>vision</td>\n",
       "      <td>vision</td>\n",
       "    </tr>\n",
       "    <tr>\n",
       "      <th>1</th>\n",
       "      <td>ordinateur</td>\n",
       "      <td>ordinateur</td>\n",
       "    </tr>\n",
       "    <tr>\n",
       "      <th>2</th>\n",
       "      <td>branche</td>\n",
       "      <td>branche</td>\n",
       "    </tr>\n",
       "    <tr>\n",
       "      <th>3</th>\n",
       "      <td>lintelligence</td>\n",
       "      <td>lintelligence</td>\n",
       "    </tr>\n",
       "    <tr>\n",
       "      <th>4</th>\n",
       "      <td>artificielle</td>\n",
       "      <td>artificielle</td>\n",
       "    </tr>\n",
       "    <tr>\n",
       "      <th>5</th>\n",
       "      <td>vise</td>\n",
       "      <td>vise</td>\n",
       "    </tr>\n",
       "    <tr>\n",
       "      <th>6</th>\n",
       "      <td>permettre</td>\n",
       "      <td>permettre</td>\n",
       "    </tr>\n",
       "    <tr>\n",
       "      <th>7</th>\n",
       "      <td>machines</td>\n",
       "      <td>machine</td>\n",
       "    </tr>\n",
       "    <tr>\n",
       "      <th>8</th>\n",
       "      <td>comprendre</td>\n",
       "      <td>comprendre</td>\n",
       "    </tr>\n",
       "    <tr>\n",
       "      <th>9</th>\n",
       "      <td>dinterpréter</td>\n",
       "      <td>dinterpréter</td>\n",
       "    </tr>\n",
       "    <tr>\n",
       "      <th>10</th>\n",
       "      <td>informations</td>\n",
       "      <td>information</td>\n",
       "    </tr>\n",
       "    <tr>\n",
       "      <th>11</th>\n",
       "      <td>visuelles</td>\n",
       "      <td>visuelles</td>\n",
       "    </tr>\n",
       "  </tbody>\n",
       "</table>\n",
       "</div>"
      ],
      "text/plain": [
       "         raw word     lemmatized\n",
       "0          vision         vision\n",
       "1      ordinateur     ordinateur\n",
       "2         branche        branche\n",
       "3   lintelligence  lintelligence\n",
       "4    artificielle   artificielle\n",
       "5            vise           vise\n",
       "6       permettre      permettre\n",
       "7        machines        machine\n",
       "8      comprendre     comprendre\n",
       "9    dinterpréter   dinterpréter\n",
       "10   informations    information\n",
       "11      visuelles      visuelles"
      ]
     },
     "execution_count": 32,
     "metadata": {},
     "output_type": "execute_result"
    }
   ],
   "source": [
    "from nltk.stem import PorterStemmer as ps\n",
    "from nltk.stem import WordNetLemmatizer as wnl\n",
    "\n",
    "# nltk.download('wordnet')\n",
    "lemmatizer = wnl()\n",
    "\n",
    "def lemmatize(tokens) :\n",
    "\n",
    "  # words = [\"troubling\", \"troubled\", \"troubles\", \"peaceful\"]\n",
    "\n",
    "  lemmatized = [lemmatizer.lemmatize(word = word) for word in tokens]\n",
    "  \n",
    "  return lemmatized\n",
    "\n",
    "lemmatized = lemmatize(tokens)\n",
    "ldf = pd.DataFrame({'raw word' : tokens, 'lemmatized' : lemmatized})\n",
    "ldf = ldf[['raw word', 'lemmatized']]\n",
    "\n",
    "file = open(\"doc-lem.txt\", mode='w+')\n",
    "file.write(' '.join(map(str, lemmatized)))\n",
    "\n",
    "ldf"
   ]
  },
  {
   "cell_type": "markdown",
   "metadata": {},
   "source": [
    "### Contenue de doc-lem.txt : \n",
    "\n",
    "  vision ordinateur branche lintelligence artificielle vise permettre machine comprendre dinterpréter information visuelles  "
   ]
  },
  {
   "cell_type": "markdown",
   "metadata": {},
   "source": [
    "# EX2"
   ]
  },
  {
   "cell_type": "markdown",
   "metadata": {},
   "source": [
    "## Lecture des documents"
   ]
  },
  {
   "cell_type": "code",
   "execution_count": 34,
   "metadata": {},
   "outputs": [
    {
     "name": "stdout",
     "output_type": "stream",
     "text": [
      "Contenue de 'doc.txt' :\n",
      "\n",
      "La vision par ordinateur est une branche de l'intelligence artificielle qui vise à permettre aux machines de comprendre et d'interpréter des informations visuelles.\n",
      "\n",
      "Contenue de 'doc2.txt' :\n",
      "\n",
      "Les algorithmes de vision par ordinateur sont utilisés pour la détection d'objets, la reconnaissance de formes et la segmentation d'images.\n"
     ]
    }
   ],
   "source": [
    "fichier1 = open(\"doc.txt\", \"r\")\n",
    "doc1 = fichier1.read()\n",
    "fichier1.close()\n",
    "fichier2 = open(\"doc2.txt\", \"r\")\n",
    "doc2 = fichier2.read()\n",
    "fichier2.close()\n",
    "\n",
    "print(\"Contenue de 'doc.txt' :\\n\")\n",
    "print(doc1)\n",
    "print(\"\\nContenue de 'doc2.txt' :\\n\")\n",
    "print(doc2)"
   ]
  },
  {
   "cell_type": "markdown",
   "metadata": {},
   "source": [
    "## Pretraitement de l'image\n",
    "\n",
    "Implementation d'une fonction qui va nous faire le pretraitement des documents"
   ]
  },
  {
   "cell_type": "code",
   "execution_count": 36,
   "metadata": {},
   "outputs": [],
   "source": [
    "def pretraitement(doc) :\n",
    "  doc = doc.lower()\n",
    "  doc = clean_words(doc)\n",
    "  tokens = tokenisation(doc)\n",
    "  stems = stemming(tokens)\n",
    "  \n",
    "  return stems\n",
    "  "
   ]
  },
  {
   "cell_type": "markdown",
   "metadata": {},
   "source": [
    "## TF-IDF"
   ]
  },
  {
   "cell_type": "markdown",
   "metadata": {},
   "source": [
    "Implementation du fonction pour calculer le TF-IDF pour chaque mot du documents"
   ]
  },
  {
   "cell_type": "code",
   "execution_count": 37,
   "metadata": {},
   "outputs": [],
   "source": [
    "import math\n",
    "\n",
    "def TFIDF(word, doc, doc_collection) :\n",
    "  # TF() : \n",
    "  TF = doc.count(word) / len(doc)\n",
    "  # IDF() : DF / N\n",
    "  N = len(doc_collection)\n",
    "  S = 0\n",
    "  for doc in doc_collection : \n",
    "     if word in doc :\n",
    "       S += 1\n",
    "       \n",
    "  IDF = math.log(N / S)    \n",
    "  \n",
    "  return TF * IDF"
   ]
  },
  {
   "cell_type": "markdown",
   "metadata": {},
   "source": [
    "## Test du fonction :"
   ]
  },
  {
   "cell_type": "code",
   "execution_count": 38,
   "metadata": {},
   "outputs": [
    {
     "name": "stdout",
     "output_type": "stream",
     "text": [
      "[['vision', 'ordinateur', 'branch', 'lintellig', 'artificiel', 'vise', 'permettr', 'machin', 'comprendr', 'dinterprét', 'inform', 'visuel'], ['algorithm', 'vision', 'ordinateur', 'utilisé', 'détection', 'dobjet', 'reconnaiss', 'form', 'segment', 'dimag']]\n"
     ]
    }
   ],
   "source": [
    "## Pretraitement\n",
    "trait1 = pretraitement(doc1)\n",
    "trait2 = pretraitement(doc2)\n",
    "# on ajout les documents traiate dans une collection de documents\n",
    "doc_collection = [trait1, trait2]\n",
    "print(doc_collection)"
   ]
  },
  {
   "cell_type": "code",
   "execution_count": 41,
   "metadata": {},
   "outputs": [
    {
     "name": "stdout",
     "output_type": "stream",
     "text": [
      "Pour le document 1 : \n",
      "\n"
     ]
    },
    {
     "data": {
      "text/html": [
       "<div>\n",
       "<style scoped>\n",
       "    .dataframe tbody tr th:only-of-type {\n",
       "        vertical-align: middle;\n",
       "    }\n",
       "\n",
       "    .dataframe tbody tr th {\n",
       "        vertical-align: top;\n",
       "    }\n",
       "\n",
       "    .dataframe thead th {\n",
       "        text-align: right;\n",
       "    }\n",
       "</style>\n",
       "<table border=\"1\" class=\"dataframe\">\n",
       "  <thead>\n",
       "    <tr style=\"text-align: right;\">\n",
       "      <th></th>\n",
       "      <th>Words</th>\n",
       "      <th>TF-IDF</th>\n",
       "    </tr>\n",
       "  </thead>\n",
       "  <tbody>\n",
       "    <tr>\n",
       "      <th>0</th>\n",
       "      <td>vision</td>\n",
       "      <td>0.000000</td>\n",
       "    </tr>\n",
       "    <tr>\n",
       "      <th>1</th>\n",
       "      <td>ordinateur</td>\n",
       "      <td>0.000000</td>\n",
       "    </tr>\n",
       "    <tr>\n",
       "      <th>2</th>\n",
       "      <td>branch</td>\n",
       "      <td>0.057762</td>\n",
       "    </tr>\n",
       "    <tr>\n",
       "      <th>3</th>\n",
       "      <td>lintellig</td>\n",
       "      <td>0.057762</td>\n",
       "    </tr>\n",
       "    <tr>\n",
       "      <th>4</th>\n",
       "      <td>artificiel</td>\n",
       "      <td>0.057762</td>\n",
       "    </tr>\n",
       "    <tr>\n",
       "      <th>5</th>\n",
       "      <td>vise</td>\n",
       "      <td>0.057762</td>\n",
       "    </tr>\n",
       "    <tr>\n",
       "      <th>6</th>\n",
       "      <td>permettr</td>\n",
       "      <td>0.057762</td>\n",
       "    </tr>\n",
       "    <tr>\n",
       "      <th>7</th>\n",
       "      <td>machin</td>\n",
       "      <td>0.057762</td>\n",
       "    </tr>\n",
       "    <tr>\n",
       "      <th>8</th>\n",
       "      <td>comprendr</td>\n",
       "      <td>0.057762</td>\n",
       "    </tr>\n",
       "    <tr>\n",
       "      <th>9</th>\n",
       "      <td>dinterprét</td>\n",
       "      <td>0.057762</td>\n",
       "    </tr>\n",
       "    <tr>\n",
       "      <th>10</th>\n",
       "      <td>inform</td>\n",
       "      <td>0.057762</td>\n",
       "    </tr>\n",
       "    <tr>\n",
       "      <th>11</th>\n",
       "      <td>visuel</td>\n",
       "      <td>0.057762</td>\n",
       "    </tr>\n",
       "  </tbody>\n",
       "</table>\n",
       "</div>"
      ],
      "text/plain": [
       "         Words    TF-IDF\n",
       "0       vision  0.000000\n",
       "1   ordinateur  0.000000\n",
       "2       branch  0.057762\n",
       "3    lintellig  0.057762\n",
       "4   artificiel  0.057762\n",
       "5         vise  0.057762\n",
       "6     permettr  0.057762\n",
       "7       machin  0.057762\n",
       "8    comprendr  0.057762\n",
       "9   dinterprét  0.057762\n",
       "10      inform  0.057762\n",
       "11      visuel  0.057762"
      ]
     },
     "execution_count": 41,
     "metadata": {},
     "output_type": "execute_result"
    }
   ],
   "source": [
    "tfidf_doc1 = [TFIDF(word, trait1, doc_collection) for word in trait1]\n",
    "tfidf_doc2 = [TFIDF(word, trait2, doc_collection) for word in trait2]\n",
    "\n",
    "pf = pd.DataFrame({\"Words\" : trait1, \"TF-IDF\" : tfidf_doc1})\n",
    "pds2 = pd.DataFrame({\"Words\" : trait2, \"TF-IDF\" : tfidf_doc2})\n",
    "print(\"Pour le document 1 : \\n\")\n",
    "pf"
   ]
  },
  {
   "cell_type": "code",
   "execution_count": 42,
   "metadata": {},
   "outputs": [
    {
     "name": "stdout",
     "output_type": "stream",
     "text": [
      "Pour le document 2 : \n",
      "\n"
     ]
    },
    {
     "data": {
      "text/html": [
       "<div>\n",
       "<style scoped>\n",
       "    .dataframe tbody tr th:only-of-type {\n",
       "        vertical-align: middle;\n",
       "    }\n",
       "\n",
       "    .dataframe tbody tr th {\n",
       "        vertical-align: top;\n",
       "    }\n",
       "\n",
       "    .dataframe thead th {\n",
       "        text-align: right;\n",
       "    }\n",
       "</style>\n",
       "<table border=\"1\" class=\"dataframe\">\n",
       "  <thead>\n",
       "    <tr style=\"text-align: right;\">\n",
       "      <th></th>\n",
       "      <th>Words</th>\n",
       "      <th>TF-IDF</th>\n",
       "    </tr>\n",
       "  </thead>\n",
       "  <tbody>\n",
       "    <tr>\n",
       "      <th>0</th>\n",
       "      <td>algorithm</td>\n",
       "      <td>0.069315</td>\n",
       "    </tr>\n",
       "    <tr>\n",
       "      <th>1</th>\n",
       "      <td>vision</td>\n",
       "      <td>0.000000</td>\n",
       "    </tr>\n",
       "    <tr>\n",
       "      <th>2</th>\n",
       "      <td>ordinateur</td>\n",
       "      <td>0.000000</td>\n",
       "    </tr>\n",
       "    <tr>\n",
       "      <th>3</th>\n",
       "      <td>utilisé</td>\n",
       "      <td>0.069315</td>\n",
       "    </tr>\n",
       "    <tr>\n",
       "      <th>4</th>\n",
       "      <td>détection</td>\n",
       "      <td>0.069315</td>\n",
       "    </tr>\n",
       "    <tr>\n",
       "      <th>5</th>\n",
       "      <td>dobjet</td>\n",
       "      <td>0.069315</td>\n",
       "    </tr>\n",
       "    <tr>\n",
       "      <th>6</th>\n",
       "      <td>reconnaiss</td>\n",
       "      <td>0.069315</td>\n",
       "    </tr>\n",
       "    <tr>\n",
       "      <th>7</th>\n",
       "      <td>form</td>\n",
       "      <td>0.069315</td>\n",
       "    </tr>\n",
       "    <tr>\n",
       "      <th>8</th>\n",
       "      <td>segment</td>\n",
       "      <td>0.069315</td>\n",
       "    </tr>\n",
       "    <tr>\n",
       "      <th>9</th>\n",
       "      <td>dimag</td>\n",
       "      <td>0.069315</td>\n",
       "    </tr>\n",
       "  </tbody>\n",
       "</table>\n",
       "</div>"
      ],
      "text/plain": [
       "        Words    TF-IDF\n",
       "0   algorithm  0.069315\n",
       "1      vision  0.000000\n",
       "2  ordinateur  0.000000\n",
       "3     utilisé  0.069315\n",
       "4   détection  0.069315\n",
       "5      dobjet  0.069315\n",
       "6  reconnaiss  0.069315\n",
       "7        form  0.069315\n",
       "8     segment  0.069315\n",
       "9       dimag  0.069315"
      ]
     },
     "execution_count": 42,
     "metadata": {},
     "output_type": "execute_result"
    }
   ],
   "source": [
    "print(\"Pour le document 2 : \\n\")\n",
    "pds2"
   ]
  },
  {
   "cell_type": "markdown",
   "metadata": {},
   "source": [
    "# Ex 3"
   ]
  },
  {
   "cell_type": "markdown",
   "metadata": {},
   "source": [
    "## Distance Cosinus"
   ]
  },
  {
   "cell_type": "code",
   "execution_count": 144,
   "metadata": {},
   "outputs": [],
   "source": [
    "def simCosine(v1, v2) :\n",
    "  mini = v2 if len(v1) > len(v2) else v1\n",
    "  maxi = v1 if len(v1) > len(v2) else v2\n",
    "  N = len(maxi)\n",
    "  S1 = 0\n",
    "  S2 = 0\n",
    "  S3 = 0\n",
    "  for i in range(N - len(mini)) : \n",
    "    mini.append(0)\n",
    "  \n",
    "  for i in range(N) :\n",
    "    S1 += maxi[i] * mini[i]\n",
    "    S2 += maxi[i] ** 2\n",
    "    S3 += mini[i] ** 2\n",
    "  \n",
    "  return S1 / math.sqrt(S2) * math.sqrt(S3)      \n",
    "  "
   ]
  },
  {
   "cell_type": "markdown",
   "metadata": {},
   "source": [
    "## Test"
   ]
  },
  {
   "cell_type": "code",
   "execution_count": 151,
   "metadata": {},
   "outputs": [
    {
     "data": {
      "text/plain": [
       "0.030081116775241015"
      ]
     },
     "execution_count": 151,
     "metadata": {},
     "output_type": "execute_result"
    }
   ],
   "source": [
    "v1 = pretraitement(doc1)\n",
    "v2 = pretraitement(doc2)\n",
    "# print(v1)\n",
    "# print(v2)\n",
    "doc_collection = [v1, v2]\n",
    "\n",
    "tfidf_doc1 = [TFIDF(word, v1, doc_collection) for word in v1]\n",
    "tfidf_doc2 = [TFIDF(word, v2, doc_collection) for word in v2]\n",
    "# print(tfidf_doc1)\n",
    "# print(tfidf_doc2)\n",
    "cos = simCosine(tfidf_doc1, tfidf_doc2)\n",
    "cos\n"
   ]
  },
  {
   "cell_type": "markdown",
   "metadata": {},
   "source": [
    "## Distance Bray-Curtis"
   ]
  },
  {
   "cell_type": "code",
   "execution_count": 152,
   "metadata": {},
   "outputs": [],
   "source": [
    "def simBray(v1, v2) :\n",
    "  mini = v2 if len(v1) > len(v2) else v1\n",
    "  maxi = v1 if len(v1) > len(v2) else v2\n",
    "  N = len(maxi)\n",
    "  S1 = 0\n",
    "  S2 = 0\n",
    "  for i in range(N - len(mini)) : \n",
    "    mini.append(0)\n",
    "    \n",
    "  for i in range(N) :\n",
    "    S1 += min(maxi[i], mini[i])\n",
    "    S2 += maxi[i] + mini[i]\n",
    "  \n",
    "  return 2 * S1 / S2  "
   ]
  },
  {
   "cell_type": "markdown",
   "metadata": {},
   "source": [
    "## Test"
   ]
  },
  {
   "cell_type": "code",
   "execution_count": 153,
   "metadata": {},
   "outputs": [
    {
     "data": {
      "text/plain": [
       "0.7142857142857145"
      ]
     },
     "execution_count": 153,
     "metadata": {},
     "output_type": "execute_result"
    }
   ],
   "source": [
    "v1 = pretraitement(doc1)\n",
    "v2 = pretraitement(doc2)\n",
    "# print(v1)\n",
    "# print(v2)\n",
    "doc_collection = [v1, v2]\n",
    "\n",
    "tfidf_doc1 = [TFIDF(word, v1, doc_collection) for word in v1]\n",
    "tfidf_doc2 = [TFIDF(word, v2, doc_collection) for word in v2]\n",
    "# print(tfidf_doc1)\n",
    "# print(tfidf_doc2)\n",
    "cos = simBray(tfidf_doc1, tfidf_doc2)\n",
    "cos\n"
   ]
  }
 ],
 "metadata": {
  "kernelspec": {
   "display_name": "Python 3",
   "language": "python",
   "name": "python3"
  },
  "language_info": {
   "codemirror_mode": {
    "name": "ipython",
    "version": 3
   },
   "file_extension": ".py",
   "mimetype": "text/x-python",
   "name": "python",
   "nbconvert_exporter": "python",
   "pygments_lexer": "ipython3",
   "version": "3.10.12"
  }
 },
 "nbformat": 4,
 "nbformat_minor": 2
}
