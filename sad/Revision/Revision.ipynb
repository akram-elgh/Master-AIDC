{
 "cells": [
  {
   "cell_type": "markdown",
   "metadata": {},
   "source": [
    "<!-- # <h1 align = \"center\"> Révision </h1>\n",
    "\n",
    "<h4 align = \"center\"> Dans ce fichier, nous allons effectuer une analyse complète des données.</h2> -->\n",
    "\n",
    "#  Identification du problème\n",
    "\n",
    "La première étape de toute analyse consiste à identifier le problème que nous allons étudier. Dans ce fichier, notre problème est de déterminer quels sont les facteurs qui influencent la satisfaction des individus. Pour aborder ce problème, nous formulons plusieurs hypothèses. Par exemple, nous pourrions supposer que le revenu, l'éducation, l'expérience professionnelle et le secteur d'activité ont une influence sur la satisfaction. Pour répondre à ces questions, nous allons effectuer les analyses suivantes :\n",
    "\n",
    "- Régression linéaire simple : nous allons essayer de prédire la satisfaction en nous basant sur une variable qui présente une relation linéaire avec la satisfaction.\n",
    "- Régression linéaire multiple : nous allons essayer de prédire la satisfaction en nous basant sur plusieurs variables qui présentent une relation linéaire avec la satisfaction.\n",
    "- ANOVA (Analyse de la variance) : nous allons utiliser l'ANOVA pour déterminer si les moyennes de satisfaction diffèrent significativement entre différents groupes ou catégories de variables.\n",
    "- ACP (Analyse en composantes principales) : nous allons utiliser l'ACP pour réduire la dimensionnalité de nos données et identifier les variables qui contribuent le plus à la variation de la satisfaction.\n",
    "- ACF (Analyse des corrélations fonctionnelles) : nous allons utiliser l'ACF pour étudier les relations fonctionnelles entre les variables et la satisfaction.\n",
    "\n",
    "# Collection des données\n",
    "\n",
    "La deuxième étape est généralement la phase de collection des données. Pour cela, nous devons suivre plusieurs étapes :\n",
    "\n",
    "1. Identification de l'échantillon : Il est essentiel de choisir un échantillon représentatif qui correspond à notre problème d'étude. Cela garantit que les résultats obtenus sont généralisables à la population cible.\n",
    "\n",
    "2. Collecte des données : La collecte des données peut être réalisée à l'aide de questionnaires, d'entretiens, d'observations, etc. Il est important de collecter un maximum de données pertinentes pour notre analyse.\n",
    "\n",
    "Dans notre cas, nous utiliserons des données générées par l'IA, juste pour la simplicité.\n",
    "\n",
    "# Prétraitement des données\n",
    "\n",
    "La troisième étape consiste au prétraitement des données. Cela implique la suppression des variables perturbantes, le filtrage et la suppression des colonnes indésirables, ainsi que la transformation des données en un format avec lequel nous pouvons travailler.\n",
    "\n",
    "Pour effectuer le prétraitement des données, nous pouvons utiliser des techniques telles que :\n",
    "\n",
    "- Nettoyage des données : Suppression des valeurs manquantes, des valeurs aberrantes et des doublons.\n",
    "- Transformation des données : Normalisation, discrétisation, codage des variables catégorielles, etc.\n",
    "- Sélection des variables : Identification des variables les plus pertinentes pour notre analyse.\n",
    "\n",
    "Une fois que nous avons prétraité nos données, nous sommes prêts à passer à l'étape suivante de notre analyse.\n",
    "\n",
    "Maintenant, on commence notre analyse, d'abord on faire la lecture des données.\n",
    "\n",
    "- ## Lecture des données"
   ]
  },
  {
   "cell_type": "code",
   "execution_count": 58,
   "metadata": {
    "vscode": {
     "languageId": "r"
    }
   },
   "outputs": [
    {
     "data": {
      "text/html": [
       "<table class=\"dataframe\">\n",
       "<caption>A data.frame: 6 × 6</caption>\n",
       "<thead>\n",
       "\t<tr><th></th><th scope=col>Revenu</th><th scope=col>Experience</th><th scope=col>Education</th><th scope=col>Satisfaction</th><th scope=col>Secteur</th><th scope=col>Age</th></tr>\n",
       "\t<tr><th></th><th scope=col>&lt;int&gt;</th><th scope=col>&lt;int&gt;</th><th scope=col>&lt;fct&gt;</th><th scope=col>&lt;dbl&gt;</th><th scope=col>&lt;fct&gt;</th><th scope=col>&lt;int&gt;</th></tr>\n",
       "</thead>\n",
       "<tbody>\n",
       "\t<tr><th scope=row>1</th><td> 60000</td><td> 5</td><td>Bachelor  </td><td>8.5</td><td>IT        </td><td>32</td></tr>\n",
       "\t<tr><th scope=row>2</th><td> 75000</td><td> 8</td><td>Master    </td><td>7.2</td><td>Finance   </td><td>45</td></tr>\n",
       "\t<tr><th scope=row>3</th><td> 50000</td><td> 3</td><td>Secondaire</td><td>6.0</td><td>Ventes    </td><td>28</td></tr>\n",
       "\t<tr><th scope=row>4</th><td> 90000</td><td> 9</td><td>Ph.D.     </td><td>9.3</td><td>Recherche </td><td>38</td></tr>\n",
       "\t<tr><th scope=row>5</th><td>120000</td><td>11</td><td>Bachelor  </td><td>8.8</td><td>Ingénierie</td><td>50</td></tr>\n",
       "\t<tr><th scope=row>6</th><td> 95000</td><td> 6</td><td>Master    </td><td>7.5</td><td>IT        </td><td>34</td></tr>\n",
       "</tbody>\n",
       "</table>\n"
      ],
      "text/latex": [
       "A data.frame: 6 × 6\n",
       "\\begin{tabular}{r|llllll}\n",
       "  & Revenu & Experience & Education & Satisfaction & Secteur & Age\\\\\n",
       "  & <int> & <int> & <fct> & <dbl> & <fct> & <int>\\\\\n",
       "\\hline\n",
       "\t1 &  60000 &  5 & Bachelor   & 8.5 & IT         & 32\\\\\n",
       "\t2 &  75000 &  8 & Master     & 7.2 & Finance    & 45\\\\\n",
       "\t3 &  50000 &  3 & Secondaire & 6.0 & Ventes     & 28\\\\\n",
       "\t4 &  90000 &  9 & Ph.D.      & 9.3 & Recherche  & 38\\\\\n",
       "\t5 & 120000 & 11 & Bachelor   & 8.8 & Ingénierie & 50\\\\\n",
       "\t6 &  95000 &  6 & Master     & 7.5 & IT         & 34\\\\\n",
       "\\end{tabular}\n"
      ],
      "text/markdown": [
       "\n",
       "A data.frame: 6 × 6\n",
       "\n",
       "| <!--/--> | Revenu &lt;int&gt; | Experience &lt;int&gt; | Education &lt;fct&gt; | Satisfaction &lt;dbl&gt; | Secteur &lt;fct&gt; | Age &lt;int&gt; |\n",
       "|---|---|---|---|---|---|---|\n",
       "| 1 |  60000 |  5 | Bachelor   | 8.5 | IT         | 32 |\n",
       "| 2 |  75000 |  8 | Master     | 7.2 | Finance    | 45 |\n",
       "| 3 |  50000 |  3 | Secondaire | 6.0 | Ventes     | 28 |\n",
       "| 4 |  90000 |  9 | Ph.D.      | 9.3 | Recherche  | 38 |\n",
       "| 5 | 120000 | 11 | Bachelor   | 8.8 | Ingénierie | 50 |\n",
       "| 6 |  95000 |  6 | Master     | 7.5 | IT         | 34 |\n",
       "\n"
      ],
      "text/plain": [
       "  Revenu Experience Education  Satisfaction Secteur    Age\n",
       "1  60000  5         Bachelor   8.5          IT         32 \n",
       "2  75000  8         Master     7.2          Finance    45 \n",
       "3  50000  3         Secondaire 6.0          Ventes     28 \n",
       "4  90000  9         Ph.D.      9.3          Recherche  38 \n",
       "5 120000 11         Bachelor   8.8          Ingénierie 50 \n",
       "6  95000  6         Master     7.5          IT         34 "
      ]
     },
     "metadata": {},
     "output_type": "display_data"
    }
   ],
   "source": [
    "data <- read.csv(\"data/data.csv\", stringsAsFactors = TRUE)\n",
    "head(data[c(0:length(data))])"
   ]
  },
  {
   "cell_type": "markdown",
   "metadata": {},
   "source": [
    "La description des données :\n",
    "1. **Revenu :** Le revenu en dollars.\n",
    "2. **Expérience :** Le nombre d'années d'expérience dans le domaine de travail.\n",
    "3. **Éducation :** Le niveau d'éducation, catégorisé en Secondaire, Bachelor (Licence), Master et Ph.D.\n",
    "4. **Satisfaction :** Le niveau de satisfaction, mesuré sur une échelle donnée.\n",
    "5. **Secteur d'activité :** Le secteur d'activité dans lequel la personne travaille.\n",
    "6. **Âge :** L'âge de la personne.\n",
    "\n",
    "Dans notre cas, nous avons aucune valeur nulle."
   ]
  },
  {
   "cell_type": "markdown",
   "metadata": {},
   "source": [
    "# Analyse Statistique\n",
    "\n",
    "Maintenant on commence notre Analyse Statistique, et la première chose est de déterminer les types des variables a étudier.\n",
    "\n",
    "## Types des variables\n",
    "\n",
    "### **Variables quantitatives :**\n",
    "\n",
    "  1. Revenu - Quantitative continue (mesurée en dollars).\n",
    "  2. Expérience - Quantitative discrète (mesurée en années).\n",
    "  3. Satisfaction - Quantitative continue (mesurée sur une échelle).\n",
    "  \n",
    "### **Variables qualitatives :**\n",
    "\n",
    "  1.  Éducation - Qualitative ordinale (niveau d'éducation catégorisé en Secondaire, Bachelor, Master, Ph.D.).\n",
    "  2. Secteur - Qualitative nominale (catégorie du secteur d'activité).\n",
    "  3. Âge - Qualitative ordinale (groupe d'âge).\n",
    "\n",
    "## Analyse univariée\n",
    "\n",
    "L'analyse univariée est une étape initiale dans l'exploration des données qui vise à comprendre la distribution et les caractéristiques d'une seule variable à la fois. Elle permet d'obtenir des informations statistiques et des tendances centrales pour une variable donnée, qu'elle soit quantitative ou qualitative.\n",
    "\n",
    "**Pour les variables quantitatives :**\n",
    "- **Description générale :** La description d'une variable quantitative implique l'analyse de la tendance centrale, qui est souvent représentée par la moyenne, la médiane et le mode. On examine également la dispersion des données, généralement mesurée par l'écart type.\n",
    "- **Visualisation :** Pour visualiser une variable quantitative, on utilise généralement des histogrammes, des boîtes à moustaches (box plots) et des diagrammes de densité.\n",
    "\n",
    "**Pour les variables qualitatives :**\n",
    "- **Description générale :** Pour les variables qualitatives, l'analyse se concentre sur la fréquence de chaque catégorie. On examine également les proportions et les pourcentages pour avoir une idée de la répartition des catégories.\n",
    "- **Visualisation :** Les diagrammes en barres (bar plots) et les diagrammes circulaires (pie charts) sont couramment utilisés pour visualiser les variables qualitatives.\n",
    "\n",
    "Ces analyses univariées fournissent une compréhension approfondie des caractéristiques individuelles des variables, ce qui peut orienter la sélection des méthodes d'analyse statistique plus avancées par la suite.\n",
    "\n",
    "### Étude d'une variable qualitative (Éducation):\n",
    "\n",
    "  #### Le tableau de l'effectif :"
   ]
  },
  {
   "cell_type": "code",
   "execution_count": 34,
   "metadata": {
    "vscode": {
     "languageId": "r"
    }
   },
   "outputs": [
    {
     "data": {
      "text/html": [
       "<table class=\"dataframe\">\n",
       "<caption>A data.frame: 4 × 5</caption>\n",
       "<thead>\n",
       "\t<tr><th scope=col>Education</th><th scope=col>Effectif</th><th scope=col>Frequence</th><th scope=col>FCC</th><th scope=col>FCD</th></tr>\n",
       "\t<tr><th scope=col>&lt;fct&gt;</th><th scope=col>&lt;int&gt;</th><th scope=col>&lt;dbl&gt;</th><th scope=col>&lt;dbl&gt;</th><th scope=col>&lt;dbl&gt;</th></tr>\n",
       "</thead>\n",
       "<tbody>\n",
       "\t<tr><td>Bachelor  </td><td>32</td><td>0.2807018</td><td>0.2807018</td><td>1.0000000</td></tr>\n",
       "\t<tr><td>Master    </td><td>32</td><td>0.2807018</td><td>0.5614035</td><td>0.7192982</td></tr>\n",
       "\t<tr><td>Ph.D.     </td><td>24</td><td>0.2105263</td><td>0.7719298</td><td>0.4385965</td></tr>\n",
       "\t<tr><td>Secondaire</td><td>26</td><td>0.2280702</td><td>1.0000000</td><td>0.2280702</td></tr>\n",
       "</tbody>\n",
       "</table>\n"
      ],
      "text/latex": [
       "A data.frame: 4 × 5\n",
       "\\begin{tabular}{lllll}\n",
       " Education & Effectif & Frequence & FCC & FCD\\\\\n",
       " <fct> & <int> & <dbl> & <dbl> & <dbl>\\\\\n",
       "\\hline\n",
       "\t Bachelor   & 32 & 0.2807018 & 0.2807018 & 1.0000000\\\\\n",
       "\t Master     & 32 & 0.2807018 & 0.5614035 & 0.7192982\\\\\n",
       "\t Ph.D.      & 24 & 0.2105263 & 0.7719298 & 0.4385965\\\\\n",
       "\t Secondaire & 26 & 0.2280702 & 1.0000000 & 0.2280702\\\\\n",
       "\\end{tabular}\n"
      ],
      "text/markdown": [
       "\n",
       "A data.frame: 4 × 5\n",
       "\n",
       "| Education &lt;fct&gt; | Effectif &lt;int&gt; | Frequence &lt;dbl&gt; | FCC &lt;dbl&gt; | FCD &lt;dbl&gt; |\n",
       "|---|---|---|---|---|\n",
       "| Bachelor   | 32 | 0.2807018 | 0.2807018 | 1.0000000 |\n",
       "| Master     | 32 | 0.2807018 | 0.5614035 | 0.7192982 |\n",
       "| Ph.D.      | 24 | 0.2105263 | 0.7719298 | 0.4385965 |\n",
       "| Secondaire | 26 | 0.2280702 | 1.0000000 | 0.2280702 |\n",
       "\n"
      ],
      "text/plain": [
       "  Education  Effectif Frequence FCC       FCD      \n",
       "1 Bachelor   32       0.2807018 0.2807018 1.0000000\n",
       "2 Master     32       0.2807018 0.5614035 0.7192982\n",
       "3 Ph.D.      24       0.2105263 0.7719298 0.4385965\n",
       "4 Secondaire 26       0.2280702 1.0000000 0.2280702"
      ]
     },
     "metadata": {},
     "output_type": "display_data"
    }
   ],
   "source": [
    "# Créer un dataframe pour l'analyse univariée\n",
    "library(tidyverse)\n",
    "univariate_table <- data %>%\n",
    "  group_by(Education) %>%\n",
    "  summarise(\n",
    "    Effectif = n(),                  # Effectif\n",
    "    Frequence = n() / nrow(data)     # Fréquence\n",
    "  )\n",
    "univariate_table$FCC <- cumsum(univariate_table$Frequence) # Fréquence cumulée croissante\n",
    "univariate_table$FCD <- rev(cumsum(rev(univariate_table$Frequence))) # Fréquence cumulée décroissante\n",
    "\n",
    "# Afficher le tableau\n",
    "as.data.frame(univariate_table)\n"
   ]
  },
  {
   "cell_type": "markdown",
   "metadata": {},
   "source": [
    " #### Représentation graphique :  "
   ]
  },
  {
   "cell_type": "code",
   "execution_count": 32,
   "metadata": {
    "vscode": {
     "languageId": "r"
    }
   },
   "outputs": [
    {
     "data": {
      "image/png": "[encoded data removed]",
      "text/plain": [
       "plot without title"
      ]
     },
     "metadata": {
      "image/png": {
       "height": 420,
       "width": 420
      }
     },
     "output_type": "display_data"
    }
   ],
   "source": [
    "library(ggplot2)\n",
    "\n",
    "# Créer un bar plot pour la variable 'Education'\n",
    "ggplot(data, aes(x = Education)) +\n",
    "  geom_bar(fill = \"skyblue\", color = \"black\") +\n",
    "  geom_text(stat = \"count\", aes(label = after_stat(count)), vjust = -0.5) +\n",
    "  labs(title = \"Distribution de l'éducation\",\n",
    "       x = \"Éducation\",\n",
    "       y = \"Effectif\")\n"
   ]
  },
  {
   "cell_type": "markdown",
   "metadata": {},
   "source": [
    "### Étude d'une variable quantitative (Satisfaction)  \n",
    "\n",
    " ####  Tendance centrale :"
   ]
  },
  {
   "cell_type": "code",
   "execution_count": 40,
   "metadata": {
    "vscode": {
     "languageId": "r"
    }
   },
   "outputs": [
    {
     "data": {
      "text/html": [
       "<table class=\"dataframe\">\n",
       "<caption>A data.frame: 1 × 5</caption>\n",
       "<thead>\n",
       "\t<tr><th scope=col>Minimum</th><th scope=col>Moyenne</th><th scope=col>Modes</th><th scope=col>Médiane</th><th scope=col>Maximum</th></tr>\n",
       "\t<tr><th scope=col>&lt;dbl&gt;</th><th scope=col>&lt;dbl&gt;</th><th scope=col>&lt;chr&gt;</th><th scope=col>&lt;dbl&gt;</th><th scope=col>&lt;dbl&gt;</th></tr>\n",
       "</thead>\n",
       "<tbody>\n",
       "\t<tr><td>5.6</td><td>7.90614</td><td>8.5</td><td>8.25</td><td>9.5</td></tr>\n",
       "</tbody>\n",
       "</table>\n"
      ],
      "text/latex": [
       "A data.frame: 1 × 5\n",
       "\\begin{tabular}{lllll}\n",
       " Minimum & Moyenne & Modes & Médiane & Maximum\\\\\n",
       " <dbl> & <dbl> & <chr> & <dbl> & <dbl>\\\\\n",
       "\\hline\n",
       "\t 5.6 & 7.90614 & 8.5 & 8.25 & 9.5\\\\\n",
       "\\end{tabular}\n"
      ],
      "text/markdown": [
       "\n",
       "A data.frame: 1 × 5\n",
       "\n",
       "| Minimum &lt;dbl&gt; | Moyenne &lt;dbl&gt; | Modes &lt;chr&gt; | Médiane &lt;dbl&gt; | Maximum &lt;dbl&gt; |\n",
       "|---|---|---|---|---|\n",
       "| 5.6 | 7.90614 | 8.5 | 8.25 | 9.5 |\n",
       "\n"
      ],
      "text/plain": [
       "  Minimum Moyenne Modes Médiane Maximum\n",
       "1 5.6     7.90614 8.5   8.25    9.5    "
      ]
     },
     "metadata": {},
     "output_type": "display_data"
    }
   ],
   "source": [
    "moyenne <- mean(data$Satisfaction)\n",
    "freq_table <- table(data$Satisfaction)\n",
    "modes <- as.numeric(names(freq_table[freq_table == max(freq_table)]))\n",
    "median <- median(data$Satisfaction)\n",
    "min <- min(data$Satisfaction)\n",
    "max <- max(data$Satisfaction)\n",
    "\n",
    "# Affichage des résultats avec print\n",
    "df <- data.frame(\n",
    "  Minimum = min,\n",
    "  Moyenne = moyenne,\n",
    "  Modes = toString(modes),\n",
    "  Médiane = median,\n",
    "  Maximum = max\n",
    ")\n",
    "df\n"
   ]
  },
  {
   "cell_type": "markdown",
   "metadata": {},
   "source": [
    "Ici on peut voir l’intervalle de variation de la variable Satisfaction, aussi on peut voir que la médiane de 8.25 est proche de la moyenne, suggérant une distribution relativement symétrique. On vérifie ca avec les paramètres de la dispersion.\n",
    "\n",
    "#### Dispersion :"
   ]
  },
  {
   "cell_type": "code",
   "execution_count": 41,
   "metadata": {
    "vscode": {
     "languageId": "r"
    }
   },
   "outputs": [
    {
     "data": {
      "text/html": [
       "<table class=\"dataframe\">\n",
       "<caption>A data.frame: 1 × 2</caption>\n",
       "<thead>\n",
       "\t<tr><th scope=col>Variance</th><th scope=col>Écart_type</th></tr>\n",
       "\t<tr><th scope=col>&lt;dbl&gt;</th><th scope=col>&lt;dbl&gt;</th></tr>\n",
       "</thead>\n",
       "<tbody>\n",
       "\t<tr><td>1.204475</td><td>1.097486</td></tr>\n",
       "</tbody>\n",
       "</table>\n"
      ],
      "text/latex": [
       "A data.frame: 1 × 2\n",
       "\\begin{tabular}{ll}\n",
       " Variance & Écart\\_type\\\\\n",
       " <dbl> & <dbl>\\\\\n",
       "\\hline\n",
       "\t 1.204475 & 1.097486\\\\\n",
       "\\end{tabular}\n"
      ],
      "text/markdown": [
       "\n",
       "A data.frame: 1 × 2\n",
       "\n",
       "| Variance &lt;dbl&gt; | Écart_type &lt;dbl&gt; |\n",
       "|---|---|\n",
       "| 1.204475 | 1.097486 |\n",
       "\n"
      ],
      "text/plain": [
       "  Variance Écart_type\n",
       "1 1.204475 1.097486  "
      ]
     },
     "metadata": {},
     "output_type": "display_data"
    }
   ],
   "source": [
    "var <- var(data$Satisfaction)\n",
    "et <- sd(data$Satisfaction)\n",
    "df <- data.frame(\n",
    "  Variance = var,\n",
    "  Écart_type = et\n",
    ")\n",
    "df"
   ]
  },
  {
   "cell_type": "markdown",
   "metadata": {},
   "source": [
    "Les paramètres de la dispersion nous donne des informations sur la distribution des individus et leur dispersion autour de la moyenne, ici on voit que l’écart-type ($\\sigma$) n'est pas assez petit que la moyenne ($\\bar{X}$), cela peut signifie que nos données ne sont pas très homogènes, et on vérifie ca avec la représentation graphique.\n",
    "\n",
    "#### Représentation graphique :  \n",
    "  - Histogramme"
   ]
  },
  {
   "cell_type": "code",
   "execution_count": 54,
   "metadata": {
    "vscode": {
     "languageId": "r"
    }
   },
   "outputs": [
    {
     "data": {
      "image/png": "[encoded data removed]",
      "text/plain": [
       "Plot with title “Histogramme de la satisfaction”"
      ]
     },
     "metadata": {
      "image/png": {
       "height": 420,
       "width": 420
      }
     },
     "output_type": "display_data"
    }
   ],
   "source": [
    "hist(data$Satisfaction,\n",
    "  breaks = 10, col = \"skyblue\", border = \"black\", xlab = \"Satisfaction\", main = \"Histogramme de la satisfaction\"\n",
    ")\n"
   ]
  },
  {
   "cell_type": "markdown",
   "metadata": {},
   "source": [
    "Ici on peut clairement voir que la distribution est asymétrique vers le gauche, avec des scores entre 6 et 7 ayant des fréquences plus faibles, et des scores plus que ayant également une fréquence plus faible que 8, mais plus élevée que les valeurs entre 6 et 7.\n",
    "\n",
    "Une interprétation serait que les participants sont généralement satisfaits, avec une légère majorité étant très satisfaite (score de environs 8), tandis que moins sont extrêmement satisfaits (score autour de 9) ou modérément satisfaits (scores entre 6 et 7).\n",
    "\n",
    "- Boite a moustache"
   ]
  },
  {
   "cell_type": "code",
   "execution_count": 55,
   "metadata": {
    "vscode": {
     "languageId": "r"
    }
   },
   "outputs": [
    {
     "data": {
      "image/png": "[encoded data removed]",
      "text/plain": [
       "Plot with title “Boîte à moustaches de la satisfaction”"
      ]
     },
     "metadata": {
      "image/png": {
       "height": 420,
       "width": 420
      }
     },
     "output_type": "display_data"
    }
   ],
   "source": [
    "boxplot(data$Satisfaction, col = \"skyblue\", border = \"black\", xlab = \"Satisfaction\", main = \"Boîte à moustaches de la satisfaction\")"
   ]
  },
  {
   "cell_type": "markdown",
   "metadata": {},
   "source": [
    "Ce boite a moustache affirme l’asymétrie de notre données, avec la présence des outliers, ils sont les valeurs qui causent l’asymétrie de notre données.\n",
    "\n",
    "Maintenant qu'on a terminer avec l'analyse univariée, on passe a l'analyse bivairée.\n",
    "\n",
    "## Analyse bivariée\n",
    "\n",
    "L'analyse bivariée constitue la prochaine étape logique après l'analyse univariée et se concentre sur les relations entre deux variables à la fois. Elle permet d'explorer les associations, les corrélations et les dépendances entre différentes paires de variables, qu'elles soient quantitatives ou qualitatives.\n",
    "\n",
    "**Pour les variables quantitatives :**\n",
    "\n",
    "1. **Régression linéaire simple :** Lorsque l'on souhaite comprendre la relation linéaire entre deux variables quantitatives, la régression linéaire simple est souvent utilisée. Elle permet de modéliser et de prédire la variable dépendante en fonction de la variable indépendante.\n",
    "\n",
    "2. **Corrélation :** La corrélation (par exemple, le coefficient de corrélation de Pearson) mesure la force et la direction de la relation linéaire entre deux variables quantitatives. Elle indique si les variations dans une variable sont associées aux variations dans une autre variable.\n",
    "\n",
    "**Pour les variables qualitatives :**\n",
    "\n",
    "1. **Tableau de contingence :** Lorsque l'on travaille avec deux variables qualitatives, un tableau de contingence est souvent utilisé pour résumer la fréquence des occurrences conjointes des différentes catégories.\n",
    "\n",
    "2. **Test du chi-carré :** Le test du chi-carré permet de déterminer si deux variables qualitatives sont indépendantes ou s'il existe une association significative entre elles.\n",
    "\n",
    "3. **Analyse des Correspondances (ACF) :** L'ACF est une méthode puissante pour explorer les relations entre deux variables qualitatives. Elle permet de visualiser et d'interpréter les relations entre les catégories de plusieurs variables qualitatives. L'ACF peut remplacer le tableau de contingence et le test du chi-carré, car ils font partie intégrante de l'ACF.\n",
    "\n",
    "Pour les variables mixtes (une quantitative et une qualitative) :\n",
    "\n",
    "1. **Analyse de variance (ANOVA) :** Lorsque l'on souhaite comparer les moyennes de la variable quantitative entre différentes catégories de la variable qualitative, l'ANOVA peut être utilisée.\n",
    "\n",
    "Ces méthodes d'analyse bivariée permettent de découvrir et d'interpréter les relations entre différentes paires de variables, contribuant ainsi à une compréhension plus approfondie des données."
   ]
  }
 ],
 "metadata": {
  "kernelspec": {
   "display_name": "R",
   "language": "R",
   "name": "ir"
  },
  "language_info": {
   "codemirror_mode": "r",
   "file_extension": ".r",
   "mimetype": "text/x-r-source",
   "name": "R",
   "pygments_lexer": "r",
   "version": "4.1.2"
  }
 },
 "nbformat": 4,
 "nbformat_minor": 2
}
