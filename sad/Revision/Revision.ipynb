{
 "cells": [
  {
   "cell_type": "markdown",
   "metadata": {},
   "source": [
    "<!-- # <h1 align = \"center\"> Révision </h1>\n",
    "\n",
    "<h4 align = \"center\"> Dans ce fichier, nous allons effectuer une analyse complète des données.</h2> -->\n",
    "\n",
    "#  Identification du problème\n",
    "\n",
    "La première étape de toute analyse consiste à identifier le problème que nous allons étudier. Dans ce fichier, notre problème est de déterminer quels sont les facteurs qui influencent la satisfaction des individus. Pour aborder ce problème, nous formulons plusieurs hypothèses. Par exemple, nous pourrions supposer que le revenu, l'éducation, l'expérience professionnelle et le secteur d'activité ont une influence sur la satisfaction. Pour répondre à ces questions, nous allons effectuer les analyses suivantes :\n",
    "\n",
    "- Régression linéaire simple : nous allons essayer de prédire la satisfaction en nous basant sur une variable qui présente une relation linéaire avec la satisfaction.\n",
    "- Régression linéaire multiple : nous allons essayer de prédire la satisfaction en nous basant sur plusieurs variables qui présentent une relation linéaire avec la satisfaction.\n",
    "- ANOVA (Analyse de la variance) : nous allons utiliser l'ANOVA pour déterminer si les moyennes de satisfaction diffèrent significativement entre différents groupes ou catégories de variables.\n",
    "- ACP (Analyse en composantes principales) : nous allons utiliser l'ACP pour réduire la dimensionnalité de nos données et identifier les variables qui contribuent le plus à la variation de la satisfaction.\n",
    "- AFC (Analyse factorielle des correspondances) : nous allons utiliser l'AFC pour étudier la correspondance entre deux variables qualitatives.\n",
    "\n",
    "# Collection des données\n",
    "\n",
    "La deuxième étape est généralement la phase de collection des données. Pour cela, nous devons suivre plusieurs étapes :\n",
    "\n",
    "1. Identification de l'échantillon : Il est essentiel de choisir un échantillon représentatif qui correspond à notre problème d'étude. Cela garantit que les résultats obtenus sont généralisables à la population cible.\n",
    "\n",
    "2. Collecte des données : La collecte des données peut être réalisée à l'aide de questionnaires, d'entretiens, d'observations, etc. Il est important de collecter un maximum de données pertinentes pour notre analyse.\n",
    "\n",
    "Dans notre cas, nous utiliserons des données générées par l'IA, juste pour la simplicité.\n",
    "\n",
    "# Prétraitement des données\n",
    "\n",
    "La troisième étape consiste au prétraitement des données. Cela implique la suppression des variables perturbantes, le filtrage et la suppression des colonnes indésirables, ainsi que la transformation des données en un format avec lequel nous pouvons travailler.\n",
    "\n",
    "Pour effectuer le prétraitement des données, nous pouvons utiliser des techniques telles que :\n",
    "\n",
    "- Nettoyage des données : Suppression des valeurs manquantes, des valeurs aberrantes et des doublons.\n",
    "- Transformation des données : Normalisation, discrétisation, codage des variables catégorielles, etc.\n",
    "- Sélection des variables : Identification des variables les plus pertinentes pour notre analyse.\n",
    "\n",
    "Une fois que nous avons prétraité nos données, nous sommes prêts à passer à l'étape suivante de notre analyse.\n",
    "\n",
    "Maintenant, on commence notre analyse, d'abord on faire la lecture des données.\n",
    "\n",
    "- ## Lecture des données"
   ]
  },
  {
   "cell_type": "code",
   "execution_count": 117,
   "metadata": {
    "vscode": {
     "languageId": "r"
    }
   },
   "outputs": [
    {
     "data": {
      "text/html": [
       "<table class=\"dataframe\">\n",
       "<caption>A data.frame: 6 × 6</caption>\n",
       "<thead>\n",
       "\t<tr><th></th><th scope=col>Revenu</th><th scope=col>Experience</th><th scope=col>Education</th><th scope=col>Satisfaction</th><th scope=col>Secteur</th><th scope=col>Age</th></tr>\n",
       "\t<tr><th></th><th scope=col>&lt;dbl&gt;</th><th scope=col>&lt;dbl&gt;</th><th scope=col>&lt;fct&gt;</th><th scope=col>&lt;dbl&gt;</th><th scope=col>&lt;fct&gt;</th><th scope=col>&lt;dbl&gt;</th></tr>\n",
       "</thead>\n",
       "<tbody>\n",
       "\t<tr><th scope=row>1</th><td> 48000</td><td> 5</td><td>Secondaire</td><td>8.5</td><td>Ouvrier agricole     </td><td>32</td></tr>\n",
       "\t<tr><th scope=row>2</th><td> 60000</td><td> 8</td><td>Bachelor  </td><td>7.2</td><td>Secrétaire           </td><td>45</td></tr>\n",
       "\t<tr><th scope=row>3</th><td> 35000</td><td> 3</td><td>Secondaire</td><td>6.0</td><td>Ouvrier agricole     </td><td>28</td></tr>\n",
       "\t<tr><th scope=row>4</th><td> 90000</td><td> 9</td><td>Ph.D.     </td><td>9.3</td><td>PDG                  </td><td>38</td></tr>\n",
       "\t<tr><th scope=row>5</th><td>110000</td><td>11</td><td>Master    </td><td>8.8</td><td>Ingénieur agronome   </td><td>50</td></tr>\n",
       "\t<tr><th scope=row>6</th><td> 75000</td><td> 6</td><td>Master    </td><td>7.5</td><td>Employé administratif</td><td>34</td></tr>\n",
       "</tbody>\n",
       "</table>\n"
      ],
      "text/latex": [
       "A data.frame: 6 × 6\n",
       "\\begin{tabular}{r|llllll}\n",
       "  & Revenu & Experience & Education & Satisfaction & Secteur & Age\\\\\n",
       "  & <dbl> & <dbl> & <fct> & <dbl> & <fct> & <dbl>\\\\\n",
       "\\hline\n",
       "\t1 &  48000 &  5 & Secondaire & 8.5 & Ouvrier agricole      & 32\\\\\n",
       "\t2 &  60000 &  8 & Bachelor   & 7.2 & Secrétaire            & 45\\\\\n",
       "\t3 &  35000 &  3 & Secondaire & 6.0 & Ouvrier agricole      & 28\\\\\n",
       "\t4 &  90000 &  9 & Ph.D.      & 9.3 & PDG                   & 38\\\\\n",
       "\t5 & 110000 & 11 & Master     & 8.8 & Ingénieur agronome    & 50\\\\\n",
       "\t6 &  75000 &  6 & Master     & 7.5 & Employé administratif & 34\\\\\n",
       "\\end{tabular}\n"
      ],
      "text/markdown": [
       "\n",
       "A data.frame: 6 × 6\n",
       "\n",
       "| <!--/--> | Revenu &lt;dbl&gt; | Experience &lt;dbl&gt; | Education &lt;fct&gt; | Satisfaction &lt;dbl&gt; | Secteur &lt;fct&gt; | Age &lt;dbl&gt; |\n",
       "|---|---|---|---|---|---|---|\n",
       "| 1 |  48000 |  5 | Secondaire | 8.5 | Ouvrier agricole      | 32 |\n",
       "| 2 |  60000 |  8 | Bachelor   | 7.2 | Secrétaire            | 45 |\n",
       "| 3 |  35000 |  3 | Secondaire | 6.0 | Ouvrier agricole      | 28 |\n",
       "| 4 |  90000 |  9 | Ph.D.      | 9.3 | PDG                   | 38 |\n",
       "| 5 | 110000 | 11 | Master     | 8.8 | Ingénieur agronome    | 50 |\n",
       "| 6 |  75000 |  6 | Master     | 7.5 | Employé administratif | 34 |\n",
       "\n"
      ],
      "text/plain": [
       "  Revenu Experience Education  Satisfaction Secteur               Age\n",
       "1  48000  5         Secondaire 8.5          Ouvrier agricole      32 \n",
       "2  60000  8         Bachelor   7.2          Secrétaire            45 \n",
       "3  35000  3         Secondaire 6.0          Ouvrier agricole      28 \n",
       "4  90000  9         Ph.D.      9.3          PDG                   38 \n",
       "5 110000 11         Master     8.8          Ingénieur agronome    50 \n",
       "6  75000  6         Master     7.5          Employé administratif 34 "
      ]
     },
     "metadata": {},
     "output_type": "display_data"
    }
   ],
   "source": [
    "data <- read.csv(\"data/data.csv\", stringsAsFactors = TRUE)\n",
    "head(data[c(0:length(data))])"
   ]
  },
  {
   "cell_type": "markdown",
   "metadata": {},
   "source": [
    "La description des données :\n",
    "1. **Revenu :** Le revenu en dollars.\n",
    "2. **Expérience :** Le nombre d'années d'expérience dans le domaine de travail.\n",
    "3. **Éducation :** Le niveau d'éducation, catégorisé en Secondaire, Bachelor (Licence), Master et Ph.D.\n",
    "4. **Satisfaction :** Le niveau de satisfaction, mesuré sur une échelle donnée.\n",
    "5. **Secteur d'activité :** Le secteur d'activité dans lequel la personne travaille.\n",
    "6. **Âge :** L'âge de la personne.\n",
    "\n",
    "Dans notre cas, nous avons aucune valeur nulle."
   ]
  },
  {
   "cell_type": "markdown",
   "metadata": {},
   "source": [
    "# Analyse Statistique\n",
    "\n",
    "Maintenant on commence notre Analyse Statistique, et la première chose est de déterminer les types des variables a étudier.\n",
    "\n",
    "## Types des variables\n",
    "\n",
    "### **Variables quantitatives :**\n",
    "\n",
    "  1. Revenu - Quantitative continue (mesurée en dollars).\n",
    "  2. Expérience - Quantitative discrète (mesurée en années).\n",
    "  3. Satisfaction - Quantitative continue (mesurée sur une échelle).\n",
    "  \n",
    "### **Variables qualitatives :**\n",
    "\n",
    "  1.  Éducation - Qualitative ordinale (niveau d'éducation catégorisé en Secondaire, Bachelor, Master, Ph.D.).\n",
    "  2. Secteur - Qualitative nominale (catégorie du secteur d'activité).\n",
    "  3. Âge - Qualitative ordinale (groupe d'âge).\n",
    "\n",
    "## Analyse univariée\n",
    "\n",
    "L'analyse univariée est une étape initiale dans l'exploration des données qui vise à comprendre la distribution et les caractéristiques d'une seule variable à la fois. Elle permet d'obtenir des informations statistiques et des tendances centrales pour une variable donnée, qu'elle soit quantitative ou qualitative.\n",
    "\n",
    "**Pour les variables quantitatives :**\n",
    "- **Description générale :** La description d'une variable quantitative implique l'analyse de la tendance centrale, qui est souvent représentée par la moyenne, la médiane et le mode. On examine également la dispersion des données, généralement mesurée par l'écart type.\n",
    "- **Visualisation :** Pour visualiser une variable quantitative, on utilise généralement des histogrammes, des boîtes à moustaches (box plots) et des diagrammes de densité.\n",
    "\n",
    "**Pour les variables qualitatives :**\n",
    "- **Description générale :** Pour les variables qualitatives, l'analyse se concentre sur la fréquence de chaque catégorie. On examine également les proportions et les pourcentages pour avoir une idée de la répartition des catégories.\n",
    "- **Visualisation :** Les diagrammes en barres (bar plots) et les diagrammes circulaires (pie charts) sont couramment utilisés pour visualiser les variables qualitatives.\n",
    "\n",
    "Ces analyses univariées fournissent une compréhension approfondie des caractéristiques individuelles des variables, ce qui peut orienter la sélection des méthodes d'analyse statistique plus avancées par la suite.\n",
    "\n",
    "### Étude d'une variable qualitative (Éducation):\n",
    "\n",
    "  #### Le tableau de l'effectif :"
   ]
  },
  {
   "cell_type": "code",
   "execution_count": 118,
   "metadata": {
    "vscode": {
     "languageId": "r"
    }
   },
   "outputs": [
    {
     "data": {
      "text/html": [
       "<table class=\"dataframe\">\n",
       "<caption>A data.frame: 4 × 5</caption>\n",
       "<thead>\n",
       "\t<tr><th scope=col>Education</th><th scope=col>Effectif</th><th scope=col>Frequence</th><th scope=col>FCC</th><th scope=col>FCD</th></tr>\n",
       "\t<tr><th scope=col>&lt;fct&gt;</th><th scope=col>&lt;int&gt;</th><th scope=col>&lt;dbl&gt;</th><th scope=col>&lt;dbl&gt;</th><th scope=col>&lt;dbl&gt;</th></tr>\n",
       "</thead>\n",
       "<tbody>\n",
       "\t<tr><td>Bachelor  </td><td>41</td><td>0.2594937</td><td>0.2594937</td><td>1.0000000</td></tr>\n",
       "\t<tr><td>Master    </td><td>43</td><td>0.2721519</td><td>0.5316456</td><td>0.7405063</td></tr>\n",
       "\t<tr><td>Ph.D.     </td><td>35</td><td>0.2215190</td><td>0.7531646</td><td>0.4683544</td></tr>\n",
       "\t<tr><td>Secondaire</td><td>39</td><td>0.2468354</td><td>1.0000000</td><td>0.2468354</td></tr>\n",
       "</tbody>\n",
       "</table>\n"
      ],
      "text/latex": [
       "A data.frame: 4 × 5\n",
       "\\begin{tabular}{lllll}\n",
       " Education & Effectif & Frequence & FCC & FCD\\\\\n",
       " <fct> & <int> & <dbl> & <dbl> & <dbl>\\\\\n",
       "\\hline\n",
       "\t Bachelor   & 41 & 0.2594937 & 0.2594937 & 1.0000000\\\\\n",
       "\t Master     & 43 & 0.2721519 & 0.5316456 & 0.7405063\\\\\n",
       "\t Ph.D.      & 35 & 0.2215190 & 0.7531646 & 0.4683544\\\\\n",
       "\t Secondaire & 39 & 0.2468354 & 1.0000000 & 0.2468354\\\\\n",
       "\\end{tabular}\n"
      ],
      "text/markdown": [
       "\n",
       "A data.frame: 4 × 5\n",
       "\n",
       "| Education &lt;fct&gt; | Effectif &lt;int&gt; | Frequence &lt;dbl&gt; | FCC &lt;dbl&gt; | FCD &lt;dbl&gt; |\n",
       "|---|---|---|---|---|\n",
       "| Bachelor   | 41 | 0.2594937 | 0.2594937 | 1.0000000 |\n",
       "| Master     | 43 | 0.2721519 | 0.5316456 | 0.7405063 |\n",
       "| Ph.D.      | 35 | 0.2215190 | 0.7531646 | 0.4683544 |\n",
       "| Secondaire | 39 | 0.2468354 | 1.0000000 | 0.2468354 |\n",
       "\n"
      ],
      "text/plain": [
       "  Education  Effectif Frequence FCC       FCD      \n",
       "1 Bachelor   41       0.2594937 0.2594937 1.0000000\n",
       "2 Master     43       0.2721519 0.5316456 0.7405063\n",
       "3 Ph.D.      35       0.2215190 0.7531646 0.4683544\n",
       "4 Secondaire 39       0.2468354 1.0000000 0.2468354"
      ]
     },
     "metadata": {},
     "output_type": "display_data"
    }
   ],
   "source": [
    "# Créer un dataframe pour l'analyse univariée\n",
    "library(tidyverse)\n",
    "univariate_table <- data %>%\n",
    "  group_by(Education) %>%\n",
    "  summarise(\n",
    "    Effectif = n(),                  # Effectif\n",
    "    Frequence = n() / nrow(data)     # Fréquence\n",
    "  )\n",
    "univariate_table$FCC <- cumsum(univariate_table$Frequence) # Fréquence cumulée croissante\n",
    "univariate_table$FCD <- rev(cumsum(rev(univariate_table$Frequence))) # Fréquence cumulée décroissante\n",
    "\n",
    "# Afficher le tableau\n",
    "as.data.frame(univariate_table)\n"
   ]
  },
  {
   "cell_type": "markdown",
   "metadata": {},
   "source": [
    " #### Représentation graphique :  "
   ]
  },
  {
   "cell_type": "code",
   "execution_count": 119,
   "metadata": {
    "vscode": {
     "languageId": "r"
    }
   },
   "outputs": [
    {
     "data": {
      "image/png": "[encoded data removed]",
      "text/plain": [
       "plot without title"
      ]
     },
     "metadata": {
      "image/png": {
       "height": 420,
       "width": 420
      }
     },
     "output_type": "display_data"
    }
   ],
   "source": [
    "library(ggplot2)\n",
    "\n",
    "# Créer un bar plot pour la variable 'Education'\n",
    "ggplot(data, aes(x = Education)) +\n",
    "  geom_bar(fill = \"skyblue\", color = \"black\") +\n",
    "  geom_text(stat = \"count\", aes(label = after_stat(count)), vjust = -0.5) +\n",
    "  labs(title = \"Distribution de l'éducation\",\n",
    "       x = \"Éducation\",\n",
    "       y = \"Effectif\")\n"
   ]
  },
  {
   "cell_type": "markdown",
   "metadata": {},
   "source": [
    "### Étude d'une variable quantitative (Satisfaction)  \n",
    "\n",
    " ####  Tendance centrale :"
   ]
  },
  {
   "cell_type": "code",
   "execution_count": 120,
   "metadata": {
    "vscode": {
     "languageId": "r"
    }
   },
   "outputs": [
    {
     "data": {
      "text/html": [
       "<table class=\"dataframe\">\n",
       "<caption>A data.frame: 1 × 5</caption>\n",
       "<thead>\n",
       "\t<tr><th scope=col>Minimum</th><th scope=col>Moyenne</th><th scope=col>Modes</th><th scope=col>Médiane</th><th scope=col>Maximum</th></tr>\n",
       "\t<tr><th scope=col>&lt;dbl&gt;</th><th scope=col>&lt;dbl&gt;</th><th scope=col>&lt;chr&gt;</th><th scope=col>&lt;dbl&gt;</th><th scope=col>&lt;dbl&gt;</th></tr>\n",
       "</thead>\n",
       "<tbody>\n",
       "\t<tr><td>5.6</td><td>7.855696</td><td>8.5</td><td>8.2</td><td>9.5</td></tr>\n",
       "</tbody>\n",
       "</table>\n"
      ],
      "text/latex": [
       "A data.frame: 1 × 5\n",
       "\\begin{tabular}{lllll}\n",
       " Minimum & Moyenne & Modes & Médiane & Maximum\\\\\n",
       " <dbl> & <dbl> & <chr> & <dbl> & <dbl>\\\\\n",
       "\\hline\n",
       "\t 5.6 & 7.855696 & 8.5 & 8.2 & 9.5\\\\\n",
       "\\end{tabular}\n"
      ],
      "text/markdown": [
       "\n",
       "A data.frame: 1 × 5\n",
       "\n",
       "| Minimum &lt;dbl&gt; | Moyenne &lt;dbl&gt; | Modes &lt;chr&gt; | Médiane &lt;dbl&gt; | Maximum &lt;dbl&gt; |\n",
       "|---|---|---|---|---|\n",
       "| 5.6 | 7.855696 | 8.5 | 8.2 | 9.5 |\n",
       "\n"
      ],
      "text/plain": [
       "  Minimum Moyenne  Modes Médiane Maximum\n",
       "1 5.6     7.855696 8.5   8.2     9.5    "
      ]
     },
     "metadata": {},
     "output_type": "display_data"
    }
   ],
   "source": [
    "moyenne <- mean(data$Satisfaction)\n",
    "freq_table <- table(data$Satisfaction)\n",
    "modes <- as.numeric(names(freq_table[freq_table == max(freq_table)]))\n",
    "median <- median(data$Satisfaction)\n",
    "min <- min(data$Satisfaction)\n",
    "max <- max(data$Satisfaction)\n",
    "\n",
    "# Affichage des résultats avec print\n",
    "df <- data.frame(\n",
    "  Minimum = min,\n",
    "  Moyenne = moyenne,\n",
    "  Modes = toString(modes),\n",
    "  Médiane = median,\n",
    "  Maximum = max\n",
    ")\n",
    "df\n"
   ]
  },
  {
   "cell_type": "markdown",
   "metadata": {},
   "source": [
    "Ici on peut voir l’intervalle de variation de la variable Satisfaction, aussi on peut voir que la médiane de 8.2 est proche de la moyenne, suggérant une distribution relativement symétrique. On vérifie ca avec les paramètres de la dispersion.\n",
    "\n",
    "#### Dispersion :"
   ]
  },
  {
   "cell_type": "code",
   "execution_count": 121,
   "metadata": {
    "vscode": {
     "languageId": "r"
    }
   },
   "outputs": [
    {
     "data": {
      "text/html": [
       "<table class=\"dataframe\">\n",
       "<caption>A data.frame: 1 × 2</caption>\n",
       "<thead>\n",
       "\t<tr><th scope=col>Variance</th><th scope=col>Écart_type</th></tr>\n",
       "\t<tr><th scope=col>&lt;dbl&gt;</th><th scope=col>&lt;dbl&gt;</th></tr>\n",
       "</thead>\n",
       "<tbody>\n",
       "\t<tr><td>1.190254</td><td>1.090988</td></tr>\n",
       "</tbody>\n",
       "</table>\n"
      ],
      "text/latex": [
       "A data.frame: 1 × 2\n",
       "\\begin{tabular}{ll}\n",
       " Variance & Écart\\_type\\\\\n",
       " <dbl> & <dbl>\\\\\n",
       "\\hline\n",
       "\t 1.190254 & 1.090988\\\\\n",
       "\\end{tabular}\n"
      ],
      "text/markdown": [
       "\n",
       "A data.frame: 1 × 2\n",
       "\n",
       "| Variance &lt;dbl&gt; | Écart_type &lt;dbl&gt; |\n",
       "|---|---|\n",
       "| 1.190254 | 1.090988 |\n",
       "\n"
      ],
      "text/plain": [
       "  Variance Écart_type\n",
       "1 1.190254 1.090988  "
      ]
     },
     "metadata": {},
     "output_type": "display_data"
    }
   ],
   "source": [
    "var <- var(data$Satisfaction)\n",
    "et <- sd(data$Satisfaction)\n",
    "df <- data.frame(\n",
    "  Variance = var,\n",
    "  Écart_type = et\n",
    ")\n",
    "df"
   ]
  },
  {
   "cell_type": "markdown",
   "metadata": {},
   "source": [
    "Les paramètres de la dispersion nous donne des informations sur la distribution des individus et leur dispersion autour de la moyenne, ici on voit que l’écart-type ($\\sigma$) n'est pas assez petit que la moyenne ($\\bar{X}$), cela peut signifie que nos données ne sont pas très homogènes, et on vérifie ca avec la représentation graphique.\n",
    "\n",
    "#### Représentation graphique :  \n",
    "  - Histogramme"
   ]
  },
  {
   "cell_type": "code",
   "execution_count": 122,
   "metadata": {
    "vscode": {
     "languageId": "r"
    }
   },
   "outputs": [
    {
     "data": {
      "image/png": "[encoded data removed]",
      "text/plain": [
       "Plot with title “Histogramme de la satisfaction”"
      ]
     },
     "metadata": {
      "image/png": {
       "height": 420,
       "width": 420
      }
     },
     "output_type": "display_data"
    }
   ],
   "source": [
    "hist(data$Satisfaction,\n",
    "  breaks = 10, col = \"skyblue\", border = \"black\", xlab = \"Satisfaction\", main = \"Histogramme de la satisfaction\"\n",
    ")\n"
   ]
  },
  {
   "cell_type": "markdown",
   "metadata": {},
   "source": [
    "Ici on peut clairement voir que la distribution est asymétrique vers le gauche, avec des scores entre 6 et 7 ayant des fréquences plus faibles, et des scores plus que ayant également une fréquence plus faible que 8, mais plus élevée que les valeurs entre 6 et 7.\n",
    "\n",
    "Une interprétation serait que les participants sont généralement satisfaits, avec une légère majorité étant très satisfaite (score de environs 8), tandis que moins sont extrêmement satisfaits (score autour de 9) ou modérément satisfaits (scores entre 6 et 7).\n",
    "\n",
    "- Boite a moustache"
   ]
  },
  {
   "cell_type": "code",
   "execution_count": 123,
   "metadata": {
    "vscode": {
     "languageId": "r"
    }
   },
   "outputs": [
    {
     "data": {
      "image/png": "[encoded data removed]",
      "text/plain": [
       "Plot with title “Boîte à moustaches de la satisfaction”"
      ]
     },
     "metadata": {
      "image/png": {
       "height": 420,
       "width": 420
      }
     },
     "output_type": "display_data"
    }
   ],
   "source": [
    "boxplot(data$Satisfaction, col = \"skyblue\", border = \"black\", xlab = \"Satisfaction\", main = \"Boîte à moustaches de la satisfaction\")"
   ]
  },
  {
   "cell_type": "markdown",
   "metadata": {},
   "source": [
    "Ce boite a moustache affirme l’asymétrie de notre données, avec la présence des outliers, ils sont les valeurs qui causent l’asymétrie de notre données.\n",
    "\n",
    "Maintenant qu'on a terminer avec l'analyse univariée, on passe a l'analyse bivairée.\n",
    "\n",
    "## Analyse bivariée\n",
    "\n",
    "L'analyse bivariée constitue la prochaine étape logique après l'analyse univariée et se concentre sur les relations entre deux variables à la fois. Elle permet d'explorer les associations, les corrélations et les dépendances entre différentes paires de variables, qu'elles soient quantitatives ou qualitatives.\n",
    "\n",
    "**Pour les variables quantitatives :**\n",
    "\n",
    "1. **Régression linéaire simple :** Lorsque l'on souhaite comprendre la relation linéaire entre deux variables quantitatives, la régression linéaire simple est souvent utilisée. Elle permet de modéliser et de prédire la variable dépendante en fonction de la variable indépendante.\n",
    "\n",
    "2. **Corrélation :** La corrélation (par exemple, le coefficient de corrélation de Pearson) mesure la force et la direction de la relation linéaire entre deux variables quantitatives. Elle indique si les variations dans une variable sont associées aux variations dans une autre variable.\n",
    "\n",
    "**Pour les variables qualitatives :**\n",
    "\n",
    "1. **Tableau de contingence :** Lorsque l'on travaille avec deux variables qualitatives, un tableau de contingence est souvent utilisé pour résumer la fréquence des occurrences conjointes des différentes catégories.\n",
    "\n",
    "2. **Test du chi-carré :** Le test du chi-carré permet de déterminer si deux variables qualitatives sont indépendantes ou s'il existe une association significative entre elles.\n",
    "\n",
    "3. **Analyse des Correspondances (ACF) :** L'ACF est une méthode puissante pour explorer les relations entre deux variables qualitatives. Elle permet de visualiser et d'interpréter les relations entre les catégories de plusieurs variables qualitatives. L'ACF peut remplacer le tableau de contingence et le test du chi-carré, car ils font partie intégrante de l'ACF.\n",
    "\n",
    "**Pour les variables mixtes (une quantitative et une qualitative) :**\n",
    "\n",
    "1. **Analyse de variance (ANOVA) :** Lorsque l'on souhaite comparer les moyennes de la variable quantitative entre différentes catégories de la variable qualitative, l'ANOVA peut être utilisée.\n",
    "\n",
    "Ces méthodes d'analyse bivariée permettent de découvrir et d'interpréter les relations entre différentes paires de variables, contribuant ainsi à une compréhension plus approfondie des données.\n",
    "\n",
    "### Étude de deux variables quantitative :\n",
    "\n",
    "On désormais étudier al relation entre la satisfaction et le revenue des individue, pour cela, on va faire une régression linéaire. Mais tous d'abord, on va voir est ce qu'il y a vraiment une corrélation entre notre variable dépendante (satisfaction) et la variable indépendante (revenue).\n",
    "\n",
    "  #### Test de Corrélation :\n",
    "\n",
    "  Pour le test de corrélation de Pearson, le test d’hypothèse est : \n",
    "    $$\n",
    "      \\begin{cases} \n",
    "        H_0 = \\rho = 0 \\\\\n",
    "        H_1 = \\rho \\neq 0 \\\\\n",
    "      \\end{cases}  \n",
    "    $$\n",
    "\n",
    "  Dans ce contexte, $\\rho$ représente le coefficient de corrélation, l’hypothèse nulle consiste qu'il n y a pas de corrélation, l'hypothèse alternative dit qu'il ya une corrélation, on rejette l'hypothèse nulle si le $p_{value}$ de test est inférieur a notre seuil $\\alpha$, on fix $\\alpha$ sur $0.05$. "
   ]
  },
  {
   "cell_type": "code",
   "execution_count": 124,
   "metadata": {
    "vscode": {
     "languageId": "r"
    }
   },
   "outputs": [
    {
     "data": {
      "text/plain": [
       "\n",
       "\tPearson's product-moment correlation\n",
       "\n",
       "data:  data$Satisfaction and data$Revenu\n",
       "t = 13.668, df = 156, p-value < 2.2e-16\n",
       "alternative hypothesis: true correlation is not equal to 0\n",
       "95 percent confidence interval:\n",
       " 0.6578989 0.8019156\n",
       "sample estimates:\n",
       "      cor \n",
       "0.7382072 \n"
      ]
     },
     "metadata": {},
     "output_type": "display_data"
    }
   ],
   "source": [
    "# data$Revenu\n",
    "cor.test(data$Satisfaction, data$Revenu)"
   ]
  },
  {
   "cell_type": "markdown",
   "metadata": {},
   "source": [
    "Ici on voit que le $p_{value} < 0.05$, donc on rejette l’hypothèse nulle, alors il ya une corrélation entre notre variables, ainsi que on peut voir que le coefficient de corrélation $\\rho = 0.73$.\n",
    "Un coefficient proche de 1 indique qu'il ya une forte corrélation positive.\n",
    "\n",
    "- Présence de linéarité\n",
    "  \n",
    "On peut assurer cette relation linéaire par un graphe.\n",
    "\n",
    "  "
   ]
  },
  {
   "cell_type": "code",
   "execution_count": 125,
   "metadata": {
    "vscode": {
     "languageId": "r"
    }
   },
   "outputs": [
    {
     "data": {
      "image/png": "[encoded data removed]",
      "text/plain": [
       "Plot with title “Revenu vs Satisfaction”"
      ]
     },
     "metadata": {
      "image/png": {
       "height": 420,
       "width": 420
      }
     },
     "output_type": "display_data"
    }
   ],
   "source": [
    "plot(data$Revenu, data$Satisfaction, xlab = \"Revenu\", ylab = \"Satisfaction\", main = \"Revenu vs Satisfaction\")"
   ]
  },
  {
   "cell_type": "markdown",
   "metadata": {},
   "source": [
    "Ici on peut voir clairement qu'il ya une sorte de linéarité entre les deux variables, et on peut procéder a la régression linéaire.\n",
    "\n",
    "  #### Régression linéaire\n",
    "\n",
    "\n",
    "\n",
    "Pour le test de régression linéaire simple, les hypothèses sur les paramètres du modèle sont les suivantes :\n",
    "\n",
    "$$\n",
    "\\begin{cases}\n",
    "  \\text{Hypothèse sur la Pente (\\( \\beta_1 \\)) :} & \\begin{cases}\n",
    "    H_0: & \\beta_1 = 0 \\ (\\text{Il n'y a pas de relation linéaire significative}) \\\\\n",
    "    H_1: & \\beta_1 \\neq 0 \\ (\\text{Il y a une relation linéaire significative})\n",
    "  \\end{cases} \\\\\n",
    "  \\\\\n",
    "  \\text{Hypothèse sur l'Intercept (\\( \\beta_0 \\)) :} & \\begin{cases}\n",
    "    H_0: & \\beta_0 = 0 \\ (\\text{L'intercept est nul}) \\\\\n",
    "    H_1: & \\beta_0 \\neq 0 \\ (\\text{L'intercept est différent de zéro})\n",
    "  \\end{cases}\n",
    "\\end{cases}\n",
    "$$\n",
    "\n",
    "\n",
    "Le rejet des hypothèses nulles dépend généralement des p-values associées à chaque coefficient dans la sortie du modèle. Si la p-value associée à $\\beta_1$ est inférieure au niveau de signification ($\\alpha$) choisi (généralement $0.05$), on peut rejeter l'hypothèse nulle et conclure qu'il y a une relation linéaire significative entre la variable indépendante et la variable dépendante. De manière similaire, si la p-value associée à $\\beta_0$ est inférieure à ($\\alpha$), on peut rejeter l'hypothèse nulle et conclure que l'intercept est significativement différent de zéro.\n",
    "\n",
    "La p-value globale du modèle (F-statistic) mesure la significativité globale de l'ensemble du modèle. Une p-value faible (inférieure à $\\alpha$) suggère que le modèle dans son ensemble est significatif.\n",
    "\n",
    "Le coefficient de détermination ($R^2$) mesure la proportion de la variance totale de la variable dépendante qui est expliquée par le modèle. Un $R^2$ élevé (proche de $1$) indique que le modèle explique une grande partie de la variance de la variable dépendante.\n"
   ]
  },
  {
   "cell_type": "code",
   "execution_count": 127,
   "metadata": {
    "vscode": {
     "languageId": "r"
    }
   },
   "outputs": [
    {
     "data": {
      "text/plain": [
       "\n",
       "Call:\n",
       "lm(formula = Satisfaction ~ Revenu, data = data)\n",
       "\n",
       "Residuals:\n",
       "    Min      1Q  Median      3Q     Max \n",
       "-1.6340 -0.5482  0.1112  0.4850  2.1589 \n",
       "\n",
       "Coefficients:\n",
       "             Estimate Std. Error t value Pr(>|t|)    \n",
       "(Intercept) 4.398e+00  2.597e-01   16.93   <2e-16 ***\n",
       "Revenu      4.048e-05  2.962e-06   13.67   <2e-16 ***\n",
       "---\n",
       "Signif. codes:  0 ‘***’ 0.001 ‘**’ 0.01 ‘*’ 0.05 ‘.’ 0.1 ‘ ’ 1\n",
       "\n",
       "Residual standard error: 0.7383 on 156 degrees of freedom\n",
       "Multiple R-squared:  0.5449,\tAdjusted R-squared:  0.542 \n",
       "F-statistic: 186.8 on 1 and 156 DF,  p-value: < 2.2e-16\n"
      ]
     },
     "metadata": {},
     "output_type": "display_data"
    }
   ],
   "source": [
    "modele <- lm(Satisfaction ~ Revenu, data = data)\n",
    "summary(modele)"
   ]
  },
  {
   "cell_type": "markdown",
   "metadata": {},
   "source": [
    "L'interprétation des résultats :\n",
    "\n",
    "Coefficients :\n",
    "\n",
    "Intercept (Constante) : L'estimation de l'intercept est $4.398$ avec une erreur standard de $0.2597$. Le t-value associé est $16.93$ avec un p-value très faible $2.2 \\times 10^{-16}$, ce qui suggère que l'intercept est significativement différent de zéro. En d'autres termes, la constante dans le modèle est statistiquement significative.\n",
    "\n",
    "Revenu : L'estimation du coefficient pour la variable \"Revenu\" est $4.048 \\times 10^{-5}$ avec une erreur standard de $2.962 \\times 10^{-6}$. Le t-value associé est $13.67$ avec un p-value très faible ($< 2.2 \\times 10^{-16}$). Cela suggère que la variable \"Revenu\" a un effet significatif sur la variable \"Satisfaction\".\n",
    "\n",
    "Résidus :\n",
    "\n",
    "Les résidus (erreurs) du modèle sont présentés sous la section \"Residuals\". Ils représentent la différence entre les valeurs observées de la variable dépendante (\"Satisfaction\" dans ce cas) et les valeurs prédites par le modèle.\n",
    "\n",
    "Statistiques du modèle :\n",
    "\n",
    "La racine carrée de l'erreur quadratique moyenne $(Residual\\ standard\\ error)$ est $0.7383$, ce qui donne une indication de la dispersion des résidus autour de la ligne de régression.\n",
    "\n",
    "Le coefficient de détermination ($R^2$) est $0.5449$, ce qui signifie que $54.49\\%$ de la variabilité de la variable \"Satisfaction\" est expliquée par la variable \"Revenu\".\n",
    "\n",
    "La statistique F ($F-statistic$) est utilisée pour tester si au moins une des variables indépendantes a un effet significatif sur la variable dépendante. Ici, la valeur très élevée de $186.8$ avec un p-value très faible ($< 2.2 \\times 10^{-16}$) suggère que le modèle global est statistiquement significatif.\n",
    "\n",
    "En résumé, le modèle de régression linéaire simple suggère que la variable \"Revenu\" a un effet significatif sur la variable \"Satisfaction\", et le modèle dans son ensemble est statistiquement significatif. Le $R^2$ indique que le modèle explique une proportion importante de la variabilité de la variable \"Satisfaction\".\n",
    "\n",
    "On voit le modèle :"
   ]
  },
  {
   "cell_type": "code",
   "execution_count": 130,
   "metadata": {
    "vscode": {
     "languageId": "r"
    }
   },
   "outputs": [
    {
     "data": {
      "image/png": "[encoded data removed]",
      "text/plain": [
       "Plot with title “Revenu vs Satisfaction”"
      ]
     },
     "metadata": {
      "image/png": {
       "height": 420,
       "width": 420
      }
     },
     "output_type": "display_data"
    }
   ],
   "source": [
    "plot(data$Revenu, data$Satisfaction, xlab = \"Revenu\", ylab = \"Satisfaction\", main = \"Revenu vs Satisfaction\")\n",
    "abline(modele, col = \"red\")"
   ]
  },
  {
   "cell_type": "markdown",
   "metadata": {},
   "source": [
    "Ici on voit que la ligne de régression est effectivement passe par la majorité des points.\n",
    "\n",
    "Pour confirmer que le modèle est significatif, on doit faire des autres tests sur les résidus de notre modèle.\n",
    "\n",
    "Les tests qu'on doit aborder sont : \n",
    "\n",
    "1. **Homoscédasticité :** \n",
    "\n",
    "2. **Normalité des résidus :**\n",
    "\n",
    "3. **Indépendance des résidus :**\n",
    "\n",
    "Ces tests sont importants pour évaluer la validité des hypothèses sous-jacentes à la régression linéaire et assurer la fiabilité des résultats, pour avoir un modèle qui est bien, tous ou le plus part des tests doivent accepter l'hypothèse nulle.\n",
    "\n",
    "1. Test d'homoscédasticité (Breusch-Pagan) :\n",
    "\n",
    "   - **Hypothèses :** \n",
    "      $\n",
    "      \\begin{cases} \n",
    "        H_0 : \\text{La variance des résidus est constante} \\\\\n",
    "        H_1 : \\text{La variance des résidus n'est pas constante}\n",
    "      \\end{cases}\n",
    "      $\n",
    "   - **Interprétation :** On rejette l'hypothèse nulle si le graphique des résidus montre une tendance ou une forme d'entonnoir."
   ]
  },
  {
   "cell_type": "code",
   "execution_count": 142,
   "metadata": {
    "vscode": {
     "languageId": "r"
    }
   },
   "outputs": [
    {
     "name": "stdout",
     "output_type": "stream",
     "text": [
      "\n",
      "\tstudentized Breusch-Pagan test\n",
      "\n",
      "data:  modele\n",
      "BP = 16.079, df = 1, p-value = 6.076e-05\n",
      "\n"
     ]
    }
   ],
   "source": [
    "library(lmtest)\n",
    "bptest(modele)"
   ]
  },
  {
   "cell_type": "markdown",
   "metadata": {},
   "source": [
    "Donc on voit que $p_{value} < 0.05$, cela indique que la variance des résidus n'est pas constante."
   ]
  },
  {
   "cell_type": "markdown",
   "metadata": {},
   "source": [
    "2. Test de normalité des résidus (Shapiro-Wilk) :\n",
    "\n",
    "   - **Hypothèses :** \n",
    "      $\n",
    "      \\begin{cases} \n",
    "        H_0 : \\text{Les résidus suivent une distribution normale} \\\\\n",
    "        H_1 : \\text{Les résidus ne suivent pas une distribution normale}\n",
    "      \\end{cases}\n",
    "      $\n",
    "   - **Interprétation :** On rejette l'hypothèse nulle si l'histogramme des résidus ou le test de normalité (comme le test de Shapiro-Wilk) indique une non-normalité.\n"
   ]
  },
  {
   "cell_type": "code",
   "execution_count": 144,
   "metadata": {
    "vscode": {
     "languageId": "r"
    }
   },
   "outputs": [
    {
     "data": {
      "text/plain": [
       "\n",
       "\tShapiro-Wilk normality test\n",
       "\n",
       "data:  resid(modele)\n",
       "W = 0.98353, p-value = 0.05712\n"
      ]
     },
     "metadata": {},
     "output_type": "display_data"
    }
   ],
   "source": [
    "shapiro.test(resid(modele))"
   ]
  },
  {
   "cell_type": "markdown",
   "metadata": {},
   "source": [
    "Une $p_{value} > 0.05$ indique qu'on accepte l’hypothèse nulle, et que les résidus suivent une distribution normale.\n",
    "\n",
    "3. Test d'indépendance des résidus (Durbin-Watson) :\n",
    "\n",
    "   - **Hypothèses :** \n",
    "      $\n",
    "      \\begin{cases} \n",
    "        H_0 : \\text{Les résidus sont indépendants} \\\\\n",
    "        H_1 : \\text{Les résidus ne sont pas indépendants}\n",
    "      \\end{cases}\n",
    "      $\n",
    "   - **Interprétation :** On rejette l'hypothèse nulle si les résidus montrent des schémas ou des corrélations évidents.\n"
   ]
  },
  {
   "cell_type": "code",
   "execution_count": 145,
   "metadata": {
    "vscode": {
     "languageId": "r"
    }
   },
   "outputs": [
    {
     "data": {
      "text/plain": [
       "\n",
       "\tDurbin-Watson test\n",
       "\n",
       "data:  modele\n",
       "DW = 2.1576, p-value = 0.836\n",
       "alternative hypothesis: true autocorrelation is greater than 0\n"
      ]
     },
     "metadata": {},
     "output_type": "display_data"
    }
   ],
   "source": [
    "dwtest(modele)"
   ]
  },
  {
   "cell_type": "markdown",
   "metadata": {},
   "source": [
    "Ici on a $ p_{value} > 0.05$, donc on accepte l’hypothèse nulle, et on dit que les résidus sont indépendants.\n",
    "\n",
    "#### Conclusion\n",
    "\n",
    "Le modèle de régression linéaire simple indique une relation significative entre la variable dépendante et la variable indépendante. Cependant, des préoccupations subsistent en raison des violations de l'hypothèses d'homoscédasticité des résidus. Des ajustements ou des analyses plus approfondies sont recommandés pour renforcer la validité du modèle.\n",
    "\n",
    "### Étude de deux variables qualitatives :\n",
    "\n",
    "La question que se pose dans cette analyse est, est ce qu'il y a une correspondance entre notre deux variables qualitatives, le niveau d’étude et le poste de travail, pour cela on va effectuer une AFC.\n",
    "\n",
    "#### Analyse factorielle de correspondance (AFC)\n",
    "\n",
    "L'Analyse Factorielle des Correspondances (AFC) est une technique d'analyse statistique particulièrement adaptée pour explorer les relations entre deux variables nominales. Elle trouve son application dans des domaines tels que la sociologie, la psychologie, la biologie, et d'autres disciplines où l'on cherche à comprendre les associations entre des catégories de variables.\n",
    "\n",
    "Voici les principales étapes de l'Analyse Factorielle des Correspondances :\n",
    "\n",
    "1. **Construction du Tableau de Contingence :** La première étape consiste à créer un tableau de contingence qui résume la fréquence des co-occurrences entre les différentes modalités des deux variables étudiées. Ce tableau met en évidence les associations entre les catégories et constitue la base de l'analyse.\n",
    "\n",
    "2. **Test du Khi-deux :** Une fois le tableau de contingence établi, on utilise le test du Khi-deux pour évaluer l'indépendance entre les variables. L'hypothèse nulle du test stipule que les variables sont indépendantes, tandis que l'hypothèse alternative suggère une association significative. Un faible résultat de p-value conduirait au rejet de l'hypothèse d'indépendance.\n",
    "\n",
    "3. **Calcul des Coordonnées Factorielles :** Si le test du Khi-deux indique une dépendance significative, l'analyse se poursuit en calculant les coordonnées factorielles. Ces coordonnées représentent la projection des modalités des variables sur un espace factoriel de dimensions réduites.\n",
    "\n",
    "4. **Interprétation des Résultats :** L'interprétation des coordonnées factorielles permet de visualiser les associations entre les catégories des variables. Les modalités proches dans l'espace factoriel sont celles qui présentent des similitudes dans leurs distributions conjointes.\n",
    "\n",
    "L'Analyse Factorielle des Correspondances offre ainsi une approche graphique et statistique pour explorer les relations entre variables catégorielles. Elle permet de mettre en évidence des patterns, des regroupements, ou des dépendances, offrant ainsi un éclairage précieux sur la structure des données.\n",
    "\n",
    "#### Tableau de contingence"
   ]
  },
  {
   "cell_type": "code",
   "execution_count": 161,
   "metadata": {
    "vscode": {
     "languageId": "r"
    }
   },
   "outputs": [
    {
     "data": {
      "text/plain": [
       "            \n",
       "             OouvrA Secr PDG IngA EmplA\n",
       "  Bachelor        2    8   0    0    31\n",
       "  Master         15   15   0   11     2\n",
       "  Ph.D.           9    4   0   22     0\n",
       "  Secondaire      0    0  39    0     0"
      ]
     },
     "metadata": {},
     "output_type": "display_data"
    }
   ],
   "source": [
    "# Construction du tableau de contingence\n",
    "tc <- table(data$Education, data$Secteur)\n",
    "colnames(tc) <- c(\"OouvrA\", \"Secr\", \"PDG\", \"IngA\", \"EmplA\")\n",
    "# Affichage du tableau de contingence\n",
    "tc\n"
   ]
  },
  {
   "cell_type": "markdown",
   "metadata": {},
   "source": [
    "### Table de profile ligne :"
   ]
  },
  {
   "cell_type": "code",
   "execution_count": 171,
   "metadata": {
    "vscode": {
     "languageId": "r"
    }
   },
   "outputs": [
    {
     "data": {
      "text/plain": [
       "            \n",
       "                 OouvrA       Secr        PDG       IngA      EmplA\n",
       "  Bachelor   0.04878049 0.19512195 0.00000000 0.00000000 0.75609756\n",
       "  Master     0.34883721 0.34883721 0.00000000 0.25581395 0.04651163\n",
       "  Ph.D.      0.25714286 0.11428571 0.00000000 0.62857143 0.00000000\n",
       "  Secondaire 0.00000000 0.00000000 1.00000000 0.00000000 0.00000000"
      ]
     },
     "metadata": {},
     "output_type": "display_data"
    }
   ],
   "source": [
    "tpl <- prop.table(tc, 1)\n",
    "# tpl$total <- c(1:4)\n",
    "tpl\n",
    "tpl"
   ]
  },
  {
   "cell_type": "markdown",
   "metadata": {},
   "source": [
    "On lire ce tableau de la manière suivante :\n",
    "$19.5\\%$ des gens qui ont un degré bachelor sont des secrétaires."
   ]
  }
 ],
 "metadata": {
  "kernelspec": {
   "display_name": "R",
   "language": "R",
   "name": "ir"
  },
  "language_info": {
   "codemirror_mode": "r",
   "file_extension": ".r",
   "mimetype": "text/x-r-source",
   "name": "R",
   "pygments_lexer": "r",
   "version": "4.1.2"
  }
 },
 "nbformat": 4,
 "nbformat_minor": 2
}
