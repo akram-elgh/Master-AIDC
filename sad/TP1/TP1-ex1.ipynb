{
 "cells": [
  {
   "cell_type": "markdown",
   "metadata": {},
   "source": [
    "<h1 align=\"center\"> TP 1 </h1>\n",
    "\n",
    "## Importing the data"
   ]
  },
  {
   "cell_type": "code",
   "execution_count": 1,
   "metadata": {
    "vscode": {
     "languageId": "r"
    }
   },
   "outputs": [],
   "source": [
    "preference <- read.table(\"preference.txt\")\n",
    "taille <- read.table(\"taille.txt\")\n"
   ]
  },
  {
   "cell_type": "markdown",
   "metadata": {},
   "source": [
    "## Transforming the data into a dataframe"
   ]
  },
  {
   "cell_type": "code",
   "execution_count": 35,
   "metadata": {
    "vscode": {
     "languageId": "r"
    }
   },
   "outputs": [
    {
     "data": {
      "text/html": [
       "<table class=\"dataframe\">\n",
       "<caption>A data.frame: 6 × 2</caption>\n",
       "<thead>\n",
       "\t<tr><th></th><th scope=col>Taille</th><th scope=col>Preferences</th></tr>\n",
       "\t<tr><th></th><th scope=col>&lt;int&gt;</th><th scope=col>&lt;chr&gt;</th></tr>\n",
       "</thead>\n",
       "<tbody>\n",
       "\t<tr><th scope=row>1</th><td>138</td><td>oui</td></tr>\n",
       "\t<tr><th scope=row>2</th><td>164</td><td>non</td></tr>\n",
       "\t<tr><th scope=row>3</th><td>150</td><td>non</td></tr>\n",
       "\t<tr><th scope=row>4</th><td>132</td><td>oui</td></tr>\n",
       "\t<tr><th scope=row>5</th><td>144</td><td>oui</td></tr>\n",
       "\t<tr><th scope=row>6</th><td>125</td><td>oui</td></tr>\n",
       "</tbody>\n",
       "</table>\n"
      ],
      "text/latex": [
       "A data.frame: 6 × 2\n",
       "\\begin{tabular}{r|ll}\n",
       "  & Taille & Preferences\\\\\n",
       "  & <int> & <chr>\\\\\n",
       "\\hline\n",
       "\t1 & 138 & oui\\\\\n",
       "\t2 & 164 & non\\\\\n",
       "\t3 & 150 & non\\\\\n",
       "\t4 & 132 & oui\\\\\n",
       "\t5 & 144 & oui\\\\\n",
       "\t6 & 125 & oui\\\\\n",
       "\\end{tabular}\n"
      ],
      "text/markdown": [
       "\n",
       "A data.frame: 6 × 2\n",
       "\n",
       "| <!--/--> | Taille &lt;int&gt; | Preferences &lt;chr&gt; |\n",
       "|---|---|---|\n",
       "| 1 | 138 | oui |\n",
       "| 2 | 164 | non |\n",
       "| 3 | 150 | non |\n",
       "| 4 | 132 | oui |\n",
       "| 5 | 144 | oui |\n",
       "| 6 | 125 | oui |\n",
       "\n"
      ],
      "text/plain": [
       "  Taille Preferences\n",
       "1 138    oui        \n",
       "2 164    non        \n",
       "3 150    non        \n",
       "4 132    oui        \n",
       "5 144    oui        \n",
       "6 125    oui        "
      ]
     },
     "metadata": {},
     "output_type": "display_data"
    },
    {
     "data": {
      "image/png": "[encoded data removed]",
      "text/plain": [
       "Plot with title “Histogram of data_set$Taille”"
      ]
     },
     "metadata": {
      "image/png": {
       "height": 420,
       "width": 420
      }
     },
     "output_type": "display_data"
    }
   ],
   "source": [
    "data_set <- data.frame(taille, preference)\n",
    "names(data_set) <- c(\"Taille\", \"Preferences\")\n",
    "head(data_set)\n",
    "hist(data_set$Taille)"
   ]
  },
  {
   "cell_type": "markdown",
   "metadata": {},
   "source": [
    "## changing data type of preferences to factor"
   ]
  },
  {
   "cell_type": "code",
   "execution_count": 3,
   "metadata": {
    "vscode": {
     "languageId": "r"
    }
   },
   "outputs": [],
   "source": [
    "data_set$Preferences <- as.factor(data_set$Preferences)"
   ]
  },
  {
   "cell_type": "code",
   "execution_count": 4,
   "metadata": {
    "vscode": {
     "languageId": "r"
    }
   },
   "outputs": [],
   "source": [
    "attach(data_set)"
   ]
  },
  {
   "cell_type": "markdown",
   "metadata": {},
   "source": [
    "## La moyenne"
   ]
  },
  {
   "cell_type": "code",
   "execution_count": 5,
   "metadata": {
    "vscode": {
     "languageId": "r"
    }
   },
   "outputs": [
    {
     "data": {
      "text/html": [
       "146.8"
      ],
      "text/latex": [
       "146.8"
      ],
      "text/markdown": [
       "146.8"
      ],
      "text/plain": [
       "[1] 146.8"
      ]
     },
     "metadata": {},
     "output_type": "display_data"
    }
   ],
   "source": [
    "moyenne <- mean(Taille)\n",
    "moyenne"
   ]
  },
  {
   "cell_type": "markdown",
   "metadata": {},
   "source": [
    "## La variance"
   ]
  },
  {
   "cell_type": "code",
   "execution_count": 6,
   "metadata": {
    "vscode": {
     "languageId": "r"
    }
   },
   "outputs": [
    {
     "data": {
      "text/html": [
       "170.317948717949"
      ],
      "text/latex": [
       "170.317948717949"
      ],
      "text/markdown": [
       "170.317948717949"
      ],
      "text/plain": [
       "[1] 170.3179"
      ]
     },
     "metadata": {},
     "output_type": "display_data"
    }
   ],
   "source": [
    "var <- var(Taille)\n",
    "var"
   ]
  },
  {
   "cell_type": "markdown",
   "metadata": {},
   "source": [
    "## L'ecart type"
   ]
  },
  {
   "cell_type": "code",
   "execution_count": 7,
   "metadata": {
    "vscode": {
     "languageId": "r"
    }
   },
   "outputs": [
    {
     "data": {
      "text/html": [
       "13.0505918914794"
      ],
      "text/latex": [
       "13.0505918914794"
      ],
      "text/markdown": [
       "13.0505918914794"
      ],
      "text/plain": [
       "[1] 13.05059"
      ]
     },
     "metadata": {},
     "output_type": "display_data"
    }
   ],
   "source": [
    "ecart_type <- sd(Taille)\n",
    "ecart_type"
   ]
  },
  {
   "cell_type": "markdown",
   "metadata": {},
   "source": [
    "## Le mode"
   ]
  },
  {
   "cell_type": "code",
   "execution_count": 8,
   "metadata": {
    "vscode": {
     "languageId": "r"
    }
   },
   "outputs": [
    {
     "data": {
      "text/html": [
       "135"
      ],
      "text/latex": [
       "135"
      ],
      "text/markdown": [
       "135"
      ],
      "text/plain": [
       "[1] 135"
      ]
     },
     "metadata": {},
     "output_type": "display_data"
    }
   ],
   "source": [
    "# Fonction pour calculer le mode\n",
    "calculer_mode <- function(x) {\n",
    "  table_x <- table(x)\n",
    "  modes <- as.numeric(names(table_x[table_x == max(table_x)]))\n",
    "  return(modes)\n",
    "}\n",
    "mode <- calculer_mode(Taille)\n",
    "mode"
   ]
  },
  {
   "cell_type": "markdown",
   "metadata": {},
   "source": [
    "## La mediane"
   ]
  },
  {
   "cell_type": "code",
   "execution_count": 9,
   "metadata": {
    "vscode": {
     "languageId": "r"
    }
   },
   "outputs": [
    {
     "data": {
      "text/html": [
       "146"
      ],
      "text/latex": [
       "146"
      ],
      "text/markdown": [
       "146"
      ],
      "text/plain": [
       "[1] 146"
      ]
     },
     "metadata": {},
     "output_type": "display_data"
    }
   ],
   "source": [
    "mediane <- median(Taille)\n",
    "mediane"
   ]
  },
  {
   "cell_type": "markdown",
   "metadata": {},
   "source": [
    "## L'ecart inter decile"
   ]
  },
  {
   "cell_type": "code",
   "execution_count": 26,
   "metadata": {
    "vscode": {
     "languageId": "r"
    }
   },
   "outputs": [
    {
     "data": {
      "text/html": [
       "<strong>90%:</strong> 32.5"
      ],
      "text/latex": [
       "\\textbf{90\\textbackslash{}\\%:} 32.5"
      ],
      "text/markdown": [
       "**90%:** 32.5"
      ],
      "text/plain": [
       " 90% \n",
       "32.5 "
      ]
     },
     "metadata": {},
     "output_type": "display_data"
    }
   ],
   "source": [
    "deciles <- quantile(Taille, probs = seq(0, 1, by = 0.1))\n",
    "ecart_inter_decile <- deciles[10] - deciles[2]\n",
    "ecart_inter_decile"
   ]
  },
  {
   "cell_type": "code",
   "execution_count": 11,
   "metadata": {
    "vscode": {
     "languageId": "r"
    }
   },
   "outputs": [
    {
     "data": {
      "text/html": [
       "8.89004897239743"
      ],
      "text/latex": [
       "8.89004897239743"
      ],
      "text/markdown": [
       "8.89004897239743"
      ],
      "text/plain": [
       "[1] 8.890049"
      ]
     },
     "metadata": {},
     "output_type": "display_data"
    }
   ],
   "source": [
    "coefficient_variation <- (ecart_type / moyenne) * 100\n",
    "coefficient_variation"
   ]
  },
  {
   "cell_type": "markdown",
   "metadata": {},
   "source": [
    "## Groupment des donnes en 10 classes"
   ]
  },
  {
   "cell_type": "code",
   "execution_count": 12,
   "metadata": {
    "vscode": {
     "languageId": "r"
    }
   },
   "outputs": [
    {
     "data": {
      "image/png": "[encoded data removed]",
      "text/plain": [
       "Plot with title “Avec un découpage en 10 classes”"
      ]
     },
     "metadata": {
      "image/png": {
       "height": 420,
       "width": 420
      }
     },
     "output_type": "display_data"
    }
   ],
   "source": [
    "\n",
    "\n",
    "hist_10 <- hist(Taille,\n",
    "  breaks = seq(min(Taille), max(Taille), length = 11),\n",
    "  labels = TRUE, las = 1, xlab = \"Taille (cm)\", ylab = \"Nombre d'élèves\",\n",
    "  main = \"Avec un découpage en 10 classes\"\n",
    ")"
   ]
  },
  {
   "cell_type": "markdown",
   "metadata": {},
   "source": [
    "## Groupment des donnes en 5 classes"
   ]
  },
  {
   "cell_type": "code",
   "execution_count": 13,
   "metadata": {
    "vscode": {
     "languageId": "r"
    }
   },
   "outputs": [
    {
     "data": {
      "image/png": "[encoded data removed]",
      "text/plain": [
       "Plot with title “Avec un découpage en 5 classes”"
      ]
     },
     "metadata": {
      "image/png": {
       "height": 420,
       "width": 420
      }
     },
     "output_type": "display_data"
    }
   ],
   "source": [
    "hist_5 <- hist(Taille,\n",
    "               breaks = seq(from = min(Taille), to = max(Taille), length = 6),\n",
    "               labels = TRUE, las = 1, xlab = \"Taille (cm)\",\n",
    "               ylab = \"Nombre d'élèves\",\n",
    "               main = \"Avec un découpage en 5 classes\")"
   ]
  },
  {
   "cell_type": "code",
   "execution_count": 14,
   "metadata": {
    "vscode": {
     "languageId": "r"
    }
   },
   "outputs": [
    {
     "data": {
      "text/html": [
       "146.93"
      ],
      "text/latex": [
       "146.93"
      ],
      "text/markdown": [
       "146.93"
      ],
      "text/plain": [
       "[1] 146.93"
      ]
     },
     "metadata": {},
     "output_type": "display_data"
    }
   ],
   "source": [
    "moyenne_5 <- weighted.mean(hist_5$mids, hist_5$counts)\n",
    "moyenne_5"
   ]
  },
  {
   "cell_type": "code",
   "execution_count": 15,
   "metadata": {
    "vscode": {
     "languageId": "r"
    }
   },
   "outputs": [
    {
     "data": {
      "text/html": [
       "146.645"
      ],
      "text/latex": [
       "146.645"
      ],
      "text/markdown": [
       "146.645"
      ],
      "text/plain": [
       "[1] 146.645"
      ]
     },
     "metadata": {},
     "output_type": "display_data"
    }
   ],
   "source": [
    "moyenne_10 <- weighted.mean(hist_10$mids, hist_10$counts)\n",
    "moyenne_10"
   ]
  },
  {
   "cell_type": "code",
   "execution_count": 32,
   "metadata": {
    "vscode": {
     "languageId": "r"
    }
   },
   "outputs": [
    {
     "data": {
      "text/plain": [
       "           \n",
       "class_10    non oui\n",
       "  (119,125]   0   0\n",
       "  (125,130]   0   3\n",
       "  (130,136]   2   3\n",
       "  (136,142]   1   3\n",
       "  (142,148]   6   4\n",
       "  (148,153]   3   3\n",
       "  (153,159]   2   2\n",
       "  (159,165]   3   0\n",
       "  (165,170]   1   1\n",
       "  (170,176]   0   2"
      ]
     },
     "metadata": {},
     "output_type": "display_data"
    },
    {
     "data": {
      "image/png": "[encoded data removed]",
      "text/plain": [
       "Plot with title “Histogram of Taille with Preferences”"
      ]
     },
     "metadata": {
      "image/png": {
       "height": 420,
       "width": 420
      }
     },
     "output_type": "display_data"
    }
   ],
   "source": [
    "\n",
    "class_10 <- cut(Taille,\n",
    "  breaks = seq(from = min(Taille), to = max(Taille), length = 11)\n",
    ")\n",
    "data_set$Taille_Group <- cut(\n",
    "  Taille,\n",
    "  breaks = seq(from = min(Taille), to = max(Taille), length = 11),\n",
    "  labels = FALSE\n",
    ")\n",
    "table_result <- table(class_10, data_set$Preferences)\n",
    "table_result\n",
    "# Create histogram\n",
    "hist(Taille,\n",
    "  labels = TRUE,\n",
    "  breaks = seq(from = min(Taille), to = max(Taille), length = 22),\n",
    "  col = ifelse(data_set$Preferences == \"oui\", \"skyblue\", \"salmon\"),\n",
    "  border = \"black\",\n",
    "  main = \"Histogram of Taille with Preferences\",\n",
    "  xlab = \"Taille\", ylab = \"Frequency\"\n",
    ")\n",
    "\n",
    "# Add legend\n",
    "legend(\"topright\", legend = c(\"oui\", \"non\"), fill = c(\"skyblue\", \"salmon\"))"
   ]
  },
  {
   "cell_type": "code",
   "execution_count": 17,
   "metadata": {
    "vscode": {
     "languageId": "r"
    }
   },
   "outputs": [
    {
     "data": {
      "text/plain": [
       "levels\n",
       "(119,125] (125,130] (130,136] (136,142] (142,148] (148,153] (153,159] (159,165] \n",
       "        1         1         1         1         1         1         1         1 \n",
       "(165,170] (170,176] \n",
       "        1         1 "
      ]
     },
     "metadata": {},
     "output_type": "display_data"
    }
   ],
   "source": [
    "class_10 <- cut(Taille,\n",
    "  breaks = seq(from = min(Taille), to = max(Taille), length = 11)\n",
    ")\n",
    "levels <- levels(class_10)\n",
    "levels <- as.array(levels)\n",
    "table(levels)"
   ]
  },
  {
   "cell_type": "code",
   "execution_count": 18,
   "metadata": {
    "vscode": {
     "languageId": "r"
    }
   },
   "outputs": [
    {
     "data": {
      "text/plain": [
       "     Taille      Preferences  Taille_Group   \n",
       " Min.   :119.0   non:18      Min.   : 2.000  \n",
       " 1st Qu.:138.0   oui:22      1st Qu.: 7.000  \n",
       " Median :146.0               Median : 9.000  \n",
       " Mean   :146.8               Mean   : 9.872  \n",
       " 3rd Qu.:154.5               3rd Qu.:12.500  \n",
       " Max.   :176.0               Max.   :19.000  \n",
       "                             NA's   :1       "
      ]
     },
     "metadata": {},
     "output_type": "display_data"
    }
   ],
   "source": [
    "summary(data_set)"
   ]
  }
 ],
 "metadata": {
  "kernelspec": {
   "display_name": "R",
   "language": "R",
   "name": "ir"
  },
  "language_info": {
   "codemirror_mode": "r",
   "file_extension": ".r",
   "mimetype": "text/x-r-source",
   "name": "R",
   "pygments_lexer": "r",
   "version": "4.1.2"
  }
 },
 "nbformat": 4,
 "nbformat_minor": 2
}
