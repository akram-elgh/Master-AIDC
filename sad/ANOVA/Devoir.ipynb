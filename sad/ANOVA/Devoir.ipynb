{
 "cells": [
  {
   "cell_type": "markdown",
   "metadata": {},
   "source": [
    "## DEVOIR"
   ]
  },
  {
   "cell_type": "markdown",
   "metadata": {},
   "source": [
    "### Type des variables :"
   ]
  },
  {
   "cell_type": "markdown",
   "metadata": {},
   "source": [
    "genre :  nominal\n",
    "\n",
    "score :  discret\n",
    "\n",
    "Heures d'etude : continue"
   ]
  },
  {
   "cell_type": "markdown",
   "metadata": {},
   "source": [
    "## analyse univariée "
   ]
  },
  {
   "cell_type": "code",
   "execution_count": 1,
   "metadata": {
    "vscode": {
     "languageId": "r"
    }
   },
   "outputs": [],
   "source": [
    "score <- read.csv2(\"C:/Users/pc/Desktop/test.csv\", sep=\"\")"
   ]
  },
  {
   "cell_type": "code",
   "execution_count": 2,
   "metadata": {
    "vscode": {
     "languageId": "r"
    }
   },
   "outputs": [
    {
     "data": {
      "text/html": [
       "<table class=\"dataframe\">\n",
       "<caption>A data.frame: 21 × 4</caption>\n",
       "<thead>\n",
       "\t<tr><th scope=col>Individu</th><th scope=col>Genre</th><th scope=col>HeuresEtud</th><th scope=col>Score</th></tr>\n",
       "\t<tr><th scope=col>&lt;int&gt;</th><th scope=col>&lt;chr&gt;</th><th scope=col>&lt;chr&gt;</th><th scope=col>&lt;int&gt;</th></tr>\n",
       "</thead>\n",
       "<tbody>\n",
       "\t<tr><td> 1</td><td>M</td><td>6  </td><td>53</td></tr>\n",
       "\t<tr><td> 2</td><td>F</td><td>7  </td><td>60</td></tr>\n",
       "\t<tr><td> 3</td><td>M</td><td>6.5</td><td>56</td></tr>\n",
       "\t<tr><td> 4</td><td>F</td><td>8  </td><td>79</td></tr>\n",
       "\t<tr><td> 5</td><td>M</td><td>6.6</td><td>58</td></tr>\n",
       "\t<tr><td> 6</td><td>M</td><td>8.1</td><td>85</td></tr>\n",
       "\t<tr><td> 7</td><td>M</td><td>6.8</td><td>70</td></tr>\n",
       "\t<tr><td> 8</td><td>M</td><td>6.9</td><td>56</td></tr>\n",
       "\t<tr><td> 9</td><td>F</td><td>7.3</td><td>69</td></tr>\n",
       "\t<tr><td>10</td><td>F</td><td>6.9</td><td>76</td></tr>\n",
       "\t<tr><td>11</td><td>M</td><td>8.2</td><td>79</td></tr>\n",
       "\t<tr><td>12</td><td>M</td><td>7.2</td><td>68</td></tr>\n",
       "\t<tr><td>13</td><td>F</td><td>7.3</td><td>74</td></tr>\n",
       "\t<tr><td>14</td><td>F</td><td>6.9</td><td>72</td></tr>\n",
       "\t<tr><td>15</td><td>F</td><td>8.6</td><td>84</td></tr>\n",
       "\t<tr><td>16</td><td>F</td><td>7.4</td><td>78</td></tr>\n",
       "\t<tr><td>17</td><td>M</td><td>7.6</td><td>76</td></tr>\n",
       "\t<tr><td>18</td><td>F</td><td>6.8</td><td>65</td></tr>\n",
       "\t<tr><td>19</td><td>M</td><td>8  </td><td>92</td></tr>\n",
       "\t<tr><td>20</td><td>M</td><td>7.4</td><td>80</td></tr>\n",
       "\t<tr><td>21</td><td>F</td><td>6.5</td><td>65</td></tr>\n",
       "</tbody>\n",
       "</table>\n"
      ],
      "text/latex": [
       "A data.frame: 21 × 4\n",
       "\\begin{tabular}{llll}\n",
       " Individu & Genre & HeuresEtud & Score\\\\\n",
       " <int> & <chr> & <chr> & <int>\\\\\n",
       "\\hline\n",
       "\t  1 & M & 6   & 53\\\\\n",
       "\t  2 & F & 7   & 60\\\\\n",
       "\t  3 & M & 6.5 & 56\\\\\n",
       "\t  4 & F & 8   & 79\\\\\n",
       "\t  5 & M & 6.6 & 58\\\\\n",
       "\t  6 & M & 8.1 & 85\\\\\n",
       "\t  7 & M & 6.8 & 70\\\\\n",
       "\t  8 & M & 6.9 & 56\\\\\n",
       "\t  9 & F & 7.3 & 69\\\\\n",
       "\t 10 & F & 6.9 & 76\\\\\n",
       "\t 11 & M & 8.2 & 79\\\\\n",
       "\t 12 & M & 7.2 & 68\\\\\n",
       "\t 13 & F & 7.3 & 74\\\\\n",
       "\t 14 & F & 6.9 & 72\\\\\n",
       "\t 15 & F & 8.6 & 84\\\\\n",
       "\t 16 & F & 7.4 & 78\\\\\n",
       "\t 17 & M & 7.6 & 76\\\\\n",
       "\t 18 & F & 6.8 & 65\\\\\n",
       "\t 19 & M & 8   & 92\\\\\n",
       "\t 20 & M & 7.4 & 80\\\\\n",
       "\t 21 & F & 6.5 & 65\\\\\n",
       "\\end{tabular}\n"
      ],
      "text/markdown": [
       "\n",
       "A data.frame: 21 × 4\n",
       "\n",
       "| Individu &lt;int&gt; | Genre &lt;chr&gt; | HeuresEtud &lt;chr&gt; | Score &lt;int&gt; |\n",
       "|---|---|---|---|\n",
       "|  1 | M | 6   | 53 |\n",
       "|  2 | F | 7   | 60 |\n",
       "|  3 | M | 6.5 | 56 |\n",
       "|  4 | F | 8   | 79 |\n",
       "|  5 | M | 6.6 | 58 |\n",
       "|  6 | M | 8.1 | 85 |\n",
       "|  7 | M | 6.8 | 70 |\n",
       "|  8 | M | 6.9 | 56 |\n",
       "|  9 | F | 7.3 | 69 |\n",
       "| 10 | F | 6.9 | 76 |\n",
       "| 11 | M | 8.2 | 79 |\n",
       "| 12 | M | 7.2 | 68 |\n",
       "| 13 | F | 7.3 | 74 |\n",
       "| 14 | F | 6.9 | 72 |\n",
       "| 15 | F | 8.6 | 84 |\n",
       "| 16 | F | 7.4 | 78 |\n",
       "| 17 | M | 7.6 | 76 |\n",
       "| 18 | F | 6.8 | 65 |\n",
       "| 19 | M | 8   | 92 |\n",
       "| 20 | M | 7.4 | 80 |\n",
       "| 21 | F | 6.5 | 65 |\n",
       "\n"
      ],
      "text/plain": [
       "   Individu Genre HeuresEtud Score\n",
       "1   1       M     6          53   \n",
       "2   2       F     7          60   \n",
       "3   3       M     6.5        56   \n",
       "4   4       F     8          79   \n",
       "5   5       M     6.6        58   \n",
       "6   6       M     8.1        85   \n",
       "7   7       M     6.8        70   \n",
       "8   8       M     6.9        56   \n",
       "9   9       F     7.3        69   \n",
       "10 10       F     6.9        76   \n",
       "11 11       M     8.2        79   \n",
       "12 12       M     7.2        68   \n",
       "13 13       F     7.3        74   \n",
       "14 14       F     6.9        72   \n",
       "15 15       F     8.6        84   \n",
       "16 16       F     7.4        78   \n",
       "17 17       M     7.6        76   \n",
       "18 18       F     6.8        65   \n",
       "19 19       M     8          92   \n",
       "20 20       M     7.4        80   \n",
       "21 21       F     6.5        65   "
      ]
     },
     "metadata": {},
     "output_type": "display_data"
    }
   ],
   "source": [
    "score"
   ]
  },
  {
   "cell_type": "markdown",
   "metadata": {},
   "source": [
    "# Summary"
   ]
  },
  {
   "cell_type": "code",
   "execution_count": 3,
   "metadata": {
    "vscode": {
     "languageId": "r"
    }
   },
   "outputs": [
    {
     "data": {
      "text/plain": [
       "    Individu     Genre            HeuresEtud            Score      \n",
       " Min.   : 1   Length:21          Length:21          Min.   :53.00  \n",
       " 1st Qu.: 6   Class :character   Class :character   1st Qu.:65.00  \n",
       " Median :11   Mode  :character   Mode  :character   Median :72.00  \n",
       " Mean   :11                                         Mean   :71.19  \n",
       " 3rd Qu.:16                                         3rd Qu.:79.00  \n",
       " Max.   :21                                         Max.   :92.00  "
      ]
     },
     "metadata": {},
     "output_type": "display_data"
    }
   ],
   "source": [
    "summary(score)"
   ]
  },
  {
   "cell_type": "code",
   "execution_count": 4,
   "metadata": {
    "vscode": {
     "languageId": "r"
    }
   },
   "outputs": [
    {
     "data": {
      "image/png": "[encoded data removed]",
      "text/plain": [
       "plot without title"
      ]
     },
     "metadata": {
      "image/png": {
       "height": 420,
       "width": 420
      }
     },
     "output_type": "display_data"
    }
   ],
   "source": [
    "boxplot(score$Score)"
   ]
  },
  {
   "cell_type": "markdown",
   "metadata": {},
   "source": [
    "**comment :**"
   ]
  },
  {
   "cell_type": "markdown",
   "metadata": {},
   "source": [
    "# Variance"
   ]
  },
  {
   "cell_type": "code",
   "execution_count": 5,
   "metadata": {
    "vscode": {
     "languageId": "r"
    }
   },
   "outputs": [
    {
     "data": {
      "text/html": [
       "113.661904761905"
      ],
      "text/latex": [
       "113.661904761905"
      ],
      "text/markdown": [
       "113.661904761905"
      ],
      "text/plain": [
       "[1] 113.6619"
      ]
     },
     "metadata": {},
     "output_type": "display_data"
    }
   ],
   "source": [
    "var(score$Score)"
   ]
  },
  {
   "cell_type": "markdown",
   "metadata": {},
   "source": [
    "# Ecart-type"
   ]
  },
  {
   "cell_type": "code",
   "execution_count": 6,
   "metadata": {
    "vscode": {
     "languageId": "r"
    }
   },
   "outputs": [
    {
     "data": {
      "text/html": [
       "10.6612337354504"
      ],
      "text/latex": [
       "10.6612337354504"
      ],
      "text/markdown": [
       "10.6612337354504"
      ],
      "text/plain": [
       "[1] 10.66123"
      ]
     },
     "metadata": {},
     "output_type": "display_data"
    }
   ],
   "source": [
    "sd(score$Score)"
   ]
  },
  {
   "cell_type": "markdown",
   "metadata": {},
   "source": [
    "## analyse bivariée"
   ]
  },
  {
   "cell_type": "code",
   "execution_count": 7,
   "metadata": {
    "vscode": {
     "languageId": "r"
    }
   },
   "outputs": [
    {
     "name": "stderr",
     "output_type": "stream",
     "text": [
      "\n",
      "Attaching package: 'dplyr'\n",
      "\n",
      "\n",
      "The following objects are masked from 'package:stats':\n",
      "\n",
      "    filter, lag\n",
      "\n",
      "\n",
      "The following objects are masked from 'package:base':\n",
      "\n",
      "    intersect, setdiff, setequal, union\n",
      "\n",
      "\n"
     ]
    }
   ],
   "source": [
    "library(dplyr)\n",
    "data <- mutate(score,\n",
    "  Genre = factor(Genre),\n",
    "  HeuresEtud = as.double(HeuresEtud)\n",
    ")"
   ]
  },
  {
   "cell_type": "code",
   "execution_count": 8,
   "metadata": {
    "vscode": {
     "languageId": "r"
    }
   },
   "outputs": [
    {
     "data": {
      "text/html": [
       "<table class=\"dataframe\">\n",
       "<caption>A data.frame: 21 × 4</caption>\n",
       "<thead>\n",
       "\t<tr><th scope=col>Individu</th><th scope=col>Genre</th><th scope=col>HeuresEtud</th><th scope=col>Score</th></tr>\n",
       "\t<tr><th scope=col>&lt;int&gt;</th><th scope=col>&lt;fct&gt;</th><th scope=col>&lt;dbl&gt;</th><th scope=col>&lt;int&gt;</th></tr>\n",
       "</thead>\n",
       "<tbody>\n",
       "\t<tr><td> 1</td><td>M</td><td>6.0</td><td>53</td></tr>\n",
       "\t<tr><td> 2</td><td>F</td><td>7.0</td><td>60</td></tr>\n",
       "\t<tr><td> 3</td><td>M</td><td>6.5</td><td>56</td></tr>\n",
       "\t<tr><td> 4</td><td>F</td><td>8.0</td><td>79</td></tr>\n",
       "\t<tr><td> 5</td><td>M</td><td>6.6</td><td>58</td></tr>\n",
       "\t<tr><td> 6</td><td>M</td><td>8.1</td><td>85</td></tr>\n",
       "\t<tr><td> 7</td><td>M</td><td>6.8</td><td>70</td></tr>\n",
       "\t<tr><td> 8</td><td>M</td><td>6.9</td><td>56</td></tr>\n",
       "\t<tr><td> 9</td><td>F</td><td>7.3</td><td>69</td></tr>\n",
       "\t<tr><td>10</td><td>F</td><td>6.9</td><td>76</td></tr>\n",
       "\t<tr><td>11</td><td>M</td><td>8.2</td><td>79</td></tr>\n",
       "\t<tr><td>12</td><td>M</td><td>7.2</td><td>68</td></tr>\n",
       "\t<tr><td>13</td><td>F</td><td>7.3</td><td>74</td></tr>\n",
       "\t<tr><td>14</td><td>F</td><td>6.9</td><td>72</td></tr>\n",
       "\t<tr><td>15</td><td>F</td><td>8.6</td><td>84</td></tr>\n",
       "\t<tr><td>16</td><td>F</td><td>7.4</td><td>78</td></tr>\n",
       "\t<tr><td>17</td><td>M</td><td>7.6</td><td>76</td></tr>\n",
       "\t<tr><td>18</td><td>F</td><td>6.8</td><td>65</td></tr>\n",
       "\t<tr><td>19</td><td>M</td><td>8.0</td><td>92</td></tr>\n",
       "\t<tr><td>20</td><td>M</td><td>7.4</td><td>80</td></tr>\n",
       "\t<tr><td>21</td><td>F</td><td>6.5</td><td>65</td></tr>\n",
       "</tbody>\n",
       "</table>\n"
      ],
      "text/latex": [
       "A data.frame: 21 × 4\n",
       "\\begin{tabular}{llll}\n",
       " Individu & Genre & HeuresEtud & Score\\\\\n",
       " <int> & <fct> & <dbl> & <int>\\\\\n",
       "\\hline\n",
       "\t  1 & M & 6.0 & 53\\\\\n",
       "\t  2 & F & 7.0 & 60\\\\\n",
       "\t  3 & M & 6.5 & 56\\\\\n",
       "\t  4 & F & 8.0 & 79\\\\\n",
       "\t  5 & M & 6.6 & 58\\\\\n",
       "\t  6 & M & 8.1 & 85\\\\\n",
       "\t  7 & M & 6.8 & 70\\\\\n",
       "\t  8 & M & 6.9 & 56\\\\\n",
       "\t  9 & F & 7.3 & 69\\\\\n",
       "\t 10 & F & 6.9 & 76\\\\\n",
       "\t 11 & M & 8.2 & 79\\\\\n",
       "\t 12 & M & 7.2 & 68\\\\\n",
       "\t 13 & F & 7.3 & 74\\\\\n",
       "\t 14 & F & 6.9 & 72\\\\\n",
       "\t 15 & F & 8.6 & 84\\\\\n",
       "\t 16 & F & 7.4 & 78\\\\\n",
       "\t 17 & M & 7.6 & 76\\\\\n",
       "\t 18 & F & 6.8 & 65\\\\\n",
       "\t 19 & M & 8.0 & 92\\\\\n",
       "\t 20 & M & 7.4 & 80\\\\\n",
       "\t 21 & F & 6.5 & 65\\\\\n",
       "\\end{tabular}\n"
      ],
      "text/markdown": [
       "\n",
       "A data.frame: 21 × 4\n",
       "\n",
       "| Individu &lt;int&gt; | Genre &lt;fct&gt; | HeuresEtud &lt;dbl&gt; | Score &lt;int&gt; |\n",
       "|---|---|---|---|\n",
       "|  1 | M | 6.0 | 53 |\n",
       "|  2 | F | 7.0 | 60 |\n",
       "|  3 | M | 6.5 | 56 |\n",
       "|  4 | F | 8.0 | 79 |\n",
       "|  5 | M | 6.6 | 58 |\n",
       "|  6 | M | 8.1 | 85 |\n",
       "|  7 | M | 6.8 | 70 |\n",
       "|  8 | M | 6.9 | 56 |\n",
       "|  9 | F | 7.3 | 69 |\n",
       "| 10 | F | 6.9 | 76 |\n",
       "| 11 | M | 8.2 | 79 |\n",
       "| 12 | M | 7.2 | 68 |\n",
       "| 13 | F | 7.3 | 74 |\n",
       "| 14 | F | 6.9 | 72 |\n",
       "| 15 | F | 8.6 | 84 |\n",
       "| 16 | F | 7.4 | 78 |\n",
       "| 17 | M | 7.6 | 76 |\n",
       "| 18 | F | 6.8 | 65 |\n",
       "| 19 | M | 8.0 | 92 |\n",
       "| 20 | M | 7.4 | 80 |\n",
       "| 21 | F | 6.5 | 65 |\n",
       "\n"
      ],
      "text/plain": [
       "   Individu Genre HeuresEtud Score\n",
       "1   1       M     6.0        53   \n",
       "2   2       F     7.0        60   \n",
       "3   3       M     6.5        56   \n",
       "4   4       F     8.0        79   \n",
       "5   5       M     6.6        58   \n",
       "6   6       M     8.1        85   \n",
       "7   7       M     6.8        70   \n",
       "8   8       M     6.9        56   \n",
       "9   9       F     7.3        69   \n",
       "10 10       F     6.9        76   \n",
       "11 11       M     8.2        79   \n",
       "12 12       M     7.2        68   \n",
       "13 13       F     7.3        74   \n",
       "14 14       F     6.9        72   \n",
       "15 15       F     8.6        84   \n",
       "16 16       F     7.4        78   \n",
       "17 17       M     7.6        76   \n",
       "18 18       F     6.8        65   \n",
       "19 19       M     8.0        92   \n",
       "20 20       M     7.4        80   \n",
       "21 21       F     6.5        65   "
      ]
     },
     "metadata": {},
     "output_type": "display_data"
    }
   ],
   "source": [
    "data"
   ]
  },
  {
   "cell_type": "markdown",
   "metadata": {},
   "source": [
    "# Score et HeuresEtud  "
   ]
  },
  {
   "cell_type": "code",
   "execution_count": 9,
   "metadata": {
    "vscode": {
     "languageId": "r"
    }
   },
   "outputs": [],
   "source": [
    "attach(score)"
   ]
  },
  {
   "cell_type": "code",
   "execution_count": 10,
   "metadata": {
    "vscode": {
     "languageId": "r"
    }
   },
   "outputs": [
    {
     "data": {
      "image/png": "[encoded data removed]",
      "text/plain": [
       "plot without title"
      ]
     },
     "metadata": {
      "image/png": {
       "height": 420,
       "width": 420
      }
     },
     "output_type": "display_data"
    }
   ],
   "source": [
    "plot(HeuresEtud,Score)"
   ]
  },
  {
   "cell_type": "code",
   "execution_count": 11,
   "metadata": {
    "vscode": {
     "languageId": "r"
    }
   },
   "outputs": [
    {
     "data": {
      "text/plain": [
       "\n",
       "\tPearson's product-moment correlation\n",
       "\n",
       "data:  data$HeuresEtud and Score\n",
       "t = 6.9255, df = 19, p-value = 1.331e-06\n",
       "alternative hypothesis: true correlation is not equal to 0\n",
       "95 percent confidence interval:\n",
       " 0.6533236 0.9360326\n",
       "sample estimates:\n",
       "      cor \n",
       "0.8463214 \n"
      ]
     },
     "metadata": {},
     "output_type": "display_data"
    }
   ],
   "source": [
    "r<-cor(data$HeuresEtud,Score)\n",
    "cor.test(data$HeuresEtud,Score)"
   ]
  },
  {
   "cell_type": "markdown",
   "metadata": {},
   "source": [
    "il ya une liaison entre les deux var"
   ]
  },
  {
   "cell_type": "code",
   "execution_count": 12,
   "metadata": {
    "vscode": {
     "languageId": "r"
    }
   },
   "outputs": [
    {
     "name": "stderr",
     "output_type": "stream",
     "text": [
      "Warning message in ks.test.default(Score, \"pnorm\"):\n",
      "\"ties should not be present for the Kolmogorov-Smirnov test\"\n"
     ]
    },
    {
     "data": {
      "text/plain": [
       "\n",
       "\tAsymptotic one-sample Kolmogorov-Smirnov test\n",
       "\n",
       "data:  Score\n",
       "D = 1, p-value < 2.2e-16\n",
       "alternative hypothesis: two-sided\n"
      ]
     },
     "metadata": {},
     "output_type": "display_data"
    },
    {
     "data": {
      "text/plain": [
       "\n",
       "\tShapiro-Wilk normality test\n",
       "\n",
       "data:  Score\n",
       "W = 0.97141, p-value = 0.7641\n"
      ]
     },
     "metadata": {},
     "output_type": "display_data"
    }
   ],
   "source": [
    "#shapiro-wilk ou kolmogorov smirnov\n",
    "ks.test(Score,\"pnorm\")\n",
    "shapiro.test(Score)"
   ]
  },
  {
   "cell_type": "markdown",
   "metadata": {},
   "source": [
    "normal"
   ]
  },
  {
   "cell_type": "code",
   "execution_count": 13,
   "metadata": {
    "vscode": {
     "languageId": "r"
    }
   },
   "outputs": [
    {
     "name": "stderr",
     "output_type": "stream",
     "text": [
      "Warning message in ks.test.default(data$HeuresEtud, \"pnorm\"):\n",
      "\"ties should not be present for the Kolmogorov-Smirnov test\"\n"
     ]
    },
    {
     "data": {
      "text/plain": [
       "\n",
       "\tAsymptotic one-sample Kolmogorov-Smirnov test\n",
       "\n",
       "data:  data$HeuresEtud\n",
       "D = 1, p-value < 2.2e-16\n",
       "alternative hypothesis: two-sided\n"
      ]
     },
     "metadata": {},
     "output_type": "display_data"
    },
    {
     "data": {
      "text/plain": [
       "\n",
       "\tShapiro-Wilk normality test\n",
       "\n",
       "data:  data$HeuresEtud\n",
       "W = 0.96843, p-value = 0.698\n"
      ]
     },
     "metadata": {},
     "output_type": "display_data"
    }
   ],
   "source": [
    "#shapiro-wilk ou kolmogorov smirnov\n",
    "ks.test(data$HeuresEtud, \"pnorm\")\n",
    "shapiro.test(data$HeuresEtud)"
   ]
  },
  {
   "cell_type": "markdown",
   "metadata": {},
   "source": [
    "normal"
   ]
  },
  {
   "cell_type": "code",
   "execution_count": 14,
   "metadata": {
    "vscode": {
     "languageId": "r"
    }
   },
   "outputs": [
    {
     "data": {
      "image/png": "[encoded data removed]",
      "text/plain": [
       "Plot with title \"Normal Q-Q Plot\""
      ]
     },
     "metadata": {
      "image/png": {
       "height": 420,
       "width": 420
      }
     },
     "output_type": "display_data"
    },
    {
     "data": {
      "image/png": "[encoded data removed]",
      "text/plain": [
       "Plot with title \"Normal Q-Q Plot\""
      ]
     },
     "metadata": {
      "image/png": {
       "height": 420,
       "width": 420
      }
     },
     "output_type": "display_data"
    }
   ],
   "source": [
    "qqnorm(Score)\n",
    "qqline(Score,col ='green',lwd=2)\n",
    "\n",
    "qqnorm(data$HeuresEtud)\n",
    "qqline(data$HeuresEtud,col ='green',lwd=2)\n"
   ]
  },
  {
   "cell_type": "code",
   "execution_count": 15,
   "metadata": {
    "vscode": {
     "languageId": "r"
    }
   },
   "outputs": [
    {
     "data": {
      "text/html": [
       "<table class=\"dataframe\">\n",
       "<caption>A matrix: 6 × 2 of type dbl</caption>\n",
       "<thead>\n",
       "\t<tr><th></th><th scope=col>HeuresEtud</th><th scope=col>Score</th></tr>\n",
       "</thead>\n",
       "<tbody>\n",
       "\t<tr><th scope=row>1</th><td>-1.8783264</td><td>-1.706226</td></tr>\n",
       "\t<tr><th scope=row>2</th><td>-0.3612166</td><td>-1.049642</td></tr>\n",
       "\t<tr><th scope=row>3</th><td>-1.1197715</td><td>-1.424833</td></tr>\n",
       "\t<tr><th scope=row>4</th><td> 1.1558932</td><td> 0.732516</td></tr>\n",
       "\t<tr><th scope=row>5</th><td>-0.9680605</td><td>-1.237237</td></tr>\n",
       "\t<tr><th scope=row>6</th><td> 1.3076041</td><td> 1.295303</td></tr>\n",
       "</tbody>\n",
       "</table>\n"
      ],
      "text/latex": [
       "A matrix: 6 × 2 of type dbl\n",
       "\\begin{tabular}{r|ll}\n",
       "  & HeuresEtud & Score\\\\\n",
       "\\hline\n",
       "\t1 & -1.8783264 & -1.706226\\\\\n",
       "\t2 & -0.3612166 & -1.049642\\\\\n",
       "\t3 & -1.1197715 & -1.424833\\\\\n",
       "\t4 &  1.1558932 &  0.732516\\\\\n",
       "\t5 & -0.9680605 & -1.237237\\\\\n",
       "\t6 &  1.3076041 &  1.295303\\\\\n",
       "\\end{tabular}\n"
      ],
      "text/markdown": [
       "\n",
       "A matrix: 6 × 2 of type dbl\n",
       "\n",
       "| <!--/--> | HeuresEtud | Score |\n",
       "|---|---|---|\n",
       "| 1 | -1.8783264 | -1.706226 |\n",
       "| 2 | -0.3612166 | -1.049642 |\n",
       "| 3 | -1.1197715 | -1.424833 |\n",
       "| 4 |  1.1558932 |  0.732516 |\n",
       "| 5 | -0.9680605 | -1.237237 |\n",
       "| 6 |  1.3076041 |  1.295303 |\n",
       "\n"
      ],
      "text/plain": [
       "  HeuresEtud Score    \n",
       "1 -1.8783264 -1.706226\n",
       "2 -0.3612166 -1.049642\n",
       "3 -1.1197715 -1.424833\n",
       "4  1.1558932  0.732516\n",
       "5 -0.9680605 -1.237237\n",
       "6  1.3076041  1.295303"
      ]
     },
     "metadata": {},
     "output_type": "display_data"
    }
   ],
   "source": [
    "x <- data[0:21,3:4]\n",
    "Xsc <- scale(x, scale = T)\n",
    "head(Xsc)"
   ]
  },
  {
   "cell_type": "markdown",
   "metadata": {},
   "source": [
    "## homogeneity"
   ]
  },
  {
   "cell_type": "code",
   "execution_count": 16,
   "metadata": {
    "vscode": {
     "languageId": "r"
    }
   },
   "outputs": [
    {
     "data": {
      "text/plain": [
       "\n",
       "\tBartlett test of homogeneity of variances\n",
       "\n",
       "data:  x\n",
       "Bartlett's K-squared = 81.721, df = 1, p-value < 2.2e-16\n"
      ]
     },
     "metadata": {},
     "output_type": "display_data"
    }
   ],
   "source": [
    "bartlett.test(x)"
   ]
  },
  {
   "cell_type": "markdown",
   "metadata": {},
   "source": [
    "non homogene"
   ]
  },
  {
   "cell_type": "markdown",
   "metadata": {},
   "source": [
    "## La regression "
   ]
  },
  {
   "cell_type": "code",
   "execution_count": 17,
   "metadata": {
    "vscode": {
     "languageId": "r"
    }
   },
   "outputs": [
    {
     "data": {
      "text/plain": [
       "\n",
       "Call:\n",
       "lm(formula = Xsc[, 2] ~ Xsc[, 1])\n",
       "\n",
       "Residuals:\n",
       "     Min       1Q   Median       3Q      Max \n",
       "-0.99073 -0.41795 -0.01816  0.43084  0.97363 \n",
       "\n",
       "Coefficients:\n",
       "              Estimate Std. Error t value Pr(>|t|)    \n",
       "(Intercept) -8.569e-17  1.193e-01   0.000        1    \n",
       "Xsc[, 1]     8.463e-01  1.222e-01   6.926 1.33e-06 ***\n",
       "---\n",
       "Signif. codes:  0 '***' 0.001 '**' 0.01 '*' 0.05 '.' 0.1 ' ' 1\n",
       "\n",
       "Residual standard error: 0.5465 on 19 degrees of freedom\n",
       "Multiple R-squared:  0.7163,\tAdjusted R-squared:  0.7013 \n",
       "F-statistic: 47.96 on 1 and 19 DF,  p-value: 1.331e-06\n"
      ]
     },
     "metadata": {},
     "output_type": "display_data"
    }
   ],
   "source": [
    "regxy <- lm(Xsc[,2] ~Xsc[,1] )\n",
    "summary(regxy)"
   ]
  },
  {
   "cell_type": "code",
   "execution_count": 18,
   "metadata": {
    "vscode": {
     "languageId": "r"
    }
   },
   "outputs": [
    {
     "data": {
      "image/png": "[encoded data removed]",
      "text/plain": [
       "plot without title"
      ]
     },
     "metadata": {
      "image/png": {
       "height": 420,
       "width": 420
      }
     },
     "output_type": "display_data"
    }
   ],
   "source": [
    "plot(Xsc[,1],Xsc[,2])\n",
    "abline(0,8.463e-01, col = 'red')"
   ]
  },
  {
   "cell_type": "code",
   "execution_count": 21,
   "metadata": {
    "vscode": {
     "languageId": "r"
    }
   },
   "outputs": [
    {
     "data": {
      "text/plain": [
       "\n",
       "\tShapiro-Wilk normality test\n",
       "\n",
       "data:  residuals(regxy)\n",
       "W = 0.97903, p-value = 0.9108\n"
      ]
     },
     "metadata": {},
     "output_type": "display_data"
    },
    {
     "data": {
      "image/png": "[encoded data removed]",
      "text/plain": [
       "Plot with title \"\""
      ]
     },
     "metadata": {
      "image/png": {
       "height": 420,
       "width": 420
      }
     },
     "output_type": "display_data"
    }
   ],
   "source": [
    "plot(regxy,2)\n",
    "shapiro.test(residuals(regxy))\n"
   ]
  },
  {
   "cell_type": "markdown",
   "metadata": {},
   "source": [
    "# Multivarier"
   ]
  },
  {
   "cell_type": "markdown",
   "metadata": {},
   "source": [
    "## Anova (Genre,Score)"
   ]
  },
  {
   "cell_type": "code",
   "execution_count": 50,
   "metadata": {
    "vscode": {
     "languageId": "r"
    }
   },
   "outputs": [
    {
     "data": {
      "text/html": [
       "<style>\n",
       ".list-inline {list-style: none; margin:0; padding: 0}\n",
       ".list-inline>li {display: inline-block}\n",
       ".list-inline>li:not(:last-child)::after {content: \"\\00b7\"; padding: 0 .5ex}\n",
       "</style>\n",
       "<ol class=list-inline><li>'F'</li><li>'M'</li></ol>\n"
      ],
      "text/latex": [
       "\\begin{enumerate*}\n",
       "\\item 'F'\n",
       "\\item 'M'\n",
       "\\end{enumerate*}\n"
      ],
      "text/markdown": [
       "1. 'F'\n",
       "2. 'M'\n",
       "\n",
       "\n"
      ],
      "text/plain": [
       "[1] \"F\" \"M\""
      ]
     },
     "metadata": {},
     "output_type": "display_data"
    }
   ],
   "source": [
    "data <- data.frame(score=Score, genre=factor(Genre))\n",
    "levels(data$genre)"
   ]
  },
  {
   "cell_type": "code",
   "execution_count": 51,
   "metadata": {
    "vscode": {
     "languageId": "r"
    }
   },
   "outputs": [],
   "source": [
    "library(\"dplyr\")\n",
    "library(\"rstatix\")\n",
    "library(\"ggpubr\")"
   ]
  },
  {
   "cell_type": "code",
   "execution_count": 52,
   "metadata": {
    "vscode": {
     "languageId": "r"
    }
   },
   "outputs": [
    {
     "data": {
      "text/html": [
       "<table class=\"dataframe\">\n",
       "<caption>A tibble: 2 × 5</caption>\n",
       "<thead>\n",
       "\t<tr><th scope=col>genre</th><th scope=col>variable</th><th scope=col>n</th><th scope=col>mean</th><th scope=col>sd</th></tr>\n",
       "\t<tr><th scope=col>&lt;fct&gt;</th><th scope=col>&lt;fct&gt;</th><th scope=col>&lt;dbl&gt;</th><th scope=col>&lt;dbl&gt;</th><th scope=col>&lt;dbl&gt;</th></tr>\n",
       "</thead>\n",
       "<tbody>\n",
       "\t<tr><td>F</td><td>score</td><td>10</td><td>72.200</td><td> 7.451</td></tr>\n",
       "\t<tr><td>M</td><td>score</td><td>11</td><td>70.273</td><td>13.245</td></tr>\n",
       "</tbody>\n",
       "</table>\n"
      ],
      "text/latex": [
       "A tibble: 2 × 5\n",
       "\\begin{tabular}{lllll}\n",
       " genre & variable & n & mean & sd\\\\\n",
       " <fct> & <fct> & <dbl> & <dbl> & <dbl>\\\\\n",
       "\\hline\n",
       "\t F & score & 10 & 72.200 &  7.451\\\\\n",
       "\t M & score & 11 & 70.273 & 13.245\\\\\n",
       "\\end{tabular}\n"
      ],
      "text/markdown": [
       "\n",
       "A tibble: 2 × 5\n",
       "\n",
       "| genre &lt;fct&gt; | variable &lt;fct&gt; | n &lt;dbl&gt; | mean &lt;dbl&gt; | sd &lt;dbl&gt; |\n",
       "|---|---|---|---|---|\n",
       "| F | score | 10 | 72.200 |  7.451 |\n",
       "| M | score | 11 | 70.273 | 13.245 |\n",
       "\n"
      ],
      "text/plain": [
       "  genre variable n  mean   sd    \n",
       "1 F     score    10 72.200  7.451\n",
       "2 M     score    11 70.273 13.245"
      ]
     },
     "metadata": {},
     "output_type": "display_data"
    }
   ],
   "source": [
    "data %>% group_by(genre) %>% get_summary_stats(score, type = \"mean_sd\")"
   ]
  },
  {
   "cell_type": "code",
   "execution_count": 53,
   "metadata": {
    "vscode": {
     "languageId": "r"
    }
   },
   "outputs": [
    {
     "data": {
      "image/png": "[encoded data removed]",
      "text/plain": [
       "plot without title"
      ]
     },
     "metadata": {
      "image/png": {
       "height": 420,
       "width": 420
      }
     },
     "output_type": "display_data"
    }
   ],
   "source": [
    "plot(score ~genre, data=data)"
   ]
  },
  {
   "cell_type": "code",
   "execution_count": 54,
   "metadata": {
    "vscode": {
     "languageId": "r"
    }
   },
   "outputs": [
    {
     "data": {
      "text/html": [
       "<table class=\"dataframe\">\n",
       "<caption>A tibble: 2 × 4</caption>\n",
       "<thead>\n",
       "\t<tr><th scope=col>genre</th><th scope=col>variable</th><th scope=col>statistic</th><th scope=col>p</th></tr>\n",
       "\t<tr><th scope=col>&lt;fct&gt;</th><th scope=col>&lt;chr&gt;</th><th scope=col>&lt;dbl&gt;</th><th scope=col>&lt;dbl&gt;</th></tr>\n",
       "</thead>\n",
       "<tbody>\n",
       "\t<tr><td>F</td><td>score</td><td>0.9776890</td><td>0.9516107</td></tr>\n",
       "\t<tr><td>M</td><td>score</td><td>0.9325563</td><td>0.4372881</td></tr>\n",
       "</tbody>\n",
       "</table>\n"
      ],
      "text/latex": [
       "A tibble: 2 × 4\n",
       "\\begin{tabular}{llll}\n",
       " genre & variable & statistic & p\\\\\n",
       " <fct> & <chr> & <dbl> & <dbl>\\\\\n",
       "\\hline\n",
       "\t F & score & 0.9776890 & 0.9516107\\\\\n",
       "\t M & score & 0.9325563 & 0.4372881\\\\\n",
       "\\end{tabular}\n"
      ],
      "text/markdown": [
       "\n",
       "A tibble: 2 × 4\n",
       "\n",
       "| genre &lt;fct&gt; | variable &lt;chr&gt; | statistic &lt;dbl&gt; | p &lt;dbl&gt; |\n",
       "|---|---|---|---|\n",
       "| F | score | 0.9776890 | 0.9516107 |\n",
       "| M | score | 0.9325563 | 0.4372881 |\n",
       "\n"
      ],
      "text/plain": [
       "  genre variable statistic p        \n",
       "1 F     score    0.9776890 0.9516107\n",
       "2 M     score    0.9325563 0.4372881"
      ]
     },
     "metadata": {},
     "output_type": "display_data"
    },
    {
     "data": {
      "image/png": "[encoded data removed]",
      "text/plain": [
       "plot without title"
      ]
     },
     "metadata": {
      "image/png": {
       "height": 420,
       "width": 420
      }
     },
     "output_type": "display_data"
    }
   ],
   "source": [
    "data %>% group_by(genre) %>% shapiro_test(score)\n",
    "ggqqplot(data, \"score\", facet.by = \"genre\")"
   ]
  },
  {
   "cell_type": "code",
   "execution_count": 57,
   "metadata": {
    "vscode": {
     "languageId": "r"
    }
   },
   "outputs": [
    {
     "data": {
      "text/plain": [
       "\n",
       "\tBartlett test of homogeneity of variances\n",
       "\n",
       "data:  Score by data$genre\n",
       "Bartlett's K-squared = 2.775, df = 1, p-value = 0.09575\n"
      ]
     },
     "metadata": {},
     "output_type": "display_data"
    }
   ],
   "source": [
    "bartlett.test(Score ~ data$genre)"
   ]
  },
  {
   "cell_type": "code",
   "execution_count": 58,
   "metadata": {
    "vscode": {
     "languageId": "r"
    }
   },
   "outputs": [
    {
     "data": {
      "text/plain": [
       "            Df Sum Sq Mean Sq F value Pr(>F)\n",
       "genre        1   19.5   19.46   0.164   0.69\n",
       "Residuals   19 2253.8  118.62               "
      ]
     },
     "metadata": {},
     "output_type": "display_data"
    }
   ],
   "source": [
    "rs.aov <- aov(score ~ genre, data )\n",
    "summary(rs.aov)"
   ]
  },
  {
   "cell_type": "markdown",
   "metadata": {},
   "source": [
    "## ANOVA (GENRE,HEURES-ETUDE)"
   ]
  },
  {
   "cell_type": "code",
   "execution_count": 59,
   "metadata": {
    "vscode": {
     "languageId": "r"
    }
   },
   "outputs": [
    {
     "data": {
      "text/html": [
       "<style>\n",
       ".list-inline {list-style: none; margin:0; padding: 0}\n",
       ".list-inline>li {display: inline-block}\n",
       ".list-inline>li:not(:last-child)::after {content: \"\\00b7\"; padding: 0 .5ex}\n",
       "</style>\n",
       "<ol class=list-inline><li>'F'</li><li>'M'</li></ol>\n"
      ],
      "text/latex": [
       "\\begin{enumerate*}\n",
       "\\item 'F'\n",
       "\\item 'M'\n",
       "\\end{enumerate*}\n"
      ],
      "text/markdown": [
       "1. 'F'\n",
       "2. 'M'\n",
       "\n",
       "\n"
      ],
      "text/plain": [
       "[1] \"F\" \"M\""
      ]
     },
     "metadata": {},
     "output_type": "display_data"
    }
   ],
   "source": [
    "data <- data.frame(Heure=as.double(HeuresEtud), genre=factor(Genre))\n",
    "levels(data$genre)"
   ]
  },
  {
   "cell_type": "code",
   "execution_count": 60,
   "metadata": {
    "vscode": {
     "languageId": "r"
    }
   },
   "outputs": [
    {
     "data": {
      "text/html": [
       "<table class=\"dataframe\">\n",
       "<caption>A tibble: 2 × 5</caption>\n",
       "<thead>\n",
       "\t<tr><th scope=col>genre</th><th scope=col>variable</th><th scope=col>n</th><th scope=col>mean</th><th scope=col>sd</th></tr>\n",
       "\t<tr><th scope=col>&lt;fct&gt;</th><th scope=col>&lt;fct&gt;</th><th scope=col>&lt;dbl&gt;</th><th scope=col>&lt;dbl&gt;</th><th scope=col>&lt;dbl&gt;</th></tr>\n",
       "</thead>\n",
       "<tbody>\n",
       "\t<tr><td>F</td><td>Heure</td><td>10</td><td>7.270</td><td>0.622</td></tr>\n",
       "\t<tr><td>M</td><td>Heure</td><td>11</td><td>7.209</td><td>0.720</td></tr>\n",
       "</tbody>\n",
       "</table>\n"
      ],
      "text/latex": [
       "A tibble: 2 × 5\n",
       "\\begin{tabular}{lllll}\n",
       " genre & variable & n & mean & sd\\\\\n",
       " <fct> & <fct> & <dbl> & <dbl> & <dbl>\\\\\n",
       "\\hline\n",
       "\t F & Heure & 10 & 7.270 & 0.622\\\\\n",
       "\t M & Heure & 11 & 7.209 & 0.720\\\\\n",
       "\\end{tabular}\n"
      ],
      "text/markdown": [
       "\n",
       "A tibble: 2 × 5\n",
       "\n",
       "| genre &lt;fct&gt; | variable &lt;fct&gt; | n &lt;dbl&gt; | mean &lt;dbl&gt; | sd &lt;dbl&gt; |\n",
       "|---|---|---|---|---|\n",
       "| F | Heure | 10 | 7.270 | 0.622 |\n",
       "| M | Heure | 11 | 7.209 | 0.720 |\n",
       "\n"
      ],
      "text/plain": [
       "  genre variable n  mean  sd   \n",
       "1 F     Heure    10 7.270 0.622\n",
       "2 M     Heure    11 7.209 0.720"
      ]
     },
     "metadata": {},
     "output_type": "display_data"
    }
   ],
   "source": [
    "data %>% group_by(genre) %>% get_summary_stats(Heure, type = \"mean_sd\")"
   ]
  },
  {
   "cell_type": "code",
   "execution_count": 61,
   "metadata": {
    "vscode": {
     "languageId": "r"
    }
   },
   "outputs": [
    {
     "data": {
      "image/png": "[encoded data removed]",
      "text/plain": [
       "plot without title"
      ]
     },
     "metadata": {
      "image/png": {
       "height": 420,
       "width": 420
      }
     },
     "output_type": "display_data"
    }
   ],
   "source": [
    "plot(Heure ~ genre, data=data)"
   ]
  },
  {
   "cell_type": "code",
   "execution_count": 62,
   "metadata": {
    "vscode": {
     "languageId": "r"
    }
   },
   "outputs": [
    {
     "data": {
      "text/html": [
       "<table class=\"dataframe\">\n",
       "<caption>A tibble: 1 × 4</caption>\n",
       "<thead>\n",
       "\t<tr><th scope=col>genre</th><th scope=col>Heure</th><th scope=col>is.outlier</th><th scope=col>is.extreme</th></tr>\n",
       "\t<tr><th scope=col>&lt;fct&gt;</th><th scope=col>&lt;dbl&gt;</th><th scope=col>&lt;lgl&gt;</th><th scope=col>&lt;lgl&gt;</th></tr>\n",
       "</thead>\n",
       "<tbody>\n",
       "\t<tr><td>F</td><td>8.6</td><td>TRUE</td><td>FALSE</td></tr>\n",
       "</tbody>\n",
       "</table>\n"
      ],
      "text/latex": [
       "A tibble: 1 × 4\n",
       "\\begin{tabular}{llll}\n",
       " genre & Heure & is.outlier & is.extreme\\\\\n",
       " <fct> & <dbl> & <lgl> & <lgl>\\\\\n",
       "\\hline\n",
       "\t F & 8.6 & TRUE & FALSE\\\\\n",
       "\\end{tabular}\n"
      ],
      "text/markdown": [
       "\n",
       "A tibble: 1 × 4\n",
       "\n",
       "| genre &lt;fct&gt; | Heure &lt;dbl&gt; | is.outlier &lt;lgl&gt; | is.extreme &lt;lgl&gt; |\n",
       "|---|---|---|---|\n",
       "| F | 8.6 | TRUE | FALSE |\n",
       "\n"
      ],
      "text/plain": [
       "  genre Heure is.outlier is.extreme\n",
       "1 F     8.6   TRUE       FALSE     "
      ]
     },
     "metadata": {},
     "output_type": "display_data"
    }
   ],
   "source": [
    "data %>% group_by(genre) %>% identify_outliers(Heure)"
   ]
  },
  {
   "cell_type": "code",
   "execution_count": 63,
   "metadata": {
    "vscode": {
     "languageId": "r"
    }
   },
   "outputs": [
    {
     "data": {
      "text/html": [
       "<table class=\"dataframe\">\n",
       "<caption>A tibble: 2 × 4</caption>\n",
       "<thead>\n",
       "\t<tr><th scope=col>genre</th><th scope=col>variable</th><th scope=col>statistic</th><th scope=col>p</th></tr>\n",
       "\t<tr><th scope=col>&lt;fct&gt;</th><th scope=col>&lt;chr&gt;</th><th scope=col>&lt;dbl&gt;</th><th scope=col>&lt;dbl&gt;</th></tr>\n",
       "</thead>\n",
       "<tbody>\n",
       "\t<tr><td>F</td><td>Heure</td><td>0.8978477</td><td>0.2074584</td></tr>\n",
       "\t<tr><td>M</td><td>Heure</td><td>0.9569488</td><td>0.7331370</td></tr>\n",
       "</tbody>\n",
       "</table>\n"
      ],
      "text/latex": [
       "A tibble: 2 × 4\n",
       "\\begin{tabular}{llll}\n",
       " genre & variable & statistic & p\\\\\n",
       " <fct> & <chr> & <dbl> & <dbl>\\\\\n",
       "\\hline\n",
       "\t F & Heure & 0.8978477 & 0.2074584\\\\\n",
       "\t M & Heure & 0.9569488 & 0.7331370\\\\\n",
       "\\end{tabular}\n"
      ],
      "text/markdown": [
       "\n",
       "A tibble: 2 × 4\n",
       "\n",
       "| genre &lt;fct&gt; | variable &lt;chr&gt; | statistic &lt;dbl&gt; | p &lt;dbl&gt; |\n",
       "|---|---|---|---|\n",
       "| F | Heure | 0.8978477 | 0.2074584 |\n",
       "| M | Heure | 0.9569488 | 0.7331370 |\n",
       "\n"
      ],
      "text/plain": [
       "  genre variable statistic p        \n",
       "1 F     Heure    0.8978477 0.2074584\n",
       "2 M     Heure    0.9569488 0.7331370"
      ]
     },
     "metadata": {},
     "output_type": "display_data"
    },
    {
     "data": {
      "image/png": "[encoded data removed]",
      "text/plain": [
       "plot without title"
      ]
     },
     "metadata": {
      "image/png": {
       "height": 420,
       "width": 420
      }
     },
     "output_type": "display_data"
    }
   ],
   "source": [
    "data %>% group_by(genre) %>% shapiro_test(Heure)\n",
    "ggqqplot(data, \"Heure\", facet.by = \"genre\")"
   ]
  },
  {
   "cell_type": "code",
   "execution_count": 65,
   "metadata": {
    "vscode": {
     "languageId": "r"
    }
   },
   "outputs": [
    {
     "data": {
      "text/plain": [
       "\n",
       "\tBartlett test of homogeneity of variances\n",
       "\n",
       "data:  data$Heure by data$genre\n",
       "Bartlett's K-squared = 0.1926, df = 1, p-value = 0.6608\n"
      ]
     },
     "metadata": {},
     "output_type": "display_data"
    }
   ],
   "source": [
    "bartlett.test(data$Heure ~ data$genre)"
   ]
  },
  {
   "cell_type": "code",
   "execution_count": 66,
   "metadata": {
    "vscode": {
     "languageId": "r"
    }
   },
   "outputs": [
    {
     "data": {
      "text/plain": [
       "            Df Sum Sq Mean Sq F value Pr(>F)\n",
       "genre        1  0.019  0.0194   0.043  0.839\n",
       "Residuals   19  8.670  0.4563               "
      ]
     },
     "metadata": {},
     "output_type": "display_data"
    }
   ],
   "source": [
    "rs.aov <- aov(Heure ~ genre, data)\n",
    "summary(rs.aov)"
   ]
  },
  {
   "cell_type": "markdown",
   "metadata": {},
   "source": [
    "### Conclusion :\n",
    "- Donc le genre a aucun effet significatif sur les heures d'etudes et le score . "
   ]
  }
 ],
 "metadata": {
  "kernelspec": {
   "display_name": "R",
   "language": "R",
   "name": "ir"
  },
  "language_info": {
   "codemirror_mode": "r",
   "file_extension": ".r",
   "mimetype": "text/x-r-source",
   "name": "R",
   "pygments_lexer": "r",
   "version": "4.3.2"
  }
 },
 "nbformat": 4,
 "nbformat_minor": 2
}
