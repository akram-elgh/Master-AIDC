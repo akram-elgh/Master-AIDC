{
 "cells": [
  {
   "cell_type": "code",
   "execution_count": 7,
   "metadata": {
    "vscode": {
     "languageId": "r"
    }
   },
   "outputs": [],
   "source": [
    "somme <- c(981.326, 190.232, 129.431, 442.292)\n",
    "dll <- c(1, 1, 1, 18)"
   ]
  },
  {
   "cell_type": "markdown",
   "metadata": {},
   "source": [
    "## Q 1\n",
    "\n",
    "Quelle est la somme des carrés due à la régression pour l’ensemble des trois\n",
    "variables explicatives ?"
   ]
  },
  {
   "cell_type": "code",
   "execution_count": 9,
   "metadata": {
    "vscode": {
     "languageId": "r"
    }
   },
   "outputs": [
    {
     "data": {
      "text/html": [
       "1300.989"
      ],
      "text/latex": [
       "1300.989"
      ],
      "text/markdown": [
       "1300.989"
      ],
      "text/plain": [
       "[1] 1300.989"
      ]
     },
     "metadata": {},
     "output_type": "display_data"
    }
   ],
   "source": [
    "sum(somme[1:3])"
   ]
  },
  {
   "cell_type": "markdown",
   "metadata": {},
   "source": [
    "## Q2\n",
    "Quelle proportion de la variation dans le niveau d’anxiété est expliquée par les\n",
    "trois variables explicatives ?\n",
    "\n",
    "on a $R^2 = \\frac{S_{reg}}{S_{tot}}$"
   ]
  },
  {
   "cell_type": "code",
   "execution_count": 10,
   "metadata": {
    "vscode": {
     "languageId": "r"
    }
   },
   "outputs": [
    {
     "data": {
      "text/html": [
       "0.74628760366229"
      ],
      "text/latex": [
       "0.74628760366229"
      ],
      "text/markdown": [
       "0.74628760366229"
      ],
      "text/plain": [
       "[1] 0.7462876"
      ]
     },
     "metadata": {},
     "output_type": "display_data"
    }
   ],
   "source": [
    "sum(somme[1:3]) / sum(somme)"
   ]
  },
  {
   "cell_type": "markdown",
   "metadata": {},
   "source": [
    "# Q3\n",
    "Pouvons-nous conclure que dans l’ensemble les trois variables explicatives ont un\n",
    "effet significatif sur le niveau d’anxiété ? Utiliser un seuil de signification $\\alpha = 5%$.\n",
    "\n",
    "Préciser les hypothèses que nous souhaitons tester"
   ]
  }
 ],
 "metadata": {
  "kernelspec": {
   "display_name": "R",
   "language": "R",
   "name": "ir"
  },
  "language_info": {
   "codemirror_mode": "r",
   "file_extension": ".r",
   "mimetype": "text/x-r-source",
   "name": "R",
   "pygments_lexer": "r",
   "version": "4.1.2"
  }
 },
 "nbformat": 4,
 "nbformat_minor": 2
}
