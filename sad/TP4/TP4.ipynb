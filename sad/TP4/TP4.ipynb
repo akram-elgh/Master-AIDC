{
 "cells": [
  {
   "cell_type": "markdown",
   "metadata": {},
   "source": [
    "# TP4"
   ]
  },
  {
   "cell_type": "code",
   "execution_count": 17,
   "metadata": {
    "vscode": {
     "languageId": "r"
    }
   },
   "outputs": [],
   "source": [
    "library(dplyr)\n",
    "library(rstatix)\n",
    "library(graphics)\n",
    "library(ggplot2)\n",
    "library(ggpubr)"
   ]
  },
  {
   "cell_type": "code",
   "execution_count": 13,
   "metadata": {
    "vscode": {
     "languageId": "r"
    }
   },
   "outputs": [
    {
     "data": {
      "text/html": [
       "<table class=\"dataframe\">\n",
       "<caption>A data.frame: 6 × 2</caption>\n",
       "<thead>\n",
       "\t<tr><th></th><th scope=col>Groupe</th><th scope=col>score_iq</th></tr>\n",
       "\t<tr><th></th><th scope=col>&lt;dbl&gt;</th><th scope=col>&lt;dbl&gt;</th></tr>\n",
       "</thead>\n",
       "<tbody>\n",
       "\t<tr><th scope=row>1</th><td>1</td><td>44</td></tr>\n",
       "\t<tr><th scope=row>2</th><td>1</td><td>40</td></tr>\n",
       "\t<tr><th scope=row>3</th><td>1</td><td>44</td></tr>\n",
       "\t<tr><th scope=row>4</th><td>1</td><td>39</td></tr>\n",
       "\t<tr><th scope=row>5</th><td>1</td><td>25</td></tr>\n",
       "\t<tr><th scope=row>6</th><td>1</td><td>37</td></tr>\n",
       "</tbody>\n",
       "</table>\n"
      ],
      "text/latex": [
       "A data.frame: 6 × 2\n",
       "\\begin{tabular}{r|ll}\n",
       "  & Groupe & score\\_iq\\\\\n",
       "  & <dbl> & <dbl>\\\\\n",
       "\\hline\n",
       "\t1 & 1 & 44\\\\\n",
       "\t2 & 1 & 40\\\\\n",
       "\t3 & 1 & 44\\\\\n",
       "\t4 & 1 & 39\\\\\n",
       "\t5 & 1 & 25\\\\\n",
       "\t6 & 1 & 37\\\\\n",
       "\\end{tabular}\n"
      ],
      "text/markdown": [
       "\n",
       "A data.frame: 6 × 2\n",
       "\n",
       "| <!--/--> | Groupe &lt;dbl&gt; | score_iq &lt;dbl&gt; |\n",
       "|---|---|---|\n",
       "| 1 | 1 | 44 |\n",
       "| 2 | 1 | 40 |\n",
       "| 3 | 1 | 44 |\n",
       "| 4 | 1 | 39 |\n",
       "| 5 | 1 | 25 |\n",
       "| 6 | 1 | 37 |\n",
       "\n"
      ],
      "text/plain": [
       "  Groupe score_iq\n",
       "1 1      44      \n",
       "2 1      40      \n",
       "3 1      44      \n",
       "4 1      39      \n",
       "5 1      25      \n",
       "6 1      37      "
      ]
     },
     "metadata": {},
     "output_type": "display_data"
    }
   ],
   "source": [
    "score_iq <- read.csv(\"data/score_iq.csv\", header = TRUE)\n",
    "head(score_iq)"
   ]
  },
  {
   "cell_type": "code",
   "execution_count": 15,
   "metadata": {
    "vscode": {
     "languageId": "r"
    }
   },
   "outputs": [
    {
     "data": {
      "text/html": [
       "<style>\n",
       ".list-inline {list-style: none; margin:0; padding: 0}\n",
       ".list-inline>li {display: inline-block}\n",
       ".list-inline>li:not(:last-child)::after {content: \"\\00b7\"; padding: 0 .5ex}\n",
       "</style>\n",
       "<ol class=list-inline><li>'1'</li><li>'2'</li><li>'3'</li></ol>\n"
      ],
      "text/latex": [
       "\\begin{enumerate*}\n",
       "\\item '1'\n",
       "\\item '2'\n",
       "\\item '3'\n",
       "\\end{enumerate*}\n"
      ],
      "text/markdown": [
       "1. '1'\n",
       "2. '2'\n",
       "3. '3'\n",
       "\n",
       "\n"
      ],
      "text/plain": [
       "[1] \"1\" \"2\" \"3\""
      ]
     },
     "metadata": {},
     "output_type": "display_data"
    }
   ],
   "source": [
    "data <- data.frame(score=score_iq$score_iq, group=factor(score_iq$Groupe))\n",
    "\n",
    "levels(data$group)"
   ]
  },
  {
   "cell_type": "code",
   "execution_count": 18,
   "metadata": {
    "vscode": {
     "languageId": "r"
    }
   },
   "outputs": [
    {
     "data": {
      "text/html": [
       "<table class=\"dataframe\">\n",
       "<caption>A tibble: 3 × 5</caption>\n",
       "<thead>\n",
       "\t<tr><th scope=col>group</th><th scope=col>variable</th><th scope=col>n</th><th scope=col>mean</th><th scope=col>sd</th></tr>\n",
       "\t<tr><th scope=col>&lt;fct&gt;</th><th scope=col>&lt;fct&gt;</th><th scope=col>&lt;dbl&gt;</th><th scope=col>&lt;dbl&gt;</th><th scope=col>&lt;dbl&gt;</th></tr>\n",
       "</thead>\n",
       "<tbody>\n",
       "\t<tr><td>1</td><td>score</td><td>15</td><td>35.800</td><td>7.794</td></tr>\n",
       "\t<tr><td>2</td><td>score</td><td>15</td><td>35.867</td><td>6.937</td></tr>\n",
       "\t<tr><td>3</td><td>score</td><td>15</td><td>48.200</td><td>2.396</td></tr>\n",
       "</tbody>\n",
       "</table>\n"
      ],
      "text/latex": [
       "A tibble: 3 × 5\n",
       "\\begin{tabular}{lllll}\n",
       " group & variable & n & mean & sd\\\\\n",
       " <fct> & <fct> & <dbl> & <dbl> & <dbl>\\\\\n",
       "\\hline\n",
       "\t 1 & score & 15 & 35.800 & 7.794\\\\\n",
       "\t 2 & score & 15 & 35.867 & 6.937\\\\\n",
       "\t 3 & score & 15 & 48.200 & 2.396\\\\\n",
       "\\end{tabular}\n"
      ],
      "text/markdown": [
       "\n",
       "A tibble: 3 × 5\n",
       "\n",
       "| group &lt;fct&gt; | variable &lt;fct&gt; | n &lt;dbl&gt; | mean &lt;dbl&gt; | sd &lt;dbl&gt; |\n",
       "|---|---|---|---|---|\n",
       "| 1 | score | 15 | 35.800 | 7.794 |\n",
       "| 2 | score | 15 | 35.867 | 6.937 |\n",
       "| 3 | score | 15 | 48.200 | 2.396 |\n",
       "\n"
      ],
      "text/plain": [
       "  group variable n  mean   sd   \n",
       "1 1     score    15 35.800 7.794\n",
       "2 2     score    15 35.867 6.937\n",
       "3 3     score    15 48.200 2.396"
      ]
     },
     "metadata": {},
     "output_type": "display_data"
    },
    {
     "data": {
      "image/png": "[encoded data removed]",
      "text/plain": [
       "plot without title"
      ]
     },
     "metadata": {
      "image/png": {
       "height": 420,
       "width": 420
      }
     },
     "output_type": "display_data"
    }
   ],
   "source": [
    "data %>% group_by(group) %>% get_summary_stats(score, type = \"mean_sd\")\n",
    "ggboxplot(data, x = \"group\", y = \"score\")"
   ]
  },
  {
   "cell_type": "code",
   "execution_count": 19,
   "metadata": {
    "vscode": {
     "languageId": "r"
    }
   },
   "outputs": [
    {
     "data": {
      "image/png": "[encoded data removed]",
      "text/plain": [
       "plot without title"
      ]
     },
     "metadata": {
      "image/png": {
       "height": 420,
       "width": 420
      }
     },
     "output_type": "display_data"
    }
   ],
   "source": [
    "plot(score ~group, data=data)\n",
    "# v. Outliers : data %>% gr"
   ]
  },
  {
   "cell_type": "code",
   "execution_count": 20,
   "metadata": {
    "vscode": {
     "languageId": "r"
    }
   },
   "outputs": [
    {
     "data": {
      "text/html": [
       "<table class=\"dataframe\">\n",
       "<caption>A tibble: 1 × 4</caption>\n",
       "<thead>\n",
       "\t<tr><th scope=col>group</th><th scope=col>score</th><th scope=col>is.outlier</th><th scope=col>is.extreme</th></tr>\n",
       "\t<tr><th scope=col>&lt;fct&gt;</th><th scope=col>&lt;dbl&gt;</th><th scope=col>&lt;lgl&gt;</th><th scope=col>&lt;lgl&gt;</th></tr>\n",
       "</thead>\n",
       "<tbody>\n",
       "\t<tr><td>1</td><td>20</td><td>TRUE</td><td>FALSE</td></tr>\n",
       "</tbody>\n",
       "</table>\n"
      ],
      "text/latex": [
       "A tibble: 1 × 4\n",
       "\\begin{tabular}{llll}\n",
       " group & score & is.outlier & is.extreme\\\\\n",
       " <fct> & <dbl> & <lgl> & <lgl>\\\\\n",
       "\\hline\n",
       "\t 1 & 20 & TRUE & FALSE\\\\\n",
       "\\end{tabular}\n"
      ],
      "text/markdown": [
       "\n",
       "A tibble: 1 × 4\n",
       "\n",
       "| group &lt;fct&gt; | score &lt;dbl&gt; | is.outlier &lt;lgl&gt; | is.extreme &lt;lgl&gt; |\n",
       "|---|---|---|---|\n",
       "| 1 | 20 | TRUE | FALSE |\n",
       "\n"
      ],
      "text/plain": [
       "  group score is.outlier is.extreme\n",
       "1 1     20    TRUE       FALSE     "
      ]
     },
     "metadata": {},
     "output_type": "display_data"
    }
   ],
   "source": [
    "data %>%\n",
    "  group_by(group) %>%\n",
    "  identify_outliers(score)"
   ]
  },
  {
   "cell_type": "code",
   "execution_count": 21,
   "metadata": {
    "vscode": {
     "languageId": "r"
    }
   },
   "outputs": [
    {
     "data": {
      "text/html": [
       "<table class=\"dataframe\">\n",
       "<caption>A tibble: 3 × 4</caption>\n",
       "<thead>\n",
       "\t<tr><th scope=col>group</th><th scope=col>variable</th><th scope=col>statistic</th><th scope=col>p</th></tr>\n",
       "\t<tr><th scope=col>&lt;fct&gt;</th><th scope=col>&lt;chr&gt;</th><th scope=col>&lt;dbl&gt;</th><th scope=col>&lt;dbl&gt;</th></tr>\n",
       "</thead>\n",
       "<tbody>\n",
       "\t<tr><td>1</td><td>score</td><td>0.8463537</td><td>0.0154261</td></tr>\n",
       "\t<tr><td>2</td><td>score</td><td>0.9099723</td><td>0.1352772</td></tr>\n",
       "\t<tr><td>3</td><td>score</td><td>0.9171806</td><td>0.1744485</td></tr>\n",
       "</tbody>\n",
       "</table>\n"
      ],
      "text/latex": [
       "A tibble: 3 × 4\n",
       "\\begin{tabular}{llll}\n",
       " group & variable & statistic & p\\\\\n",
       " <fct> & <chr> & <dbl> & <dbl>\\\\\n",
       "\\hline\n",
       "\t 1 & score & 0.8463537 & 0.0154261\\\\\n",
       "\t 2 & score & 0.9099723 & 0.1352772\\\\\n",
       "\t 3 & score & 0.9171806 & 0.1744485\\\\\n",
       "\\end{tabular}\n"
      ],
      "text/markdown": [
       "\n",
       "A tibble: 3 × 4\n",
       "\n",
       "| group &lt;fct&gt; | variable &lt;chr&gt; | statistic &lt;dbl&gt; | p &lt;dbl&gt; |\n",
       "|---|---|---|---|\n",
       "| 1 | score | 0.8463537 | 0.0154261 |\n",
       "| 2 | score | 0.9099723 | 0.1352772 |\n",
       "| 3 | score | 0.9171806 | 0.1744485 |\n",
       "\n"
      ],
      "text/plain": [
       "  group variable statistic p        \n",
       "1 1     score    0.8463537 0.0154261\n",
       "2 2     score    0.9099723 0.1352772\n",
       "3 3     score    0.9171806 0.1744485"
      ]
     },
     "metadata": {},
     "output_type": "display_data"
    },
    {
     "data": {
      "image/png": "[encoded data removed]",
      "text/plain": [
       "plot without title"
      ]
     },
     "metadata": {
      "image/png": {
       "height": 420,
       "width": 420
      }
     },
     "output_type": "display_data"
    }
   ],
   "source": [
    "data %>% group_by(group) %>% shapiro_test(score)\n",
    "ggqqplot(data, \"score\", facet.by = \"group\")"
   ]
  },
  {
   "cell_type": "code",
   "execution_count": 22,
   "metadata": {
    "vscode": {
     "languageId": "r"
    }
   },
   "outputs": [
    {
     "data": {
      "text/plain": [
       "\n",
       "\tBartlett test of homogeneity of variances\n",
       "\n",
       "data:  data$score by data$group\n",
       "Bartlett's K-squared = 16.288, df = 2, p-value = 0.0002905\n"
      ]
     },
     "metadata": {},
     "output_type": "display_data"
    },
    {
     "data": {
      "text/html": [
       "<table class=\"dataframe\">\n",
       "<caption>A tibble: 1 × 4</caption>\n",
       "<thead>\n",
       "\t<tr><th scope=col>df1</th><th scope=col>df2</th><th scope=col>statistic</th><th scope=col>p</th></tr>\n",
       "\t<tr><th scope=col>&lt;int&gt;</th><th scope=col>&lt;int&gt;</th><th scope=col>&lt;dbl&gt;</th><th scope=col>&lt;dbl&gt;</th></tr>\n",
       "</thead>\n",
       "<tbody>\n",
       "\t<tr><td>2</td><td>42</td><td>2.728506</td><td>0.07690009</td></tr>\n",
       "</tbody>\n",
       "</table>\n"
      ],
      "text/latex": [
       "A tibble: 1 × 4\n",
       "\\begin{tabular}{llll}\n",
       " df1 & df2 & statistic & p\\\\\n",
       " <int> & <int> & <dbl> & <dbl>\\\\\n",
       "\\hline\n",
       "\t 2 & 42 & 2.728506 & 0.07690009\\\\\n",
       "\\end{tabular}\n"
      ],
      "text/markdown": [
       "\n",
       "A tibble: 1 × 4\n",
       "\n",
       "| df1 &lt;int&gt; | df2 &lt;int&gt; | statistic &lt;dbl&gt; | p &lt;dbl&gt; |\n",
       "|---|---|---|---|\n",
       "| 2 | 42 | 2.728506 | 0.07690009 |\n",
       "\n"
      ],
      "text/plain": [
       "  df1 df2 statistic p         \n",
       "1 2   42  2.728506  0.07690009"
      ]
     },
     "metadata": {},
     "output_type": "display_data"
    }
   ],
   "source": [
    "bartlett.test(data$score ~data$group)\n",
    "data %>% levene_test(score ~ group)"
   ]
  },
  {
   "cell_type": "code",
   "execution_count": 23,
   "metadata": {
    "vscode": {
     "languageId": "r"
    }
   },
   "outputs": [
    {
     "data": {
      "text/html": [
       "<table class=\"dataframe\">\n",
       "<caption>A data.frame: 1 × 7</caption>\n",
       "<thead>\n",
       "\t<tr><th></th><th scope=col>Effect</th><th scope=col>DFn</th><th scope=col>DFd</th><th scope=col>F</th><th scope=col>p</th><th scope=col>p&lt;.05</th><th scope=col>ges</th></tr>\n",
       "\t<tr><th></th><th scope=col>&lt;chr&gt;</th><th scope=col>&lt;dbl&gt;</th><th scope=col>&lt;dbl&gt;</th><th scope=col>&lt;dbl&gt;</th><th scope=col>&lt;dbl&gt;</th><th scope=col>&lt;chr&gt;</th><th scope=col>&lt;dbl&gt;</th></tr>\n",
       "</thead>\n",
       "<tbody>\n",
       "\t<tr><th scope=row>1</th><td>group</td><td>2</td><td>42</td><td>20.016</td><td>7.84e-07</td><td>*</td><td>0.488</td></tr>\n",
       "</tbody>\n",
       "</table>\n"
      ],
      "text/latex": [
       "A data.frame: 1 × 7\n",
       "\\begin{tabular}{r|lllllll}\n",
       "  & Effect & DFn & DFd & F & p & p<.05 & ges\\\\\n",
       "  & <chr> & <dbl> & <dbl> & <dbl> & <dbl> & <chr> & <dbl>\\\\\n",
       "\\hline\n",
       "\t1 & group & 2 & 42 & 20.016 & 7.84e-07 & * & 0.488\\\\\n",
       "\\end{tabular}\n"
      ],
      "text/markdown": [
       "\n",
       "A data.frame: 1 × 7\n",
       "\n",
       "| <!--/--> | Effect &lt;chr&gt; | DFn &lt;dbl&gt; | DFd &lt;dbl&gt; | F &lt;dbl&gt; | p &lt;dbl&gt; | p&lt;.05 &lt;chr&gt; | ges &lt;dbl&gt; |\n",
       "|---|---|---|---|---|---|---|---|\n",
       "| 1 | group | 2 | 42 | 20.016 | 7.84e-07 | * | 0.488 |\n",
       "\n"
      ],
      "text/plain": [
       "  Effect DFn DFd F      p        p<.05 ges  \n",
       "1 group  2   42  20.016 7.84e-07 *     0.488"
      ]
     },
     "metadata": {},
     "output_type": "display_data"
    },
    {
     "data": {
      "text/plain": [
       "            Df Sum Sq Mean Sq F value   Pr(>F)    \n",
       "group        2   1529   764.7   20.02 7.84e-07 ***\n",
       "Residuals   42   1604    38.2                     \n",
       "---\n",
       "Signif. codes:  0 ‘***’ 0.001 ‘**’ 0.01 ‘*’ 0.05 ‘.’ 0.1 ‘ ’ 1"
      ]
     },
     "metadata": {},
     "output_type": "display_data"
    },
    {
     "data": {
      "text/html": [
       "<table class=\"dataframe\">\n",
       "<caption>A anova_test: 1 × 7</caption>\n",
       "<thead>\n",
       "\t<tr><th></th><th scope=col>Effect</th><th scope=col>DFn</th><th scope=col>DFd</th><th scope=col>F</th><th scope=col>p</th><th scope=col>p&lt;.05</th><th scope=col>ges</th></tr>\n",
       "\t<tr><th></th><th scope=col>&lt;chr&gt;</th><th scope=col>&lt;dbl&gt;</th><th scope=col>&lt;dbl&gt;</th><th scope=col>&lt;dbl&gt;</th><th scope=col>&lt;dbl&gt;</th><th scope=col>&lt;chr&gt;</th><th scope=col>&lt;dbl&gt;</th></tr>\n",
       "</thead>\n",
       "<tbody>\n",
       "\t<tr><th scope=row>1</th><td>group</td><td>2</td><td>42</td><td>20.016</td><td>7.84e-07</td><td>*</td><td>0.488</td></tr>\n",
       "</tbody>\n",
       "</table>\n"
      ],
      "text/latex": [
       "A anova\\_test: 1 × 7\n",
       "\\begin{tabular}{r|lllllll}\n",
       "  & Effect & DFn & DFd & F & p & p<.05 & ges\\\\\n",
       "  & <chr> & <dbl> & <dbl> & <dbl> & <dbl> & <chr> & <dbl>\\\\\n",
       "\\hline\n",
       "\t1 & group & 2 & 42 & 20.016 & 7.84e-07 & * & 0.488\\\\\n",
       "\\end{tabular}\n"
      ],
      "text/markdown": [
       "\n",
       "A anova_test: 1 × 7\n",
       "\n",
       "| <!--/--> | Effect &lt;chr&gt; | DFn &lt;dbl&gt; | DFd &lt;dbl&gt; | F &lt;dbl&gt; | p &lt;dbl&gt; | p&lt;.05 &lt;chr&gt; | ges &lt;dbl&gt; |\n",
       "|---|---|---|---|---|---|---|---|\n",
       "| 1 | group | 2 | 42 | 20.016 | 7.84e-07 | * | 0.488 |\n",
       "\n"
      ],
      "text/plain": [
       "  Effect DFn DFd F      p        p<.05 ges  \n",
       "1 group  2   42  20.016 7.84e-07 *     0.488"
      ]
     },
     "metadata": {},
     "output_type": "display_data"
    },
    {
     "data": {
      "text/html": [
       "<table class=\"dataframe\">\n",
       "<caption>A rstatix_test: 1 × 7</caption>\n",
       "<thead>\n",
       "\t<tr><th></th><th scope=col>.y.</th><th scope=col>n</th><th scope=col>statistic</th><th scope=col>DFn</th><th scope=col>DFd</th><th scope=col>p</th><th scope=col>method</th></tr>\n",
       "\t<tr><th></th><th scope=col>&lt;chr&gt;</th><th scope=col>&lt;int&gt;</th><th scope=col>&lt;dbl&gt;</th><th scope=col>&lt;dbl&gt;</th><th scope=col>&lt;dbl&gt;</th><th scope=col>&lt;dbl&gt;</th><th scope=col>&lt;chr&gt;</th></tr>\n",
       "</thead>\n",
       "<tbody>\n",
       "\t<tr><th scope=row>1</th><td>score</td><td>45</td><td>34.14</td><td>2</td><td>22.03354</td><td>1.78e-07</td><td>Welch ANOVA</td></tr>\n",
       "</tbody>\n",
       "</table>\n"
      ],
      "text/latex": [
       "A rstatix\\_test: 1 × 7\n",
       "\\begin{tabular}{r|lllllll}\n",
       "  & .y. & n & statistic & DFn & DFd & p & method\\\\\n",
       "  & <chr> & <int> & <dbl> & <dbl> & <dbl> & <dbl> & <chr>\\\\\n",
       "\\hline\n",
       "\t1 & score & 45 & 34.14 & 2 & 22.03354 & 1.78e-07 & Welch ANOVA\\\\\n",
       "\\end{tabular}\n"
      ],
      "text/markdown": [
       "\n",
       "A rstatix_test: 1 × 7\n",
       "\n",
       "| <!--/--> | .y. &lt;chr&gt; | n &lt;int&gt; | statistic &lt;dbl&gt; | DFn &lt;dbl&gt; | DFd &lt;dbl&gt; | p &lt;dbl&gt; | method &lt;chr&gt; |\n",
       "|---|---|---|---|---|---|---|---|\n",
       "| 1 | score | 45 | 34.14 | 2 | 22.03354 | 1.78e-07 | Welch ANOVA |\n",
       "\n"
      ],
      "text/plain": [
       "  .y.   n  statistic DFn DFd      p        method     \n",
       "1 score 45 34.14     2   22.03354 1.78e-07 Welch ANOVA"
      ]
     },
     "metadata": {},
     "output_type": "display_data"
    }
   ],
   "source": [
    "rs.aov <- Anova(lm(score~group, data=data))\n",
    "anova_summary(rs.aov)\n",
    "rs.aov <- aov(score ~ group, data )\n",
    "summary(rs.aov)\n",
    "#\n",
    "rs.aov <- data %>% anova_test(score ~ group)\n",
    "rs.aov\n",
    "#\n",
    "rs.aovw <- data %>% welch_anova_test(score ~group)\n",
    "rs.aovw"
   ]
  },
  {
   "cell_type": "code",
   "execution_count": 24,
   "metadata": {
    "vscode": {
     "languageId": "r"
    }
   },
   "outputs": [
    {
     "data": {
      "text/html": [
       "<table class=\"dataframe\">\n",
       "<caption>A rstatix_test: 3 × 9</caption>\n",
       "<thead>\n",
       "\t<tr><th></th><th scope=col>term</th><th scope=col>group1</th><th scope=col>group2</th><th scope=col>null.value</th><th scope=col>estimate</th><th scope=col>conf.low</th><th scope=col>conf.high</th><th scope=col>p.adj</th><th scope=col>p.adj.signif</th></tr>\n",
       "\t<tr><th></th><th scope=col>&lt;chr&gt;</th><th scope=col>&lt;chr&gt;</th><th scope=col>&lt;chr&gt;</th><th scope=col>&lt;dbl&gt;</th><th scope=col>&lt;dbl&gt;</th><th scope=col>&lt;dbl&gt;</th><th scope=col>&lt;dbl&gt;</th><th scope=col>&lt;dbl&gt;</th><th scope=col>&lt;chr&gt;</th></tr>\n",
       "</thead>\n",
       "<tbody>\n",
       "\t<tr><th scope=row>1</th><td>group</td><td>1</td><td>2</td><td>0</td><td> 0.06666667</td><td>-5.416543</td><td> 5.549877</td><td>1.00e+00</td><td>ns  </td></tr>\n",
       "\t<tr><th scope=row>2</th><td>group</td><td>1</td><td>3</td><td>0</td><td>12.40000000</td><td> 6.916790</td><td>17.883210</td><td>6.24e-06</td><td>****</td></tr>\n",
       "\t<tr><th scope=row>3</th><td>group</td><td>2</td><td>3</td><td>0</td><td>12.33333333</td><td> 6.850123</td><td>17.816543</td><td>6.88e-06</td><td>****</td></tr>\n",
       "</tbody>\n",
       "</table>\n"
      ],
      "text/latex": [
       "A rstatix\\_test: 3 × 9\n",
       "\\begin{tabular}{r|lllllllll}\n",
       "  & term & group1 & group2 & null.value & estimate & conf.low & conf.high & p.adj & p.adj.signif\\\\\n",
       "  & <chr> & <chr> & <chr> & <dbl> & <dbl> & <dbl> & <dbl> & <dbl> & <chr>\\\\\n",
       "\\hline\n",
       "\t1 & group & 1 & 2 & 0 &  0.06666667 & -5.416543 &  5.549877 & 1.00e+00 & ns  \\\\\n",
       "\t2 & group & 1 & 3 & 0 & 12.40000000 &  6.916790 & 17.883210 & 6.24e-06 & ****\\\\\n",
       "\t3 & group & 2 & 3 & 0 & 12.33333333 &  6.850123 & 17.816543 & 6.88e-06 & ****\\\\\n",
       "\\end{tabular}\n"
      ],
      "text/markdown": [
       "\n",
       "A rstatix_test: 3 × 9\n",
       "\n",
       "| <!--/--> | term &lt;chr&gt; | group1 &lt;chr&gt; | group2 &lt;chr&gt; | null.value &lt;dbl&gt; | estimate &lt;dbl&gt; | conf.low &lt;dbl&gt; | conf.high &lt;dbl&gt; | p.adj &lt;dbl&gt; | p.adj.signif &lt;chr&gt; |\n",
       "|---|---|---|---|---|---|---|---|---|---|\n",
       "| 1 | group | 1 | 2 | 0 |  0.06666667 | -5.416543 |  5.549877 | 1.00e+00 | ns   |\n",
       "| 2 | group | 1 | 3 | 0 | 12.40000000 |  6.916790 | 17.883210 | 6.24e-06 | **** |\n",
       "| 3 | group | 2 | 3 | 0 | 12.33333333 |  6.850123 | 17.816543 | 6.88e-06 | **** |\n",
       "\n"
      ],
      "text/plain": [
       "  term  group1 group2 null.value estimate    conf.low  conf.high p.adj   \n",
       "1 group 1      2      0           0.06666667 -5.416543  5.549877 1.00e+00\n",
       "2 group 1      3      0          12.40000000  6.916790 17.883210 6.24e-06\n",
       "3 group 2      3      0          12.33333333  6.850123 17.816543 6.88e-06\n",
       "  p.adj.signif\n",
       "1 ns          \n",
       "2 ****        \n",
       "3 ****        "
      ]
     },
     "metadata": {},
     "output_type": "display_data"
    },
    {
     "data": {
      "image/png": "[encoded data removed]",
      "text/plain": [
       "plot without title"
      ]
     },
     "metadata": {
      "image/png": {
       "height": 420,
       "width": 420
      }
     },
     "output_type": "display_data"
    }
   ],
   "source": [
    "rs.tk <- data %>% tukey_hsd(score ~ group)\n",
    "rs.tk\n",
    "rs.tk2 <- rs.tk %>% add_xy_position(x = \"group\")\n",
    "ggboxplot(data, x = \"group\", y = \"score\") + stat_pvalue_manual(rs.tk2, hide.ns = TRUE) + labs(\n",
    "subtitle = get_test_label(rs.aov, detailed = TRUE),caption = get_pwc_label(rs.tk2))"
   ]
  },
  {
   "cell_type": "code",
   "execution_count": 25,
   "metadata": {
    "vscode": {
     "languageId": "r"
    }
   },
   "outputs": [
    {
     "data": {
      "text/html": [
       "<table class=\"dataframe\">\n",
       "<caption>A tibble: 1 × 3</caption>\n",
       "<thead>\n",
       "\t<tr><th scope=col>variable</th><th scope=col>statistic</th><th scope=col>p.value</th></tr>\n",
       "\t<tr><th scope=col>&lt;chr&gt;</th><th scope=col>&lt;dbl&gt;</th><th scope=col>&lt;dbl&gt;</th></tr>\n",
       "</thead>\n",
       "<tbody>\n",
       "\t<tr><td>residuals(mdl)</td><td>0.9216457</td><td>0.004809154</td></tr>\n",
       "</tbody>\n",
       "</table>\n"
      ],
      "text/latex": [
       "A tibble: 1 × 3\n",
       "\\begin{tabular}{lll}\n",
       " variable & statistic & p.value\\\\\n",
       " <chr> & <dbl> & <dbl>\\\\\n",
       "\\hline\n",
       "\t residuals(mdl) & 0.9216457 & 0.004809154\\\\\n",
       "\\end{tabular}\n"
      ],
      "text/markdown": [
       "\n",
       "A tibble: 1 × 3\n",
       "\n",
       "| variable &lt;chr&gt; | statistic &lt;dbl&gt; | p.value &lt;dbl&gt; |\n",
       "|---|---|---|\n",
       "| residuals(mdl) | 0.9216457 | 0.004809154 |\n",
       "\n"
      ],
      "text/plain": [
       "  variable       statistic p.value    \n",
       "1 residuals(mdl) 0.9216457 0.004809154"
      ]
     },
     "metadata": {},
     "output_type": "display_data"
    },
    {
     "data": {
      "image/png": "[encoded data removed]",
      "text/plain": [
       "plot without title"
      ]
     },
     "metadata": {
      "image/png": {
       "height": 420,
       "width": 420
      }
     },
     "output_type": "display_data"
    }
   ],
   "source": [
    "# Construire le modèle linéaire\n",
    "mdl <- lm(score ~ group, data = data)\n",
    "# Créer un QQ plot des résidus\n",
    "ggqqplot(residuals(mdl))\n",
    "# Calculer le test de normalité de Shapiro-Wilk\n",
    "shapiro_test(residuals(mdl))"
   ]
  },
  {
   "cell_type": "code",
   "execution_count": 26,
   "metadata": {
    "vscode": {
     "languageId": "r"
    }
   },
   "outputs": [
    {
     "data": {
      "text/html": [
       "<table class=\"dataframe\">\n",
       "<caption>A rstatix_test: 1 × 6</caption>\n",
       "<thead>\n",
       "\t<tr><th></th><th scope=col>.y.</th><th scope=col>n</th><th scope=col>statistic</th><th scope=col>df</th><th scope=col>p</th><th scope=col>method</th></tr>\n",
       "\t<tr><th></th><th scope=col>&lt;chr&gt;</th><th scope=col>&lt;int&gt;</th><th scope=col>&lt;dbl&gt;</th><th scope=col>&lt;int&gt;</th><th scope=col>&lt;dbl&gt;</th><th scope=col>&lt;chr&gt;</th></tr>\n",
       "</thead>\n",
       "<tbody>\n",
       "\t<tr><th scope=row>1</th><td>score</td><td>45</td><td>29.20498</td><td>2</td><td>4.55e-07</td><td>Kruskal-Wallis</td></tr>\n",
       "</tbody>\n",
       "</table>\n"
      ],
      "text/latex": [
       "A rstatix\\_test: 1 × 6\n",
       "\\begin{tabular}{r|llllll}\n",
       "  & .y. & n & statistic & df & p & method\\\\\n",
       "  & <chr> & <int> & <dbl> & <int> & <dbl> & <chr>\\\\\n",
       "\\hline\n",
       "\t1 & score & 45 & 29.20498 & 2 & 4.55e-07 & Kruskal-Wallis\\\\\n",
       "\\end{tabular}\n"
      ],
      "text/markdown": [
       "\n",
       "A rstatix_test: 1 × 6\n",
       "\n",
       "| <!--/--> | .y. &lt;chr&gt; | n &lt;int&gt; | statistic &lt;dbl&gt; | df &lt;int&gt; | p &lt;dbl&gt; | method &lt;chr&gt; |\n",
       "|---|---|---|---|---|---|---|\n",
       "| 1 | score | 45 | 29.20498 | 2 | 4.55e-07 | Kruskal-Wallis |\n",
       "\n"
      ],
      "text/plain": [
       "  .y.   n  statistic df p        method        \n",
       "1 score 45 29.20498  2  4.55e-07 Kruskal-Wallis"
      ]
     },
     "metadata": {},
     "output_type": "display_data"
    },
    {
     "data": {
      "text/html": [
       "<table class=\"dataframe\">\n",
       "<caption>A rstatix_test: 1 × 5</caption>\n",
       "<thead>\n",
       "\t<tr><th></th><th scope=col>.y.</th><th scope=col>n</th><th scope=col>effsize</th><th scope=col>method</th><th scope=col>magnitude</th></tr>\n",
       "\t<tr><th></th><th scope=col>&lt;chr&gt;</th><th scope=col>&lt;int&gt;</th><th scope=col>&lt;dbl&gt;</th><th scope=col>&lt;chr&gt;</th><th scope=col>&lt;ord&gt;</th></tr>\n",
       "</thead>\n",
       "<tbody>\n",
       "\t<tr><th scope=row>1</th><td>score</td><td>45</td><td>0.6477376</td><td>eta2[H]</td><td>large</td></tr>\n",
       "</tbody>\n",
       "</table>\n"
      ],
      "text/latex": [
       "A rstatix\\_test: 1 × 5\n",
       "\\begin{tabular}{r|lllll}\n",
       "  & .y. & n & effsize & method & magnitude\\\\\n",
       "  & <chr> & <int> & <dbl> & <chr> & <ord>\\\\\n",
       "\\hline\n",
       "\t1 & score & 45 & 0.6477376 & eta2{[}H{]} & large\\\\\n",
       "\\end{tabular}\n"
      ],
      "text/markdown": [
       "\n",
       "A rstatix_test: 1 × 5\n",
       "\n",
       "| <!--/--> | .y. &lt;chr&gt; | n &lt;int&gt; | effsize &lt;dbl&gt; | method &lt;chr&gt; | magnitude &lt;ord&gt; |\n",
       "|---|---|---|---|---|---|\n",
       "| 1 | score | 45 | 0.6477376 | eta2[H] | large |\n",
       "\n"
      ],
      "text/plain": [
       "  .y.   n  effsize   method  magnitude\n",
       "1 score 45 0.6477376 eta2[H] large    "
      ]
     },
     "metadata": {},
     "output_type": "display_data"
    },
    {
     "data": {
      "text/html": [
       "<table class=\"dataframe\">\n",
       "<caption>A rstatix_test: 3 × 9</caption>\n",
       "<thead>\n",
       "\t<tr><th></th><th scope=col>.y.</th><th scope=col>group1</th><th scope=col>group2</th><th scope=col>n1</th><th scope=col>n2</th><th scope=col>statistic</th><th scope=col>p</th><th scope=col>p.adj</th><th scope=col>p.adj.signif</th></tr>\n",
       "\t<tr><th></th><th scope=col>&lt;chr&gt;</th><th scope=col>&lt;chr&gt;</th><th scope=col>&lt;chr&gt;</th><th scope=col>&lt;int&gt;</th><th scope=col>&lt;int&gt;</th><th scope=col>&lt;dbl&gt;</th><th scope=col>&lt;dbl&gt;</th><th scope=col>&lt;dbl&gt;</th><th scope=col>&lt;chr&gt;</th></tr>\n",
       "</thead>\n",
       "<tbody>\n",
       "\t<tr><th scope=row>1</th><td>score</td><td>1</td><td>2</td><td>15</td><td>15</td><td>-0.1392437</td><td>8.892576e-01</td><td>1.000000e+00</td><td>ns  </td></tr>\n",
       "\t<tr><th scope=row>2</th><td>score</td><td>1</td><td>3</td><td>15</td><td>15</td><td> 4.6089669</td><td>4.046747e-06</td><td>1.214024e-05</td><td>****</td></tr>\n",
       "\t<tr><th scope=row>3</th><td>score</td><td>2</td><td>3</td><td>15</td><td>15</td><td> 4.7482106</td><td>2.052242e-06</td><td>6.156727e-06</td><td>****</td></tr>\n",
       "</tbody>\n",
       "</table>\n"
      ],
      "text/latex": [
       "A rstatix\\_test: 3 × 9\n",
       "\\begin{tabular}{r|lllllllll}\n",
       "  & .y. & group1 & group2 & n1 & n2 & statistic & p & p.adj & p.adj.signif\\\\\n",
       "  & <chr> & <chr> & <chr> & <int> & <int> & <dbl> & <dbl> & <dbl> & <chr>\\\\\n",
       "\\hline\n",
       "\t1 & score & 1 & 2 & 15 & 15 & -0.1392437 & 8.892576e-01 & 1.000000e+00 & ns  \\\\\n",
       "\t2 & score & 1 & 3 & 15 & 15 &  4.6089669 & 4.046747e-06 & 1.214024e-05 & ****\\\\\n",
       "\t3 & score & 2 & 3 & 15 & 15 &  4.7482106 & 2.052242e-06 & 6.156727e-06 & ****\\\\\n",
       "\\end{tabular}\n"
      ],
      "text/markdown": [
       "\n",
       "A rstatix_test: 3 × 9\n",
       "\n",
       "| <!--/--> | .y. &lt;chr&gt; | group1 &lt;chr&gt; | group2 &lt;chr&gt; | n1 &lt;int&gt; | n2 &lt;int&gt; | statistic &lt;dbl&gt; | p &lt;dbl&gt; | p.adj &lt;dbl&gt; | p.adj.signif &lt;chr&gt; |\n",
       "|---|---|---|---|---|---|---|---|---|---|\n",
       "| 1 | score | 1 | 2 | 15 | 15 | -0.1392437 | 8.892576e-01 | 1.000000e+00 | ns   |\n",
       "| 2 | score | 1 | 3 | 15 | 15 |  4.6089669 | 4.046747e-06 | 1.214024e-05 | **** |\n",
       "| 3 | score | 2 | 3 | 15 | 15 |  4.7482106 | 2.052242e-06 | 6.156727e-06 | **** |\n",
       "\n"
      ],
      "text/plain": [
       "  .y.   group1 group2 n1 n2 statistic  p            p.adj        p.adj.signif\n",
       "1 score 1      2      15 15 -0.1392437 8.892576e-01 1.000000e+00 ns          \n",
       "2 score 1      3      15 15  4.6089669 4.046747e-06 1.214024e-05 ****        \n",
       "3 score 2      3      15 15  4.7482106 2.052242e-06 6.156727e-06 ****        "
      ]
     },
     "metadata": {},
     "output_type": "display_data"
    },
    {
     "data": {
      "text/html": [
       "<table class=\"dataframe\">\n",
       "<caption>A rstatix_test: 3 × 9</caption>\n",
       "<thead>\n",
       "\t<tr><th></th><th scope=col>.y.</th><th scope=col>group1</th><th scope=col>group2</th><th scope=col>n1</th><th scope=col>n2</th><th scope=col>statistic</th><th scope=col>p</th><th scope=col>p.adj</th><th scope=col>p.adj.signif</th></tr>\n",
       "\t<tr><th></th><th scope=col>&lt;chr&gt;</th><th scope=col>&lt;chr&gt;</th><th scope=col>&lt;chr&gt;</th><th scope=col>&lt;int&gt;</th><th scope=col>&lt;int&gt;</th><th scope=col>&lt;dbl&gt;</th><th scope=col>&lt;dbl&gt;</th><th scope=col>&lt;dbl&gt;</th><th scope=col>&lt;chr&gt;</th></tr>\n",
       "</thead>\n",
       "<tbody>\n",
       "\t<tr><th scope=row>1</th><td>score</td><td>1</td><td>2</td><td>15</td><td>15</td><td>118</td><td>8.35e-01</td><td>1.00e+00</td><td>ns  </td></tr>\n",
       "\t<tr><th scope=row>2</th><td>score</td><td>1</td><td>3</td><td>15</td><td>15</td><td>  0</td><td>3.22e-06</td><td>9.66e-06</td><td>****</td></tr>\n",
       "\t<tr><th scope=row>3</th><td>score</td><td>2</td><td>3</td><td>15</td><td>15</td><td>  1</td><td>3.92e-06</td><td>1.18e-05</td><td>****</td></tr>\n",
       "</tbody>\n",
       "</table>\n"
      ],
      "text/latex": [
       "A rstatix\\_test: 3 × 9\n",
       "\\begin{tabular}{r|lllllllll}\n",
       "  & .y. & group1 & group2 & n1 & n2 & statistic & p & p.adj & p.adj.signif\\\\\n",
       "  & <chr> & <chr> & <chr> & <int> & <int> & <dbl> & <dbl> & <dbl> & <chr>\\\\\n",
       "\\hline\n",
       "\t1 & score & 1 & 2 & 15 & 15 & 118 & 8.35e-01 & 1.00e+00 & ns  \\\\\n",
       "\t2 & score & 1 & 3 & 15 & 15 &   0 & 3.22e-06 & 9.66e-06 & ****\\\\\n",
       "\t3 & score & 2 & 3 & 15 & 15 &   1 & 3.92e-06 & 1.18e-05 & ****\\\\\n",
       "\\end{tabular}\n"
      ],
      "text/markdown": [
       "\n",
       "A rstatix_test: 3 × 9\n",
       "\n",
       "| <!--/--> | .y. &lt;chr&gt; | group1 &lt;chr&gt; | group2 &lt;chr&gt; | n1 &lt;int&gt; | n2 &lt;int&gt; | statistic &lt;dbl&gt; | p &lt;dbl&gt; | p.adj &lt;dbl&gt; | p.adj.signif &lt;chr&gt; |\n",
       "|---|---|---|---|---|---|---|---|---|---|\n",
       "| 1 | score | 1 | 2 | 15 | 15 | 118 | 8.35e-01 | 1.00e+00 | ns   |\n",
       "| 2 | score | 1 | 3 | 15 | 15 |   0 | 3.22e-06 | 9.66e-06 | **** |\n",
       "| 3 | score | 2 | 3 | 15 | 15 |   1 | 3.92e-06 | 1.18e-05 | **** |\n",
       "\n"
      ],
      "text/plain": [
       "  .y.   group1 group2 n1 n2 statistic p        p.adj    p.adj.signif\n",
       "1 score 1      2      15 15 118       8.35e-01 1.00e+00 ns          \n",
       "2 score 1      3      15 15   0       3.22e-06 9.66e-06 ****        \n",
       "3 score 2      3      15 15   1       3.92e-06 1.18e-05 ****        "
      ]
     },
     "metadata": {},
     "output_type": "display_data"
    },
    {
     "data": {
      "image/png": "[encoded data removed]",
      "text/plain": [
       "plot without title"
      ]
     },
     "metadata": {
      "image/png": {
       "height": 420,
       "width": 420
      }
     },
     "output_type": "display_data"
    },
    {
     "data": {
      "image/png": "[encoded data removed]",
      "text/plain": [
       "plot without title"
      ]
     },
     "metadata": {
      "image/png": {
       "height": 420,
       "width": 420
      }
     },
     "output_type": "display_data"
    }
   ],
   "source": [
    "rs.krl <- data %>% kruskal_test(score ~ group)\n",
    "rs.krl\n",
    "# taille de l'effet\n",
    "#Les valeurs d’interprétation couramment utilisées dans la littérature sont : 0,01- < 0,06 (petit\n",
    "# effet), 0,06 - < 0,14 (effet modéré) et >= 0,14 (effet important).\n",
    "data %>% kruskal_effsize(score ~ group)\n",
    "#test de Dunn post-hoc\n",
    "rs.dnt <- data %>% dunn_test(score ~ group, p.adjust.method = \"bonferroni\")\n",
    "rs.dnt\n",
    "rs.dnt2 <- rs.dnt %>% add_xy_position(x = \"group\")\n",
    "ggboxplot(data, x = \"group\", y = \"score\") + stat_pvalue_manual(rs.dnt2, hide.ns = TRUE) + labs(\n",
    "subtitle = get_test_label(rs.krl, detailed = TRUE),caption = get_pwc_label(rs.dnt2))\n",
    "# ou bien test de Wilcoxon\n",
    "rs.wxt <- data %>% wilcox_test(score ~ group, p.adjust.method = \"bonferroni\")\n",
    "rs.wxt\n",
    "rs.wxt2 <- rs.wxt %>% add_xy_position(x = \"group\")\n",
    "ggboxplot(data, x = \"group\", y = \"score\") + stat_pvalue_manual(rs.wxt2, hide.ns = TRUE) + labs(\n",
    "subtitle = get_test_label(rs.krl, detailed = TRUE),caption = get_pwc_label(rs.wxt2))\n"
   ]
  },
  {
   "cell_type": "code",
   "execution_count": 27,
   "metadata": {
    "vscode": {
     "languageId": "r"
    }
   },
   "outputs": [
    {
     "data": {
      "text/html": [
       "<table class=\"dataframe\">\n",
       "<caption>A rstatix_test: 3 × 8</caption>\n",
       "<thead>\n",
       "\t<tr><th></th><th scope=col>.y.</th><th scope=col>group1</th><th scope=col>group2</th><th scope=col>estimate</th><th scope=col>conf.low</th><th scope=col>conf.high</th><th scope=col>p.adj</th><th scope=col>p.adj.signif</th></tr>\n",
       "\t<tr><th></th><th scope=col>&lt;chr&gt;</th><th scope=col>&lt;chr&gt;</th><th scope=col>&lt;chr&gt;</th><th scope=col>&lt;dbl&gt;</th><th scope=col>&lt;dbl&gt;</th><th scope=col>&lt;dbl&gt;</th><th scope=col>&lt;dbl&gt;</th><th scope=col>&lt;chr&gt;</th></tr>\n",
       "</thead>\n",
       "<tbody>\n",
       "\t<tr><th scope=row>1</th><td>score</td><td>1</td><td>2</td><td> 0.06666667</td><td>-6.604245</td><td> 6.737579</td><td>1.00e+00</td><td>ns  </td></tr>\n",
       "\t<tr><th scope=row>2</th><td>score</td><td>1</td><td>3</td><td>12.40000000</td><td> 6.987716</td><td>17.812284</td><td>5.53e-05</td><td>****</td></tr>\n",
       "\t<tr><th scope=row>3</th><td>score</td><td>2</td><td>3</td><td>12.33333333</td><td> 7.479608</td><td>17.187058</td><td>1.41e-05</td><td>****</td></tr>\n",
       "</tbody>\n",
       "</table>\n"
      ],
      "text/latex": [
       "A rstatix\\_test: 3 × 8\n",
       "\\begin{tabular}{r|llllllll}\n",
       "  & .y. & group1 & group2 & estimate & conf.low & conf.high & p.adj & p.adj.signif\\\\\n",
       "  & <chr> & <chr> & <chr> & <dbl> & <dbl> & <dbl> & <dbl> & <chr>\\\\\n",
       "\\hline\n",
       "\t1 & score & 1 & 2 &  0.06666667 & -6.604245 &  6.737579 & 1.00e+00 & ns  \\\\\n",
       "\t2 & score & 1 & 3 & 12.40000000 &  6.987716 & 17.812284 & 5.53e-05 & ****\\\\\n",
       "\t3 & score & 2 & 3 & 12.33333333 &  7.479608 & 17.187058 & 1.41e-05 & ****\\\\\n",
       "\\end{tabular}\n"
      ],
      "text/markdown": [
       "\n",
       "A rstatix_test: 3 × 8\n",
       "\n",
       "| <!--/--> | .y. &lt;chr&gt; | group1 &lt;chr&gt; | group2 &lt;chr&gt; | estimate &lt;dbl&gt; | conf.low &lt;dbl&gt; | conf.high &lt;dbl&gt; | p.adj &lt;dbl&gt; | p.adj.signif &lt;chr&gt; |\n",
       "|---|---|---|---|---|---|---|---|---|\n",
       "| 1 | score | 1 | 2 |  0.06666667 | -6.604245 |  6.737579 | 1.00e+00 | ns   |\n",
       "| 2 | score | 1 | 3 | 12.40000000 |  6.987716 | 17.812284 | 5.53e-05 | **** |\n",
       "| 3 | score | 2 | 3 | 12.33333333 |  7.479608 | 17.187058 | 1.41e-05 | **** |\n",
       "\n"
      ],
      "text/plain": [
       "  .y.   group1 group2 estimate    conf.low  conf.high p.adj    p.adj.signif\n",
       "1 score 1      2       0.06666667 -6.604245  6.737579 1.00e+00 ns          \n",
       "2 score 1      3      12.40000000  6.987716 17.812284 5.53e-05 ****        \n",
       "3 score 2      3      12.33333333  7.479608 17.187058 1.41e-05 ****        "
      ]
     },
     "metadata": {},
     "output_type": "display_data"
    },
    {
     "data": {
      "text/html": [
       "<table class=\"dataframe\">\n",
       "<caption>A rstatix_test: 3 × 10</caption>\n",
       "<thead>\n",
       "\t<tr><th></th><th scope=col>.y.</th><th scope=col>group1</th><th scope=col>group2</th><th scope=col>n1</th><th scope=col>n2</th><th scope=col>statistic</th><th scope=col>df</th><th scope=col>p</th><th scope=col>p.adj</th><th scope=col>p.adj.signif</th></tr>\n",
       "\t<tr><th></th><th scope=col>&lt;chr&gt;</th><th scope=col>&lt;chr&gt;</th><th scope=col>&lt;chr&gt;</th><th scope=col>&lt;int&gt;</th><th scope=col>&lt;int&gt;</th><th scope=col>&lt;dbl&gt;</th><th scope=col>&lt;dbl&gt;</th><th scope=col>&lt;dbl&gt;</th><th scope=col>&lt;dbl&gt;</th><th scope=col>&lt;chr&gt;</th></tr>\n",
       "</thead>\n",
       "<tbody>\n",
       "\t<tr><th scope=row>1</th><td>score</td><td>1</td><td>2</td><td>15</td><td>15</td><td>-0.02474611</td><td>27.62879</td><td>9.80e-01</td><td>1.00e+00</td><td>ns  </td></tr>\n",
       "\t<tr><th scope=row>2</th><td>score</td><td>1</td><td>3</td><td>15</td><td>15</td><td>-5.88983523</td><td>16.62377</td><td>1.95e-05</td><td>5.85e-05</td><td>****</td></tr>\n",
       "\t<tr><th scope=row>3</th><td>score</td><td>2</td><td>3</td><td>15</td><td>15</td><td>-6.50827729</td><td>17.29447</td><td>4.93e-06</td><td>1.48e-05</td><td>****</td></tr>\n",
       "</tbody>\n",
       "</table>\n"
      ],
      "text/latex": [
       "A rstatix\\_test: 3 × 10\n",
       "\\begin{tabular}{r|llllllllll}\n",
       "  & .y. & group1 & group2 & n1 & n2 & statistic & df & p & p.adj & p.adj.signif\\\\\n",
       "  & <chr> & <chr> & <chr> & <int> & <int> & <dbl> & <dbl> & <dbl> & <dbl> & <chr>\\\\\n",
       "\\hline\n",
       "\t1 & score & 1 & 2 & 15 & 15 & -0.02474611 & 27.62879 & 9.80e-01 & 1.00e+00 & ns  \\\\\n",
       "\t2 & score & 1 & 3 & 15 & 15 & -5.88983523 & 16.62377 & 1.95e-05 & 5.85e-05 & ****\\\\\n",
       "\t3 & score & 2 & 3 & 15 & 15 & -6.50827729 & 17.29447 & 4.93e-06 & 1.48e-05 & ****\\\\\n",
       "\\end{tabular}\n"
      ],
      "text/markdown": [
       "\n",
       "A rstatix_test: 3 × 10\n",
       "\n",
       "| <!--/--> | .y. &lt;chr&gt; | group1 &lt;chr&gt; | group2 &lt;chr&gt; | n1 &lt;int&gt; | n2 &lt;int&gt; | statistic &lt;dbl&gt; | df &lt;dbl&gt; | p &lt;dbl&gt; | p.adj &lt;dbl&gt; | p.adj.signif &lt;chr&gt; |\n",
       "|---|---|---|---|---|---|---|---|---|---|---|\n",
       "| 1 | score | 1 | 2 | 15 | 15 | -0.02474611 | 27.62879 | 9.80e-01 | 1.00e+00 | ns   |\n",
       "| 2 | score | 1 | 3 | 15 | 15 | -5.88983523 | 16.62377 | 1.95e-05 | 5.85e-05 | **** |\n",
       "| 3 | score | 2 | 3 | 15 | 15 | -6.50827729 | 17.29447 | 4.93e-06 | 1.48e-05 | **** |\n",
       "\n"
      ],
      "text/plain": [
       "  .y.   group1 group2 n1 n2 statistic   df       p        p.adj    p.adj.signif\n",
       "1 score 1      2      15 15 -0.02474611 27.62879 9.80e-01 1.00e+00 ns          \n",
       "2 score 1      3      15 15 -5.88983523 16.62377 1.95e-05 5.85e-05 ****        \n",
       "3 score 2      3      15 15 -6.50827729 17.29447 4.93e-06 1.48e-05 ****        "
      ]
     },
     "metadata": {},
     "output_type": "display_data"
    },
    {
     "data": {
      "image/png": "[encoded data removed]",
      "text/plain": [
       "plot without title"
      ]
     },
     "metadata": {
      "image/png": {
       "height": 420,
       "width": 420
      }
     },
     "output_type": "display_data"
    },
    {
     "data": {
      "image/png": "[encoded data removed]",
      "text/plain": [
       "plot without title"
      ]
     },
     "metadata": {
      "image/png": {
       "height": 420,
       "width": 420
      }
     },
     "output_type": "display_data"
    }
   ],
   "source": [
    "rs.ght <- data %>% games_howell_test(score ~group)\n",
    "rs.ght\n",
    "rs.ght2 <- rs.ght %>% add_xy_position(x = \"group\")\n",
    "ggboxplot(data, x = \"group\", y = \"score\") + stat_pvalue_manual(rs.ght2, hide.ns = TRUE) + labs(\n",
    "subtitle = get_test_label(rs.aovw, detailed = TRUE),caption = get_pwc_label(rs.ght2))\n",
    "# ou two sample t-test\n",
    "rs.tt <- data %>% pairwise_t_test(score ~ group, pool.sd = FALSE, p.adjust.method =\n",
    "\"bonferroni\")\n",
    "rs.tt\n",
    "rs.tt2 <- rs.ght %>% add_xy_position(x = \"group\")\n",
    "ggboxplot(data, x = \"group\", y = \"score\") + stat_pvalue_manual(rs.tt2, hide.ns = TRUE) + labs(\n",
    "  subtitle = get_test_label(rs.aovw, detailed = TRUE), caption = get_pwc_label(rs.tt2)\n",
    ")"
   ]
  },
  {
   "cell_type": "markdown",
   "metadata": {},
   "source": [
    "## Ennonce 2"
   ]
  },
  {
   "cell_type": "code",
   "execution_count": 59,
   "metadata": {
    "vscode": {
     "languageId": "r"
    }
   },
   "outputs": [
    {
     "data": {
      "text/html": [
       "<table class=\"dataframe\">\n",
       "<caption>A data.frame: 6 × 4</caption>\n",
       "<thead>\n",
       "\t<tr><th></th><th scope=col>Individu</th><th scope=col>genre</th><th scope=col>dose</th><th scope=col>score</th></tr>\n",
       "\t<tr><th></th><th scope=col>&lt;dbl&gt;</th><th scope=col>&lt;dbl&gt;</th><th scope=col>&lt;dbl&gt;</th><th scope=col>&lt;dbl&gt;</th></tr>\n",
       "</thead>\n",
       "<tbody>\n",
       "\t<tr><th scope=row>1</th><td>1</td><td>1</td><td>1</td><td>6</td></tr>\n",
       "\t<tr><th scope=row>2</th><td>2</td><td>1</td><td>1</td><td>6</td></tr>\n",
       "\t<tr><th scope=row>3</th><td>3</td><td>1</td><td>1</td><td>3</td></tr>\n",
       "\t<tr><th scope=row>4</th><td>4</td><td>1</td><td>1</td><td>5</td></tr>\n",
       "\t<tr><th scope=row>5</th><td>5</td><td>1</td><td>1</td><td>6</td></tr>\n",
       "\t<tr><th scope=row>6</th><td>6</td><td>1</td><td>1</td><td>4</td></tr>\n",
       "</tbody>\n",
       "</table>\n"
      ],
      "text/latex": [
       "A data.frame: 6 × 4\n",
       "\\begin{tabular}{r|llll}\n",
       "  & Individu & genre & dose & score\\\\\n",
       "  & <dbl> & <dbl> & <dbl> & <dbl>\\\\\n",
       "\\hline\n",
       "\t1 & 1 & 1 & 1 & 6\\\\\n",
       "\t2 & 2 & 1 & 1 & 6\\\\\n",
       "\t3 & 3 & 1 & 1 & 3\\\\\n",
       "\t4 & 4 & 1 & 1 & 5\\\\\n",
       "\t5 & 5 & 1 & 1 & 6\\\\\n",
       "\t6 & 6 & 1 & 1 & 4\\\\\n",
       "\\end{tabular}\n"
      ],
      "text/markdown": [
       "\n",
       "A data.frame: 6 × 4\n",
       "\n",
       "| <!--/--> | Individu &lt;dbl&gt; | genre &lt;dbl&gt; | dose &lt;dbl&gt; | score &lt;dbl&gt; |\n",
       "|---|---|---|---|---|\n",
       "| 1 | 1 | 1 | 1 | 6 |\n",
       "| 2 | 2 | 1 | 1 | 6 |\n",
       "| 3 | 3 | 1 | 1 | 3 |\n",
       "| 4 | 4 | 1 | 1 | 5 |\n",
       "| 5 | 5 | 1 | 1 | 6 |\n",
       "| 6 | 6 | 1 | 1 | 4 |\n",
       "\n"
      ],
      "text/plain": [
       "  Individu genre dose score\n",
       "1 1        1     1    6    \n",
       "2 2        1     1    6    \n",
       "3 3        1     1    3    \n",
       "4 4        1     1    5    \n",
       "5 5        1     1    6    \n",
       "6 6        1     1    4    "
      ]
     },
     "metadata": {},
     "output_type": "display_data"
    }
   ],
   "source": [
    "data2 <- read.csv(\"data/score.csv\", header = TRUE)\n",
    "head(data2)"
   ]
  },
  {
   "cell_type": "code",
   "execution_count": 60,
   "metadata": {
    "vscode": {
     "languageId": "r"
    }
   },
   "outputs": [
    {
     "data": {
      "text/html": [
       "<table class=\"dataframe\">\n",
       "<caption>A data.frame: 6 × 3</caption>\n",
       "<thead>\n",
       "\t<tr><th></th><th scope=col>genre</th><th scope=col>dose</th><th scope=col>score</th></tr>\n",
       "\t<tr><th></th><th scope=col>&lt;dbl&gt;</th><th scope=col>&lt;dbl&gt;</th><th scope=col>&lt;dbl&gt;</th></tr>\n",
       "</thead>\n",
       "<tbody>\n",
       "\t<tr><th scope=row>1</th><td>1</td><td>1</td><td>6</td></tr>\n",
       "\t<tr><th scope=row>2</th><td>1</td><td>1</td><td>6</td></tr>\n",
       "\t<tr><th scope=row>3</th><td>1</td><td>1</td><td>3</td></tr>\n",
       "\t<tr><th scope=row>4</th><td>1</td><td>1</td><td>5</td></tr>\n",
       "\t<tr><th scope=row>5</th><td>1</td><td>1</td><td>6</td></tr>\n",
       "\t<tr><th scope=row>6</th><td>1</td><td>1</td><td>4</td></tr>\n",
       "</tbody>\n",
       "</table>\n"
      ],
      "text/latex": [
       "A data.frame: 6 × 3\n",
       "\\begin{tabular}{r|lll}\n",
       "  & genre & dose & score\\\\\n",
       "  & <dbl> & <dbl> & <dbl>\\\\\n",
       "\\hline\n",
       "\t1 & 1 & 1 & 6\\\\\n",
       "\t2 & 1 & 1 & 6\\\\\n",
       "\t3 & 1 & 1 & 3\\\\\n",
       "\t4 & 1 & 1 & 5\\\\\n",
       "\t5 & 1 & 1 & 6\\\\\n",
       "\t6 & 1 & 1 & 4\\\\\n",
       "\\end{tabular}\n"
      ],
      "text/markdown": [
       "\n",
       "A data.frame: 6 × 3\n",
       "\n",
       "| <!--/--> | genre &lt;dbl&gt; | dose &lt;dbl&gt; | score &lt;dbl&gt; |\n",
       "|---|---|---|---|\n",
       "| 1 | 1 | 1 | 6 |\n",
       "| 2 | 1 | 1 | 6 |\n",
       "| 3 | 1 | 1 | 3 |\n",
       "| 4 | 1 | 1 | 5 |\n",
       "| 5 | 1 | 1 | 6 |\n",
       "| 6 | 1 | 1 | 4 |\n",
       "\n"
      ],
      "text/plain": [
       "  genre dose score\n",
       "1 1     1    6    \n",
       "2 1     1    6    \n",
       "3 1     1    3    \n",
       "4 1     1    5    \n",
       "5 1     1    6    \n",
       "6 1     1    4    "
      ]
     },
     "metadata": {},
     "output_type": "display_data"
    }
   ],
   "source": [
    "data2 <- data2[, -1]\n",
    "head(data2)"
   ]
  },
  {
   "cell_type": "code",
   "execution_count": 61,
   "metadata": {
    "vscode": {
     "languageId": "r"
    }
   },
   "outputs": [],
   "source": [
    "data2 <- data2 %>%\n",
    "  mutate(genre = as.factor(genre),\n",
    "         dose = as.factor(dose))\n"
   ]
  },
  {
   "cell_type": "code",
   "execution_count": 62,
   "metadata": {
    "vscode": {
     "languageId": "r"
    }
   },
   "outputs": [
    {
     "data": {
      "text/html": [
       "<table class=\"dataframe\">\n",
       "<caption>A data.frame: 6 × 3</caption>\n",
       "<thead>\n",
       "\t<tr><th></th><th scope=col>genre</th><th scope=col>dose</th><th scope=col>score</th></tr>\n",
       "\t<tr><th></th><th scope=col>&lt;fct&gt;</th><th scope=col>&lt;fct&gt;</th><th scope=col>&lt;dbl&gt;</th></tr>\n",
       "</thead>\n",
       "<tbody>\n",
       "\t<tr><th scope=row>1</th><td>1</td><td>1</td><td>6</td></tr>\n",
       "\t<tr><th scope=row>2</th><td>1</td><td>1</td><td>6</td></tr>\n",
       "\t<tr><th scope=row>3</th><td>1</td><td>1</td><td>3</td></tr>\n",
       "\t<tr><th scope=row>4</th><td>1</td><td>1</td><td>5</td></tr>\n",
       "\t<tr><th scope=row>5</th><td>1</td><td>1</td><td>6</td></tr>\n",
       "\t<tr><th scope=row>6</th><td>1</td><td>1</td><td>4</td></tr>\n",
       "</tbody>\n",
       "</table>\n"
      ],
      "text/latex": [
       "A data.frame: 6 × 3\n",
       "\\begin{tabular}{r|lll}\n",
       "  & genre & dose & score\\\\\n",
       "  & <fct> & <fct> & <dbl>\\\\\n",
       "\\hline\n",
       "\t1 & 1 & 1 & 6\\\\\n",
       "\t2 & 1 & 1 & 6\\\\\n",
       "\t3 & 1 & 1 & 3\\\\\n",
       "\t4 & 1 & 1 & 5\\\\\n",
       "\t5 & 1 & 1 & 6\\\\\n",
       "\t6 & 1 & 1 & 4\\\\\n",
       "\\end{tabular}\n"
      ],
      "text/markdown": [
       "\n",
       "A data.frame: 6 × 3\n",
       "\n",
       "| <!--/--> | genre &lt;fct&gt; | dose &lt;fct&gt; | score &lt;dbl&gt; |\n",
       "|---|---|---|---|\n",
       "| 1 | 1 | 1 | 6 |\n",
       "| 2 | 1 | 1 | 6 |\n",
       "| 3 | 1 | 1 | 3 |\n",
       "| 4 | 1 | 1 | 5 |\n",
       "| 5 | 1 | 1 | 6 |\n",
       "| 6 | 1 | 1 | 4 |\n",
       "\n"
      ],
      "text/plain": [
       "  genre dose score\n",
       "1 1     1    6    \n",
       "2 1     1    6    \n",
       "3 1     1    3    \n",
       "4 1     1    5    \n",
       "5 1     1    6    \n",
       "6 1     1    4    "
      ]
     },
     "metadata": {},
     "output_type": "display_data"
    }
   ],
   "source": [
    "head(data2)"
   ]
  },
  {
   "cell_type": "code",
   "execution_count": 78,
   "metadata": {
    "vscode": {
     "languageId": "r"
    }
   },
   "outputs": [
    {
     "data": {
      "text/html": [
       "<table class=\"dataframe\">\n",
       "<caption>A tibble: 4 × 6</caption>\n",
       "<thead>\n",
       "\t<tr><th scope=col>genre</th><th scope=col>dose</th><th scope=col>variable</th><th scope=col>n</th><th scope=col>mean</th><th scope=col>sd</th></tr>\n",
       "\t<tr><th scope=col>&lt;fct&gt;</th><th scope=col>&lt;fct&gt;</th><th scope=col>&lt;fct&gt;</th><th scope=col>&lt;dbl&gt;</th><th scope=col>&lt;dbl&gt;</th><th scope=col>&lt;dbl&gt;</th></tr>\n",
       "</thead>\n",
       "<tbody>\n",
       "\t<tr><td>1</td><td>1</td><td>score</td><td>12</td><td>4.583</td><td>1.084</td></tr>\n",
       "\t<tr><td>1</td><td>2</td><td>score</td><td>12</td><td>7.083</td><td>0.900</td></tr>\n",
       "\t<tr><td>2</td><td>1</td><td>score</td><td>12</td><td>3.583</td><td>2.234</td></tr>\n",
       "\t<tr><td>2</td><td>2</td><td>score</td><td>12</td><td>2.500</td><td>1.732</td></tr>\n",
       "</tbody>\n",
       "</table>\n"
      ],
      "text/latex": [
       "A tibble: 4 × 6\n",
       "\\begin{tabular}{llllll}\n",
       " genre & dose & variable & n & mean & sd\\\\\n",
       " <fct> & <fct> & <fct> & <dbl> & <dbl> & <dbl>\\\\\n",
       "\\hline\n",
       "\t 1 & 1 & score & 12 & 4.583 & 1.084\\\\\n",
       "\t 1 & 2 & score & 12 & 7.083 & 0.900\\\\\n",
       "\t 2 & 1 & score & 12 & 3.583 & 2.234\\\\\n",
       "\t 2 & 2 & score & 12 & 2.500 & 1.732\\\\\n",
       "\\end{tabular}\n"
      ],
      "text/markdown": [
       "\n",
       "A tibble: 4 × 6\n",
       "\n",
       "| genre &lt;fct&gt; | dose &lt;fct&gt; | variable &lt;fct&gt; | n &lt;dbl&gt; | mean &lt;dbl&gt; | sd &lt;dbl&gt; |\n",
       "|---|---|---|---|---|---|\n",
       "| 1 | 1 | score | 12 | 4.583 | 1.084 |\n",
       "| 1 | 2 | score | 12 | 7.083 | 0.900 |\n",
       "| 2 | 1 | score | 12 | 3.583 | 2.234 |\n",
       "| 2 | 2 | score | 12 | 2.500 | 1.732 |\n",
       "\n"
      ],
      "text/plain": [
       "  genre dose variable n  mean  sd   \n",
       "1 1     1    score    12 4.583 1.084\n",
       "2 1     2    score    12 7.083 0.900\n",
       "3 2     1    score    12 3.583 2.234\n",
       "4 2     2    score    12 2.500 1.732"
      ]
     },
     "metadata": {},
     "output_type": "display_data"
    },
    {
     "data": {
      "image/png": "[encoded data removed]",
      "text/plain": [
       "plot without title"
      ]
     },
     "metadata": {
      "image/png": {
       "height": 420,
       "width": 420
      }
     },
     "output_type": "display_data"
    },
    {
     "data": {
      "image/png": "[encoded data removed]",
      "text/plain": [
       "plot without title"
      ]
     },
     "metadata": {
      "image/png": {
       "height": 420,
       "width": 420
      }
     },
     "output_type": "display_data"
    },
    {
     "data": {
      "image/png": "[encoded data removed]",
      "text/plain": [
       "plot without title"
      ]
     },
     "metadata": {
      "image/png": {
       "height": 420,
       "width": 420
      }
     },
     "output_type": "display_data"
    }
   ],
   "source": [
    "data2 %>% group_by(genre, dose) %>% get_summary_stats(score, type = \"mean_sd\")\n",
    "\n",
    "ggplot(data2, aes(x = dose, y = score, fill = dose)) +\n",
    "  geom_boxplot() +\n",
    "  labs(x = \"Dose\", y = \"Score\") +\n",
    "  ggtitle(\"Boxplot of Score by Dose\")\n",
    "\n",
    "ggplot(data2, aes(x = genre, y = score, fill = genre)) +\n",
    "  geom_boxplot() +\n",
    "  labs(x = \"Genre\", y = \"Score\") +\n",
    "  ggtitle(\"Boxplot of Score by Genre\")\n",
    "\n",
    "# Assuming data2 is your dataset\n",
    "# If your dataset does not have a variable named 'genre', replace it with the actual variable name\n",
    "\n",
    "# Create a boxplot for the interaction of 'dose' and 'genre'\n",
    "ggplot(data2, aes(x = interaction(dose, genre), y = score, fill = interaction(dose, genre))) +\n",
    "  geom_boxplot() +\n",
    "  labs(x = \"Dose and Genre Interaction\", y = \"Score\") +\n",
    "  ggtitle(\"Boxplot of Score by Dose and Genre Interaction\")\n",
    "\n"
   ]
  },
  {
   "cell_type": "code",
   "execution_count": 79,
   "metadata": {
    "vscode": {
     "languageId": "r"
    }
   },
   "outputs": [
    {
     "data": {
      "text/html": [
       "<table class=\"dataframe\">\n",
       "<caption>A data.frame: 2 × 7</caption>\n",
       "<thead>\n",
       "\t<tr><th></th><th scope=col>Effect</th><th scope=col>DFn</th><th scope=col>DFd</th><th scope=col>F</th><th scope=col>p</th><th scope=col>p&lt;.05</th><th scope=col>ges</th></tr>\n",
       "\t<tr><th></th><th scope=col>&lt;chr&gt;</th><th scope=col>&lt;dbl&gt;</th><th scope=col>&lt;dbl&gt;</th><th scope=col>&lt;dbl&gt;</th><th scope=col>&lt;dbl&gt;</th><th scope=col>&lt;chr&gt;</th><th scope=col>&lt;dbl&gt;</th></tr>\n",
       "</thead>\n",
       "<tbody>\n",
       "\t<tr><th scope=row>1</th><td>dose </td><td>1</td><td>45</td><td> 1.827</td><td>1.83e-01</td><td> </td><td>0.039</td></tr>\n",
       "\t<tr><th scope=row>2</th><td>genre</td><td>1</td><td>45</td><td>28.383</td><td>3.07e-06</td><td>*</td><td>0.387</td></tr>\n",
       "</tbody>\n",
       "</table>\n"
      ],
      "text/latex": [
       "A data.frame: 2 × 7\n",
       "\\begin{tabular}{r|lllllll}\n",
       "  & Effect & DFn & DFd & F & p & p<.05 & ges\\\\\n",
       "  & <chr> & <dbl> & <dbl> & <dbl> & <dbl> & <chr> & <dbl>\\\\\n",
       "\\hline\n",
       "\t1 & dose  & 1 & 45 &  1.827 & 1.83e-01 &   & 0.039\\\\\n",
       "\t2 & genre & 1 & 45 & 28.383 & 3.07e-06 & * & 0.387\\\\\n",
       "\\end{tabular}\n"
      ],
      "text/markdown": [
       "\n",
       "A data.frame: 2 × 7\n",
       "\n",
       "| <!--/--> | Effect &lt;chr&gt; | DFn &lt;dbl&gt; | DFd &lt;dbl&gt; | F &lt;dbl&gt; | p &lt;dbl&gt; | p&lt;.05 &lt;chr&gt; | ges &lt;dbl&gt; |\n",
       "|---|---|---|---|---|---|---|---|\n",
       "| 1 | dose  | 1 | 45 |  1.827 | 1.83e-01 | <!----> | 0.039 |\n",
       "| 2 | genre | 1 | 45 | 28.383 | 3.07e-06 | * | 0.387 |\n",
       "\n"
      ],
      "text/plain": [
       "  Effect DFn DFd F      p        p<.05 ges  \n",
       "1 dose   1   45   1.827 1.83e-01       0.039\n",
       "2 genre  1   45  28.383 3.07e-06 *     0.387"
      ]
     },
     "metadata": {},
     "output_type": "display_data"
    },
    {
     "data": {
      "text/plain": [
       "                         Df Sum Sq Mean Sq F value   Pr(>F)    \n",
       "dose                      1   6.02    6.02   2.414 0.127433    \n",
       "genre                     1  93.52   93.52  37.494 2.22e-07 ***\n",
       "interaction(dose, genre)  1  38.52   38.52  15.443 0.000297 ***\n",
       "Residuals                44 109.75    2.49                     \n",
       "---\n",
       "Signif. codes:  0 ‘***’ 0.001 ‘**’ 0.01 ‘*’ 0.05 ‘.’ 0.1 ‘ ’ 1"
      ]
     },
     "metadata": {},
     "output_type": "display_data"
    },
    {
     "data": {
      "text/html": [
       "<table class=\"dataframe\">\n",
       "<caption>A anova_test: 2 × 7</caption>\n",
       "<thead>\n",
       "\t<tr><th></th><th scope=col>Effect</th><th scope=col>DFn</th><th scope=col>DFd</th><th scope=col>F</th><th scope=col>p</th><th scope=col>p&lt;.05</th><th scope=col>ges</th></tr>\n",
       "\t<tr><th></th><th scope=col>&lt;chr&gt;</th><th scope=col>&lt;dbl&gt;</th><th scope=col>&lt;dbl&gt;</th><th scope=col>&lt;dbl&gt;</th><th scope=col>&lt;dbl&gt;</th><th scope=col>&lt;chr&gt;</th><th scope=col>&lt;dbl&gt;</th></tr>\n",
       "</thead>\n",
       "<tbody>\n",
       "\t<tr><th scope=row>1</th><td>dose </td><td>1</td><td>45</td><td> 1.827</td><td>1.83e-01</td><td> </td><td>0.039</td></tr>\n",
       "\t<tr><th scope=row>2</th><td>genre</td><td>1</td><td>45</td><td>28.383</td><td>3.07e-06</td><td>*</td><td>0.387</td></tr>\n",
       "</tbody>\n",
       "</table>\n"
      ],
      "text/latex": [
       "A anova\\_test: 2 × 7\n",
       "\\begin{tabular}{r|lllllll}\n",
       "  & Effect & DFn & DFd & F & p & p<.05 & ges\\\\\n",
       "  & <chr> & <dbl> & <dbl> & <dbl> & <dbl> & <chr> & <dbl>\\\\\n",
       "\\hline\n",
       "\t1 & dose  & 1 & 45 &  1.827 & 1.83e-01 &   & 0.039\\\\\n",
       "\t2 & genre & 1 & 45 & 28.383 & 3.07e-06 & * & 0.387\\\\\n",
       "\\end{tabular}\n"
      ],
      "text/markdown": [
       "\n",
       "A anova_test: 2 × 7\n",
       "\n",
       "| <!--/--> | Effect &lt;chr&gt; | DFn &lt;dbl&gt; | DFd &lt;dbl&gt; | F &lt;dbl&gt; | p &lt;dbl&gt; | p&lt;.05 &lt;chr&gt; | ges &lt;dbl&gt; |\n",
       "|---|---|---|---|---|---|---|---|\n",
       "| 1 | dose  | 1 | 45 |  1.827 | 1.83e-01 | <!----> | 0.039 |\n",
       "| 2 | genre | 1 | 45 | 28.383 | 3.07e-06 | * | 0.387 |\n",
       "\n"
      ],
      "text/plain": [
       "  Effect DFn DFd F      p        p<.05 ges  \n",
       "1 dose   1   45   1.827 1.83e-01       0.039\n",
       "2 genre  1   45  28.383 3.07e-06 *     0.387"
      ]
     },
     "metadata": {},
     "output_type": "display_data"
    },
    {
     "data": {
      "text/html": [
       "<table class=\"dataframe\">\n",
       "<caption>A rstatix_test: 1 × 7</caption>\n",
       "<thead>\n",
       "\t<tr><th></th><th scope=col>.y.</th><th scope=col>n</th><th scope=col>statistic</th><th scope=col>DFn</th><th scope=col>DFd</th><th scope=col>p</th><th scope=col>method</th></tr>\n",
       "\t<tr><th></th><th scope=col>&lt;chr&gt;</th><th scope=col>&lt;int&gt;</th><th scope=col>&lt;dbl&gt;</th><th scope=col>&lt;dbl&gt;</th><th scope=col>&lt;dbl&gt;</th><th scope=col>&lt;dbl&gt;</th><th scope=col>&lt;chr&gt;</th></tr>\n",
       "</thead>\n",
       "<tbody>\n",
       "\t<tr><th scope=row>1</th><td>score</td><td>48</td><td>28.49</td><td>3</td><td>23.40739</td><td>5.49e-08</td><td>Welch ANOVA</td></tr>\n",
       "</tbody>\n",
       "</table>\n"
      ],
      "text/latex": [
       "A rstatix\\_test: 1 × 7\n",
       "\\begin{tabular}{r|lllllll}\n",
       "  & .y. & n & statistic & DFn & DFd & p & method\\\\\n",
       "  & <chr> & <int> & <dbl> & <dbl> & <dbl> & <dbl> & <chr>\\\\\n",
       "\\hline\n",
       "\t1 & score & 48 & 28.49 & 3 & 23.40739 & 5.49e-08 & Welch ANOVA\\\\\n",
       "\\end{tabular}\n"
      ],
      "text/markdown": [
       "\n",
       "A rstatix_test: 1 × 7\n",
       "\n",
       "| <!--/--> | .y. &lt;chr&gt; | n &lt;int&gt; | statistic &lt;dbl&gt; | DFn &lt;dbl&gt; | DFd &lt;dbl&gt; | p &lt;dbl&gt; | method &lt;chr&gt; |\n",
       "|---|---|---|---|---|---|---|---|\n",
       "| 1 | score | 48 | 28.49 | 3 | 23.40739 | 5.49e-08 | Welch ANOVA |\n",
       "\n"
      ],
      "text/plain": [
       "  .y.   n  statistic DFn DFd      p        method     \n",
       "1 score 48 28.49     3   23.40739 5.49e-08 Welch ANOVA"
      ]
     },
     "metadata": {},
     "output_type": "display_data"
    }
   ],
   "source": [
    "# faire l'anova de score par genre et dose\n",
    "rs.aov <- Anova(lm(score~dose + genre, data=data2))\n",
    "anova_summary(rs.aov)\n",
    "rs.aov <- aov(score ~ dose + genre + interaction(dose, genre), data = data2 )\n",
    "summary(rs.aov)\n",
    "#\n",
    "rs.aov <- data2 %>% anova_test(score ~ dose + genre)\n",
    "rs.aov\n",
    "#\n",
    "rs.aovw <- data2 %>% welch_anova_test(score ~ dose + genre)\n",
    "rs.aovw"
   ]
  }
 ],
 "metadata": {
  "kernelspec": {
   "display_name": "R",
   "language": "R",
   "name": "ir"
  },
  "language_info": {
   "codemirror_mode": "r",
   "file_extension": ".r",
   "mimetype": "text/x-r-source",
   "name": "R",
   "pygments_lexer": "r",
   "version": "4.1.2"
  }
 },
 "nbformat": 4,
 "nbformat_minor": 2
}
